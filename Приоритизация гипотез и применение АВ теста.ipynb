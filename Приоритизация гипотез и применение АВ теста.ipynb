{
 "cells": [
  {
   "cell_type": "markdown",
   "metadata": {},
   "source": [
    "# Приоритизация гипотез и применение А/В теста.\n",
    "**Цель исследования** — анализ гипотез для увеличения выручки интернет-магазина и проведение А/В теста. \\\n",
    "**Ход исследования**: Работа пройдёт в несколько этапов:\n",
    "* Предобработка данных\n",
    "* Приоритизация гипотез\n",
    "* Анализ A/B-теста"
   ]
  },
  {
   "cell_type": "markdown",
   "metadata": {},
   "source": [
    "### Загрузка и предобработка данных"
   ]
  },
  {
   "cell_type": "markdown",
   "metadata": {},
   "source": [
    "Для начала импортируем необходимые библиотеки:"
   ]
  },
  {
   "cell_type": "code",
   "execution_count": 1,
   "metadata": {},
   "outputs": [],
   "source": [
    "import pandas as pd\n",
    "pd.set_option('display.max_colwidth', None)\n",
    "import datetime as dt\n",
    "import numpy as np\n",
    "import scipy.stats as stats\n",
    "import matplotlib.pyplot as plt\n",
    "from pandas.plotting import register_matplotlib_converters\n",
    "import warnings\n",
    "# конвертеры, которые позволяют использовать типы pandas в matplotlib  \n",
    "register_matplotlib_converters()"
   ]
  },
  {
   "cell_type": "markdown",
   "metadata": {},
   "source": [
    "Загрузим данные из CSV-файлов в переменные:"
   ]
  },
  {
   "cell_type": "code",
   "execution_count": 2,
   "metadata": {},
   "outputs": [],
   "source": [
    "hypothesis, orders, visitors = (\n",
    "    pd.read_csv('/datasets/hypothesis.csv'),\n",
    "    pd.read_csv('/datasets/orders.csv'),\n",
    "    pd.read_csv('/datasets/visitors.csv')\n",
    ")"
   ]
  },
  {
   "cell_type": "code",
   "execution_count": 3,
   "metadata": {},
   "outputs": [
    {
     "data": {
      "text/html": [
       "<div>\n",
       "<style scoped>\n",
       "    .dataframe tbody tr th:only-of-type {\n",
       "        vertical-align: middle;\n",
       "    }\n",
       "\n",
       "    .dataframe tbody tr th {\n",
       "        vertical-align: top;\n",
       "    }\n",
       "\n",
       "    .dataframe thead th {\n",
       "        text-align: right;\n",
       "    }\n",
       "</style>\n",
       "<table border=\"1\" class=\"dataframe\">\n",
       "  <thead>\n",
       "    <tr style=\"text-align: right;\">\n",
       "      <th></th>\n",
       "      <th>Hypothesis</th>\n",
       "      <th>Reach</th>\n",
       "      <th>Impact</th>\n",
       "      <th>Confidence</th>\n",
       "      <th>Efforts</th>\n",
       "    </tr>\n",
       "  </thead>\n",
       "  <tbody>\n",
       "    <tr>\n",
       "      <th>0</th>\n",
       "      <td>Добавить два новых канала привлечения трафика, что позволит привлекать на 30% больше пользователей</td>\n",
       "      <td>3</td>\n",
       "      <td>10</td>\n",
       "      <td>8</td>\n",
       "      <td>6</td>\n",
       "    </tr>\n",
       "    <tr>\n",
       "      <th>1</th>\n",
       "      <td>Запустить собственную службу доставки, что сократит срок доставки заказов</td>\n",
       "      <td>2</td>\n",
       "      <td>5</td>\n",
       "      <td>4</td>\n",
       "      <td>10</td>\n",
       "    </tr>\n",
       "    <tr>\n",
       "      <th>2</th>\n",
       "      <td>Добавить блоки рекомендаций товаров на сайт интернет магазина, чтобы повысить конверсию и средний чек заказа</td>\n",
       "      <td>8</td>\n",
       "      <td>3</td>\n",
       "      <td>7</td>\n",
       "      <td>3</td>\n",
       "    </tr>\n",
       "    <tr>\n",
       "      <th>3</th>\n",
       "      <td>Изменить структура категорий, что увеличит конверсию, т.к. пользователи быстрее найдут нужный товар</td>\n",
       "      <td>8</td>\n",
       "      <td>3</td>\n",
       "      <td>3</td>\n",
       "      <td>8</td>\n",
       "    </tr>\n",
       "    <tr>\n",
       "      <th>4</th>\n",
       "      <td>Изменить цвет фона главной страницы, чтобы увеличить вовлеченность пользователей</td>\n",
       "      <td>3</td>\n",
       "      <td>1</td>\n",
       "      <td>1</td>\n",
       "      <td>1</td>\n",
       "    </tr>\n",
       "    <tr>\n",
       "      <th>5</th>\n",
       "      <td>Добавить страницу отзывов клиентов о магазине, что позволит увеличить количество заказов</td>\n",
       "      <td>3</td>\n",
       "      <td>2</td>\n",
       "      <td>2</td>\n",
       "      <td>3</td>\n",
       "    </tr>\n",
       "    <tr>\n",
       "      <th>6</th>\n",
       "      <td>Показать на главной странице баннеры с актуальными акциями и распродажами, чтобы увеличить конверсию</td>\n",
       "      <td>5</td>\n",
       "      <td>3</td>\n",
       "      <td>8</td>\n",
       "      <td>3</td>\n",
       "    </tr>\n",
       "    <tr>\n",
       "      <th>7</th>\n",
       "      <td>Добавить форму подписки на все основные страницы, чтобы собрать базу клиентов для email-рассылок</td>\n",
       "      <td>10</td>\n",
       "      <td>7</td>\n",
       "      <td>8</td>\n",
       "      <td>5</td>\n",
       "    </tr>\n",
       "    <tr>\n",
       "      <th>8</th>\n",
       "      <td>Запустить акцию, дающую скидку на товар в день рождения</td>\n",
       "      <td>1</td>\n",
       "      <td>9</td>\n",
       "      <td>9</td>\n",
       "      <td>5</td>\n",
       "    </tr>\n",
       "  </tbody>\n",
       "</table>\n",
       "</div>"
      ],
      "text/plain": [
       "                                                                                                     Hypothesis  \\\n",
       "0            Добавить два новых канала привлечения трафика, что позволит привлекать на 30% больше пользователей   \n",
       "1                                     Запустить собственную службу доставки, что сократит срок доставки заказов   \n",
       "2  Добавить блоки рекомендаций товаров на сайт интернет магазина, чтобы повысить конверсию и средний чек заказа   \n",
       "3           Изменить структура категорий, что увеличит конверсию, т.к. пользователи быстрее найдут нужный товар   \n",
       "4                              Изменить цвет фона главной страницы, чтобы увеличить вовлеченность пользователей   \n",
       "5                      Добавить страницу отзывов клиентов о магазине, что позволит увеличить количество заказов   \n",
       "6          Показать на главной странице баннеры с актуальными акциями и распродажами, чтобы увеличить конверсию   \n",
       "7              Добавить форму подписки на все основные страницы, чтобы собрать базу клиентов для email-рассылок   \n",
       "8                                                       Запустить акцию, дающую скидку на товар в день рождения   \n",
       "\n",
       "   Reach  Impact  Confidence  Efforts  \n",
       "0      3      10           8        6  \n",
       "1      2       5           4       10  \n",
       "2      8       3           7        3  \n",
       "3      8       3           3        8  \n",
       "4      3       1           1        1  \n",
       "5      3       2           2        3  \n",
       "6      5       3           8        3  \n",
       "7     10       7           8        5  \n",
       "8      1       9           9        5  "
      ]
     },
     "execution_count": 3,
     "metadata": {},
     "output_type": "execute_result"
    }
   ],
   "source": [
    "hypothesis"
   ]
  },
  {
   "cell_type": "code",
   "execution_count": 4,
   "metadata": {},
   "outputs": [
    {
     "data": {
      "text/html": [
       "<div>\n",
       "<style scoped>\n",
       "    .dataframe tbody tr th:only-of-type {\n",
       "        vertical-align: middle;\n",
       "    }\n",
       "\n",
       "    .dataframe tbody tr th {\n",
       "        vertical-align: top;\n",
       "    }\n",
       "\n",
       "    .dataframe thead th {\n",
       "        text-align: right;\n",
       "    }\n",
       "</style>\n",
       "<table border=\"1\" class=\"dataframe\">\n",
       "  <thead>\n",
       "    <tr style=\"text-align: right;\">\n",
       "      <th></th>\n",
       "      <th>transactionId</th>\n",
       "      <th>visitorId</th>\n",
       "      <th>date</th>\n",
       "      <th>revenue</th>\n",
       "      <th>group</th>\n",
       "    </tr>\n",
       "  </thead>\n",
       "  <tbody>\n",
       "    <tr>\n",
       "      <th>0</th>\n",
       "      <td>3667963787</td>\n",
       "      <td>3312258926</td>\n",
       "      <td>2019-08-15</td>\n",
       "      <td>1650</td>\n",
       "      <td>B</td>\n",
       "    </tr>\n",
       "    <tr>\n",
       "      <th>1</th>\n",
       "      <td>2804400009</td>\n",
       "      <td>3642806036</td>\n",
       "      <td>2019-08-15</td>\n",
       "      <td>730</td>\n",
       "      <td>B</td>\n",
       "    </tr>\n",
       "    <tr>\n",
       "      <th>2</th>\n",
       "      <td>2961555356</td>\n",
       "      <td>4069496402</td>\n",
       "      <td>2019-08-15</td>\n",
       "      <td>400</td>\n",
       "      <td>A</td>\n",
       "    </tr>\n",
       "    <tr>\n",
       "      <th>3</th>\n",
       "      <td>3797467345</td>\n",
       "      <td>1196621759</td>\n",
       "      <td>2019-08-15</td>\n",
       "      <td>9759</td>\n",
       "      <td>B</td>\n",
       "    </tr>\n",
       "    <tr>\n",
       "      <th>4</th>\n",
       "      <td>2282983706</td>\n",
       "      <td>2322279887</td>\n",
       "      <td>2019-08-15</td>\n",
       "      <td>2308</td>\n",
       "      <td>B</td>\n",
       "    </tr>\n",
       "  </tbody>\n",
       "</table>\n",
       "</div>"
      ],
      "text/plain": [
       "   transactionId   visitorId        date  revenue group\n",
       "0     3667963787  3312258926  2019-08-15     1650     B\n",
       "1     2804400009  3642806036  2019-08-15      730     B\n",
       "2     2961555356  4069496402  2019-08-15      400     A\n",
       "3     3797467345  1196621759  2019-08-15     9759     B\n",
       "4     2282983706  2322279887  2019-08-15     2308     B"
      ]
     },
     "execution_count": 4,
     "metadata": {},
     "output_type": "execute_result"
    }
   ],
   "source": [
    "orders.head(5)"
   ]
  },
  {
   "cell_type": "code",
   "execution_count": 5,
   "metadata": {},
   "outputs": [
    {
     "data": {
      "text/html": [
       "<div>\n",
       "<style scoped>\n",
       "    .dataframe tbody tr th:only-of-type {\n",
       "        vertical-align: middle;\n",
       "    }\n",
       "\n",
       "    .dataframe tbody tr th {\n",
       "        vertical-align: top;\n",
       "    }\n",
       "\n",
       "    .dataframe thead th {\n",
       "        text-align: right;\n",
       "    }\n",
       "</style>\n",
       "<table border=\"1\" class=\"dataframe\">\n",
       "  <thead>\n",
       "    <tr style=\"text-align: right;\">\n",
       "      <th></th>\n",
       "      <th>date</th>\n",
       "      <th>group</th>\n",
       "      <th>visitors</th>\n",
       "    </tr>\n",
       "  </thead>\n",
       "  <tbody>\n",
       "    <tr>\n",
       "      <th>0</th>\n",
       "      <td>2019-08-01</td>\n",
       "      <td>A</td>\n",
       "      <td>719</td>\n",
       "    </tr>\n",
       "    <tr>\n",
       "      <th>1</th>\n",
       "      <td>2019-08-02</td>\n",
       "      <td>A</td>\n",
       "      <td>619</td>\n",
       "    </tr>\n",
       "    <tr>\n",
       "      <th>2</th>\n",
       "      <td>2019-08-03</td>\n",
       "      <td>A</td>\n",
       "      <td>507</td>\n",
       "    </tr>\n",
       "    <tr>\n",
       "      <th>3</th>\n",
       "      <td>2019-08-04</td>\n",
       "      <td>A</td>\n",
       "      <td>717</td>\n",
       "    </tr>\n",
       "    <tr>\n",
       "      <th>4</th>\n",
       "      <td>2019-08-05</td>\n",
       "      <td>A</td>\n",
       "      <td>756</td>\n",
       "    </tr>\n",
       "  </tbody>\n",
       "</table>\n",
       "</div>"
      ],
      "text/plain": [
       "         date group  visitors\n",
       "0  2019-08-01     A       719\n",
       "1  2019-08-02     A       619\n",
       "2  2019-08-03     A       507\n",
       "3  2019-08-04     A       717\n",
       "4  2019-08-05     A       756"
      ]
     },
     "execution_count": 5,
     "metadata": {},
     "output_type": "execute_result"
    }
   ],
   "source": [
    "visitors.head(5)"
   ]
  },
  {
   "cell_type": "markdown",
   "metadata": {},
   "source": [
    "Для удобства приведём названия столбцов в таблицах к общему стилю:"
   ]
  },
  {
   "cell_type": "code",
   "execution_count": 6,
   "metadata": {},
   "outputs": [],
   "source": [
    "hypothesis.columns = hypothesis.columns.str.lower()"
   ]
  },
  {
   "cell_type": "markdown",
   "metadata": {},
   "source": [
    "Проверим типы данных в таблицах:"
   ]
  },
  {
   "cell_type": "code",
   "execution_count": 7,
   "metadata": {},
   "outputs": [
    {
     "name": "stdout",
     "output_type": "stream",
     "text": [
      "<class 'pandas.core.frame.DataFrame'>\n",
      "RangeIndex: 9 entries, 0 to 8\n",
      "Data columns (total 5 columns):\n",
      " #   Column      Non-Null Count  Dtype \n",
      "---  ------      --------------  ----- \n",
      " 0   hypothesis  9 non-null      object\n",
      " 1   reach       9 non-null      int64 \n",
      " 2   impact      9 non-null      int64 \n",
      " 3   confidence  9 non-null      int64 \n",
      " 4   efforts     9 non-null      int64 \n",
      "dtypes: int64(4), object(1)\n",
      "memory usage: 488.0+ bytes\n"
     ]
    }
   ],
   "source": [
    "hypothesis.info()"
   ]
  },
  {
   "cell_type": "code",
   "execution_count": 8,
   "metadata": {},
   "outputs": [
    {
     "name": "stdout",
     "output_type": "stream",
     "text": [
      "<class 'pandas.core.frame.DataFrame'>\n",
      "RangeIndex: 1197 entries, 0 to 1196\n",
      "Data columns (total 5 columns):\n",
      " #   Column         Non-Null Count  Dtype \n",
      "---  ------         --------------  ----- \n",
      " 0   transactionId  1197 non-null   int64 \n",
      " 1   visitorId      1197 non-null   int64 \n",
      " 2   date           1197 non-null   object\n",
      " 3   revenue        1197 non-null   int64 \n",
      " 4   group          1197 non-null   object\n",
      "dtypes: int64(3), object(2)\n",
      "memory usage: 46.9+ KB\n"
     ]
    }
   ],
   "source": [
    "orders.info()"
   ]
  },
  {
   "cell_type": "code",
   "execution_count": 9,
   "metadata": {},
   "outputs": [
    {
     "name": "stdout",
     "output_type": "stream",
     "text": [
      "<class 'pandas.core.frame.DataFrame'>\n",
      "RangeIndex: 62 entries, 0 to 61\n",
      "Data columns (total 3 columns):\n",
      " #   Column    Non-Null Count  Dtype \n",
      "---  ------    --------------  ----- \n",
      " 0   date      62 non-null     object\n",
      " 1   group     62 non-null     object\n",
      " 2   visitors  62 non-null     int64 \n",
      "dtypes: int64(1), object(2)\n",
      "memory usage: 1.6+ KB\n"
     ]
    }
   ],
   "source": [
    "visitors.info()"
   ]
  },
  {
   "cell_type": "markdown",
   "metadata": {},
   "source": [
    "Видим, что столбцы с датой в таблицах **orders** и **visitors** имеют формат ``object``, приведём их к типу ``datetime``:"
   ]
  },
  {
   "cell_type": "code",
   "execution_count": 10,
   "metadata": {},
   "outputs": [],
   "source": [
    "orders['date'] = pd.to_datetime(orders['date'])\n",
    "visitors['date'] = pd.to_datetime(visitors['date'])"
   ]
  },
  {
   "cell_type": "markdown",
   "metadata": {},
   "source": [
    "Проверим таблицы на пропуски:"
   ]
  },
  {
   "cell_type": "code",
   "execution_count": 11,
   "metadata": {},
   "outputs": [
    {
     "data": {
      "text/plain": [
       "transactionId    0\n",
       "visitorId        0\n",
       "date             0\n",
       "revenue          0\n",
       "group            0\n",
       "dtype: int64"
      ]
     },
     "execution_count": 11,
     "metadata": {},
     "output_type": "execute_result"
    }
   ],
   "source": [
    "orders.isna().sum()"
   ]
  },
  {
   "cell_type": "code",
   "execution_count": 12,
   "metadata": {},
   "outputs": [
    {
     "data": {
      "text/plain": [
       "date        0\n",
       "group       0\n",
       "visitors    0\n",
       "dtype: int64"
      ]
     },
     "execution_count": 12,
     "metadata": {},
     "output_type": "execute_result"
    }
   ],
   "source": [
    "visitors.isna().sum()"
   ]
  },
  {
   "cell_type": "markdown",
   "metadata": {},
   "source": [
    "Затем на дубликаты:"
   ]
  },
  {
   "cell_type": "code",
   "execution_count": 13,
   "metadata": {},
   "outputs": [
    {
     "data": {
      "text/plain": [
       "0"
      ]
     },
     "execution_count": 13,
     "metadata": {},
     "output_type": "execute_result"
    }
   ],
   "source": [
    "orders.duplicated().sum()"
   ]
  },
  {
   "cell_type": "code",
   "execution_count": 14,
   "metadata": {},
   "outputs": [
    {
     "data": {
      "text/plain": [
       "0"
      ]
     },
     "execution_count": 14,
     "metadata": {},
     "output_type": "execute_result"
    }
   ],
   "source": [
    "visitors.duplicated().sum()"
   ]
  },
  {
   "cell_type": "markdown",
   "metadata": {},
   "source": [
    "#### Вывод.\n",
    "* Названия столбцов таблиц приведены к единому стилю\n",
    "* Значения таблиц с датой преобразованы в формат `datetime`\n",
    "* Пропуски и дубликаты в датасетах отсутствуют\n",
    "\n",
    "Таким образом, выполнена предобработка данных и таблицы готовы к дальнейшему анализу."
   ]
  },
  {
   "cell_type": "markdown",
   "metadata": {},
   "source": [
    "### Приоритизация гипотез."
   ]
  },
  {
   "cell_type": "markdown",
   "metadata": {},
   "source": [
    "Применим фреймворк ``ICE`` для приоритизации гипотез. Отсортируем их по убыванию приоритета."
   ]
  },
  {
   "cell_type": "code",
   "execution_count": 15,
   "metadata": {},
   "outputs": [
    {
     "data": {
      "text/html": [
       "<div>\n",
       "<style scoped>\n",
       "    .dataframe tbody tr th:only-of-type {\n",
       "        vertical-align: middle;\n",
       "    }\n",
       "\n",
       "    .dataframe tbody tr th {\n",
       "        vertical-align: top;\n",
       "    }\n",
       "\n",
       "    .dataframe thead th {\n",
       "        text-align: right;\n",
       "    }\n",
       "</style>\n",
       "<table border=\"1\" class=\"dataframe\">\n",
       "  <thead>\n",
       "    <tr style=\"text-align: right;\">\n",
       "      <th></th>\n",
       "      <th>hypothesis</th>\n",
       "      <th>ICE</th>\n",
       "    </tr>\n",
       "  </thead>\n",
       "  <tbody>\n",
       "    <tr>\n",
       "      <th>8</th>\n",
       "      <td>Запустить акцию, дающую скидку на товар в день рождения</td>\n",
       "      <td>16.2</td>\n",
       "    </tr>\n",
       "    <tr>\n",
       "      <th>0</th>\n",
       "      <td>Добавить два новых канала привлечения трафика, что позволит привлекать на 30% больше пользователей</td>\n",
       "      <td>13.3</td>\n",
       "    </tr>\n",
       "    <tr>\n",
       "      <th>7</th>\n",
       "      <td>Добавить форму подписки на все основные страницы, чтобы собрать базу клиентов для email-рассылок</td>\n",
       "      <td>11.2</td>\n",
       "    </tr>\n",
       "    <tr>\n",
       "      <th>6</th>\n",
       "      <td>Показать на главной странице баннеры с актуальными акциями и распродажами, чтобы увеличить конверсию</td>\n",
       "      <td>8.0</td>\n",
       "    </tr>\n",
       "    <tr>\n",
       "      <th>2</th>\n",
       "      <td>Добавить блоки рекомендаций товаров на сайт интернет магазина, чтобы повысить конверсию и средний чек заказа</td>\n",
       "      <td>7.0</td>\n",
       "    </tr>\n",
       "    <tr>\n",
       "      <th>1</th>\n",
       "      <td>Запустить собственную службу доставки, что сократит срок доставки заказов</td>\n",
       "      <td>2.0</td>\n",
       "    </tr>\n",
       "    <tr>\n",
       "      <th>5</th>\n",
       "      <td>Добавить страницу отзывов клиентов о магазине, что позволит увеличить количество заказов</td>\n",
       "      <td>1.3</td>\n",
       "    </tr>\n",
       "    <tr>\n",
       "      <th>3</th>\n",
       "      <td>Изменить структура категорий, что увеличит конверсию, т.к. пользователи быстрее найдут нужный товар</td>\n",
       "      <td>1.1</td>\n",
       "    </tr>\n",
       "    <tr>\n",
       "      <th>4</th>\n",
       "      <td>Изменить цвет фона главной страницы, чтобы увеличить вовлеченность пользователей</td>\n",
       "      <td>1.0</td>\n",
       "    </tr>\n",
       "  </tbody>\n",
       "</table>\n",
       "</div>"
      ],
      "text/plain": [
       "                                                                                                     hypothesis  \\\n",
       "8                                                       Запустить акцию, дающую скидку на товар в день рождения   \n",
       "0            Добавить два новых канала привлечения трафика, что позволит привлекать на 30% больше пользователей   \n",
       "7              Добавить форму подписки на все основные страницы, чтобы собрать базу клиентов для email-рассылок   \n",
       "6          Показать на главной странице баннеры с актуальными акциями и распродажами, чтобы увеличить конверсию   \n",
       "2  Добавить блоки рекомендаций товаров на сайт интернет магазина, чтобы повысить конверсию и средний чек заказа   \n",
       "1                                     Запустить собственную службу доставки, что сократит срок доставки заказов   \n",
       "5                      Добавить страницу отзывов клиентов о магазине, что позволит увеличить количество заказов   \n",
       "3           Изменить структура категорий, что увеличит конверсию, т.к. пользователи быстрее найдут нужный товар   \n",
       "4                              Изменить цвет фона главной страницы, чтобы увеличить вовлеченность пользователей   \n",
       "\n",
       "    ICE  \n",
       "8  16.2  \n",
       "0  13.3  \n",
       "7  11.2  \n",
       "6   8.0  \n",
       "2   7.0  \n",
       "1   2.0  \n",
       "5   1.3  \n",
       "3   1.1  \n",
       "4   1.0  "
      ]
     },
     "execution_count": 15,
     "metadata": {},
     "output_type": "execute_result"
    }
   ],
   "source": [
    "hypothesis['ICE'] = round(hypothesis['impact'] * hypothesis['confidence'] / hypothesis['efforts'], 1)\n",
    "hypothesis[['hypothesis', 'ICE']].sort_values(by='ICE', ascending=False)"
   ]
  },
  {
   "cell_type": "markdown",
   "metadata": {},
   "source": [
    "Применим фреймворк ``RICE`` для приоритизации гипотез. Отсортируем их по убыванию приоритета."
   ]
  },
  {
   "cell_type": "code",
   "execution_count": 16,
   "metadata": {},
   "outputs": [
    {
     "data": {
      "text/html": [
       "<div>\n",
       "<style scoped>\n",
       "    .dataframe tbody tr th:only-of-type {\n",
       "        vertical-align: middle;\n",
       "    }\n",
       "\n",
       "    .dataframe tbody tr th {\n",
       "        vertical-align: top;\n",
       "    }\n",
       "\n",
       "    .dataframe thead th {\n",
       "        text-align: right;\n",
       "    }\n",
       "</style>\n",
       "<table border=\"1\" class=\"dataframe\">\n",
       "  <thead>\n",
       "    <tr style=\"text-align: right;\">\n",
       "      <th></th>\n",
       "      <th>hypothesis</th>\n",
       "      <th>RICE</th>\n",
       "    </tr>\n",
       "  </thead>\n",
       "  <tbody>\n",
       "    <tr>\n",
       "      <th>7</th>\n",
       "      <td>Добавить форму подписки на все основные страницы, чтобы собрать базу клиентов для email-рассылок</td>\n",
       "      <td>112.0</td>\n",
       "    </tr>\n",
       "    <tr>\n",
       "      <th>2</th>\n",
       "      <td>Добавить блоки рекомендаций товаров на сайт интернет магазина, чтобы повысить конверсию и средний чек заказа</td>\n",
       "      <td>56.0</td>\n",
       "    </tr>\n",
       "    <tr>\n",
       "      <th>0</th>\n",
       "      <td>Добавить два новых канала привлечения трафика, что позволит привлекать на 30% больше пользователей</td>\n",
       "      <td>40.0</td>\n",
       "    </tr>\n",
       "    <tr>\n",
       "      <th>6</th>\n",
       "      <td>Показать на главной странице баннеры с актуальными акциями и распродажами, чтобы увеличить конверсию</td>\n",
       "      <td>40.0</td>\n",
       "    </tr>\n",
       "    <tr>\n",
       "      <th>8</th>\n",
       "      <td>Запустить акцию, дающую скидку на товар в день рождения</td>\n",
       "      <td>16.2</td>\n",
       "    </tr>\n",
       "    <tr>\n",
       "      <th>3</th>\n",
       "      <td>Изменить структура категорий, что увеличит конверсию, т.к. пользователи быстрее найдут нужный товар</td>\n",
       "      <td>9.0</td>\n",
       "    </tr>\n",
       "    <tr>\n",
       "      <th>1</th>\n",
       "      <td>Запустить собственную службу доставки, что сократит срок доставки заказов</td>\n",
       "      <td>4.0</td>\n",
       "    </tr>\n",
       "    <tr>\n",
       "      <th>5</th>\n",
       "      <td>Добавить страницу отзывов клиентов о магазине, что позволит увеличить количество заказов</td>\n",
       "      <td>4.0</td>\n",
       "    </tr>\n",
       "    <tr>\n",
       "      <th>4</th>\n",
       "      <td>Изменить цвет фона главной страницы, чтобы увеличить вовлеченность пользователей</td>\n",
       "      <td>3.0</td>\n",
       "    </tr>\n",
       "  </tbody>\n",
       "</table>\n",
       "</div>"
      ],
      "text/plain": [
       "                                                                                                     hypothesis  \\\n",
       "7              Добавить форму подписки на все основные страницы, чтобы собрать базу клиентов для email-рассылок   \n",
       "2  Добавить блоки рекомендаций товаров на сайт интернет магазина, чтобы повысить конверсию и средний чек заказа   \n",
       "0            Добавить два новых канала привлечения трафика, что позволит привлекать на 30% больше пользователей   \n",
       "6          Показать на главной странице баннеры с актуальными акциями и распродажами, чтобы увеличить конверсию   \n",
       "8                                                       Запустить акцию, дающую скидку на товар в день рождения   \n",
       "3           Изменить структура категорий, что увеличит конверсию, т.к. пользователи быстрее найдут нужный товар   \n",
       "1                                     Запустить собственную службу доставки, что сократит срок доставки заказов   \n",
       "5                      Добавить страницу отзывов клиентов о магазине, что позволит увеличить количество заказов   \n",
       "4                              Изменить цвет фона главной страницы, чтобы увеличить вовлеченность пользователей   \n",
       "\n",
       "    RICE  \n",
       "7  112.0  \n",
       "2   56.0  \n",
       "0   40.0  \n",
       "6   40.0  \n",
       "8   16.2  \n",
       "3    9.0  \n",
       "1    4.0  \n",
       "5    4.0  \n",
       "4    3.0  "
      ]
     },
     "execution_count": 16,
     "metadata": {},
     "output_type": "execute_result"
    }
   ],
   "source": [
    "hypothesis['RICE'] = round(hypothesis['reach'] * hypothesis['impact'] * hypothesis['confidence'] / hypothesis['efforts'], 1)\n",
    "hypothesis[['hypothesis', 'RICE']].sort_values(by='RICE', ascending=False)"
   ]
  },
  {
   "cell_type": "markdown",
   "metadata": {},
   "source": [
    "#### Вывод.\n",
    "Видим, что приоритизация гипотез при применении метода ``RICE`` изменилась: в формулу её расчёта был добавлен параметр **Reach**, который указывает на количество пользователей, которых затронут изменения. Соответственно, чем выше параметр **Reach**, тем сильнее поменялся приоритет каждой из гипотез. \n",
    "* Так, у гипотезы о скидке на товар в день рождения значительно упал приоритет, так как значение **Reach** было оценено на 1 балл.\n",
    "* У гипотезы о добавлении формы подписки на основные страницы, напротив, приоритет был повышен с третьего до первого, так как значение **Reach** получило максимальную оценку — 10, что означает, что данное изменение охватит абсолютное большинство пользователей.\n",
    "* Также большую оценку (8) охвата аудитории получила гипотеза о добавление блока рекомендаций, которая поднялась на вторую строчку по приоритету."
   ]
  },
  {
   "cell_type": "markdown",
   "metadata": {},
   "source": [
    "На мой взгляд, в данном случае метод ``RICE`` даёт более точную оценку приоритета той или иной гипотезы, так как важную роль в анализе деятельности интернет-магазина имеет параметр охвата аудитории. А значит, первым делом необходимо проверить гипотезу о добавлении формы подписки на все основные страницы для email-рассылок."
   ]
  },
  {
   "cell_type": "markdown",
   "metadata": {},
   "source": [
    "### Анализ A/B-теста."
   ]
  },
  {
   "cell_type": "markdown",
   "metadata": {},
   "source": [
    "Перед проведением теста изучим, сколько пользователей попало в каждую из групп, и случается ли, что заказы одного пользователя попадают в обе группы:"
   ]
  },
  {
   "cell_type": "code",
   "execution_count": 35,
   "metadata": {},
   "outputs": [
    {
     "data": {
      "text/plain": [
       "group\n",
       "A    503\n",
       "B    586\n",
       "Name: visitorId, dtype: int64"
      ]
     },
     "execution_count": 35,
     "metadata": {},
     "output_type": "execute_result"
    }
   ],
   "source": [
    "unique_users = orders.groupby('group')['visitorId'].nunique()\n",
    "unique_users"
   ]
  },
  {
   "cell_type": "markdown",
   "metadata": {},
   "source": [
    "В группу А попало 503 пользователя, в группу В — 586."
   ]
  },
  {
   "cell_type": "code",
   "execution_count": 41,
   "metadata": {
    "scrolled": true
   },
   "outputs": [
    {
     "name": "stdout",
     "output_type": "stream",
     "text": [
      "Число пользователей, которые попали в обе группы теста: 58\n",
      "Их отношение к общему числу пользователей: 5.63%\n"
     ]
    }
   ],
   "source": [
    "users = orders.groupby('visitorId')\n",
    "# считаем число пользователей, у которых заказы попали в разные группы теста\n",
    "num_users = 0\n",
    "for user_id, group_df in users:\n",
    "    unique_groups = group_df['group'].unique()\n",
    "    if len(unique_groups) > 1:\n",
    "        num_users += 1\n",
    "        \n",
    "# считаем долю таких пользователей от общего числа пользователей\n",
    "total_users = len(orders['visitorId'].unique())\n",
    "ratio = num_users / total_users\n",
    "\n",
    "print(f\"Число пользователей, которые попали в обе группы теста: {num_users}\")\n",
    "print(f\"Их отношение к общему числу пользователей: {ratio:.2%}\")"
   ]
  },
  {
   "cell_type": "markdown",
   "metadata": {},
   "source": [
    "Таким образом, число пользователей, попавших в обе группы, составляет менее 6%, что, по-моему мнению, не критично отразится на результатах исследования. Мной было принято решение не удалять эти заказы из общих данных."
   ]
  },
  {
   "cell_type": "markdown",
   "metadata": {},
   "source": [
    "#### Построим график кумулятивной выручки по группам."
   ]
  },
  {
   "cell_type": "code",
   "execution_count": 44,
   "metadata": {},
   "outputs": [
    {
     "data": {
      "image/png": "[encoded data removed]",
      "text/plain": [
       "<Figure size 720x432 with 1 Axes>"
      ]
     },
     "metadata": {
      "needs_background": "light"
     },
     "output_type": "display_data"
    }
   ],
   "source": [
    "datesGroups = orders[['date', 'group']].drop_duplicates()\n",
    "\n",
    "ordersAggregated = datesGroups.apply(\n",
    "    lambda x: orders[\n",
    "        np.logical_and(\n",
    "            orders['date'] <= x['date'], orders['group'] == x['group']\n",
    "        )\n",
    "    ].agg(\n",
    "        {\n",
    "            'date': 'max',\n",
    "            'group': 'max',\n",
    "            'transactionId': 'nunique',\n",
    "            'visitorId': 'nunique',\n",
    "            'revenue': 'sum',\n",
    "        }\n",
    "    ),\n",
    "    axis=1,\n",
    ").sort_values(by=['date', 'group'])\n",
    "\n",
    "visitorsAggregated = datesGroups.apply(\n",
    "    lambda x: visitors[\n",
    "        np.logical_and(\n",
    "            visitors['date'] <= x['date'], visitors['group'] == x['group']\n",
    "        )\n",
    "    ].agg({'date': 'max', 'group': 'max', 'visitors': 'sum'}),\n",
    "    axis=1,\n",
    ").sort_values(by=['date', 'group'])\n",
    "\n",
    "cumulativeData = ordersAggregated.merge(\n",
    "    visitorsAggregated, left_on=['date', 'group'], right_on=['date', 'group']\n",
    ")\n",
    "cumulativeData.columns = [\n",
    "    'date',\n",
    "    'group',\n",
    "    'orders',\n",
    "    'buyers',\n",
    "    'revenue',\n",
    "    'visitors',\n",
    "]\n",
    "\n",
    "cumulativeRevenueA = cumulativeData[cumulativeData['group']=='A'][['date','revenue', 'orders']]\n",
    "\n",
    "cumulativeRevenueB = cumulativeData[cumulativeData['group']=='B'][['date','revenue', 'orders']]\n",
    "\n",
    "fig, ax = plt.subplots(figsize=(10, 6))\n",
    "\n",
    "ax.plot(cumulativeRevenueA['date'], cumulativeRevenueA['revenue'], label='A')\n",
    "ax.plot(cumulativeRevenueB['date'], cumulativeRevenueB['revenue'], label='B')\n",
    "\n",
    "# Добавляем заголовок\n",
    "ax.set_title('Кумулятивная выручка по группам A/B-теста')\n",
    "\n",
    "# Подписываем оси\n",
    "ax.set_xlabel('Дата')\n",
    "ax.set_ylabel('Кумулятивная выручка')\n",
    "\n",
    "# Наклоняем надписи на оси X\n",
    "plt.xticks(rotation=45)\n",
    "\n",
    "ax.legend()\n",
    "plt.show()"
   ]
  },
  {
   "cell_type": "markdown",
   "metadata": {},
   "source": [
    "Результаты сегмента В стабильно опережали результаты сегмента А на протяжении всего теста. Кроме того, во второй половине месяца произошёл большой всплеск активности, что может указывать на аномально большие заказы либо на аномально резкий рост числа заказов."
   ]
  },
  {
   "cell_type": "markdown",
   "metadata": {},
   "source": [
    "#### Построим график кумулятивного среднего чека по группам. "
   ]
  },
  {
   "cell_type": "code",
   "execution_count": 46,
   "metadata": {},
   "outputs": [
    {
     "data": {
      "image/png": "[encoded data removed]",
      "text/plain": [
       "<Figure size 720x432 with 1 Axes>"
      ]
     },
     "metadata": {
      "needs_background": "light"
     },
     "output_type": "display_data"
    }
   ],
   "source": [
    "fig, ax = plt.subplots(figsize=(10, 6))\n",
    "\n",
    "ax.plot(cumulativeRevenueA['date'], cumulativeRevenueA['revenue']/cumulativeRevenueA['orders'], label='A')\n",
    "ax.plot(cumulativeRevenueB['date'], cumulativeRevenueB['revenue']/cumulativeRevenueB['orders'], label='B')\n",
    "\n",
    "ax.set_title('Средний чек по группам A/B-теста')\n",
    "\n",
    "ax.set_xlabel('Дата')\n",
    "ax.set_ylabel('Средний чек')\n",
    "\n",
    "plt.xticks(rotation=45)\n",
    "\n",
    "ax.legend()\n",
    "plt.show()"
   ]
  },
  {
   "cell_type": "markdown",
   "metadata": {},
   "source": [
    "График группы А ближе к середине месяца установился около отметки 7000 и оставался стабильным дальше. В группе В видим аномальное увеличение среднего чека во второй половине графика: возможно, на этот день пришлись крупные заказы. За всплеском следует постепенное снижение графика сраднего чека. Очевидно, что требуется дополнительный анализ выбросов."
   ]
  },
  {
   "cell_type": "markdown",
   "metadata": {},
   "source": [
    "#### Построим график относительного изменения кумулятивного среднего чека группы B к группе A. "
   ]
  },
  {
   "cell_type": "code",
   "execution_count": 47,
   "metadata": {},
   "outputs": [
    {
     "data": {
      "image/png": "[encoded data removed]",
      "text/plain": [
       "<Figure size 720x432 with 1 Axes>"
      ]
     },
     "metadata": {
      "needs_background": "light"
     },
     "output_type": "display_data"
    }
   ],
   "source": [
    "mergedCumulativeRevenue = cumulativeRevenueA.merge(cumulativeRevenueB, left_on='date', right_on='date', how='left', suffixes=['A', 'B'])\n",
    "\n",
    "fig, ax = plt.subplots(figsize=(10, 6))\n",
    "\n",
    "# cтроим отношение средних чеков\n",
    "ax.plot(mergedCumulativeRevenue['date'], (mergedCumulativeRevenue['revenueB']/mergedCumulativeRevenue['ordersB'])/(mergedCumulativeRevenue['revenueA']/mergedCumulativeRevenue['ordersA'])-1)\n",
    "\n",
    "ax.set_title('Относительное изменение кумулятивного среднего чека по группам A/B-теста')\n",
    "\n",
    "ax.set_xlabel('Дата')\n",
    "ax.set_ylabel('Относительное изменение среднего чека')\n",
    "\n",
    "# Добавляем горизонтальную линию на уровне 0\n",
    "ax.axhline(y=0, color='black', linestyle='--')\n",
    "\n",
    "plt.xticks(rotation=45)\n",
    "\n",
    "plt.show()"
   ]
  },
  {
   "cell_type": "markdown",
   "metadata": {},
   "source": [
    "Исходя из нестабильности данного графика, можно выразить уверенность в наличии крупных заказов и выбросов."
   ]
  },
  {
   "cell_type": "markdown",
   "metadata": {},
   "source": [
    "#### Построим график кумулятивного среднего количества заказов на посетителя по группам."
   ]
  },
  {
   "cell_type": "code",
   "execution_count": 49,
   "metadata": {},
   "outputs": [
    {
     "data": {
      "image/png": "[encoded data removed]",
      "text/plain": [
       "<Figure size 720x432 with 1 Axes>"
      ]
     },
     "metadata": {
      "needs_background": "light"
     },
     "output_type": "display_data"
    }
   ],
   "source": [
    "cumulativeData['conversion'] = cumulativeData['orders']/cumulativeData['visitors']\n",
    "\n",
    "# отделяем данные по группе A\n",
    "cumulativeDataA = cumulativeData[cumulativeData['group']=='A']\n",
    "\n",
    "# отделяем данные по группе B\n",
    "cumulativeDataB = cumulativeData[cumulativeData['group']=='B']\n",
    "\n",
    "fig, ax = plt.subplots(figsize=(10, 6))\n",
    "\n",
    "# строим графики\n",
    "ax.plot(cumulativeDataA['date'], cumulativeDataA['conversion'], label='A')\n",
    "ax.plot(cumulativeDataB['date'], cumulativeDataB['conversion'], label='B')\n",
    "\n",
    "ax.set_title('Среднее количество заказов на посетителя по группам')\n",
    "\n",
    "ax.set_xlabel('Дата')\n",
    "ax.set_ylabel('Кумулятивная конверсия')\n",
    "\n",
    "plt.xticks(rotation=45)\n",
    "\n",
    "ax.legend()\n",
    "plt.show()"
   ]
  },
  {
   "cell_type": "markdown",
   "metadata": {},
   "source": [
    "Из данного графика видим, что сегмент В стабильно опережал сегмент А по данному параметру, разница между группами составляла от 0.4% до 0.6%."
   ]
  },
  {
   "cell_type": "markdown",
   "metadata": {},
   "source": [
    "#### Построим график относительного изменения кумулятивного среднего количества заказов на посетителя группы B к группе A. "
   ]
  },
  {
   "cell_type": "code",
   "execution_count": 53,
   "metadata": {},
   "outputs": [
    {
     "data": {
      "image/png": "[encoded data removed]",
      "text/plain": [
       "<Figure size 720x432 with 1 Axes>"
      ]
     },
     "metadata": {
      "needs_background": "light"
     },
     "output_type": "display_data"
    }
   ],
   "source": [
    "mergedCumulativeConversions = cumulativeDataA[['date','conversion']].merge(cumulativeDataB[['date','conversion']], left_on='date', right_on='date', how='left', suffixes=['A', 'B'])\n",
    "\n",
    "plt.figure(figsize=(10, 6))\n",
    "plt.plot(mergedCumulativeConversions['date'], mergedCumulativeConversions['conversionB'] / mergedCumulativeConversions['conversionA'] - 1, label=\"Относительный прирост конверсии группы B относительно группы A\")\n",
    "plt.legend()\n",
    "plt.axhline(y=0, color='black', linestyle='--')\n",
    "plt.axhline(y=0.2, color='grey', linestyle='--')\n",
    "\n",
    "plt.title('Относительный прирост среднего числа заказов группы B относительно группы A', fontsize=14)\n",
    "plt.xlabel('Дата')\n",
    "plt.ylabel('Изменение количества заказов, %')\n",
    "plt.xticks(rotation=45)\n",
    "\n",
    "plt.show()"
   ]
  },
  {
   "cell_type": "markdown",
   "metadata": {},
   "source": [
    "Видим, что группа В практически с самого начала теста вырвалась вперёд и к середине месяца достигла пика прироста в 20% относительно группы А, но во второй половине месяца этот показатель уменьшился, колебавшись на отметке 10-15%. \\\n",
    "Предварительно можно отметить успехи группы В, однако стоит проанализировать аномалии, возможно, они изменят общую картину."
   ]
  },
  {
   "cell_type": "markdown",
   "metadata": {},
   "source": [
    "#### Построим точечный график количества заказов по пользователям."
   ]
  },
  {
   "cell_type": "code",
   "execution_count": 54,
   "metadata": {},
   "outputs": [
    {
     "data": {
      "image/png": "[encoded data removed]",
      "text/plain": [
       "<Figure size 720x432 with 1 Axes>"
      ]
     },
     "metadata": {
      "needs_background": "light"
     },
     "output_type": "display_data"
    }
   ],
   "source": [
    "ordersByUsers = (\n",
    "    orders.groupby('visitorId', as_index=False)# Метод .groupby('...', as_index=False) сгруппирует заказы по пользователям\n",
    "    .agg({'transactionId': 'nunique'})# Метод .agg({'...' : 'nunique',}) подсчитает число уникальных заказов по   сгруппированным данным\n",
    ")\n",
    "ordersByUsers.columns = ['userId', 'orders']\n",
    "\n",
    "x_values = pd.Series(range(0, len(ordersByUsers)))\n",
    "plt.figure(figsize=(10, 6))\n",
    "plt.scatter(x_values, ordersByUsers['orders'])\n",
    "\n",
    "# Заголовок\n",
    "plt.title('Распределение количества заказов на одного пользователя', fontsize=14)\n",
    "\n",
    "# Подпись оси X\n",
    "plt.xlabel('Пользователи', fontsize=12)\n",
    "\n",
    "# Подпись оси Y\n",
    "plt.ylabel('Количество заказов', fontsize=12)\n",
    "\n",
    "# Наклон подписей по оси X\n",
    "plt.xticks(rotation=45)\n",
    "\n",
    "plt.show()"
   ]
  },
  {
   "cell_type": "markdown",
   "metadata": {},
   "source": [
    "Видим, что относительно небольшое количество пользователей делали заказ более двух раз. "
   ]
  },
  {
   "cell_type": "markdown",
   "metadata": {},
   "source": [
    "#### Посчитаем 95-й и 99-й перцентили количества заказов на пользователя. Выберем границу для определения аномальных пользователей."
   ]
  },
  {
   "cell_type": "code",
   "execution_count": 23,
   "metadata": {},
   "outputs": [
    {
     "data": {
      "text/plain": [
       "array([2., 4.])"
      ]
     },
     "execution_count": 23,
     "metadata": {},
     "output_type": "execute_result"
    }
   ],
   "source": [
    "np.percentile(ordersByUsers['orders'], [95, 99])"
   ]
  },
  {
   "cell_type": "markdown",
   "metadata": {},
   "source": [
    "Предположение в предыдущем шаге оказалось верным — не более 5% пользователей совершали больше двух заказов и не более 1% — больше четырёх. В данном случае разумно выбрать 2 заказа за верхнюю границу числа заказов."
   ]
  },
  {
   "cell_type": "markdown",
   "metadata": {},
   "source": [
    "#### Построим точечный график стоимостей заказов."
   ]
  },
  {
   "cell_type": "code",
   "execution_count": 57,
   "metadata": {},
   "outputs": [
    {
     "data": {
      "image/png": "[encoded data removed]",
      "text/plain": [
       "<Figure size 720x432 with 1 Axes>"
      ]
     },
     "metadata": {
      "needs_background": "light"
     },
     "output_type": "display_data"
    }
   ],
   "source": [
    "x_values = pd.Series(range(0, len(orders['revenue'])))\n",
    "plt.figure(figsize=(10, 6))\n",
    "plt.scatter(x_values, orders['revenue'])\n",
    "\n",
    "plt.title('Распределение стоимости заказов', fontsize=14)\n",
    "plt.xlabel('Заказы', fontsize=12)\n",
    "plt.ylabel('Стоимость', fontsize=12)\n",
    "plt.xticks(rotation=45)\n",
    "\n",
    "plt.show()"
   ]
  },
  {
   "cell_type": "markdown",
   "metadata": {},
   "source": [
    "По этому графику определить точную границу аномальных заказов трудно, но видно что дорогих заказов очень мало. Лучше обратиться к поиску выборочных перцентилей."
   ]
  },
  {
   "cell_type": "markdown",
   "metadata": {},
   "source": [
    "Видим, что из-за двух выбросов график стал неинформативным. Уберём их, установив нижнюю границу выбросов — 150000 у.е., и построим график заново:"
   ]
  },
  {
   "cell_type": "code",
   "execution_count": 60,
   "metadata": {
    "scrolled": true
   },
   "outputs": [
    {
     "data": {
      "image/png": "[encoded data removed]",
      "text/plain": [
       "<Figure size 720x432 with 1 Axes>"
      ]
     },
     "metadata": {
      "needs_background": "light"
     },
     "output_type": "display_data"
    }
   ],
   "source": [
    "# Убираем выбросы\n",
    "filtered_orders = orders[orders['revenue'] <= 150000]\n",
    "\n",
    "x_values = pd.Series(range(0, len(filtered_orders['revenue'])))\n",
    "plt.figure(figsize=(10, 6))\n",
    "plt.scatter(x_values, filtered_orders['revenue'])\n",
    "\n",
    "plt.title('Распределение стоимости заказов без выбросов', fontsize=14)\n",
    "plt.xlabel('Заказы', fontsize=12)\n",
    "plt.ylabel('Стоимость', fontsize=12)\n",
    "plt.xticks(rotation=45)\n",
    "\n",
    "plt.show()"
   ]
  },
  {
   "cell_type": "markdown",
   "metadata": {},
   "source": [
    "#### Посчитаем 95-й и 99-й перцентили стоимости заказов. Выберем границу для определения аномальных заказов."
   ]
  },
  {
   "cell_type": "code",
   "execution_count": 25,
   "metadata": {},
   "outputs": [
    {
     "data": {
      "text/plain": [
       "array([28000. , 58233.2])"
      ]
     },
     "execution_count": 25,
     "metadata": {},
     "output_type": "execute_result"
    }
   ],
   "source": [
    "np.percentile(orders['revenue'], [95, 99])"
   ]
  },
  {
   "cell_type": "markdown",
   "metadata": {},
   "source": [
    "Не более, чем у 5% заказов стоимость заказов выше 28000 у.е., и не больше, чем у 1% заказов — выше 58233 у.е. Таким образом, разумно взять 28000 как нижнюю границу аномалий."
   ]
  },
  {
   "cell_type": "markdown",
   "metadata": {},
   "source": [
    "Итак, можем с достаточной уверенностью сказать, что 95% пользователей совершают не более двух заказов на сумму не более 28000 у.е. Эти цифры в дальнейшем будут использоваться для среза аномалий."
   ]
  },
  {
   "cell_type": "markdown",
   "metadata": {},
   "source": [
    "#### Посчитаем статистическую значимость различий в среднем количестве заказов на посетителя между группами по «сырым» данным."
   ]
  },
  {
   "cell_type": "markdown",
   "metadata": {},
   "source": [
    "Сформулируем гипотезы. Нулевая: различий в среднем количестве заказов по «сырым» данным между группами нет. Альтернативная: различия в среднем количестве заказов по «сырым» данным между группами есть. Установим уровень статистической значимости 5%."
   ]
  },
  {
   "cell_type": "markdown",
   "metadata": {},
   "source": [
    "Для начала подготовим данные, пересобрав их в новую таблицу с нужными нам метриками:"
   ]
  },
  {
   "cell_type": "code",
   "execution_count": 26,
   "metadata": {},
   "outputs": [],
   "source": [
    "visitorsADaily = visitors[visitors['group'] == 'A'][['date', 'visitors']]\n",
    "visitorsADaily.columns = ['date', 'visitorsPerDateA']\n",
    "\n",
    "visitorsACummulative = visitorsADaily.apply(\n",
    "    lambda x: visitorsADaily[visitorsADaily['date'] <= x['date']].agg(\n",
    "        {'date': 'max', 'visitorsPerDateA': 'sum'}\n",
    "    ),\n",
    "    axis=1,\n",
    ")\n",
    "visitorsACummulative.columns = ['date', 'visitorsCummulativeA']\n",
    "\n",
    "visitorsBDaily = visitors[visitors['group'] == 'B'][['date', 'visitors']]\n",
    "visitorsBDaily.columns = ['date', 'visitorsPerDateB']\n",
    "\n",
    "visitorsBCummulative = visitorsBDaily.apply(\n",
    "    lambda x: visitorsBDaily[visitorsBDaily['date'] <= x['date']].agg(\n",
    "        {'date': 'max', 'visitorsPerDateB': 'sum'}\n",
    "    ),\n",
    "    axis=1,\n",
    ")\n",
    "visitorsBCummulative.columns = ['date', 'visitorsCummulativeB']\n",
    "\n",
    "ordersADaily = (\n",
    "    orders[orders['group'] == 'A'][['date', 'transactionId', 'visitorId', 'revenue']]\n",
    "    .groupby('date', as_index=False)\n",
    "    .agg({'transactionId': pd.Series.nunique, 'revenue': 'sum'})\n",
    ")\n",
    "ordersADaily.columns = ['date', 'ordersPerDateA', 'revenuePerDateA']\n",
    "\n",
    "ordersACummulative = ordersADaily.apply(\n",
    "    lambda x: ordersADaily[ordersADaily['date'] <= x['date']].agg(\n",
    "        {'date': 'max', 'ordersPerDateA': 'sum', 'revenuePerDateA': 'sum'}\n",
    "    ),\n",
    "    axis=1,\n",
    ").sort_values(by=['date'])\n",
    "ordersACummulative.columns = [\n",
    "    'date',\n",
    "    'ordersCummulativeA',\n",
    "    'revenueCummulativeA',\n",
    "]\n",
    "\n",
    "ordersBDaily = (\n",
    "    orders[orders['group'] == 'B'][['date', 'transactionId', 'visitorId', 'revenue']]\n",
    "    .groupby('date', as_index=False)\n",
    "    .agg({'transactionId': pd.Series.nunique, 'revenue': 'sum'})\n",
    ")\n",
    "ordersBDaily.columns = ['date', 'ordersPerDateB', 'revenuePerDateB']\n",
    "\n",
    "ordersBCummulative = ordersBDaily.apply(\n",
    "    lambda x: ordersBDaily[ordersBDaily['date'] <= x['date']].agg(\n",
    "        {'date': 'max', 'ordersPerDateB': 'sum', 'revenuePerDateB': 'sum'}\n",
    "    ),\n",
    "    axis=1,\n",
    ").sort_values(by=['date'])\n",
    "ordersBCummulative.columns = [\n",
    "    'date',\n",
    "    'ordersCummulativeB',\n",
    "    'revenueCummulativeB',\n",
    "]\n",
    "\n",
    "data = (\n",
    "    ordersADaily.merge(\n",
    "        ordersBDaily, left_on='date', right_on='date', how='left'\n",
    "    )\n",
    "    .merge(ordersACummulative, left_on='date', right_on='date', how='left')\n",
    "    .merge(ordersBCummulative, left_on='date', right_on='date', how='left')\n",
    "    .merge(visitorsADaily, left_on='date', right_on='date', how='left')\n",
    "    .merge(visitorsBDaily, left_on='date', right_on='date', how='left')\n",
    "    .merge(visitorsACummulative, left_on='date', right_on='date', how='left')\n",
    "    .merge(visitorsBCummulative, left_on='date', right_on='date', how='left')\n",
    ")"
   ]
  },
  {
   "cell_type": "markdown",
   "metadata": {},
   "source": [
    "Теперь посчитаем статистическую значимость различия в среднем количестве заказов между группами. Для этого создадим вспомогательные переменные и применим критерий Манна-Уитни:"
   ]
  },
  {
   "cell_type": "code",
   "execution_count": 63,
   "metadata": {},
   "outputs": [
    {
     "name": "stdout",
     "output_type": "stream",
     "text": [
      "p-value: 0.01679\n",
      "Отвергаем нулевую гипотезу\n",
      "относительное различие между группами: 0.138\n"
     ]
    }
   ],
   "source": [
    "alpha = 0.05 # задаём значение уровня значимости\n",
    "\n",
    "ordersByUsersA = (\n",
    "    orders[orders['group'] == 'A']\n",
    "    .groupby('visitorId', as_index=False)\n",
    "    .agg({'transactionId': pd.Series.nunique})\n",
    ")\n",
    "ordersByUsersA.columns = ['userId', 'orders']\n",
    "\n",
    "ordersByUsersB = (\n",
    "    orders[orders['group'] == 'B']\n",
    "    .groupby('visitorId', as_index=False)\n",
    "    .agg({'transactionId': pd.Series.nunique})\n",
    ")\n",
    "ordersByUsersB.columns = ['userId', 'orders']\n",
    "\n",
    "sampleA = pd.concat(\n",
    "    [\n",
    "        ordersByUsersA['orders'],\n",
    "        pd.Series(\n",
    "            0,\n",
    "            index=np.arange(\n",
    "                data['visitorsPerDateA'].sum() - len(ordersByUsersA['orders'])\n",
    "            ),\n",
    "            name='orders',\n",
    "        ),\n",
    "    ],\n",
    "    axis=0,\n",
    ")\n",
    "\n",
    "sampleB = pd.concat(\n",
    "    [\n",
    "        ordersByUsersB['orders'],\n",
    "        pd.Series(\n",
    "            0,\n",
    "            index=np.arange(\n",
    "                data['visitorsPerDateB'].sum() - len(ordersByUsersB['orders'])\n",
    "            ),\n",
    "            name='orders',\n",
    "        ),\n",
    "    ],\n",
    "    axis=0,\n",
    ")\n",
    "\n",
    "print('p-value:', \"{0:.5f}\".format(stats.mannwhitneyu(sampleA, sampleB)[1]))\n",
    "\n",
    "if stats.mannwhitneyu(sampleA, sampleB)[1] < alpha:\n",
    "    print('Отвергаем нулевую гипотезу')\n",
    "else:\n",
    "    print('Не получилось отвергнуть нулевую гипотезу')\n",
    "\n",
    "print('Относительное различие между группами:', \"{0:.3f}\".format((data['ordersPerDateB'].sum()/data['visitorsPerDateB'].sum())/(data['ordersPerDateA'].sum()/data['visitorsPerDateA'].sum())-1))"
   ]
  },
  {
   "cell_type": "markdown",
   "metadata": {},
   "source": [
    "P-value меньше 0,05, поэтому нулевую гипотезу отвергаем. Анализ \"сырых данных\" говорит о том, что в среднем количестве заказов между группами есть статистически значимые различия. Относительный прирост количества заказов равен 13,8%."
   ]
  },
  {
   "cell_type": "markdown",
   "metadata": {},
   "source": [
    "#### Посчитаем статистическую значимость различий в среднем чеке заказа между группами по «сырым» данным."
   ]
  },
  {
   "cell_type": "markdown",
   "metadata": {},
   "source": [
    "Сформулируем гипотезы. Нулевая: различий в среднем чеке по «сырым» данным между группами нет. Альтернативная: различия в среднем чеке по «сырым» данным есть. Установим уровень статистической значимости 5%."
   ]
  },
  {
   "cell_type": "code",
   "execution_count": 64,
   "metadata": {},
   "outputs": [
    {
     "name": "stdout",
     "output_type": "stream",
     "text": [
      "p-value: 0.729\n",
      "Не получилось отвергнуть нулевую гипотезу\n",
      "Относительное различие между группами: 0.259\n"
     ]
    }
   ],
   "source": [
    "print('p-value:', '{0:.3f}'.format(stats.mannwhitneyu(orders[orders['group']=='A']['revenue'], orders[orders['group']=='B']['revenue'])[1]))\n",
    "\n",
    "if stats.mannwhitneyu(orders[orders['group']=='A']['revenue'], orders[orders['group']=='B']['revenue'])[1] < alpha:\n",
    "    print('Отвергаем нулевую гипотезу')\n",
    "else:\n",
    "    print('Не получилось отвергнуть нулевую гипотезу')\n",
    "\n",
    "print('Относительное различие между группами:', '{0:.3f}'.format(orders[orders['group']=='B']['revenue'].mean()/orders[orders['group']=='A']['revenue'].mean()-1)) "
   ]
  },
  {
   "cell_type": "markdown",
   "metadata": {},
   "source": [
    "P-value значительно больше 0.05. Значит, причин отвергать нулевую гипотезу и считать, что в среднем чеке есть различия, нет. \\\n",
    "Но при этом видим, что средний чек группы В на 25% выше среднего чека группы А. Это может говорить о каких-то разовых аномалиях в группе В."
   ]
  },
  {
   "cell_type": "markdown",
   "metadata": {},
   "source": [
    "#### Посчитаем статистическую значимость различий в среднем количестве заказов на посетителя между группами по «очищенным» данным."
   ]
  },
  {
   "cell_type": "markdown",
   "metadata": {},
   "source": [
    "Примем за аномальных пользователей тех, кто совершил от 3 заказов или совершил заказ дороже 28 000 рублей. Так мы уберём 5% пользователей с наибольшим числом заказов и от 1% до 5% пользователей с дорогими заказами. "
   ]
  },
  {
   "cell_type": "code",
   "execution_count": 65,
   "metadata": {},
   "outputs": [
    {
     "name": "stdout",
     "output_type": "stream",
     "text": [
      "Количество аномальных пользователей: 74\n"
     ]
    }
   ],
   "source": [
    "usersWithManyOrders = pd.concat(\n",
    "    [\n",
    "        ordersByUsersA[ordersByUsersA['orders'] >= 3]['userId'],\n",
    "        ordersByUsersB[ordersByUsersB['orders'] >= 3]['userId'],\n",
    "    ],\n",
    "    axis=0,\n",
    ")\n",
    "usersWithExpensiveOrders = orders[orders['revenue'] > 28000]['visitorId']\n",
    "abnormalUsers = (\n",
    "    pd.concat([usersWithManyOrders, usersWithExpensiveOrders], axis=0)\n",
    "    .drop_duplicates()\n",
    "    .sort_values()\n",
    ")\n",
    "\n",
    "print('Количество аномальных пользователей:', abnormalUsers.shape[0])"
   ]
  },
  {
   "cell_type": "markdown",
   "metadata": {},
   "source": [
    "Получилось 74 аномальных пользователя. Теперь можем вычислить статистическую значимость по «очищенным» данным:"
   ]
  },
  {
   "cell_type": "markdown",
   "metadata": {},
   "source": [
    "Сформулируем гипотезы. Нулевая: различий в среднем количестве заказов по «очищенным» данным между группами нет. Альтернативная: различия в среднем количестве заказов по «очищенным» данным между группами есть. Установим уровень статистической значимости 5%."
   ]
  },
  {
   "cell_type": "code",
   "execution_count": 66,
   "metadata": {},
   "outputs": [
    {
     "name": "stdout",
     "output_type": "stream",
     "text": [
      "p-value: 0.01304\n",
      "Отвергаем нулевую гипотезу\n",
      "Относительное различие между группами: 0.173\n"
     ]
    }
   ],
   "source": [
    "sampleAFiltered = pd.concat(\n",
    "    [\n",
    "        ordersByUsersA[\n",
    "            np.logical_not(ordersByUsersA['userId'].isin(abnormalUsers))\n",
    "        ]['orders'],\n",
    "        pd.Series(\n",
    "            0,\n",
    "            index=np.arange(\n",
    "                data['visitorsPerDateA'].sum() - len(ordersByUsersA['orders'])\n",
    "            ),\n",
    "            name='orders',\n",
    "        ),\n",
    "    ],\n",
    "    axis=0,\n",
    ")\n",
    "\n",
    "sampleBFiltered = pd.concat(\n",
    "    [\n",
    "        ordersByUsersB[\n",
    "            np.logical_not(ordersByUsersB['userId'].isin(abnormalUsers))\n",
    "        ]['orders'],\n",
    "        pd.Series(\n",
    "            0,\n",
    "            index=np.arange(\n",
    "                data['visitorsPerDateB'].sum() - len(ordersByUsersB['orders'])\n",
    "            ),\n",
    "            name='orders',\n",
    "        ),\n",
    "    ],\n",
    "    axis=0,\n",
    ")\n",
    "\n",
    "print('p-value:', '{0:.5f}'.format(stats.mannwhitneyu(sampleAFiltered, sampleBFiltered)[1]))\n",
    "\n",
    "if stats.mannwhitneyu(sampleAFiltered, sampleBFiltered)[1] < alpha:\n",
    "    print('Отвергаем нулевую гипотезу')\n",
    "else:\n",
    "    print('Не получилось отвергнуть нулевую гипотезу')\n",
    "\n",
    "print('Относительное различие между группами:', '{0:.3f}'.format(sampleBFiltered.mean()/sampleAFiltered.mean()-1))"
   ]
  },
  {
   "cell_type": "markdown",
   "metadata": {},
   "source": [
    "Так же, как и в случае с \"сырыми данными\", статистическая значимость достигнута. А относительный прирост среднего количества заказов в сравнении с \"сырыми данными\" даже увеличился, составив 17,3%."
   ]
  },
  {
   "cell_type": "markdown",
   "metadata": {},
   "source": [
    "#### Посчитаем статистическую значимость различий в среднем чеке заказа между группами по «очищенным» данным."
   ]
  },
  {
   "cell_type": "markdown",
   "metadata": {},
   "source": [
    "Сформулируем гипотезы. Нулевая: различий в среднем чеке по «очищенным» данным между группами нет. Альтернативная: различия в среднем чеке по «очищенным» данным есть. Установим уровень статистической значимости 5%."
   ]
  },
  {
   "cell_type": "code",
   "execution_count": 68,
   "metadata": {},
   "outputs": [
    {
     "name": "stdout",
     "output_type": "stream",
     "text": [
      "p-value: 0.738\n",
      "Не получилось отвергнуть нулевую гипотезу\n",
      "Относительное различие между группами: -0.020\n"
     ]
    }
   ],
   "source": [
    "results_pvalue = stats.mannwhitneyu(\n",
    "                    orders[\n",
    "                        np.logical_and(\n",
    "                            orders['group'] == 'A',\n",
    "                            np.logical_not(orders['visitorId'].isin(abnormalUsers)),\n",
    "                        )\n",
    "                    ]['revenue'],\n",
    "                    orders[\n",
    "                        np.logical_and(\n",
    "                            orders['group'] == 'B',\n",
    "                            np.logical_not(orders['visitorId'].isin(abnormalUsers)),\n",
    "                        )\n",
    "                    ]['revenue'],\n",
    "                )[1]\n",
    "\n",
    "print('p-value:', '{0:.3f}'.format(results_pvalue))\n",
    "\n",
    "if results_pvalue < alpha:\n",
    "    print('Отвергаем нулевую гипотезу')\n",
    "else:\n",
    "    print('Не получилось отвергнуть нулевую гипотезу')\n",
    "\n",
    "print(\n",
    "    'Относительное различие между группами:',    \n",
    "    \"{0:.3f}\".format(\n",
    "        orders[\n",
    "            np.logical_and(\n",
    "                orders['group'] == 'B',\n",
    "                np.logical_not(orders['visitorId'].isin(abnormalUsers)),\n",
    "            )\n",
    "        ]['revenue'].mean()\n",
    "        / orders[\n",
    "            np.logical_and(\n",
    "                orders['group'] == 'A',\n",
    "                np.logical_not(orders['visitorId'].isin(abnormalUsers)),\n",
    "            )\n",
    "        ]['revenue'].mean()\n",
    "        - 1\n",
    "    )\n",
    ")"
   ]
  },
  {
   "cell_type": "markdown",
   "metadata": {},
   "source": [
    "Статистическая значимость, как и в случае с \"сырыми данными\", не была достигнута, а значит, причин отвергать нулевую гипотезу и считать, что в среднем чеке есть различия, нет. Но после удаления выбросов снизилось различие в средних чеках, которое теперь составляет всего 2% не в пользу сегмента В."
   ]
  },
  {
   "cell_type": "markdown",
   "metadata": {},
   "source": [
    "### Вывод по результатам A/B-теста:"
   ]
  },
  {
   "cell_type": "markdown",
   "metadata": {},
   "source": [
    "#### Сформулируем промежуточные выводы:"
   ]
  },
  {
   "cell_type": "markdown",
   "metadata": {},
   "source": [
    "* Кумулятивная выручка сегмента В стабильно опережала сегмент А на протяжении всего теста. \n",
    "* Сегмент В стабильно был впереди сегмента А по параметру среднего количества заказов.\n",
    "* Уровень прироста среднего количества заказов группы В относительно группы А к концу теста зафиксировался в районе 15%.\n",
    "* С учётом отсева аномальных значений относительный прирост среднего количества заказов группы В к конверсии группы А составил 17,3% и была достигнута статистическая значимость различия между группами.\n",
    "* Однако, статистическая значимость различия между группами по средней величине среднего чека не была достигнута, а значит, причин считать, что в этом аспекте между группами есть различия, нет.\n"
   ]
  },
  {
   "cell_type": "markdown",
   "metadata": {},
   "source": [
    "#### Общий вывод.\n",
    "Если мы рассматриваем выручку как произведение среднего чека на количество заказов, то логично сделать вывод, что при общем увеличении числа заказов и неизменном среднем чеке выручка вырастет пропорционально увеличению числа заказов. Это означает, что тест следует остановить и признать успешным, зафиксировать победу группы B."
   ]
  }
 ],
 "metadata": {
  "ExecuteTimeLog": [
   {
    "duration": 400,
    "start_time": "2023-05-12T14:38:05.687Z"
   },
   {
    "duration": 62,
    "start_time": "2023-05-12T14:38:07.984Z"
   },
   {
    "duration": 13,
    "start_time": "2023-05-12T14:38:09.592Z"
   },
   {
    "duration": 8,
    "start_time": "2023-05-12T14:38:14.591Z"
   },
   {
    "duration": 57,
    "start_time": "2023-05-12T14:44:12.350Z"
   },
   {
    "duration": 58,
    "start_time": "2023-05-12T14:44:22.948Z"
   },
   {
    "duration": 169,
    "start_time": "2023-05-12T14:44:30.860Z"
   },
   {
    "duration": 12,
    "start_time": "2023-05-12T14:44:35.392Z"
   },
   {
    "duration": 8,
    "start_time": "2023-05-12T14:45:09.808Z"
   },
   {
    "duration": 8,
    "start_time": "2023-05-12T15:02:05.016Z"
   },
   {
    "duration": 3,
    "start_time": "2023-05-12T15:11:38.923Z"
   },
   {
    "duration": 3,
    "start_time": "2023-05-12T15:12:54.508Z"
   },
   {
    "duration": 85,
    "start_time": "2023-05-12T15:13:38.995Z"
   },
   {
    "duration": 6,
    "start_time": "2023-05-12T15:16:45.735Z"
   },
   {
    "duration": 6,
    "start_time": "2023-05-12T15:19:04.434Z"
   },
   {
    "duration": 4,
    "start_time": "2023-05-12T15:19:42.241Z"
   },
   {
    "duration": 12,
    "start_time": "2023-05-12T15:20:23.486Z"
   },
   {
    "duration": 11,
    "start_time": "2023-05-12T15:20:45.258Z"
   },
   {
    "duration": 10,
    "start_time": "2023-05-12T15:20:53.155Z"
   },
   {
    "duration": 17,
    "start_time": "2023-05-12T15:21:15.523Z"
   },
   {
    "duration": 14,
    "start_time": "2023-05-12T15:21:49.491Z"
   },
   {
    "duration": 39,
    "start_time": "2023-05-12T15:22:37.991Z"
   },
   {
    "duration": 8,
    "start_time": "2023-05-12T15:28:01.214Z"
   },
   {
    "duration": 12,
    "start_time": "2023-05-12T15:28:47.602Z"
   },
   {
    "duration": 7,
    "start_time": "2023-05-12T15:31:28.659Z"
   },
   {
    "duration": 6,
    "start_time": "2023-05-12T15:31:37.438Z"
   },
   {
    "duration": 7,
    "start_time": "2023-05-12T15:32:12.115Z"
   },
   {
    "duration": 7,
    "start_time": "2023-05-12T15:32:27.619Z"
   },
   {
    "duration": 4,
    "start_time": "2023-05-12T15:42:29.260Z"
   },
   {
    "duration": 16,
    "start_time": "2023-05-12T15:42:33.860Z"
   },
   {
    "duration": 5,
    "start_time": "2023-05-12T15:43:08.155Z"
   },
   {
    "duration": 11,
    "start_time": "2023-05-12T15:43:12.819Z"
   },
   {
    "duration": 9,
    "start_time": "2023-05-12T15:43:29.455Z"
   },
   {
    "duration": 15,
    "start_time": "2023-05-12T15:43:32.591Z"
   },
   {
    "duration": 3,
    "start_time": "2023-05-12T15:45:07.591Z"
   },
   {
    "duration": 12,
    "start_time": "2023-05-12T15:45:09.999Z"
   },
   {
    "duration": 5,
    "start_time": "2023-05-12T15:54:38.091Z"
   },
   {
    "duration": 9,
    "start_time": "2023-05-12T15:54:51.005Z"
   },
   {
    "duration": 10,
    "start_time": "2023-05-12T15:55:21.023Z"
   },
   {
    "duration": 12,
    "start_time": "2023-05-12T16:10:32.758Z"
   },
   {
    "duration": 16,
    "start_time": "2023-05-12T16:11:41.605Z"
   },
   {
    "duration": 13,
    "start_time": "2023-05-12T16:11:52.896Z"
   },
   {
    "duration": 53,
    "start_time": "2023-05-12T16:12:16.856Z"
   },
   {
    "duration": 28,
    "start_time": "2023-05-12T16:12:57.771Z"
   },
   {
    "duration": 11,
    "start_time": "2023-05-12T16:13:48.492Z"
   },
   {
    "duration": 13,
    "start_time": "2023-05-12T16:14:21.657Z"
   },
   {
    "duration": 12,
    "start_time": "2023-05-12T16:14:23.326Z"
   },
   {
    "duration": 3,
    "start_time": "2023-05-12T16:26:53.110Z"
   },
   {
    "duration": 15,
    "start_time": "2023-05-12T16:26:58.928Z"
   },
   {
    "duration": 15,
    "start_time": "2023-05-12T16:27:09.700Z"
   },
   {
    "duration": 10,
    "start_time": "2023-05-12T16:37:36.135Z"
   },
   {
    "duration": 473,
    "start_time": "2023-05-12T16:53:12.053Z"
   },
   {
    "duration": 39,
    "start_time": "2023-05-12T16:56:56.027Z"
   },
   {
    "duration": 688,
    "start_time": "2023-05-12T16:58:12.592Z"
   },
   {
    "duration": 68,
    "start_time": "2023-05-12T16:58:13.285Z"
   },
   {
    "duration": 13,
    "start_time": "2023-05-12T16:58:13.355Z"
   },
   {
    "duration": 25,
    "start_time": "2023-05-12T16:58:13.369Z"
   },
   {
    "duration": 8,
    "start_time": "2023-05-12T16:58:13.397Z"
   },
   {
    "duration": 4,
    "start_time": "2023-05-12T16:58:13.407Z"
   },
   {
    "duration": 13,
    "start_time": "2023-05-12T16:58:13.412Z"
   },
   {
    "duration": 11,
    "start_time": "2023-05-12T16:58:13.427Z"
   },
   {
    "duration": 9,
    "start_time": "2023-05-12T16:58:13.439Z"
   },
   {
    "duration": 10,
    "start_time": "2023-05-12T16:58:13.450Z"
   },
   {
    "duration": 12,
    "start_time": "2023-05-12T16:58:13.475Z"
   },
   {
    "duration": 7,
    "start_time": "2023-05-12T16:58:13.492Z"
   },
   {
    "duration": 6,
    "start_time": "2023-05-12T16:58:13.501Z"
   },
   {
    "duration": 5,
    "start_time": "2023-05-12T16:58:13.509Z"
   },
   {
    "duration": 12,
    "start_time": "2023-05-12T16:58:13.516Z"
   },
   {
    "duration": 11,
    "start_time": "2023-05-12T16:58:13.530Z"
   },
   {
    "duration": 111,
    "start_time": "2023-05-12T16:58:19.529Z"
   },
   {
    "duration": 680,
    "start_time": "2023-05-12T16:59:13.971Z"
   },
   {
    "duration": 610,
    "start_time": "2023-05-12T16:59:43.389Z"
   },
   {
    "duration": 594,
    "start_time": "2023-05-12T17:00:07.673Z"
   },
   {
    "duration": 175,
    "start_time": "2023-05-12T17:03:02.530Z"
   },
   {
    "duration": 243,
    "start_time": "2023-05-12T17:03:25.371Z"
   },
   {
    "duration": 300,
    "start_time": "2023-05-12T17:07:33.578Z"
   },
   {
    "duration": 346,
    "start_time": "2023-05-12T17:08:22.987Z"
   },
   {
    "duration": 199,
    "start_time": "2023-05-12T17:10:31.017Z"
   },
   {
    "duration": 290,
    "start_time": "2023-05-12T17:11:05.425Z"
   },
   {
    "duration": 853,
    "start_time": "2023-05-13T07:14:29.522Z"
   },
   {
    "duration": 248,
    "start_time": "2023-05-13T07:14:30.377Z"
   },
   {
    "duration": 15,
    "start_time": "2023-05-13T07:14:30.627Z"
   },
   {
    "duration": 37,
    "start_time": "2023-05-13T07:14:30.644Z"
   },
   {
    "duration": 43,
    "start_time": "2023-05-13T07:14:30.685Z"
   },
   {
    "duration": 35,
    "start_time": "2023-05-13T07:14:30.730Z"
   },
   {
    "duration": 41,
    "start_time": "2023-05-13T07:14:30.769Z"
   },
   {
    "duration": 52,
    "start_time": "2023-05-13T07:14:30.812Z"
   },
   {
    "duration": 47,
    "start_time": "2023-05-13T07:14:30.865Z"
   },
   {
    "duration": 55,
    "start_time": "2023-05-13T07:14:30.914Z"
   },
   {
    "duration": 31,
    "start_time": "2023-05-13T07:14:30.981Z"
   },
   {
    "duration": 13,
    "start_time": "2023-05-13T07:14:31.014Z"
   },
   {
    "duration": 46,
    "start_time": "2023-05-13T07:14:31.029Z"
   },
   {
    "duration": 23,
    "start_time": "2023-05-13T07:14:31.082Z"
   },
   {
    "duration": 27,
    "start_time": "2023-05-13T07:14:31.107Z"
   },
   {
    "duration": 29,
    "start_time": "2023-05-13T07:14:31.136Z"
   },
   {
    "duration": 760,
    "start_time": "2023-05-13T07:14:31.167Z"
   },
   {
    "duration": 293,
    "start_time": "2023-05-13T07:14:31.929Z"
   },
   {
    "duration": 417,
    "start_time": "2023-05-13T07:14:32.224Z"
   },
   {
    "duration": 341,
    "start_time": "2023-05-13T07:14:32.643Z"
   },
   {
    "duration": 527,
    "start_time": "2023-05-13T07:15:46.880Z"
   },
   {
    "duration": 200,
    "start_time": "2023-05-13T07:16:08.301Z"
   },
   {
    "duration": 295,
    "start_time": "2023-05-13T07:16:10.383Z"
   },
   {
    "duration": 246,
    "start_time": "2023-05-13T07:16:12.243Z"
   },
   {
    "duration": 10,
    "start_time": "2023-05-13T07:20:09.399Z"
   },
   {
    "duration": 530,
    "start_time": "2023-05-13T07:20:13.350Z"
   },
   {
    "duration": 224,
    "start_time": "2023-05-13T07:27:47.675Z"
   },
   {
    "duration": 42,
    "start_time": "2023-05-13T07:43:27.283Z"
   },
   {
    "duration": 413,
    "start_time": "2023-05-13T07:53:05.412Z"
   },
   {
    "duration": 69,
    "start_time": "2023-05-13T08:09:06.964Z"
   },
   {
    "duration": 8,
    "start_time": "2023-05-13T08:10:21.463Z"
   },
   {
    "duration": 132,
    "start_time": "2023-05-13T08:10:46.971Z"
   },
   {
    "duration": 53,
    "start_time": "2023-05-13T08:12:50.432Z"
   },
   {
    "duration": 5,
    "start_time": "2023-05-13T10:29:19.874Z"
   },
   {
    "duration": 128,
    "start_time": "2023-05-13T10:32:21.350Z"
   },
   {
    "duration": 215,
    "start_time": "2023-05-13T10:32:46.273Z"
   },
   {
    "duration": 155,
    "start_time": "2023-05-13T10:33:12.082Z"
   },
   {
    "duration": 157,
    "start_time": "2023-05-13T10:33:18.978Z"
   },
   {
    "duration": 7,
    "start_time": "2023-05-13T10:38:36.554Z"
   },
   {
    "duration": 6,
    "start_time": "2023-05-13T10:39:04.620Z"
   },
   {
    "duration": 5,
    "start_time": "2023-05-13T10:41:16.173Z"
   },
   {
    "duration": 120,
    "start_time": "2023-05-13T10:55:00.972Z"
   },
   {
    "duration": 220,
    "start_time": "2023-05-13T10:56:23.065Z"
   },
   {
    "duration": 10,
    "start_time": "2023-05-13T10:56:56.639Z"
   },
   {
    "duration": 60,
    "start_time": "2023-05-13T10:57:56.647Z"
   },
   {
    "duration": 16,
    "start_time": "2023-05-13T11:02:43.667Z"
   },
   {
    "duration": 14,
    "start_time": "2023-05-13T11:03:37.614Z"
   },
   {
    "duration": 161,
    "start_time": "2023-05-13T11:03:45.210Z"
   },
   {
    "duration": 4,
    "start_time": "2023-05-13T11:04:30.957Z"
   },
   {
    "duration": 156,
    "start_time": "2023-05-13T11:04:37.043Z"
   },
   {
    "duration": 475,
    "start_time": "2023-05-13T11:05:23.723Z"
   },
   {
    "duration": 156,
    "start_time": "2023-05-13T11:05:28.838Z"
   },
   {
    "duration": 1275,
    "start_time": "2023-05-13T14:54:19.794Z"
   },
   {
    "duration": 194,
    "start_time": "2023-05-13T14:54:21.076Z"
   },
   {
    "duration": 17,
    "start_time": "2023-05-13T14:54:21.272Z"
   },
   {
    "duration": 8,
    "start_time": "2023-05-13T14:54:21.290Z"
   },
   {
    "duration": 9,
    "start_time": "2023-05-13T14:54:21.299Z"
   },
   {
    "duration": 4,
    "start_time": "2023-05-13T14:54:21.309Z"
   },
   {
    "duration": 14,
    "start_time": "2023-05-13T14:54:21.314Z"
   },
   {
    "duration": 10,
    "start_time": "2023-05-13T14:54:21.329Z"
   },
   {
    "duration": 15,
    "start_time": "2023-05-13T14:54:21.358Z"
   },
   {
    "duration": 6,
    "start_time": "2023-05-13T14:54:21.375Z"
   },
   {
    "duration": 8,
    "start_time": "2023-05-13T14:54:21.382Z"
   },
   {
    "duration": 7,
    "start_time": "2023-05-13T14:54:21.391Z"
   },
   {
    "duration": 7,
    "start_time": "2023-05-13T14:54:21.399Z"
   },
   {
    "duration": 5,
    "start_time": "2023-05-13T14:54:21.407Z"
   },
   {
    "duration": 51,
    "start_time": "2023-05-13T14:54:21.414Z"
   },
   {
    "duration": 13,
    "start_time": "2023-05-13T14:54:21.467Z"
   },
   {
    "duration": 588,
    "start_time": "2023-05-13T14:54:21.482Z"
   },
   {
    "duration": 197,
    "start_time": "2023-05-13T14:54:22.072Z"
   },
   {
    "duration": 309,
    "start_time": "2023-05-13T14:54:22.272Z"
   },
   {
    "duration": 212,
    "start_time": "2023-05-13T14:54:22.582Z"
   },
   {
    "duration": 308,
    "start_time": "2023-05-13T14:54:22.795Z"
   },
   {
    "duration": 135,
    "start_time": "2023-05-13T14:54:23.105Z"
   },
   {
    "duration": 5,
    "start_time": "2023-05-13T14:54:23.242Z"
   },
   {
    "duration": 150,
    "start_time": "2023-05-13T14:54:23.256Z"
   },
   {
    "duration": 5,
    "start_time": "2023-05-13T14:54:23.408Z"
   },
   {
    "duration": 229,
    "start_time": "2023-05-13T14:54:23.415Z"
   },
   {
    "duration": 211,
    "start_time": "2023-05-13T14:54:23.646Z"
   },
   {
    "duration": 19,
    "start_time": "2023-05-13T14:57:41.453Z"
   },
   {
    "duration": 809,
    "start_time": "2023-05-13T15:04:39.642Z"
   },
   {
    "duration": 691,
    "start_time": "2023-05-13T15:04:55.916Z"
   },
   {
    "duration": 779,
    "start_time": "2023-05-13T15:05:56.709Z"
   },
   {
    "duration": 8,
    "start_time": "2023-05-13T15:06:07.342Z"
   },
   {
    "duration": 12,
    "start_time": "2023-05-13T15:06:42.487Z"
   },
   {
    "duration": 10,
    "start_time": "2023-05-13T15:06:50.123Z"
   },
   {
    "duration": 13,
    "start_time": "2023-05-13T15:07:05.674Z"
   },
   {
    "duration": 29,
    "start_time": "2023-05-13T15:09:54.793Z"
   },
   {
    "duration": 685,
    "start_time": "2023-05-13T15:18:38.219Z"
   },
   {
    "duration": 14,
    "start_time": "2023-05-13T15:19:00.384Z"
   },
   {
    "duration": 53,
    "start_time": "2023-05-13T16:24:54.680Z"
   },
   {
    "duration": 58,
    "start_time": "2023-05-13T19:04:03.969Z"
   },
   {
    "duration": 1228,
    "start_time": "2023-05-13T19:04:28.884Z"
   },
   {
    "duration": 88,
    "start_time": "2023-05-13T19:04:30.114Z"
   },
   {
    "duration": 13,
    "start_time": "2023-05-13T19:04:30.204Z"
   },
   {
    "duration": 27,
    "start_time": "2023-05-13T19:04:30.219Z"
   },
   {
    "duration": 52,
    "start_time": "2023-05-13T19:04:30.249Z"
   },
   {
    "duration": 44,
    "start_time": "2023-05-13T19:04:30.303Z"
   },
   {
    "duration": 60,
    "start_time": "2023-05-13T19:04:30.349Z"
   },
   {
    "duration": 69,
    "start_time": "2023-05-13T19:04:30.411Z"
   },
   {
    "duration": 54,
    "start_time": "2023-05-13T19:04:30.482Z"
   },
   {
    "duration": 68,
    "start_time": "2023-05-13T19:04:30.537Z"
   },
   {
    "duration": 38,
    "start_time": "2023-05-13T19:04:30.607Z"
   },
   {
    "duration": 51,
    "start_time": "2023-05-13T19:04:30.646Z"
   },
   {
    "duration": 47,
    "start_time": "2023-05-13T19:04:30.698Z"
   },
   {
    "duration": 42,
    "start_time": "2023-05-13T19:04:30.748Z"
   },
   {
    "duration": 62,
    "start_time": "2023-05-13T19:04:30.792Z"
   },
   {
    "duration": 35,
    "start_time": "2023-05-13T19:04:30.856Z"
   },
   {
    "duration": 622,
    "start_time": "2023-05-13T19:04:30.893Z"
   },
   {
    "duration": 248,
    "start_time": "2023-05-13T19:04:31.517Z"
   },
   {
    "duration": 350,
    "start_time": "2023-05-13T19:04:31.767Z"
   },
   {
    "duration": 245,
    "start_time": "2023-05-13T19:04:32.120Z"
   },
   {
    "duration": 372,
    "start_time": "2023-05-13T19:04:32.367Z"
   },
   {
    "duration": 152,
    "start_time": "2023-05-13T19:04:32.742Z"
   },
   {
    "duration": 6,
    "start_time": "2023-05-13T19:04:32.895Z"
   },
   {
    "duration": 158,
    "start_time": "2023-05-13T19:04:32.902Z"
   },
   {
    "duration": 15,
    "start_time": "2023-05-13T19:04:33.062Z"
   },
   {
    "duration": 234,
    "start_time": "2023-05-13T19:04:33.082Z"
   },
   {
    "duration": 168,
    "start_time": "2023-05-13T19:04:33.318Z"
   },
   {
    "duration": 14,
    "start_time": "2023-05-13T19:04:33.488Z"
   },
   {
    "duration": 11,
    "start_time": "2023-05-13T19:04:33.505Z"
   },
   {
    "duration": 35,
    "start_time": "2023-05-13T19:04:33.518Z"
   },
   {
    "duration": 33,
    "start_time": "2023-05-13T19:04:33.555Z"
   },
   {
    "duration": 1397,
    "start_time": "2023-05-14T06:24:41.177Z"
   },
   {
    "duration": 276,
    "start_time": "2023-05-14T06:24:42.576Z"
   },
   {
    "duration": 16,
    "start_time": "2023-05-14T06:24:42.855Z"
   },
   {
    "duration": 24,
    "start_time": "2023-05-14T06:24:42.874Z"
   },
   {
    "duration": 14,
    "start_time": "2023-05-14T06:24:42.906Z"
   },
   {
    "duration": 8,
    "start_time": "2023-05-14T06:24:42.921Z"
   },
   {
    "duration": 14,
    "start_time": "2023-05-14T06:24:42.931Z"
   },
   {
    "duration": 16,
    "start_time": "2023-05-14T06:24:42.947Z"
   },
   {
    "duration": 18,
    "start_time": "2023-05-14T06:24:42.966Z"
   },
   {
    "duration": 27,
    "start_time": "2023-05-14T06:24:42.987Z"
   },
   {
    "duration": 11,
    "start_time": "2023-05-14T06:24:43.016Z"
   },
   {
    "duration": 7,
    "start_time": "2023-05-14T06:24:43.029Z"
   },
   {
    "duration": 15,
    "start_time": "2023-05-14T06:24:43.038Z"
   },
   {
    "duration": 6,
    "start_time": "2023-05-14T06:24:43.055Z"
   },
   {
    "duration": 33,
    "start_time": "2023-05-14T06:24:43.063Z"
   },
   {
    "duration": 20,
    "start_time": "2023-05-14T06:24:43.097Z"
   },
   {
    "duration": 630,
    "start_time": "2023-05-14T06:24:43.119Z"
   },
   {
    "duration": 224,
    "start_time": "2023-05-14T06:24:43.751Z"
   },
   {
    "duration": 381,
    "start_time": "2023-05-14T06:24:43.978Z"
   },
   {
    "duration": 233,
    "start_time": "2023-05-14T06:24:44.361Z"
   },
   {
    "duration": 375,
    "start_time": "2023-05-14T06:24:44.602Z"
   },
   {
    "duration": 201,
    "start_time": "2023-05-14T06:24:44.979Z"
   },
   {
    "duration": 6,
    "start_time": "2023-05-14T06:24:45.184Z"
   },
   {
    "duration": 175,
    "start_time": "2023-05-14T06:24:45.192Z"
   },
   {
    "duration": 7,
    "start_time": "2023-05-14T06:24:45.368Z"
   },
   {
    "duration": 258,
    "start_time": "2023-05-14T06:24:45.386Z"
   },
   {
    "duration": 195,
    "start_time": "2023-05-14T06:24:45.646Z"
   },
   {
    "duration": 11,
    "start_time": "2023-05-14T06:24:45.844Z"
   },
   {
    "duration": 10,
    "start_time": "2023-05-14T06:24:45.857Z"
   },
   {
    "duration": 75,
    "start_time": "2023-05-14T06:24:45.869Z"
   },
   {
    "duration": 18,
    "start_time": "2023-05-14T06:24:45.946Z"
   },
   {
    "duration": 97,
    "start_time": "2023-05-14T06:26:24.920Z"
   },
   {
    "duration": 9,
    "start_time": "2023-05-14T06:26:30.217Z"
   },
   {
    "duration": 6,
    "start_time": "2023-05-14T06:26:36.736Z"
   },
   {
    "duration": 8,
    "start_time": "2023-05-14T06:26:43.044Z"
   },
   {
    "duration": 6,
    "start_time": "2023-05-14T06:27:25.064Z"
   },
   {
    "duration": 8,
    "start_time": "2023-05-14T06:27:28.824Z"
   },
   {
    "duration": 182,
    "start_time": "2023-05-14T06:31:58.284Z"
   },
   {
    "duration": 164,
    "start_time": "2023-05-14T06:35:51.245Z"
   },
   {
    "duration": 125,
    "start_time": "2023-05-14T06:36:06.736Z"
   },
   {
    "duration": 129,
    "start_time": "2023-05-14T06:43:37.885Z"
   },
   {
    "duration": 425,
    "start_time": "2023-05-14T06:47:04.755Z"
   },
   {
    "duration": 461,
    "start_time": "2023-05-14T06:47:49.849Z"
   },
   {
    "duration": 400,
    "start_time": "2023-05-14T06:50:10.656Z"
   },
   {
    "duration": 197,
    "start_time": "2023-05-14T06:50:54.156Z"
   },
   {
    "duration": 175,
    "start_time": "2023-05-14T06:52:07.589Z"
   },
   {
    "duration": 289,
    "start_time": "2023-05-14T06:52:47.010Z"
   },
   {
    "duration": 197,
    "start_time": "2023-05-14T06:57:41.610Z"
   },
   {
    "duration": 205,
    "start_time": "2023-05-14T06:57:49.172Z"
   },
   {
    "duration": 349,
    "start_time": "2023-05-14T07:06:37.180Z"
   },
   {
    "duration": 330,
    "start_time": "2023-05-14T07:08:53.592Z"
   },
   {
    "duration": 339,
    "start_time": "2023-05-14T07:11:07.014Z"
   },
   {
    "duration": 338,
    "start_time": "2023-05-14T07:11:33.058Z"
   },
   {
    "duration": 250,
    "start_time": "2023-05-14T07:13:25.390Z"
   },
   {
    "duration": 161,
    "start_time": "2023-05-14T07:15:06.987Z"
   },
   {
    "duration": 134,
    "start_time": "2023-05-14T07:15:16.863Z"
   },
   {
    "duration": 135,
    "start_time": "2023-05-14T07:16:16.615Z"
   },
   {
    "duration": 131,
    "start_time": "2023-05-14T07:19:27.152Z"
   },
   {
    "duration": 136,
    "start_time": "2023-05-14T07:20:07.208Z"
   },
   {
    "duration": 129,
    "start_time": "2023-05-14T07:20:40.873Z"
   },
   {
    "duration": 140,
    "start_time": "2023-05-14T07:29:41.677Z"
   },
   {
    "duration": 142,
    "start_time": "2023-05-14T07:32:03.732Z"
   },
   {
    "duration": 152,
    "start_time": "2023-05-14T07:32:26.210Z"
   },
   {
    "duration": 25,
    "start_time": "2023-05-14T07:35:52.673Z"
   },
   {
    "duration": 9,
    "start_time": "2023-05-14T07:39:57.446Z"
   },
   {
    "duration": 54,
    "start_time": "2023-05-14T07:40:25.945Z"
   },
   {
    "duration": 13,
    "start_time": "2023-05-14T07:45:38.209Z"
   },
   {
    "duration": 14,
    "start_time": "2023-05-14T07:47:06.842Z"
   }
  ],
  "kernelspec": {
   "display_name": "Python 3 (ipykernel)",
   "language": "python",
   "name": "python3"
  },
  "language_info": {
   "codemirror_mode": {
    "name": "ipython",
    "version": 3
   },
   "file_extension": ".py",
   "mimetype": "text/x-python",
   "name": "python",
   "nbconvert_exporter": "python",
   "pygments_lexer": "ipython3",
   "version": "3.10.9"
  },
  "toc": {
   "base_numbering": 1,
   "nav_menu": {},
   "number_sections": true,
   "sideBar": true,
   "skip_h1_title": true,
   "title_cell": "Table of Contents",
   "title_sidebar": "Contents",
   "toc_cell": false,
   "toc_position": {},
   "toc_section_display": true,
   "toc_window_display": false
  }
 },
 "nbformat": 4,
 "nbformat_minor": 2
}
