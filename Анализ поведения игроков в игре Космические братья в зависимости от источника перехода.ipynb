{
 "cells": [
  {
   "cell_type": "markdown",
   "metadata": {},
   "source": [
    "# Материалы\n",
    "* [Презентация](https://drive.google.com/file/d/1ueANgU-yn36WSoLGji5Yg8f1JGXWmcOY/view?usp=sharing)"
   ]
  },
  {
   "cell_type": "markdown",
   "metadata": {},
   "source": [
    "# Анализ поведения игроков в игре \"Космические братья\" в зависимости от источника перехода."
   ]
  },
  {
   "cell_type": "markdown",
   "metadata": {},
   "source": [
    "**Цель исследования** — изучить влияние источника перехода в игру на поведение пользователей. Провести анализ данных, проверить статистические гипотезы и определить эффективность рекламных каналов.\n",
    "**Ход исследования**: Работа пройдёт в несколько этапов:\n",
    "* Загрузка и предобработка данных\n",
    "* Исследовательский анализ\n",
    "* Проверка статистических гипотез\n",
    "* Презентация\n",
    "* Дашборд"
   ]
  },
  {
   "cell_type": "markdown",
   "metadata": {},
   "source": [
    "### Подготовка и предобработка данных"
   ]
  },
  {
   "cell_type": "markdown",
   "metadata": {},
   "source": [
    "Для начала импортируем необходимые библиотеки:"
   ]
  },
  {
   "cell_type": "code",
   "execution_count": 1,
   "metadata": {},
   "outputs": [],
   "source": [
    "import pandas as pd\n",
    "import seaborn as sns\n",
    "import plotly.express as px\n",
    "import datetime as dt\n",
    "import numpy as np\n",
    "import scipy.stats as stats\n",
    "import matplotlib.pyplot as plt\n",
    "import plotly.graph_objects as go"
   ]
  },
  {
   "cell_type": "markdown",
   "metadata": {},
   "source": [
    "#### Загрузим датасеты из CSV-файлов и выведем общую информацию о них:"
   ]
  },
  {
   "cell_type": "code",
   "execution_count": 2,
   "metadata": {},
   "outputs": [],
   "source": [
    "ad_costs = pd.read_csv('https://code.s3.yandex.net/datasets/ad_costs.csv')\n",
    "game_actions = pd.read_csv('https://code.s3.yandex.net/datasets/game_actions.csv')\n",
    "user_source = pd.read_csv('https://code.s3.yandex.net/datasets/user_source.csv')"
   ]
  },
  {
   "cell_type": "code",
   "execution_count": 3,
   "metadata": {},
   "outputs": [
    {
     "data": {
      "text/html": [
       "<div>\n",
       "<style scoped>\n",
       "    .dataframe tbody tr th:only-of-type {\n",
       "        vertical-align: middle;\n",
       "    }\n",
       "\n",
       "    .dataframe tbody tr th {\n",
       "        vertical-align: top;\n",
       "    }\n",
       "\n",
       "    .dataframe thead th {\n",
       "        text-align: right;\n",
       "    }\n",
       "</style>\n",
       "<table border=\"1\" class=\"dataframe\">\n",
       "  <thead>\n",
       "    <tr style=\"text-align: right;\">\n",
       "      <th></th>\n",
       "      <th>source</th>\n",
       "      <th>day</th>\n",
       "      <th>cost</th>\n",
       "    </tr>\n",
       "  </thead>\n",
       "  <tbody>\n",
       "    <tr>\n",
       "      <th>0</th>\n",
       "      <td>facebook_ads</td>\n",
       "      <td>2020-05-03</td>\n",
       "      <td>935.882786</td>\n",
       "    </tr>\n",
       "    <tr>\n",
       "      <th>1</th>\n",
       "      <td>facebook_ads</td>\n",
       "      <td>2020-05-04</td>\n",
       "      <td>548.354480</td>\n",
       "    </tr>\n",
       "    <tr>\n",
       "      <th>2</th>\n",
       "      <td>facebook_ads</td>\n",
       "      <td>2020-05-05</td>\n",
       "      <td>260.185754</td>\n",
       "    </tr>\n",
       "    <tr>\n",
       "      <th>3</th>\n",
       "      <td>facebook_ads</td>\n",
       "      <td>2020-05-06</td>\n",
       "      <td>177.982200</td>\n",
       "    </tr>\n",
       "    <tr>\n",
       "      <th>4</th>\n",
       "      <td>facebook_ads</td>\n",
       "      <td>2020-05-07</td>\n",
       "      <td>111.766796</td>\n",
       "    </tr>\n",
       "    <tr>\n",
       "      <th>5</th>\n",
       "      <td>facebook_ads</td>\n",
       "      <td>2020-05-08</td>\n",
       "      <td>68.009276</td>\n",
       "    </tr>\n",
       "    <tr>\n",
       "      <th>6</th>\n",
       "      <td>facebook_ads</td>\n",
       "      <td>2020-05-09</td>\n",
       "      <td>38.723350</td>\n",
       "    </tr>\n",
       "    <tr>\n",
       "      <th>7</th>\n",
       "      <td>instagram_new_adverts</td>\n",
       "      <td>2020-05-03</td>\n",
       "      <td>943.204717</td>\n",
       "    </tr>\n",
       "    <tr>\n",
       "      <th>8</th>\n",
       "      <td>instagram_new_adverts</td>\n",
       "      <td>2020-05-04</td>\n",
       "      <td>502.925451</td>\n",
       "    </tr>\n",
       "    <tr>\n",
       "      <th>9</th>\n",
       "      <td>instagram_new_adverts</td>\n",
       "      <td>2020-05-05</td>\n",
       "      <td>313.970984</td>\n",
       "    </tr>\n",
       "    <tr>\n",
       "      <th>10</th>\n",
       "      <td>instagram_new_adverts</td>\n",
       "      <td>2020-05-06</td>\n",
       "      <td>173.071145</td>\n",
       "    </tr>\n",
       "    <tr>\n",
       "      <th>11</th>\n",
       "      <td>instagram_new_adverts</td>\n",
       "      <td>2020-05-07</td>\n",
       "      <td>109.915254</td>\n",
       "    </tr>\n",
       "    <tr>\n",
       "      <th>12</th>\n",
       "      <td>instagram_new_adverts</td>\n",
       "      <td>2020-05-08</td>\n",
       "      <td>71.578739</td>\n",
       "    </tr>\n",
       "    <tr>\n",
       "      <th>13</th>\n",
       "      <td>instagram_new_adverts</td>\n",
       "      <td>2020-05-09</td>\n",
       "      <td>46.775400</td>\n",
       "    </tr>\n",
       "    <tr>\n",
       "      <th>14</th>\n",
       "      <td>yandex_direct</td>\n",
       "      <td>2020-05-03</td>\n",
       "      <td>969.139394</td>\n",
       "    </tr>\n",
       "    <tr>\n",
       "      <th>15</th>\n",
       "      <td>yandex_direct</td>\n",
       "      <td>2020-05-04</td>\n",
       "      <td>554.651494</td>\n",
       "    </tr>\n",
       "    <tr>\n",
       "      <th>16</th>\n",
       "      <td>yandex_direct</td>\n",
       "      <td>2020-05-05</td>\n",
       "      <td>308.232990</td>\n",
       "    </tr>\n",
       "    <tr>\n",
       "      <th>17</th>\n",
       "      <td>yandex_direct</td>\n",
       "      <td>2020-05-06</td>\n",
       "      <td>180.917099</td>\n",
       "    </tr>\n",
       "    <tr>\n",
       "      <th>18</th>\n",
       "      <td>yandex_direct</td>\n",
       "      <td>2020-05-07</td>\n",
       "      <td>114.429338</td>\n",
       "    </tr>\n",
       "    <tr>\n",
       "      <th>19</th>\n",
       "      <td>yandex_direct</td>\n",
       "      <td>2020-05-08</td>\n",
       "      <td>62.961630</td>\n",
       "    </tr>\n",
       "    <tr>\n",
       "      <th>20</th>\n",
       "      <td>yandex_direct</td>\n",
       "      <td>2020-05-09</td>\n",
       "      <td>42.779505</td>\n",
       "    </tr>\n",
       "    <tr>\n",
       "      <th>21</th>\n",
       "      <td>youtube_channel_reklama</td>\n",
       "      <td>2020-05-03</td>\n",
       "      <td>454.224943</td>\n",
       "    </tr>\n",
       "    <tr>\n",
       "      <th>22</th>\n",
       "      <td>youtube_channel_reklama</td>\n",
       "      <td>2020-05-04</td>\n",
       "      <td>259.073224</td>\n",
       "    </tr>\n",
       "    <tr>\n",
       "      <th>23</th>\n",
       "      <td>youtube_channel_reklama</td>\n",
       "      <td>2020-05-05</td>\n",
       "      <td>147.041741</td>\n",
       "    </tr>\n",
       "    <tr>\n",
       "      <th>24</th>\n",
       "      <td>youtube_channel_reklama</td>\n",
       "      <td>2020-05-06</td>\n",
       "      <td>88.506074</td>\n",
       "    </tr>\n",
       "    <tr>\n",
       "      <th>25</th>\n",
       "      <td>youtube_channel_reklama</td>\n",
       "      <td>2020-05-07</td>\n",
       "      <td>55.740645</td>\n",
       "    </tr>\n",
       "    <tr>\n",
       "      <th>26</th>\n",
       "      <td>youtube_channel_reklama</td>\n",
       "      <td>2020-05-08</td>\n",
       "      <td>40.217907</td>\n",
       "    </tr>\n",
       "    <tr>\n",
       "      <th>27</th>\n",
       "      <td>youtube_channel_reklama</td>\n",
       "      <td>2020-05-09</td>\n",
       "      <td>23.314669</td>\n",
       "    </tr>\n",
       "  </tbody>\n",
       "</table>\n",
       "</div>"
      ],
      "text/plain": [
       "                     source         day        cost\n",
       "0              facebook_ads  2020-05-03  935.882786\n",
       "1              facebook_ads  2020-05-04  548.354480\n",
       "2              facebook_ads  2020-05-05  260.185754\n",
       "3              facebook_ads  2020-05-06  177.982200\n",
       "4              facebook_ads  2020-05-07  111.766796\n",
       "5              facebook_ads  2020-05-08   68.009276\n",
       "6              facebook_ads  2020-05-09   38.723350\n",
       "7     instagram_new_adverts  2020-05-03  943.204717\n",
       "8     instagram_new_adverts  2020-05-04  502.925451\n",
       "9     instagram_new_adverts  2020-05-05  313.970984\n",
       "10    instagram_new_adverts  2020-05-06  173.071145\n",
       "11    instagram_new_adverts  2020-05-07  109.915254\n",
       "12    instagram_new_adverts  2020-05-08   71.578739\n",
       "13    instagram_new_adverts  2020-05-09   46.775400\n",
       "14            yandex_direct  2020-05-03  969.139394\n",
       "15            yandex_direct  2020-05-04  554.651494\n",
       "16            yandex_direct  2020-05-05  308.232990\n",
       "17            yandex_direct  2020-05-06  180.917099\n",
       "18            yandex_direct  2020-05-07  114.429338\n",
       "19            yandex_direct  2020-05-08   62.961630\n",
       "20            yandex_direct  2020-05-09   42.779505\n",
       "21  youtube_channel_reklama  2020-05-03  454.224943\n",
       "22  youtube_channel_reklama  2020-05-04  259.073224\n",
       "23  youtube_channel_reklama  2020-05-05  147.041741\n",
       "24  youtube_channel_reklama  2020-05-06   88.506074\n",
       "25  youtube_channel_reklama  2020-05-07   55.740645\n",
       "26  youtube_channel_reklama  2020-05-08   40.217907\n",
       "27  youtube_channel_reklama  2020-05-09   23.314669"
      ]
     },
     "execution_count": 3,
     "metadata": {},
     "output_type": "execute_result"
    }
   ],
   "source": [
    "ad_costs"
   ]
  },
  {
   "cell_type": "code",
   "execution_count": 4,
   "metadata": {},
   "outputs": [
    {
     "name": "stdout",
     "output_type": "stream",
     "text": [
      "<class 'pandas.core.frame.DataFrame'>\n",
      "RangeIndex: 28 entries, 0 to 27\n",
      "Data columns (total 3 columns):\n",
      " #   Column  Non-Null Count  Dtype  \n",
      "---  ------  --------------  -----  \n",
      " 0   source  28 non-null     object \n",
      " 1   day     28 non-null     object \n",
      " 2   cost    28 non-null     float64\n",
      "dtypes: float64(1), object(2)\n",
      "memory usage: 800.0+ bytes\n"
     ]
    }
   ],
   "source": [
    "ad_costs.info()"
   ]
  },
  {
   "cell_type": "markdown",
   "metadata": {},
   "source": [
    "Видим, что в датасете содержится информация о четырёх рекламных источниках и стоимости кликов по ним. Типы столбцов — ``object`` и ``float64``. Можем заметить, что столбец с датой нуждается в переводе в формат ``datetime``."
   ]
  },
  {
   "cell_type": "code",
   "execution_count": 5,
   "metadata": {},
   "outputs": [
    {
     "data": {
      "text/html": [
       "<div>\n",
       "<style scoped>\n",
       "    .dataframe tbody tr th:only-of-type {\n",
       "        vertical-align: middle;\n",
       "    }\n",
       "\n",
       "    .dataframe tbody tr th {\n",
       "        vertical-align: top;\n",
       "    }\n",
       "\n",
       "    .dataframe thead th {\n",
       "        text-align: right;\n",
       "    }\n",
       "</style>\n",
       "<table border=\"1\" class=\"dataframe\">\n",
       "  <thead>\n",
       "    <tr style=\"text-align: right;\">\n",
       "      <th></th>\n",
       "      <th>event_datetime</th>\n",
       "      <th>event</th>\n",
       "      <th>building_type</th>\n",
       "      <th>user_id</th>\n",
       "      <th>project_type</th>\n",
       "    </tr>\n",
       "  </thead>\n",
       "  <tbody>\n",
       "    <tr>\n",
       "      <th>0</th>\n",
       "      <td>2020-05-04 00:00:01</td>\n",
       "      <td>building</td>\n",
       "      <td>assembly_shop</td>\n",
       "      <td>55e92310-cb8e-4754-b622-597e124b03de</td>\n",
       "      <td>NaN</td>\n",
       "    </tr>\n",
       "    <tr>\n",
       "      <th>1</th>\n",
       "      <td>2020-05-04 00:00:03</td>\n",
       "      <td>building</td>\n",
       "      <td>assembly_shop</td>\n",
       "      <td>c07b1c10-f477-44dc-81dc-ec82254b1347</td>\n",
       "      <td>NaN</td>\n",
       "    </tr>\n",
       "    <tr>\n",
       "      <th>2</th>\n",
       "      <td>2020-05-04 00:00:16</td>\n",
       "      <td>building</td>\n",
       "      <td>assembly_shop</td>\n",
       "      <td>6edd42cc-e753-4ff6-a947-2107cd560710</td>\n",
       "      <td>NaN</td>\n",
       "    </tr>\n",
       "    <tr>\n",
       "      <th>3</th>\n",
       "      <td>2020-05-04 00:00:16</td>\n",
       "      <td>building</td>\n",
       "      <td>assembly_shop</td>\n",
       "      <td>92c69003-d60a-444a-827f-8cc51bf6bf4c</td>\n",
       "      <td>NaN</td>\n",
       "    </tr>\n",
       "    <tr>\n",
       "      <th>4</th>\n",
       "      <td>2020-05-04 00:00:35</td>\n",
       "      <td>building</td>\n",
       "      <td>assembly_shop</td>\n",
       "      <td>cdc6bb92-0ccb-4490-9866-ef142f09139d</td>\n",
       "      <td>NaN</td>\n",
       "    </tr>\n",
       "  </tbody>\n",
       "</table>\n",
       "</div>"
      ],
      "text/plain": [
       "        event_datetime     event  building_type  \\\n",
       "0  2020-05-04 00:00:01  building  assembly_shop   \n",
       "1  2020-05-04 00:00:03  building  assembly_shop   \n",
       "2  2020-05-04 00:00:16  building  assembly_shop   \n",
       "3  2020-05-04 00:00:16  building  assembly_shop   \n",
       "4  2020-05-04 00:00:35  building  assembly_shop   \n",
       "\n",
       "                                user_id project_type  \n",
       "0  55e92310-cb8e-4754-b622-597e124b03de          NaN  \n",
       "1  c07b1c10-f477-44dc-81dc-ec82254b1347          NaN  \n",
       "2  6edd42cc-e753-4ff6-a947-2107cd560710          NaN  \n",
       "3  92c69003-d60a-444a-827f-8cc51bf6bf4c          NaN  \n",
       "4  cdc6bb92-0ccb-4490-9866-ef142f09139d          NaN  "
      ]
     },
     "execution_count": 5,
     "metadata": {},
     "output_type": "execute_result"
    }
   ],
   "source": [
    "game_actions.head()"
   ]
  },
  {
   "cell_type": "code",
   "execution_count": 6,
   "metadata": {},
   "outputs": [
    {
     "name": "stdout",
     "output_type": "stream",
     "text": [
      "<class 'pandas.core.frame.DataFrame'>\n",
      "RangeIndex: 135640 entries, 0 to 135639\n",
      "Data columns (total 5 columns):\n",
      " #   Column          Non-Null Count   Dtype \n",
      "---  ------          --------------   ----- \n",
      " 0   event_datetime  135640 non-null  object\n",
      " 1   event           135640 non-null  object\n",
      " 2   building_type   127957 non-null  object\n",
      " 3   user_id         135640 non-null  object\n",
      " 4   project_type    1866 non-null    object\n",
      "dtypes: object(5)\n",
      "memory usage: 5.2+ MB\n"
     ]
    }
   ],
   "source": [
    "game_actions.info()"
   ]
  },
  {
   "cell_type": "markdown",
   "metadata": {},
   "source": [
    "Датасет содержит логи активностей пользователей, в нём 135640 строк. Все столбцы представлены типом ``object``. Как и в предыдущем датасете, необходим перевод столбца с датой в формат ``datetime``."
   ]
  },
  {
   "cell_type": "code",
   "execution_count": 7,
   "metadata": {},
   "outputs": [
    {
     "data": {
      "text/html": [
       "<div>\n",
       "<style scoped>\n",
       "    .dataframe tbody tr th:only-of-type {\n",
       "        vertical-align: middle;\n",
       "    }\n",
       "\n",
       "    .dataframe tbody tr th {\n",
       "        vertical-align: top;\n",
       "    }\n",
       "\n",
       "    .dataframe thead th {\n",
       "        text-align: right;\n",
       "    }\n",
       "</style>\n",
       "<table border=\"1\" class=\"dataframe\">\n",
       "  <thead>\n",
       "    <tr style=\"text-align: right;\">\n",
       "      <th></th>\n",
       "      <th>user_id</th>\n",
       "      <th>source</th>\n",
       "    </tr>\n",
       "  </thead>\n",
       "  <tbody>\n",
       "    <tr>\n",
       "      <th>0</th>\n",
       "      <td>0001f83c-c6ac-4621-b7f0-8a28b283ac30</td>\n",
       "      <td>facebook_ads</td>\n",
       "    </tr>\n",
       "    <tr>\n",
       "      <th>1</th>\n",
       "      <td>00151b4f-ba38-44a8-a650-d7cf130a0105</td>\n",
       "      <td>yandex_direct</td>\n",
       "    </tr>\n",
       "    <tr>\n",
       "      <th>2</th>\n",
       "      <td>001aaea6-3d14-43f1-8ca8-7f48820f17aa</td>\n",
       "      <td>youtube_channel_reklama</td>\n",
       "    </tr>\n",
       "    <tr>\n",
       "      <th>3</th>\n",
       "      <td>001d39dc-366c-4021-9604-6a3b9ff01e25</td>\n",
       "      <td>instagram_new_adverts</td>\n",
       "    </tr>\n",
       "    <tr>\n",
       "      <th>4</th>\n",
       "      <td>002f508f-67b6-479f-814b-b05f00d4e995</td>\n",
       "      <td>facebook_ads</td>\n",
       "    </tr>\n",
       "  </tbody>\n",
       "</table>\n",
       "</div>"
      ],
      "text/plain": [
       "                                user_id                   source\n",
       "0  0001f83c-c6ac-4621-b7f0-8a28b283ac30             facebook_ads\n",
       "1  00151b4f-ba38-44a8-a650-d7cf130a0105            yandex_direct\n",
       "2  001aaea6-3d14-43f1-8ca8-7f48820f17aa  youtube_channel_reklama\n",
       "3  001d39dc-366c-4021-9604-6a3b9ff01e25    instagram_new_adverts\n",
       "4  002f508f-67b6-479f-814b-b05f00d4e995             facebook_ads"
      ]
     },
     "execution_count": 7,
     "metadata": {},
     "output_type": "execute_result"
    }
   ],
   "source": [
    "user_source.head()"
   ]
  },
  {
   "cell_type": "code",
   "execution_count": 8,
   "metadata": {},
   "outputs": [
    {
     "name": "stdout",
     "output_type": "stream",
     "text": [
      "<class 'pandas.core.frame.DataFrame'>\n",
      "RangeIndex: 13576 entries, 0 to 13575\n",
      "Data columns (total 2 columns):\n",
      " #   Column   Non-Null Count  Dtype \n",
      "---  ------   --------------  ----- \n",
      " 0   user_id  13576 non-null  object\n",
      " 1   source   13576 non-null  object\n",
      "dtypes: object(2)\n",
      "memory usage: 212.2+ KB\n"
     ]
    }
   ],
   "source": [
    "user_source.info()"
   ]
  },
  {
   "cell_type": "markdown",
   "metadata": {},
   "source": [
    "В этом датасете содержится информация о источниках рекламных переходов. Информация представлена о 13756 пользователях. Все столбцы представлены типом ``object``."
   ]
  },
  {
   "cell_type": "markdown",
   "metadata": {},
   "source": [
    "#### Проверим датасеты на наличие пропусков и дубликатов:"
   ]
  },
  {
   "cell_type": "code",
   "execution_count": 9,
   "metadata": {},
   "outputs": [
    {
     "data": {
      "text/html": [
       "<style  type=\"text/css\" >\n",
       "#T_4ba81_row0_col0,#T_4ba81_row1_col0,#T_4ba81_row2_col0{\n",
       "            background-color:  #3b4cc0;\n",
       "            color:  #f1f1f1;\n",
       "        }</style><table id=\"T_4ba81_\" ><thead>    <tr>        <th class=\"blank level0\" ></th>        <th class=\"col_heading level0 col0\" >0</th>    </tr></thead><tbody>\n",
       "                <tr>\n",
       "                        <th id=\"T_4ba81_level0_row0\" class=\"row_heading level0 row0\" >source</th>\n",
       "                        <td id=\"T_4ba81_row0_col0\" class=\"data row0 col0\" >0.000000</td>\n",
       "            </tr>\n",
       "            <tr>\n",
       "                        <th id=\"T_4ba81_level0_row1\" class=\"row_heading level0 row1\" >day</th>\n",
       "                        <td id=\"T_4ba81_row1_col0\" class=\"data row1 col0\" >0.000000</td>\n",
       "            </tr>\n",
       "            <tr>\n",
       "                        <th id=\"T_4ba81_level0_row2\" class=\"row_heading level0 row2\" >cost</th>\n",
       "                        <td id=\"T_4ba81_row2_col0\" class=\"data row2 col0\" >0.000000</td>\n",
       "            </tr>\n",
       "    </tbody></table>"
      ],
      "text/plain": [
       "<pandas.io.formats.style.Styler at 0x7f1ddd1df8b0>"
      ]
     },
     "execution_count": 9,
     "metadata": {},
     "output_type": "execute_result"
    }
   ],
   "source": [
    "pd.DataFrame(round(ad_costs.isna().mean()*100,1)).style.background_gradient('coolwarm')"
   ]
  },
  {
   "cell_type": "code",
   "execution_count": 10,
   "metadata": {},
   "outputs": [
    {
     "data": {
      "text/html": [
       "<style  type=\"text/css\" >\n",
       "#T_bd847_row0_col0,#T_bd847_row1_col0,#T_bd847_row3_col0{\n",
       "            background-color:  #3b4cc0;\n",
       "            color:  #f1f1f1;\n",
       "        }#T_bd847_row2_col0{\n",
       "            background-color:  #4b64d5;\n",
       "            color:  #f1f1f1;\n",
       "        }#T_bd847_row4_col0{\n",
       "            background-color:  #b40426;\n",
       "            color:  #f1f1f1;\n",
       "        }</style><table id=\"T_bd847_\" ><thead>    <tr>        <th class=\"blank level0\" ></th>        <th class=\"col_heading level0 col0\" >0</th>    </tr></thead><tbody>\n",
       "                <tr>\n",
       "                        <th id=\"T_bd847_level0_row0\" class=\"row_heading level0 row0\" >event_datetime</th>\n",
       "                        <td id=\"T_bd847_row0_col0\" class=\"data row0 col0\" >0.000000</td>\n",
       "            </tr>\n",
       "            <tr>\n",
       "                        <th id=\"T_bd847_level0_row1\" class=\"row_heading level0 row1\" >event</th>\n",
       "                        <td id=\"T_bd847_row1_col0\" class=\"data row1 col0\" >0.000000</td>\n",
       "            </tr>\n",
       "            <tr>\n",
       "                        <th id=\"T_bd847_level0_row2\" class=\"row_heading level0 row2\" >building_type</th>\n",
       "                        <td id=\"T_bd847_row2_col0\" class=\"data row2 col0\" >5.700000</td>\n",
       "            </tr>\n",
       "            <tr>\n",
       "                        <th id=\"T_bd847_level0_row3\" class=\"row_heading level0 row3\" >user_id</th>\n",
       "                        <td id=\"T_bd847_row3_col0\" class=\"data row3 col0\" >0.000000</td>\n",
       "            </tr>\n",
       "            <tr>\n",
       "                        <th id=\"T_bd847_level0_row4\" class=\"row_heading level0 row4\" >project_type</th>\n",
       "                        <td id=\"T_bd847_row4_col0\" class=\"data row4 col0\" >98.600000</td>\n",
       "            </tr>\n",
       "    </tbody></table>"
      ],
      "text/plain": [
       "<pandas.io.formats.style.Styler at 0x7f1e06ffc490>"
      ]
     },
     "execution_count": 10,
     "metadata": {},
     "output_type": "execute_result"
    }
   ],
   "source": [
    "pd.DataFrame(round(game_actions.isna().mean()*100,1)).style.background_gradient('coolwarm')"
   ]
  },
  {
   "cell_type": "code",
   "execution_count": 11,
   "metadata": {},
   "outputs": [
    {
     "data": {
      "text/html": [
       "<style  type=\"text/css\" >\n",
       "#T_e32df_row0_col0,#T_e32df_row1_col0{\n",
       "            background-color:  #3b4cc0;\n",
       "            color:  #f1f1f1;\n",
       "        }</style><table id=\"T_e32df_\" ><thead>    <tr>        <th class=\"blank level0\" ></th>        <th class=\"col_heading level0 col0\" >0</th>    </tr></thead><tbody>\n",
       "                <tr>\n",
       "                        <th id=\"T_e32df_level0_row0\" class=\"row_heading level0 row0\" >user_id</th>\n",
       "                        <td id=\"T_e32df_row0_col0\" class=\"data row0 col0\" >0.000000</td>\n",
       "            </tr>\n",
       "            <tr>\n",
       "                        <th id=\"T_e32df_level0_row1\" class=\"row_heading level0 row1\" >source</th>\n",
       "                        <td id=\"T_e32df_row1_col0\" class=\"data row1 col0\" >0.000000</td>\n",
       "            </tr>\n",
       "    </tbody></table>"
      ],
      "text/plain": [
       "<pandas.io.formats.style.Styler at 0x7f1ddd1dfa90>"
      ]
     },
     "execution_count": 11,
     "metadata": {},
     "output_type": "execute_result"
    }
   ],
   "source": [
    "pd.DataFrame(round(user_source.isna().mean()*100,1)).style.background_gradient('coolwarm')"
   ]
  },
  {
   "cell_type": "markdown",
   "metadata": {},
   "source": [
    "Проверим датасет на \"плохие\" пропуски. Для начала проверим, встречаются ли в нём построенные здания без значения типа здания:"
   ]
  },
  {
   "cell_type": "code",
   "execution_count": 55,
   "metadata": {},
   "outputs": [
    {
     "data": {
      "text/html": [
       "<style  type=\"text/css\" >\n",
       "#T_d616f_row0_col0,#T_d616f_row1_col0,#T_d616f_row2_col0,#T_d616f_row3_col0{\n",
       "            background-color:  #3b4cc0;\n",
       "            color:  #f1f1f1;\n",
       "        }#T_d616f_row4_col0{\n",
       "            background-color:  #b40426;\n",
       "            color:  #f1f1f1;\n",
       "        }</style><table id=\"T_d616f_\" ><thead>    <tr>        <th class=\"blank level0\" ></th>        <th class=\"col_heading level0 col0\" >0</th>    </tr></thead><tbody>\n",
       "                <tr>\n",
       "                        <th id=\"T_d616f_level0_row0\" class=\"row_heading level0 row0\" >event_datetime</th>\n",
       "                        <td id=\"T_d616f_row0_col0\" class=\"data row0 col0\" >0.000000</td>\n",
       "            </tr>\n",
       "            <tr>\n",
       "                        <th id=\"T_d616f_level0_row1\" class=\"row_heading level0 row1\" >event</th>\n",
       "                        <td id=\"T_d616f_row1_col0\" class=\"data row1 col0\" >0.000000</td>\n",
       "            </tr>\n",
       "            <tr>\n",
       "                        <th id=\"T_d616f_level0_row2\" class=\"row_heading level0 row2\" >building_type</th>\n",
       "                        <td id=\"T_d616f_row2_col0\" class=\"data row2 col0\" >0.000000</td>\n",
       "            </tr>\n",
       "            <tr>\n",
       "                        <th id=\"T_d616f_level0_row3\" class=\"row_heading level0 row3\" >user_id</th>\n",
       "                        <td id=\"T_d616f_row3_col0\" class=\"data row3 col0\" >0.000000</td>\n",
       "            </tr>\n",
       "            <tr>\n",
       "                        <th id=\"T_d616f_level0_row4\" class=\"row_heading level0 row4\" >project_type</th>\n",
       "                        <td id=\"T_d616f_row4_col0\" class=\"data row4 col0\" >100.000000</td>\n",
       "            </tr>\n",
       "    </tbody></table>"
      ],
      "text/plain": [
       "<pandas.io.formats.style.Styler at 0x7f1ddcf46d90>"
      ]
     },
     "execution_count": 55,
     "metadata": {},
     "output_type": "execute_result"
    }
   ],
   "source": [
    "pd.DataFrame(round(game_actions[game_actions['event'] == 'building'].isna().mean()*100,1)).style.background_gradient('coolwarm')"
   ]
  },
  {
   "cell_type": "markdown",
   "metadata": {},
   "source": [
    "Таких пропусков нет. Теперь проверим значения столбца ``event`` при пропусках в столбце ``building_type``."
   ]
  },
  {
   "cell_type": "code",
   "execution_count": 63,
   "metadata": {},
   "outputs": [
    {
     "data": {
      "text/plain": [
       "array(['finished_stage_1', 'project'], dtype=object)"
      ]
     },
     "execution_count": 63,
     "metadata": {},
     "output_type": "execute_result"
    }
   ],
   "source": [
    "# Фильтруем строки, где столбец building_type содержит пропуски\n",
    "game_actions_non_building = game_actions[game_actions['building_type'].isnull()]\n",
    "\n",
    "# Находим все уникальные значения столбца event в получившейся таблице\n",
    "game_actions_non_building['event'].unique()"
   ]
  },
  {
   "cell_type": "markdown",
   "metadata": {},
   "source": [
    "Таким образом, пропуски в ``building_type`` встречаются только при исследованном проекте или по завершению уровня, что соответствует логике сбора данных."
   ]
  },
  {
   "cell_type": "markdown",
   "metadata": {},
   "source": [
    "Наконец, проверим, нет ли в логах построенных зданий при исследованном проекте:"
   ]
  },
  {
   "cell_type": "code",
   "execution_count": 64,
   "metadata": {},
   "outputs": [
    {
     "data": {
      "text/html": [
       "<style  type=\"text/css\" >\n",
       "#T_94217_row0_col0,#T_94217_row1_col0,#T_94217_row3_col0,#T_94217_row4_col0{\n",
       "            background-color:  #3b4cc0;\n",
       "            color:  #f1f1f1;\n",
       "        }#T_94217_row2_col0{\n",
       "            background-color:  #b40426;\n",
       "            color:  #f1f1f1;\n",
       "        }</style><table id=\"T_94217_\" ><thead>    <tr>        <th class=\"blank level0\" ></th>        <th class=\"col_heading level0 col0\" >0</th>    </tr></thead><tbody>\n",
       "                <tr>\n",
       "                        <th id=\"T_94217_level0_row0\" class=\"row_heading level0 row0\" >event_datetime</th>\n",
       "                        <td id=\"T_94217_row0_col0\" class=\"data row0 col0\" >0.000000</td>\n",
       "            </tr>\n",
       "            <tr>\n",
       "                        <th id=\"T_94217_level0_row1\" class=\"row_heading level0 row1\" >event</th>\n",
       "                        <td id=\"T_94217_row1_col0\" class=\"data row1 col0\" >0.000000</td>\n",
       "            </tr>\n",
       "            <tr>\n",
       "                        <th id=\"T_94217_level0_row2\" class=\"row_heading level0 row2\" >building_type</th>\n",
       "                        <td id=\"T_94217_row2_col0\" class=\"data row2 col0\" >100.000000</td>\n",
       "            </tr>\n",
       "            <tr>\n",
       "                        <th id=\"T_94217_level0_row3\" class=\"row_heading level0 row3\" >user_id</th>\n",
       "                        <td id=\"T_94217_row3_col0\" class=\"data row3 col0\" >0.000000</td>\n",
       "            </tr>\n",
       "            <tr>\n",
       "                        <th id=\"T_94217_level0_row4\" class=\"row_heading level0 row4\" >project_type</th>\n",
       "                        <td id=\"T_94217_row4_col0\" class=\"data row4 col0\" >0.000000</td>\n",
       "            </tr>\n",
       "    </tbody></table>"
      ],
      "text/plain": [
       "<pandas.io.formats.style.Styler at 0x7f1ddd5a10a0>"
      ]
     },
     "execution_count": 64,
     "metadata": {},
     "output_type": "execute_result"
    }
   ],
   "source": [
    "pd.DataFrame(round(game_actions[game_actions['event'] == 'project'].isna().mean()*100,1)).style.background_gradient('coolwarm')"
   ]
  },
  {
   "cell_type": "markdown",
   "metadata": {},
   "source": [
    "Значит, при законченном проекте построенные здания отсутствуют. \\\n",
    "Мы провели всестороннюю проверку \"плохих\" пропусков, и убедились что данные корректны и готовы к дальнейшему анализу."
   ]
  },
  {
   "cell_type": "code",
   "execution_count": 12,
   "metadata": {},
   "outputs": [
    {
     "data": {
      "text/plain": [
       "0"
      ]
     },
     "execution_count": 12,
     "metadata": {},
     "output_type": "execute_result"
    }
   ],
   "source": [
    "ad_costs.duplicated().sum()"
   ]
  },
  {
   "cell_type": "code",
   "execution_count": 13,
   "metadata": {},
   "outputs": [
    {
     "data": {
      "text/plain": [
       "1"
      ]
     },
     "execution_count": 13,
     "metadata": {},
     "output_type": "execute_result"
    }
   ],
   "source": [
    "game_actions.duplicated().sum()"
   ]
  },
  {
   "cell_type": "code",
   "execution_count": 14,
   "metadata": {
    "scrolled": true
   },
   "outputs": [
    {
     "data": {
      "text/plain": [
       "0"
      ]
     },
     "execution_count": 14,
     "metadata": {},
     "output_type": "execute_result"
    }
   ],
   "source": [
    "user_source.duplicated().sum()"
   ]
  },
  {
   "cell_type": "markdown",
   "metadata": {},
   "source": [
    "В датасете ``game_actions`` содержался один дубликат, удалим его вместе с оригинальной строкой."
   ]
  },
  {
   "cell_type": "code",
   "execution_count": 15,
   "metadata": {},
   "outputs": [],
   "source": [
    "duplicate_mask = game_actions.duplicated(keep=False)\n",
    "\n",
    "game_actions = game_actions[~duplicate_mask]"
   ]
  },
  {
   "cell_type": "code",
   "execution_count": 16,
   "metadata": {},
   "outputs": [
    {
     "name": "stdout",
     "output_type": "stream",
     "text": [
      "<class 'pandas.core.frame.DataFrame'>\n",
      "Int64Index: 135638 entries, 0 to 135639\n",
      "Data columns (total 5 columns):\n",
      " #   Column          Non-Null Count   Dtype \n",
      "---  ------          --------------   ----- \n",
      " 0   event_datetime  135638 non-null  object\n",
      " 1   event           135638 non-null  object\n",
      " 2   building_type   127955 non-null  object\n",
      " 3   user_id         135638 non-null  object\n",
      " 4   project_type    1866 non-null    object\n",
      "dtypes: object(5)\n",
      "memory usage: 6.2+ MB\n"
     ]
    }
   ],
   "source": [
    "game_actions.info()"
   ]
  },
  {
   "cell_type": "markdown",
   "metadata": {},
   "source": [
    "#### Приведём столбцы с датой к формату datetime:"
   ]
  },
  {
   "cell_type": "code",
   "execution_count": 17,
   "metadata": {},
   "outputs": [],
   "source": [
    "ad_costs['day'] = pd.to_datetime(ad_costs['day'])"
   ]
  },
  {
   "cell_type": "code",
   "execution_count": 18,
   "metadata": {},
   "outputs": [],
   "source": [
    "game_actions['event_datetime'] = pd.to_datetime(game_actions['event_datetime'])"
   ]
  },
  {
   "cell_type": "markdown",
   "metadata": {},
   "source": [
    "И посмотрим, информацией в каком диапазоне дат мы располагаем:"
   ]
  },
  {
   "cell_type": "code",
   "execution_count": 19,
   "metadata": {},
   "outputs": [
    {
     "name": "stdout",
     "output_type": "stream",
     "text": [
      "Минимальная дата: 2020-05-03 00:00:00\n",
      "Максимальная дата: 2020-05-09 00:00:00\n"
     ]
    }
   ],
   "source": [
    "min_date_сosts = ad_costs['day'].min()\n",
    "max_date_сosts = ad_costs['day'].max()\n",
    "\n",
    "print('Минимальная дата:', min_date_сosts)\n",
    "print('Максимальная дата:', max_date_сosts)"
   ]
  },
  {
   "cell_type": "markdown",
   "metadata": {},
   "source": [
    "Таким образом, данные о покупке рекламы представлены в период с 3 по 9 мая 2020 года."
   ]
  },
  {
   "cell_type": "code",
   "execution_count": 20,
   "metadata": {},
   "outputs": [
    {
     "name": "stdout",
     "output_type": "stream",
     "text": [
      "Минимальная дата: 2020-05-04 00:00:01\n",
      "Максимальная дата: 2020-06-05 12:32:49\n"
     ]
    }
   ],
   "source": [
    "min_date_actions = game_actions['event_datetime'].min()\n",
    "max_date_actions = game_actions['event_datetime'].max()\n",
    "\n",
    "print('Минимальная дата:', min_date_actions)\n",
    "print('Максимальная дата:', max_date_actions)"
   ]
  },
  {
   "cell_type": "markdown",
   "metadata": {},
   "source": [
    "Данные о игровых активностях представлены в период с 4 мая по 5 июня 2020 года."
   ]
  },
  {
   "cell_type": "markdown",
   "metadata": {},
   "source": [
    "#### Вывод\n",
    "В проекте представлены 3 датасета:\n",
    "* С информацией о рекламных источниках и стоимости кликов по ним в период с 3 по 9 мая 2020 года\n",
    "* С логами активностей пользователей в период с 4 мая по 5 июня 2020 года\n",
    "* С информацией о источниках рекламных переходов \n",
    "\n",
    "Датасеты были проверены на пропуски и дубликаты. Пропуски были оставлены, т.к. они являются источником информации, дубликаты удалены. \\\n",
    "Столбцы с датой в двух датасетах приведены к формату ``datetime``."
   ]
  },
  {
   "cell_type": "markdown",
   "metadata": {},
   "source": [
    "### Исследовательский анализ данных"
   ]
  },
  {
   "cell_type": "markdown",
   "metadata": {},
   "source": [
    "#### Объединение датасетов:"
   ]
  },
  {
   "cell_type": "markdown",
   "metadata": {},
   "source": [
    "Для удобства в дальнейшем объединим датасеты ``game_actions`` и ``user_source`` в один:"
   ]
  },
  {
   "cell_type": "code",
   "execution_count": 21,
   "metadata": {},
   "outputs": [
    {
     "data": {
      "text/html": [
       "<div>\n",
       "<style scoped>\n",
       "    .dataframe tbody tr th:only-of-type {\n",
       "        vertical-align: middle;\n",
       "    }\n",
       "\n",
       "    .dataframe tbody tr th {\n",
       "        vertical-align: top;\n",
       "    }\n",
       "\n",
       "    .dataframe thead th {\n",
       "        text-align: right;\n",
       "    }\n",
       "</style>\n",
       "<table border=\"1\" class=\"dataframe\">\n",
       "  <thead>\n",
       "    <tr style=\"text-align: right;\">\n",
       "      <th></th>\n",
       "      <th>event_datetime</th>\n",
       "      <th>event</th>\n",
       "      <th>building_type</th>\n",
       "      <th>user_id</th>\n",
       "      <th>project_type</th>\n",
       "      <th>source</th>\n",
       "    </tr>\n",
       "  </thead>\n",
       "  <tbody>\n",
       "    <tr>\n",
       "      <th>0</th>\n",
       "      <td>2020-05-04 00:00:01</td>\n",
       "      <td>building</td>\n",
       "      <td>assembly_shop</td>\n",
       "      <td>55e92310-cb8e-4754-b622-597e124b03de</td>\n",
       "      <td>NaN</td>\n",
       "      <td>youtube_channel_reklama</td>\n",
       "    </tr>\n",
       "    <tr>\n",
       "      <th>1</th>\n",
       "      <td>2020-05-05 05:20:15</td>\n",
       "      <td>building</td>\n",
       "      <td>assembly_shop</td>\n",
       "      <td>55e92310-cb8e-4754-b622-597e124b03de</td>\n",
       "      <td>NaN</td>\n",
       "      <td>youtube_channel_reklama</td>\n",
       "    </tr>\n",
       "    <tr>\n",
       "      <th>2</th>\n",
       "      <td>2020-05-05 19:24:02</td>\n",
       "      <td>building</td>\n",
       "      <td>assembly_shop</td>\n",
       "      <td>55e92310-cb8e-4754-b622-597e124b03de</td>\n",
       "      <td>NaN</td>\n",
       "      <td>youtube_channel_reklama</td>\n",
       "    </tr>\n",
       "    <tr>\n",
       "      <th>3</th>\n",
       "      <td>2020-05-05 20:59:19</td>\n",
       "      <td>building</td>\n",
       "      <td>assembly_shop</td>\n",
       "      <td>55e92310-cb8e-4754-b622-597e124b03de</td>\n",
       "      <td>NaN</td>\n",
       "      <td>youtube_channel_reklama</td>\n",
       "    </tr>\n",
       "    <tr>\n",
       "      <th>4</th>\n",
       "      <td>2020-05-06 00:52:56</td>\n",
       "      <td>building</td>\n",
       "      <td>assembly_shop</td>\n",
       "      <td>55e92310-cb8e-4754-b622-597e124b03de</td>\n",
       "      <td>NaN</td>\n",
       "      <td>youtube_channel_reklama</td>\n",
       "    </tr>\n",
       "  </tbody>\n",
       "</table>\n",
       "</div>"
      ],
      "text/plain": [
       "       event_datetime     event  building_type  \\\n",
       "0 2020-05-04 00:00:01  building  assembly_shop   \n",
       "1 2020-05-05 05:20:15  building  assembly_shop   \n",
       "2 2020-05-05 19:24:02  building  assembly_shop   \n",
       "3 2020-05-05 20:59:19  building  assembly_shop   \n",
       "4 2020-05-06 00:52:56  building  assembly_shop   \n",
       "\n",
       "                                user_id project_type                   source  \n",
       "0  55e92310-cb8e-4754-b622-597e124b03de          NaN  youtube_channel_reklama  \n",
       "1  55e92310-cb8e-4754-b622-597e124b03de          NaN  youtube_channel_reklama  \n",
       "2  55e92310-cb8e-4754-b622-597e124b03de          NaN  youtube_channel_reklama  \n",
       "3  55e92310-cb8e-4754-b622-597e124b03de          NaN  youtube_channel_reklama  \n",
       "4  55e92310-cb8e-4754-b622-597e124b03de          NaN  youtube_channel_reklama  "
      ]
     },
     "execution_count": 21,
     "metadata": {},
     "output_type": "execute_result"
    }
   ],
   "source": [
    "# Присоединение таблиц по столбцу 'user_id'\n",
    "merged_actions_source = game_actions.merge(user_source, on='user_id')\n",
    "\n",
    "merged_actions_source.head()"
   ]
  },
  {
   "cell_type": "markdown",
   "metadata": {},
   "source": [
    "#### Посчитаем среднюю продолжительность игры в разбивке по рекламным каналам:"
   ]
  },
  {
   "cell_type": "markdown",
   "metadata": {},
   "source": [
    "Для начала сформируем таблицу, вычислив для всех уникальных пользователей среднюю продолжительность игры:"
   ]
  },
  {
   "cell_type": "code",
   "execution_count": 22,
   "metadata": {},
   "outputs": [],
   "source": [
    "# Группировка по 'user_id' и вычисление минимальной и максимальной даты для каждого пользователя\n",
    "duration_df = merged_actions_source.groupby('user_id').agg({'event_datetime': ['min', 'max'], 'source': 'first'})\n",
    "\n",
    "# Переименование столбцов\n",
    "duration_df.columns = ['min', 'max', 'source']\n",
    "\n",
    "# Вычисление продолжительности игры в часах\n",
    "duration_df['duration_hours'] = (duration_df['max'] - duration_df['min']).dt.total_seconds() / 3600"
   ]
  },
  {
   "cell_type": "code",
   "execution_count": 23,
   "metadata": {},
   "outputs": [
    {
     "data": {
      "text/html": [
       "<div>\n",
       "<style scoped>\n",
       "    .dataframe tbody tr th:only-of-type {\n",
       "        vertical-align: middle;\n",
       "    }\n",
       "\n",
       "    .dataframe tbody tr th {\n",
       "        vertical-align: top;\n",
       "    }\n",
       "\n",
       "    .dataframe thead th {\n",
       "        text-align: right;\n",
       "    }\n",
       "</style>\n",
       "<table border=\"1\" class=\"dataframe\">\n",
       "  <thead>\n",
       "    <tr style=\"text-align: right;\">\n",
       "      <th></th>\n",
       "      <th>min</th>\n",
       "      <th>max</th>\n",
       "      <th>source</th>\n",
       "      <th>duration_hours</th>\n",
       "    </tr>\n",
       "    <tr>\n",
       "      <th>user_id</th>\n",
       "      <th></th>\n",
       "      <th></th>\n",
       "      <th></th>\n",
       "      <th></th>\n",
       "    </tr>\n",
       "  </thead>\n",
       "  <tbody>\n",
       "    <tr>\n",
       "      <th>0001f83c-c6ac-4621-b7f0-8a28b283ac30</th>\n",
       "      <td>2020-05-06 01:07:37</td>\n",
       "      <td>2020-05-20 11:26:06</td>\n",
       "      <td>facebook_ads</td>\n",
       "      <td>346.308056</td>\n",
       "    </tr>\n",
       "    <tr>\n",
       "      <th>00151b4f-ba38-44a8-a650-d7cf130a0105</th>\n",
       "      <td>2020-05-06 03:09:12</td>\n",
       "      <td>2020-05-18 10:46:52</td>\n",
       "      <td>yandex_direct</td>\n",
       "      <td>295.627778</td>\n",
       "    </tr>\n",
       "    <tr>\n",
       "      <th>001aaea6-3d14-43f1-8ca8-7f48820f17aa</th>\n",
       "      <td>2020-05-05 18:08:52</td>\n",
       "      <td>2020-05-14 09:21:27</td>\n",
       "      <td>youtube_channel_reklama</td>\n",
       "      <td>207.209722</td>\n",
       "    </tr>\n",
       "    <tr>\n",
       "      <th>001d39dc-366c-4021-9604-6a3b9ff01e25</th>\n",
       "      <td>2020-05-05 21:02:05</td>\n",
       "      <td>2020-05-12 07:40:47</td>\n",
       "      <td>instagram_new_adverts</td>\n",
       "      <td>154.645000</td>\n",
       "    </tr>\n",
       "    <tr>\n",
       "      <th>002f508f-67b6-479f-814b-b05f00d4e995</th>\n",
       "      <td>2020-05-05 13:49:58</td>\n",
       "      <td>2020-05-22 02:46:45</td>\n",
       "      <td>facebook_ads</td>\n",
       "      <td>396.946389</td>\n",
       "    </tr>\n",
       "  </tbody>\n",
       "</table>\n",
       "</div>"
      ],
      "text/plain": [
       "                                                     min                 max  \\\n",
       "user_id                                                                        \n",
       "0001f83c-c6ac-4621-b7f0-8a28b283ac30 2020-05-06 01:07:37 2020-05-20 11:26:06   \n",
       "00151b4f-ba38-44a8-a650-d7cf130a0105 2020-05-06 03:09:12 2020-05-18 10:46:52   \n",
       "001aaea6-3d14-43f1-8ca8-7f48820f17aa 2020-05-05 18:08:52 2020-05-14 09:21:27   \n",
       "001d39dc-366c-4021-9604-6a3b9ff01e25 2020-05-05 21:02:05 2020-05-12 07:40:47   \n",
       "002f508f-67b6-479f-814b-b05f00d4e995 2020-05-05 13:49:58 2020-05-22 02:46:45   \n",
       "\n",
       "                                                       source  duration_hours  \n",
       "user_id                                                                        \n",
       "0001f83c-c6ac-4621-b7f0-8a28b283ac30             facebook_ads      346.308056  \n",
       "00151b4f-ba38-44a8-a650-d7cf130a0105            yandex_direct      295.627778  \n",
       "001aaea6-3d14-43f1-8ca8-7f48820f17aa  youtube_channel_reklama      207.209722  \n",
       "001d39dc-366c-4021-9604-6a3b9ff01e25    instagram_new_adverts      154.645000  \n",
       "002f508f-67b6-479f-814b-b05f00d4e995             facebook_ads      396.946389  "
      ]
     },
     "execution_count": 23,
     "metadata": {},
     "output_type": "execute_result"
    }
   ],
   "source": [
    "duration_df.head()"
   ]
  },
  {
   "cell_type": "markdown",
   "metadata": {},
   "source": [
    "Теперь сгруппируем получившуюся таблицу по рекламным источникам и вычислим среднюю продолжительность игры по каждому из них:"
   ]
  },
  {
   "cell_type": "code",
   "execution_count": 24,
   "metadata": {},
   "outputs": [
    {
     "data": {
      "text/plain": [
       "source\n",
       "instagram_new_adverts      258.92\n",
       "facebook_ads               257.56\n",
       "yandex_direct              254.77\n",
       "youtube_channel_reklama    254.08\n",
       "Name: duration_hours, dtype: float64"
      ]
     },
     "execution_count": 24,
     "metadata": {},
     "output_type": "execute_result"
    }
   ],
   "source": [
    "grouped_duration_source = duration_df.groupby('source')['duration_hours'].mean().round(2).sort_values(ascending=False)\n",
    "\n",
    "grouped_duration_source"
   ]
  },
  {
   "cell_type": "markdown",
   "metadata": {},
   "source": [
    "И визуализируем результаты:"
   ]
  },
  {
   "cell_type": "code",
   "execution_count": 25,
   "metadata": {},
   "outputs": [
    {
     "data": {
      "image/png": "[encoded data removed]",
      "text/plain": [
       "<Figure size 432x288 with 1 Axes>"
      ]
     },
     "metadata": {
      "needs_background": "light"
     },
     "output_type": "display_data"
    }
   ],
   "source": [
    "fig, ax = plt.subplots()\n",
    "\n",
    "values = grouped_duration_source.values\n",
    "labels = grouped_duration_source.index\n",
    "\n",
    "ax.bar(labels, values)\n",
    "\n",
    "ax.set_xlabel('Источник')\n",
    "ax.set_ylabel('Средняя продолжительность (в часах)')\n",
    "ax.set_title('Средняя продолжительность игры по источнику')\n",
    "\n",
    "plt.xticks(rotation=45)\n",
    "\n",
    "plt.show()"
   ]
  },
  {
   "cell_type": "markdown",
   "metadata": {},
   "source": [
    "Видим, что средняя продолжительность игры пользователей в разбивке по рекламным источникам отличается незначительно."
   ]
  },
  {
   "cell_type": "markdown",
   "metadata": {},
   "source": [
    "#### Посчитаем количество построенных зданий в игре в разбивке по рекламных каналам:"
   ]
  },
  {
   "cell_type": "markdown",
   "metadata": {},
   "source": [
    "Для этого посчитаем количество построенных зданий для каждого пользователя:"
   ]
  },
  {
   "cell_type": "code",
   "execution_count": 26,
   "metadata": {},
   "outputs": [
    {
     "data": {
      "text/html": [
       "<div>\n",
       "<style scoped>\n",
       "    .dataframe tbody tr th:only-of-type {\n",
       "        vertical-align: middle;\n",
       "    }\n",
       "\n",
       "    .dataframe tbody tr th {\n",
       "        vertical-align: top;\n",
       "    }\n",
       "\n",
       "    .dataframe thead th {\n",
       "        text-align: right;\n",
       "    }\n",
       "</style>\n",
       "<table border=\"1\" class=\"dataframe\">\n",
       "  <thead>\n",
       "    <tr style=\"text-align: right;\">\n",
       "      <th></th>\n",
       "      <th>user_id</th>\n",
       "      <th>source</th>\n",
       "      <th>building_count</th>\n",
       "    </tr>\n",
       "  </thead>\n",
       "  <tbody>\n",
       "    <tr>\n",
       "      <th>0</th>\n",
       "      <td>0001f83c-c6ac-4621-b7f0-8a28b283ac30</td>\n",
       "      <td>facebook_ads</td>\n",
       "      <td>13</td>\n",
       "    </tr>\n",
       "    <tr>\n",
       "      <th>1</th>\n",
       "      <td>00151b4f-ba38-44a8-a650-d7cf130a0105</td>\n",
       "      <td>yandex_direct</td>\n",
       "      <td>9</td>\n",
       "    </tr>\n",
       "    <tr>\n",
       "      <th>2</th>\n",
       "      <td>001aaea6-3d14-43f1-8ca8-7f48820f17aa</td>\n",
       "      <td>youtube_channel_reklama</td>\n",
       "      <td>4</td>\n",
       "    </tr>\n",
       "    <tr>\n",
       "      <th>3</th>\n",
       "      <td>001d39dc-366c-4021-9604-6a3b9ff01e25</td>\n",
       "      <td>instagram_new_adverts</td>\n",
       "      <td>8</td>\n",
       "    </tr>\n",
       "    <tr>\n",
       "      <th>4</th>\n",
       "      <td>002f508f-67b6-479f-814b-b05f00d4e995</td>\n",
       "      <td>facebook_ads</td>\n",
       "      <td>12</td>\n",
       "    </tr>\n",
       "  </tbody>\n",
       "</table>\n",
       "</div>"
      ],
      "text/plain": [
       "                                user_id                   source  \\\n",
       "0  0001f83c-c6ac-4621-b7f0-8a28b283ac30             facebook_ads   \n",
       "1  00151b4f-ba38-44a8-a650-d7cf130a0105            yandex_direct   \n",
       "2  001aaea6-3d14-43f1-8ca8-7f48820f17aa  youtube_channel_reklama   \n",
       "3  001d39dc-366c-4021-9604-6a3b9ff01e25    instagram_new_adverts   \n",
       "4  002f508f-67b6-479f-814b-b05f00d4e995             facebook_ads   \n",
       "\n",
       "   building_count  \n",
       "0              13  \n",
       "1               9  \n",
       "2               4  \n",
       "3               8  \n",
       "4              12  "
      ]
     },
     "execution_count": 26,
     "metadata": {},
     "output_type": "execute_result"
    }
   ],
   "source": [
    "# Фильтрация событий построения здания\n",
    "building_actions = merged_actions_source[merged_actions_source['event'] == 'building']\n",
    "\n",
    "# Группировка и подсчет количества построенных зданий для каждого пользователя, включая столбец 'source'\n",
    "building_count = building_actions.groupby(['user_id', 'source']).size().reset_index(name='building_count')\n",
    "\n",
    "building_count.head()"
   ]
  },
  {
   "cell_type": "markdown",
   "metadata": {},
   "source": [
    "Затем вычислим среднее количество построенных зданий для каждого из рекламных каналов:"
   ]
  },
  {
   "cell_type": "code",
   "execution_count": 27,
   "metadata": {},
   "outputs": [
    {
     "data": {
      "text/plain": [
       "source\n",
       "facebook_ads               9.59\n",
       "instagram_new_adverts      9.51\n",
       "yandex_direct              9.35\n",
       "youtube_channel_reklama    9.30\n",
       "Name: building_count, dtype: float64"
      ]
     },
     "execution_count": 27,
     "metadata": {},
     "output_type": "execute_result"
    }
   ],
   "source": [
    "avg_building_count = building_count.groupby('source')['building_count'].mean().round(2).sort_values(ascending=False)\n",
    "\n",
    "avg_building_count"
   ]
  },
  {
   "cell_type": "markdown",
   "metadata": {},
   "source": [
    "Затем визуализируем данную таблицу:"
   ]
  },
  {
   "cell_type": "code",
   "execution_count": 28,
   "metadata": {},
   "outputs": [
    {
     "data": {
      "image/png": "[encoded data removed]",
      "text/plain": [
       "<Figure size 432x288 with 1 Axes>"
      ]
     },
     "metadata": {
      "needs_background": "light"
     },
     "output_type": "display_data"
    }
   ],
   "source": [
    "plt.bar(avg_building_count.index, avg_building_count.values)\n",
    "\n",
    "plt.xlabel('Источник')\n",
    "plt.ylabel('Среднее количество зданий')\n",
    "plt.title('Среднее количество зданий по источнику')\n",
    "\n",
    "plt.xticks(rotation=45)\n",
    "\n",
    "plt.show()"
   ]
  },
  {
   "cell_type": "markdown",
   "metadata": {},
   "source": [
    "Можем увидеть, что и количество построенных зданий по рекламным каналам отличается незначительно."
   ]
  },
  {
   "cell_type": "markdown",
   "metadata": {},
   "source": [
    "#### Посчитаем процент пользователей, прошедших первый уровень, в разбивке по рекламным каналам:"
   ]
  },
  {
   "cell_type": "code",
   "execution_count": 29,
   "metadata": {},
   "outputs": [
    {
     "data": {
      "text/html": [
       "<div>\n",
       "<style scoped>\n",
       "    .dataframe tbody tr th:only-of-type {\n",
       "        vertical-align: middle;\n",
       "    }\n",
       "\n",
       "    .dataframe tbody tr th {\n",
       "        vertical-align: top;\n",
       "    }\n",
       "\n",
       "    .dataframe thead th {\n",
       "        text-align: right;\n",
       "    }\n",
       "</style>\n",
       "<table border=\"1\" class=\"dataframe\">\n",
       "  <thead>\n",
       "    <tr style=\"text-align: right;\">\n",
       "      <th></th>\n",
       "      <th>Percentage Passed</th>\n",
       "    </tr>\n",
       "    <tr>\n",
       "      <th>source</th>\n",
       "      <th></th>\n",
       "    </tr>\n",
       "  </thead>\n",
       "  <tbody>\n",
       "    <tr>\n",
       "      <th>instagram_new_adverts</th>\n",
       "      <td>43.80</td>\n",
       "    </tr>\n",
       "    <tr>\n",
       "      <th>youtube_channel_reklama</th>\n",
       "      <td>43.15</td>\n",
       "    </tr>\n",
       "    <tr>\n",
       "      <th>yandex_direct</th>\n",
       "      <td>42.39</td>\n",
       "    </tr>\n",
       "    <tr>\n",
       "      <th>facebook_ads</th>\n",
       "      <td>42.19</td>\n",
       "    </tr>\n",
       "  </tbody>\n",
       "</table>\n",
       "</div>"
      ],
      "text/plain": [
       "                         Percentage Passed\n",
       "source                                    \n",
       "instagram_new_adverts                43.80\n",
       "youtube_channel_reklama              43.15\n",
       "yandex_direct                        42.39\n",
       "facebook_ads                         42.19"
      ]
     },
     "execution_count": 29,
     "metadata": {},
     "output_type": "execute_result"
    }
   ],
   "source": [
    "# Отфильтруем строки, где значение столбца 'event' равно 'finished_stage_1'\n",
    "filtered_df = merged_actions_source[merged_actions_source['event'] == 'finished_stage_1']\n",
    "\n",
    "# Рассчитаем количество пользователей, прошедших первый уровень по каждому из рекламных источников\n",
    "users_count = filtered_df.groupby('source')['user_id'].nunique()\n",
    "\n",
    "# Рассчитаем общее количество пользователей по каждому из рекламных источников\n",
    "total_users_count = merged_actions_source.groupby('source')['user_id'].nunique()\n",
    "\n",
    "# Рассчитаем процент пользователей, прошедших первый уровень, по каждому из рекламных источников\n",
    "percentage_passed = (users_count / total_users_count) * 100\n",
    "\n",
    "# Преобразуем Series в DataFrame, округлием значения до двух знаков после запятой и отсортируем результат по убыванию\n",
    "percentage_passed = percentage_passed.to_frame(name='Percentage Passed').round(2).sort_values(by='Percentage Passed', ascending=False)\n",
    "\n",
    "percentage_passed"
   ]
  },
  {
   "cell_type": "markdown",
   "metadata": {},
   "source": [
    "Построим график по данной таблице:"
   ]
  },
  {
   "cell_type": "code",
   "execution_count": 30,
   "metadata": {},
   "outputs": [
    {
     "data": {
      "image/png": "[encoded data removed]",
      "text/plain": [
       "<Figure size 432x288 with 1 Axes>"
      ]
     },
     "metadata": {
      "needs_background": "light"
     },
     "output_type": "display_data"
    }
   ],
   "source": [
    "plt.bar(percentage_passed.index, percentage_passed['Percentage Passed'])\n",
    "\n",
    "plt.xlabel('Рекламный источник')\n",
    "plt.ylabel('Процент пользователей')\n",
    "plt.title('Процент пользователей, прошедших первый уровень по рекламным источникам')\n",
    "\n",
    "plt.xticks(rotation=45)\n",
    "\n",
    "plt.show()"
   ]
  },
  {
   "cell_type": "markdown",
   "metadata": {},
   "source": [
    "Как и в предыдущих случаях, эта метрика является примерно одинаковой у всех источников."
   ]
  },
  {
   "cell_type": "markdown",
   "metadata": {},
   "source": [
    "#### Расчёт САС по каналам привлечения."
   ]
  },
  {
   "cell_type": "markdown",
   "metadata": {},
   "source": [
    "Для расчёта САС сгруппируем данные по каналам и посчитаем стоимость привлечения по каждому их них:"
   ]
  },
  {
   "cell_type": "code",
   "execution_count": 31,
   "metadata": {
    "scrolled": true
   },
   "outputs": [
    {
     "data": {
      "text/html": [
       "<div>\n",
       "<style scoped>\n",
       "    .dataframe tbody tr th:only-of-type {\n",
       "        vertical-align: middle;\n",
       "    }\n",
       "\n",
       "    .dataframe tbody tr th {\n",
       "        vertical-align: top;\n",
       "    }\n",
       "\n",
       "    .dataframe thead th {\n",
       "        text-align: right;\n",
       "    }\n",
       "</style>\n",
       "<table border=\"1\" class=\"dataframe\">\n",
       "  <thead>\n",
       "    <tr style=\"text-align: right;\">\n",
       "      <th></th>\n",
       "      <th>source</th>\n",
       "      <th>users_count</th>\n",
       "      <th>cost</th>\n",
       "      <th>CAC</th>\n",
       "    </tr>\n",
       "  </thead>\n",
       "  <tbody>\n",
       "    <tr>\n",
       "      <th>3</th>\n",
       "      <td>youtube_channel_reklama</td>\n",
       "      <td>2686</td>\n",
       "      <td>1068.119204</td>\n",
       "      <td>0.40</td>\n",
       "    </tr>\n",
       "    <tr>\n",
       "      <th>2</th>\n",
       "      <td>yandex_direct</td>\n",
       "      <td>4817</td>\n",
       "      <td>2233.111449</td>\n",
       "      <td>0.46</td>\n",
       "    </tr>\n",
       "    <tr>\n",
       "      <th>1</th>\n",
       "      <td>instagram_new_adverts</td>\n",
       "      <td>3347</td>\n",
       "      <td>2161.441691</td>\n",
       "      <td>0.65</td>\n",
       "    </tr>\n",
       "    <tr>\n",
       "      <th>0</th>\n",
       "      <td>facebook_ads</td>\n",
       "      <td>2726</td>\n",
       "      <td>2140.904643</td>\n",
       "      <td>0.79</td>\n",
       "    </tr>\n",
       "  </tbody>\n",
       "</table>\n",
       "</div>"
      ],
      "text/plain": [
       "                    source  users_count         cost   CAC\n",
       "3  youtube_channel_reklama         2686  1068.119204  0.40\n",
       "2            yandex_direct         4817  2233.111449  0.46\n",
       "1    instagram_new_adverts         3347  2161.441691  0.65\n",
       "0             facebook_ads         2726  2140.904643  0.79"
      ]
     },
     "execution_count": 31,
     "metadata": {},
     "output_type": "execute_result"
    }
   ],
   "source": [
    "# Группировка данных по каналам\n",
    "actions_grouped = merged_actions_source.groupby('source')['user_id'].nunique().reset_index()\n",
    "actions_grouped.columns=['source', 'users_count']\n",
    "costs_grouped = ad_costs.groupby('source')['cost'].sum().reset_index()\n",
    "\n",
    "# Объединение таблиц\n",
    "combined_data = actions_grouped.merge(costs_grouped, on='source')\n",
    "\n",
    "# Расчет САС\n",
    "combined_data['CAC'] = (combined_data['cost'] / combined_data['users_count']).round(2)\n",
    "\n",
    "# Вывод результатов\n",
    "combined_data = combined_data.sort_values(by='CAC')\n",
    "combined_data"
   ]
  },
  {
   "cell_type": "markdown",
   "metadata": {},
   "source": [
    "Из получившейся таблицы видно, что самая высокая стоимость привлечения пользователя — через facebook_ads: 0.79 у.е. \\\n",
    "Самая низкая — через youtube_channel_reklama: 0.4 у.е."
   ]
  },
  {
   "cell_type": "markdown",
   "metadata": {},
   "source": [
    "Теперь визуализируем данную таблицу:"
   ]
  },
  {
   "cell_type": "code",
   "execution_count": 32,
   "metadata": {},
   "outputs": [
    {
     "data": {
      "image/png": "[encoded data removed]",
      "text/plain": [
       "<Figure size 432x288 with 1 Axes>"
      ]
     },
     "metadata": {
      "needs_background": "light"
     },
     "output_type": "display_data"
    }
   ],
   "source": [
    "# Получение данных для построения диаграммы\n",
    "sources = combined_data['source']\n",
    "cac_values = combined_data['CAC']\n",
    "\n",
    "# Создание графика\n",
    "plt.bar(sources, cac_values)\n",
    "plt.title('CAC по источникам')\n",
    "plt.xlabel('Источник')\n",
    "plt.ylabel('CAC') \n",
    "plt.xticks(rotation=45)  \n",
    "plt.show()"
   ]
  },
  {
   "cell_type": "markdown",
   "metadata": {},
   "source": [
    "#### Вывод:\n",
    "Таким образом, можно сделать вывод, что хотя средняя продолжительность игры, процент пользователей, прошедших первый уровень, и количество построенных зданий не сильно различаются в зависимости от рекламных источников, стоимость привлечения пользователя варьируется значительно, и наиболее дорогостоящим способом является Facebook Ads (0.79 у.е.), а самым дешевым - YouTube Channel Reklama (0.4 у.е.)."
   ]
  },
  {
   "cell_type": "markdown",
   "metadata": {},
   "source": [
    "### Проверка статистических гипотез:"
   ]
  },
  {
   "cell_type": "markdown",
   "metadata": {},
   "source": [
    "#### Проверка гипотезы о различии времени завершения уровня в зависимости от способа прохождения (через реализацию проекта или победу над первым игроком)."
   ]
  },
  {
   "cell_type": "markdown",
   "metadata": {},
   "source": [
    "Для начала найдём всех уникальных пользователей, прошедших первый уровень:"
   ]
  },
  {
   "cell_type": "code",
   "execution_count": 33,
   "metadata": {},
   "outputs": [],
   "source": [
    "# Создание таблицы level_1_players\n",
    "level_1_players = merged_actions_source[merged_actions_source['event'] == 'finished_stage_1']\n",
    "\n",
    "# Нахождение времени первого события для каждого пользователя\n",
    "first_event_dates = merged_actions_source.groupby('user_id')['event_datetime'].min().reset_index()\n",
    "first_event_dates.columns = ['user_id', 'first_event_date']\n",
    "\n",
    "# Объединение таблиц level_1_players и first_event_dates по user_id\n",
    "level_1_players = level_1_players.merge(first_event_dates, on='user_id')\n",
    "\n",
    "# Вычисление времени прохождения первого уровня в часах\n",
    "level_1_players['time_to_complete_hours'] = (level_1_players['event_datetime'] - level_1_players['first_event_date']).dt.total_seconds() / 3600"
   ]
  },
  {
   "cell_type": "code",
   "execution_count": 34,
   "metadata": {},
   "outputs": [
    {
     "data": {
      "text/html": [
       "<div>\n",
       "<style scoped>\n",
       "    .dataframe tbody tr th:only-of-type {\n",
       "        vertical-align: middle;\n",
       "    }\n",
       "\n",
       "    .dataframe tbody tr th {\n",
       "        vertical-align: top;\n",
       "    }\n",
       "\n",
       "    .dataframe thead th {\n",
       "        text-align: right;\n",
       "    }\n",
       "</style>\n",
       "<table border=\"1\" class=\"dataframe\">\n",
       "  <thead>\n",
       "    <tr style=\"text-align: right;\">\n",
       "      <th></th>\n",
       "      <th>event_datetime</th>\n",
       "      <th>event</th>\n",
       "      <th>building_type</th>\n",
       "      <th>user_id</th>\n",
       "      <th>project_type</th>\n",
       "      <th>source</th>\n",
       "      <th>first_event_date</th>\n",
       "      <th>time_to_complete_hours</th>\n",
       "    </tr>\n",
       "  </thead>\n",
       "  <tbody>\n",
       "    <tr>\n",
       "      <th>0</th>\n",
       "      <td>2020-05-15 05:29:13</td>\n",
       "      <td>finished_stage_1</td>\n",
       "      <td>NaN</td>\n",
       "      <td>c07b1c10-f477-44dc-81dc-ec82254b1347</td>\n",
       "      <td>NaN</td>\n",
       "      <td>facebook_ads</td>\n",
       "      <td>2020-05-04 00:00:03</td>\n",
       "      <td>269.486111</td>\n",
       "    </tr>\n",
       "    <tr>\n",
       "      <th>1</th>\n",
       "      <td>2020-05-16 11:51:58</td>\n",
       "      <td>finished_stage_1</td>\n",
       "      <td>NaN</td>\n",
       "      <td>6edd42cc-e753-4ff6-a947-2107cd560710</td>\n",
       "      <td>NaN</td>\n",
       "      <td>instagram_new_adverts</td>\n",
       "      <td>2020-05-04 00:00:16</td>\n",
       "      <td>299.861667</td>\n",
       "    </tr>\n",
       "    <tr>\n",
       "      <th>2</th>\n",
       "      <td>2020-05-11 14:18:05</td>\n",
       "      <td>finished_stage_1</td>\n",
       "      <td>NaN</td>\n",
       "      <td>cdc6bb92-0ccb-4490-9866-ef142f09139d</td>\n",
       "      <td>NaN</td>\n",
       "      <td>yandex_direct</td>\n",
       "      <td>2020-05-04 00:00:35</td>\n",
       "      <td>182.291667</td>\n",
       "    </tr>\n",
       "    <tr>\n",
       "      <th>3</th>\n",
       "      <td>2020-05-16 13:08:11</td>\n",
       "      <td>finished_stage_1</td>\n",
       "      <td>NaN</td>\n",
       "      <td>4fe0f101-694b-4e31-9740-d1d87f7208ea</td>\n",
       "      <td>NaN</td>\n",
       "      <td>facebook_ads</td>\n",
       "      <td>2020-05-04 00:00:36</td>\n",
       "      <td>301.126389</td>\n",
       "    </tr>\n",
       "    <tr>\n",
       "      <th>4</th>\n",
       "      <td>2020-05-18 03:50:27</td>\n",
       "      <td>finished_stage_1</td>\n",
       "      <td>NaN</td>\n",
       "      <td>65a92713-5969-48b1-8945-bfefa5063887</td>\n",
       "      <td>NaN</td>\n",
       "      <td>yandex_direct</td>\n",
       "      <td>2020-05-04 00:00:44</td>\n",
       "      <td>339.828611</td>\n",
       "    </tr>\n",
       "  </tbody>\n",
       "</table>\n",
       "</div>"
      ],
      "text/plain": [
       "       event_datetime             event building_type  \\\n",
       "0 2020-05-15 05:29:13  finished_stage_1           NaN   \n",
       "1 2020-05-16 11:51:58  finished_stage_1           NaN   \n",
       "2 2020-05-11 14:18:05  finished_stage_1           NaN   \n",
       "3 2020-05-16 13:08:11  finished_stage_1           NaN   \n",
       "4 2020-05-18 03:50:27  finished_stage_1           NaN   \n",
       "\n",
       "                                user_id project_type                 source  \\\n",
       "0  c07b1c10-f477-44dc-81dc-ec82254b1347          NaN           facebook_ads   \n",
       "1  6edd42cc-e753-4ff6-a947-2107cd560710          NaN  instagram_new_adverts   \n",
       "2  cdc6bb92-0ccb-4490-9866-ef142f09139d          NaN          yandex_direct   \n",
       "3  4fe0f101-694b-4e31-9740-d1d87f7208ea          NaN           facebook_ads   \n",
       "4  65a92713-5969-48b1-8945-bfefa5063887          NaN          yandex_direct   \n",
       "\n",
       "     first_event_date  time_to_complete_hours  \n",
       "0 2020-05-04 00:00:03              269.486111  \n",
       "1 2020-05-04 00:00:16              299.861667  \n",
       "2 2020-05-04 00:00:35              182.291667  \n",
       "3 2020-05-04 00:00:36              301.126389  \n",
       "4 2020-05-04 00:00:44              339.828611  "
      ]
     },
     "execution_count": 34,
     "metadata": {},
     "output_type": "execute_result"
    }
   ],
   "source": [
    "level_1_players.head()"
   ]
  },
  {
   "cell_type": "markdown",
   "metadata": {},
   "source": [
    "Теперь сформируем таблицу завершивших первый уровень через постройку орбитального комплекса:"
   ]
  },
  {
   "cell_type": "code",
   "execution_count": 35,
   "metadata": {},
   "outputs": [],
   "source": [
    "pve_players = merged_actions_source[merged_actions_source['project_type'] == 'satellite_orbital_assembly']\n",
    "pve_players = pve_players.merge(level_1_players, on='user_id')"
   ]
  },
  {
   "cell_type": "code",
   "execution_count": 36,
   "metadata": {},
   "outputs": [
    {
     "data": {
      "text/html": [
       "<div>\n",
       "<style scoped>\n",
       "    .dataframe tbody tr th:only-of-type {\n",
       "        vertical-align: middle;\n",
       "    }\n",
       "\n",
       "    .dataframe tbody tr th {\n",
       "        vertical-align: top;\n",
       "    }\n",
       "\n",
       "    .dataframe thead th {\n",
       "        text-align: right;\n",
       "    }\n",
       "</style>\n",
       "<table border=\"1\" class=\"dataframe\">\n",
       "  <thead>\n",
       "    <tr style=\"text-align: right;\">\n",
       "      <th></th>\n",
       "      <th>event_datetime_x</th>\n",
       "      <th>event_x</th>\n",
       "      <th>building_type_x</th>\n",
       "      <th>user_id</th>\n",
       "      <th>project_type_x</th>\n",
       "      <th>source_x</th>\n",
       "      <th>event_datetime_y</th>\n",
       "      <th>event_y</th>\n",
       "      <th>building_type_y</th>\n",
       "      <th>project_type_y</th>\n",
       "      <th>source_y</th>\n",
       "      <th>first_event_date</th>\n",
       "      <th>time_to_complete_hours</th>\n",
       "    </tr>\n",
       "  </thead>\n",
       "  <tbody>\n",
       "    <tr>\n",
       "      <th>0</th>\n",
       "      <td>2020-05-13 06:53:03</td>\n",
       "      <td>project</td>\n",
       "      <td>NaN</td>\n",
       "      <td>c07b1c10-f477-44dc-81dc-ec82254b1347</td>\n",
       "      <td>satellite_orbital_assembly</td>\n",
       "      <td>facebook_ads</td>\n",
       "      <td>2020-05-15 05:29:13</td>\n",
       "      <td>finished_stage_1</td>\n",
       "      <td>NaN</td>\n",
       "      <td>NaN</td>\n",
       "      <td>facebook_ads</td>\n",
       "      <td>2020-05-04 00:00:03</td>\n",
       "      <td>269.486111</td>\n",
       "    </tr>\n",
       "    <tr>\n",
       "      <th>1</th>\n",
       "      <td>2020-05-18 02:18:19</td>\n",
       "      <td>project</td>\n",
       "      <td>NaN</td>\n",
       "      <td>65a92713-5969-48b1-8945-bfefa5063887</td>\n",
       "      <td>satellite_orbital_assembly</td>\n",
       "      <td>yandex_direct</td>\n",
       "      <td>2020-05-18 03:50:27</td>\n",
       "      <td>finished_stage_1</td>\n",
       "      <td>NaN</td>\n",
       "      <td>NaN</td>\n",
       "      <td>yandex_direct</td>\n",
       "      <td>2020-05-04 00:00:44</td>\n",
       "      <td>339.828611</td>\n",
       "    </tr>\n",
       "    <tr>\n",
       "      <th>2</th>\n",
       "      <td>2020-05-18 18:28:31</td>\n",
       "      <td>project</td>\n",
       "      <td>NaN</td>\n",
       "      <td>fa352362-d258-472c-b295-2796ccc39fa3</td>\n",
       "      <td>satellite_orbital_assembly</td>\n",
       "      <td>youtube_channel_reklama</td>\n",
       "      <td>2020-05-19 14:36:02</td>\n",
       "      <td>finished_stage_1</td>\n",
       "      <td>NaN</td>\n",
       "      <td>NaN</td>\n",
       "      <td>youtube_channel_reklama</td>\n",
       "      <td>2020-05-04 00:01:33</td>\n",
       "      <td>374.574722</td>\n",
       "    </tr>\n",
       "    <tr>\n",
       "      <th>3</th>\n",
       "      <td>2020-05-14 17:33:52</td>\n",
       "      <td>project</td>\n",
       "      <td>NaN</td>\n",
       "      <td>7b3b6554-7949-4065-9808-d6c79bdc2f58</td>\n",
       "      <td>satellite_orbital_assembly</td>\n",
       "      <td>instagram_new_adverts</td>\n",
       "      <td>2020-05-15 16:09:11</td>\n",
       "      <td>finished_stage_1</td>\n",
       "      <td>NaN</td>\n",
       "      <td>NaN</td>\n",
       "      <td>instagram_new_adverts</td>\n",
       "      <td>2020-05-04 00:02:56</td>\n",
       "      <td>280.104167</td>\n",
       "    </tr>\n",
       "    <tr>\n",
       "      <th>4</th>\n",
       "      <td>2020-05-14 02:32:42</td>\n",
       "      <td>project</td>\n",
       "      <td>NaN</td>\n",
       "      <td>b374304d-2f74-4cc1-a4e2-500da44a06c7</td>\n",
       "      <td>satellite_orbital_assembly</td>\n",
       "      <td>facebook_ads</td>\n",
       "      <td>2020-05-15 04:24:34</td>\n",
       "      <td>finished_stage_1</td>\n",
       "      <td>NaN</td>\n",
       "      <td>NaN</td>\n",
       "      <td>facebook_ads</td>\n",
       "      <td>2020-05-04 00:03:46</td>\n",
       "      <td>268.346667</td>\n",
       "    </tr>\n",
       "  </tbody>\n",
       "</table>\n",
       "</div>"
      ],
      "text/plain": [
       "     event_datetime_x  event_x building_type_x  \\\n",
       "0 2020-05-13 06:53:03  project             NaN   \n",
       "1 2020-05-18 02:18:19  project             NaN   \n",
       "2 2020-05-18 18:28:31  project             NaN   \n",
       "3 2020-05-14 17:33:52  project             NaN   \n",
       "4 2020-05-14 02:32:42  project             NaN   \n",
       "\n",
       "                                user_id              project_type_x  \\\n",
       "0  c07b1c10-f477-44dc-81dc-ec82254b1347  satellite_orbital_assembly   \n",
       "1  65a92713-5969-48b1-8945-bfefa5063887  satellite_orbital_assembly   \n",
       "2  fa352362-d258-472c-b295-2796ccc39fa3  satellite_orbital_assembly   \n",
       "3  7b3b6554-7949-4065-9808-d6c79bdc2f58  satellite_orbital_assembly   \n",
       "4  b374304d-2f74-4cc1-a4e2-500da44a06c7  satellite_orbital_assembly   \n",
       "\n",
       "                  source_x    event_datetime_y           event_y  \\\n",
       "0             facebook_ads 2020-05-15 05:29:13  finished_stage_1   \n",
       "1            yandex_direct 2020-05-18 03:50:27  finished_stage_1   \n",
       "2  youtube_channel_reklama 2020-05-19 14:36:02  finished_stage_1   \n",
       "3    instagram_new_adverts 2020-05-15 16:09:11  finished_stage_1   \n",
       "4             facebook_ads 2020-05-15 04:24:34  finished_stage_1   \n",
       "\n",
       "  building_type_y project_type_y                 source_y    first_event_date  \\\n",
       "0             NaN            NaN             facebook_ads 2020-05-04 00:00:03   \n",
       "1             NaN            NaN            yandex_direct 2020-05-04 00:00:44   \n",
       "2             NaN            NaN  youtube_channel_reklama 2020-05-04 00:01:33   \n",
       "3             NaN            NaN    instagram_new_adverts 2020-05-04 00:02:56   \n",
       "4             NaN            NaN             facebook_ads 2020-05-04 00:03:46   \n",
       "\n",
       "   time_to_complete_hours  \n",
       "0              269.486111  \n",
       "1              339.828611  \n",
       "2              374.574722  \n",
       "3              280.104167  \n",
       "4              268.346667  "
      ]
     },
     "execution_count": 36,
     "metadata": {},
     "output_type": "execute_result"
    }
   ],
   "source": [
    "pve_players.head()"
   ]
  },
  {
   "cell_type": "markdown",
   "metadata": {},
   "source": [
    "И таблицу тех, кто прошёл первый уровень через победу над врагом:"
   ]
  },
  {
   "cell_type": "code",
   "execution_count": 37,
   "metadata": {},
   "outputs": [],
   "source": [
    "pvp_players = level_1_players[~level_1_players['user_id'].isin(pve_players['user_id'])]"
   ]
  },
  {
   "cell_type": "code",
   "execution_count": 38,
   "metadata": {},
   "outputs": [
    {
     "data": {
      "text/html": [
       "<div>\n",
       "<style scoped>\n",
       "    .dataframe tbody tr th:only-of-type {\n",
       "        vertical-align: middle;\n",
       "    }\n",
       "\n",
       "    .dataframe tbody tr th {\n",
       "        vertical-align: top;\n",
       "    }\n",
       "\n",
       "    .dataframe thead th {\n",
       "        text-align: right;\n",
       "    }\n",
       "</style>\n",
       "<table border=\"1\" class=\"dataframe\">\n",
       "  <thead>\n",
       "    <tr style=\"text-align: right;\">\n",
       "      <th></th>\n",
       "      <th>event_datetime</th>\n",
       "      <th>event</th>\n",
       "      <th>building_type</th>\n",
       "      <th>user_id</th>\n",
       "      <th>project_type</th>\n",
       "      <th>source</th>\n",
       "      <th>first_event_date</th>\n",
       "      <th>time_to_complete_hours</th>\n",
       "    </tr>\n",
       "  </thead>\n",
       "  <tbody>\n",
       "    <tr>\n",
       "      <th>1</th>\n",
       "      <td>2020-05-16 11:51:58</td>\n",
       "      <td>finished_stage_1</td>\n",
       "      <td>NaN</td>\n",
       "      <td>6edd42cc-e753-4ff6-a947-2107cd560710</td>\n",
       "      <td>NaN</td>\n",
       "      <td>instagram_new_adverts</td>\n",
       "      <td>2020-05-04 00:00:16</td>\n",
       "      <td>299.861667</td>\n",
       "    </tr>\n",
       "    <tr>\n",
       "      <th>2</th>\n",
       "      <td>2020-05-11 14:18:05</td>\n",
       "      <td>finished_stage_1</td>\n",
       "      <td>NaN</td>\n",
       "      <td>cdc6bb92-0ccb-4490-9866-ef142f09139d</td>\n",
       "      <td>NaN</td>\n",
       "      <td>yandex_direct</td>\n",
       "      <td>2020-05-04 00:00:35</td>\n",
       "      <td>182.291667</td>\n",
       "    </tr>\n",
       "    <tr>\n",
       "      <th>3</th>\n",
       "      <td>2020-05-16 13:08:11</td>\n",
       "      <td>finished_stage_1</td>\n",
       "      <td>NaN</td>\n",
       "      <td>4fe0f101-694b-4e31-9740-d1d87f7208ea</td>\n",
       "      <td>NaN</td>\n",
       "      <td>facebook_ads</td>\n",
       "      <td>2020-05-04 00:00:36</td>\n",
       "      <td>301.126389</td>\n",
       "    </tr>\n",
       "    <tr>\n",
       "      <th>6</th>\n",
       "      <td>2020-05-12 18:19:19</td>\n",
       "      <td>finished_stage_1</td>\n",
       "      <td>NaN</td>\n",
       "      <td>9c200ece-3b74-44c4-8a3f-260f2486c5d7</td>\n",
       "      <td>NaN</td>\n",
       "      <td>facebook_ads</td>\n",
       "      <td>2020-05-04 00:02:24</td>\n",
       "      <td>210.281944</td>\n",
       "    </tr>\n",
       "    <tr>\n",
       "      <th>8</th>\n",
       "      <td>2020-05-11 21:12:29</td>\n",
       "      <td>finished_stage_1</td>\n",
       "      <td>NaN</td>\n",
       "      <td>02bf92c2-17a0-4156-be88-2054fb6b7421</td>\n",
       "      <td>NaN</td>\n",
       "      <td>yandex_direct</td>\n",
       "      <td>2020-05-04 00:03:10</td>\n",
       "      <td>189.155278</td>\n",
       "    </tr>\n",
       "  </tbody>\n",
       "</table>\n",
       "</div>"
      ],
      "text/plain": [
       "       event_datetime             event building_type  \\\n",
       "1 2020-05-16 11:51:58  finished_stage_1           NaN   \n",
       "2 2020-05-11 14:18:05  finished_stage_1           NaN   \n",
       "3 2020-05-16 13:08:11  finished_stage_1           NaN   \n",
       "6 2020-05-12 18:19:19  finished_stage_1           NaN   \n",
       "8 2020-05-11 21:12:29  finished_stage_1           NaN   \n",
       "\n",
       "                                user_id project_type                 source  \\\n",
       "1  6edd42cc-e753-4ff6-a947-2107cd560710          NaN  instagram_new_adverts   \n",
       "2  cdc6bb92-0ccb-4490-9866-ef142f09139d          NaN          yandex_direct   \n",
       "3  4fe0f101-694b-4e31-9740-d1d87f7208ea          NaN           facebook_ads   \n",
       "6  9c200ece-3b74-44c4-8a3f-260f2486c5d7          NaN           facebook_ads   \n",
       "8  02bf92c2-17a0-4156-be88-2054fb6b7421          NaN          yandex_direct   \n",
       "\n",
       "     first_event_date  time_to_complete_hours  \n",
       "1 2020-05-04 00:00:16              299.861667  \n",
       "2 2020-05-04 00:00:35              182.291667  \n",
       "3 2020-05-04 00:00:36              301.126389  \n",
       "6 2020-05-04 00:02:24              210.281944  \n",
       "8 2020-05-04 00:03:10              189.155278  "
      ]
     },
     "execution_count": 38,
     "metadata": {},
     "output_type": "execute_result"
    }
   ],
   "source": [
    "pvp_players.head()"
   ]
  },
  {
   "cell_type": "markdown",
   "metadata": {},
   "source": [
    "Запишем все значения времен прохождения в отдельные переменные:"
   ]
  },
  {
   "cell_type": "code",
   "execution_count": 39,
   "metadata": {},
   "outputs": [],
   "source": [
    "pve_players_time = pve_players['time_to_complete_hours'].values\n",
    "pvp_players_time = pvp_players['time_to_complete_hours'].values"
   ]
  },
  {
   "cell_type": "markdown",
   "metadata": {},
   "source": [
    "Сформулируем нулевую гипотезу: \\\n",
    "H0: Среднее время завершения уровня одинаковое вне зависимости от способа прохождения. \\\n",
    "H1: Среднее время завершения уровня различается в зависимости от способа прохождения."
   ]
  },
  {
   "cell_type": "markdown",
   "metadata": {},
   "source": [
    "Для проверки гипотезы о равенстве средних двух генеральных совокупностей применим t-тест. Установим уровень значимости в 5%."
   ]
  },
  {
   "cell_type": "code",
   "execution_count": 40,
   "metadata": {},
   "outputs": [
    {
     "name": "stdout",
     "output_type": "stream",
     "text": [
      "Отвергаем нулевую гипотезу: средние значения выборок различаются.\n",
      "P-значение: 5.708058235069386e-107\n"
     ]
    }
   ],
   "source": [
    "alpha = 0.05\n",
    "\n",
    "t_value, p_value = stats.ttest_ind(pve_players_time, pvp_players_time, equal_var=False)\n",
    "\n",
    "if p_value < alpha:\n",
    "    print(\"Отвергаем нулевую гипотезу: средние значения выборок различаются.\")\n",
    "else:\n",
    "    print(\"Не отвергаем нулевую гипотезу: нет значимого различия между средними значениями выборок.\")\n",
    "print(\"P-значение:\", p_value)"
   ]
  },
  {
   "cell_type": "markdown",
   "metadata": {},
   "source": [
    "И для наглядности построим распределение времён прохождения с помощью гистограмм:"
   ]
  },
  {
   "cell_type": "code",
   "execution_count": 67,
   "metadata": {},
   "outputs": [
    {
     "data": {
      "image/png": "[encoded data removed]",
      "text/plain": [
       "<Figure size 432x288 with 1 Axes>"
      ]
     },
     "metadata": {
      "needs_background": "light"
     },
     "output_type": "display_data"
    }
   ],
   "source": [
    "plt.hist(pvp_players_time, bins=100, alpha=0.5, label='PVP игроки')\n",
    "plt.hist(pve_players_time, bins=100, alpha=0.5, label='PVE игроки', color='red')\n",
    "\n",
    "plt.xlabel('Время, ч')\n",
    "plt.ylabel('Частота')\n",
    "plt.title('Распределение времён прохождения PVE и PVP игроков')\n",
    "\n",
    "plt.legend()\n",
    "\n",
    "plt.show()"
   ]
  },
  {
   "cell_type": "markdown",
   "metadata": {},
   "source": [
    "Таким образом, существуют статистически значимые различия среднего времени прохождения между PVE и PVP игроками, на графике можем увидеть, что PVE игроки проходят игру заметно дольше."
   ]
  },
  {
   "cell_type": "markdown",
   "metadata": {},
   "source": [
    "#### Проверка второй гипотезы о различии времени завершения уровня в зависимости от рекламного канала:"
   ]
  },
  {
   "cell_type": "markdown",
   "metadata": {},
   "source": [
    "Разделим времена прохождения игры пользователями имеющейся таблицы ``level_1_players`` по рекламным каналам:"
   ]
  },
  {
   "cell_type": "code",
   "execution_count": 42,
   "metadata": {},
   "outputs": [
    {
     "data": {
      "text/plain": [
       "array(['facebook_ads', 'instagram_new_adverts', 'yandex_direct',\n",
       "       'youtube_channel_reklama'], dtype=object)"
      ]
     },
     "execution_count": 42,
     "metadata": {},
     "output_type": "execute_result"
    }
   ],
   "source": [
    "level_1_players['source'].unique()"
   ]
  },
  {
   "cell_type": "code",
   "execution_count": 43,
   "metadata": {},
   "outputs": [],
   "source": [
    "# Создание четырех массивов данных в зависимости от значения столбца source\n",
    "facebook_ads_data = level_1_players[level_1_players['source'] == 'facebook_ads']['time_to_complete_hours'].values\n",
    "instagram_new_adverts_data = level_1_players[level_1_players['source'] == 'instagram_new_adverts']['time_to_complete_hours'].values\n",
    "yandex_direct_data = level_1_players[level_1_players['source'] == 'yandex_direct']['time_to_complete_hours'].values\n",
    "youtube_channel_reklama_data = level_1_players[level_1_players['source'] == 'youtube_channel_reklama']['time_to_complete_hours'].values"
   ]
  },
  {
   "cell_type": "markdown",
   "metadata": {},
   "source": [
    "##### Cравнение facebook_ads и instagram_new_adverts."
   ]
  },
  {
   "cell_type": "markdown",
   "metadata": {},
   "source": [
    "Сформулируем нулевую гипотезу: \\\n",
    "H0: Среднее время завершения уровня одинаковое у пользователей, пришедших по каналам ``facebook_ads`` и ``instagram_new_adverts``. \\\n",
    "H1: Среднее время завершения уровня различается в зависимости от канала.\n",
    "\\\n",
    "Для проверки гипотезы о равенстве средних двух генеральных совокупностей применим t-тест. Так как нам нужно провести 6 статистических тестов, необходимо сделать попраку на множественные сравнения. Установим уровень значимости alpha:"
   ]
  },
  {
   "cell_type": "code",
   "execution_count": 44,
   "metadata": {},
   "outputs": [],
   "source": [
    "alpha = 0.05 / 6"
   ]
  },
  {
   "cell_type": "code",
   "execution_count": 45,
   "metadata": {},
   "outputs": [
    {
     "name": "stdout",
     "output_type": "stream",
     "text": [
      "Не отвергаем нулевую гипотезу: нет значимого различия между средними значениями выборок.\n",
      "P-значение: 0.8165458824992216\n"
     ]
    }
   ],
   "source": [
    "t_value, p_value = stats.ttest_ind(facebook_ads_data, instagram_new_adverts_data, equal_var=False)\n",
    "\n",
    "if p_value < alpha:\n",
    "    print(\"Отвергаем нулевую гипотезу: средние значения выборок различаются.\")\n",
    "else:\n",
    "    print(\"Не отвергаем нулевую гипотезу: нет значимого различия между средними значениями выборок.\")\n",
    "print(\"P-значение:\", p_value)"
   ]
  },
  {
   "cell_type": "markdown",
   "metadata": {},
   "source": [
    "Таким образом, не удалось установить статистически значимой разницы между временами прохождения игры пользователями, пришедшими по каналам ``facebook_ads`` и ``instagram_new_adverts``."
   ]
  },
  {
   "cell_type": "markdown",
   "metadata": {},
   "source": [
    "##### Cравнение facebook_ads и yandex_direct."
   ]
  },
  {
   "cell_type": "markdown",
   "metadata": {},
   "source": [
    "Сформулируем нулевую гипотезу: \\\n",
    "H0: Среднее время завершения уровня одинаковое у пользователей, пришедших по каналам ``facebook_ads`` и ``yandex_direct``. \\\n",
    "H1: Среднее время завершения уровня различается в зависимости от канала.\n",
    "\\\n",
    "Для проверки гипотезы о равенстве средних двух генеральных совокупностей применим t-тест. Так как нам нужно провести 6 статистических тестов, необходимо сделать попраку на множественные сравнения. Установим прежний уровень значимости alpha:"
   ]
  },
  {
   "cell_type": "code",
   "execution_count": 46,
   "metadata": {},
   "outputs": [
    {
     "name": "stdout",
     "output_type": "stream",
     "text": [
      "Не отвергаем нулевую гипотезу: нет значимого различия между средними значениями выборок.\n",
      "P-значение: 0.7415720672022394\n"
     ]
    }
   ],
   "source": [
    "t_value, p_value = stats.ttest_ind(facebook_ads_data, yandex_direct_data, equal_var=False)\n",
    "\n",
    "if p_value < alpha:\n",
    "    print(\"Отвергаем нулевую гипотезу: средние значения выборок различаются.\")\n",
    "else:\n",
    "    print(\"Не отвергаем нулевую гипотезу: нет значимого различия между средними значениями выборок.\")\n",
    "print(\"P-значение:\", p_value)"
   ]
  },
  {
   "cell_type": "markdown",
   "metadata": {},
   "source": [
    "Таким образом, не удалось установить статистически значимой разницы между временами прохождения игры пользователями, пришедшими по каналам ``facebook_ads`` и ``yandex_direct``."
   ]
  },
  {
   "cell_type": "markdown",
   "metadata": {},
   "source": [
    "##### Cравнение facebook_ads и youtube_channel_reklama."
   ]
  },
  {
   "cell_type": "markdown",
   "metadata": {},
   "source": [
    "Сформулируем нулевую гипотезу: \\\n",
    "H0: Среднее время завершения уровня одинаковое у пользователей, пришедших по каналам ``facebook_ads`` и ``youtube_channel_reklama``. \\\n",
    "H1: Среднее время завершения уровня различается в зависимости от канала.\n",
    "\\\n",
    "Для проверки гипотезы о равенстве средних двух генеральных совокупностей применим t-тест. Так как нам нужно провести 6 статистических тестов, необходимо сделать попраку на множественные сравнения. Установим прежний уровень значимости alpha:"
   ]
  },
  {
   "cell_type": "code",
   "execution_count": 47,
   "metadata": {},
   "outputs": [
    {
     "name": "stdout",
     "output_type": "stream",
     "text": [
      "Не отвергаем нулевую гипотезу: нет значимого различия между средними значениями выборок.\n",
      "P-значение: 0.7702332950180901\n"
     ]
    }
   ],
   "source": [
    "t_value, p_value = stats.ttest_ind(facebook_ads_data, youtube_channel_reklama_data, equal_var=False)\n",
    "\n",
    "if p_value < alpha:\n",
    "    print(\"Отвергаем нулевую гипотезу: средние значения выборок различаются.\")\n",
    "else:\n",
    "    print(\"Не отвергаем нулевую гипотезу: нет значимого различия между средними значениями выборок.\")\n",
    "print(\"P-значение:\", p_value)"
   ]
  },
  {
   "cell_type": "markdown",
   "metadata": {},
   "source": [
    "Таким образом, не удалось установить статистически значимой разницы между временами прохождения игры пользователями, пришедшими по каналам ``facebook_ads`` и ``youtube_channel_reklama``."
   ]
  },
  {
   "cell_type": "markdown",
   "metadata": {},
   "source": [
    "##### Cравнение instagram_new_adverts и yandex_direct."
   ]
  },
  {
   "cell_type": "markdown",
   "metadata": {},
   "source": [
    "Сформулируем нулевую гипотезу: \\\n",
    "H0: Среднее время завершения уровня одинаковое у пользователей, пришедших по каналам ``instagram_new_adverts`` и ``yandex_direct``. \\\n",
    "H1: Среднее время завершения уровня различается в зависимости от канала.\n",
    "\\\n",
    "Для проверки гипотезы о равенстве средних двух генеральных совокупностей применим t-тест. Так как нам нужно провести 6 статистических тестов, необходимо сделать попраку на множественные сравнения. Установим прежний уровень значимости alpha:"
   ]
  },
  {
   "cell_type": "code",
   "execution_count": 48,
   "metadata": {},
   "outputs": [
    {
     "name": "stdout",
     "output_type": "stream",
     "text": [
      "Не отвергаем нулевую гипотезу: нет значимого различия между средними значениями выборок.\n",
      "P-значение: 0.5336764127763518\n"
     ]
    }
   ],
   "source": [
    "t_value, p_value = stats.ttest_ind(instagram_new_adverts_data, yandex_direct_data, equal_var=False)\n",
    "\n",
    "if p_value < alpha:\n",
    "    print(\"Отвергаем нулевую гипотезу: средние значения выборок различаются.\")\n",
    "else:\n",
    "    print(\"Не отвергаем нулевую гипотезу: нет значимого различия между средними значениями выборок.\")\n",
    "print(\"P-значение:\", p_value)"
   ]
  },
  {
   "cell_type": "markdown",
   "metadata": {},
   "source": [
    "Таким образом, не удалось установить статистически значимой разницы между временами прохождения игры пользователями, пришедшими по каналам ``instagram_new_adverts`` и ``yandex_direct``."
   ]
  },
  {
   "cell_type": "markdown",
   "metadata": {},
   "source": [
    "##### Cравнение instagram_new_adverts и youtube_channel_reklama."
   ]
  },
  {
   "cell_type": "markdown",
   "metadata": {},
   "source": [
    "Сформулируем нулевую гипотезу: \\\n",
    "H0: Среднее время завершения уровня одинаковое у пользователей, пришедших по каналам ``instagram_new_adverts`` и ``youtube_channel_reklama``. \\\n",
    "H1: Среднее время завершения уровня различается в зависимости от канала.\n",
    "\\\n",
    "Для проверки гипотезы о равенстве средних двух генеральных совокупностей применим t-тест. Так как нам нужно провести 6 статистических тестов, необходимо сделать попраку на множественные сравнения. Установим прежний уровень значимости alpha:"
   ]
  },
  {
   "cell_type": "code",
   "execution_count": 49,
   "metadata": {},
   "outputs": [
    {
     "name": "stdout",
     "output_type": "stream",
     "text": [
      "Не отвергаем нулевую гипотезу: нет значимого различия между средними значениями выборок.\n",
      "P-значение: 0.9384262310862282\n"
     ]
    }
   ],
   "source": [
    "t_value, p_value = stats.ttest_ind(instagram_new_adverts_data, youtube_channel_reklama_data, equal_var=False)\n",
    "\n",
    "if p_value < alpha:\n",
    "    print(\"Отвергаем нулевую гипотезу: средние значения выборок различаются.\")\n",
    "else:\n",
    "    print(\"Не отвергаем нулевую гипотезу: нет значимого различия между средними значениями выборок.\")\n",
    "print(\"P-значение:\", p_value)"
   ]
  },
  {
   "cell_type": "markdown",
   "metadata": {},
   "source": [
    "Таким образом, не удалось установить статистически значимой разницы между временами прохождения игры пользователями, пришедшими по каналам ``instagram_new_adverts`` и ``youtube_channel_reklama``."
   ]
  },
  {
   "cell_type": "markdown",
   "metadata": {},
   "source": [
    "##### Cравнение yandex_direct и youtube_channel_reklama."
   ]
  },
  {
   "cell_type": "markdown",
   "metadata": {},
   "source": [
    "Сформулируем нулевую гипотезу: \\\n",
    "H0: Среднее время завершения уровня одинаковое у пользователей, пришедших по каналам ``yandex_direct`` и ``youtube_channel_reklama``. \\\n",
    "H1: Среднее время завершения уровня различается в зависимости от канала.\n",
    "\\\n",
    "Для проверки гипотезы о равенстве средних двух генеральных совокупностей применим t-тест. Так как нам нужно провести 6 статистических тестов, необходимо сделать попраку на множественные сравнения. Установим прежний уровень значимости alpha:"
   ]
  },
  {
   "cell_type": "code",
   "execution_count": 50,
   "metadata": {},
   "outputs": [
    {
     "name": "stdout",
     "output_type": "stream",
     "text": [
      "Не отвергаем нулевую гипотезу: нет значимого различия между средними значениями выборок.\n",
      "P-значение: 0.5084859008473895\n"
     ]
    }
   ],
   "source": [
    "t_value, p_value = stats.ttest_ind(yandex_direct_data, youtube_channel_reklama_data, equal_var=False)\n",
    "\n",
    "if p_value < alpha:\n",
    "    print(\"Отвергаем нулевую гипотезу: средние значения выборок различаются.\")\n",
    "else:\n",
    "    print(\"Не отвергаем нулевую гипотезу: нет значимого различия между средними значениями выборок.\")\n",
    "print(\"P-значение:\", p_value)"
   ]
  },
  {
   "cell_type": "markdown",
   "metadata": {},
   "source": [
    "Таким образом, не удалось установить статистически значимой разницы между временами прохождения игры пользователями, пришедшими по каналам ``yandex_direct`` и ``youtube_channel_reklama``."
   ]
  },
  {
   "cell_type": "markdown",
   "metadata": {},
   "source": [
    "#### Вывод"
   ]
  },
  {
   "cell_type": "markdown",
   "metadata": {},
   "source": [
    "Результаты A/B тестов позволяют сделать вывод о наличии статистически значимых различий во временах прохождения игры между PVE и PVP игроками. Однако, выбранные каналы привлечения пользователей не оказывают статистически значимого влияния на время прохождения игры."
   ]
  },
  {
   "cell_type": "markdown",
   "metadata": {},
   "source": [
    "### Общий вывод"
   ]
  },
  {
   "cell_type": "markdown",
   "metadata": {},
   "source": [
    "* Средняя продолжительность игры, процент пользователей, прошедших первый уровень и количество построенных зданий не сильно различаются в зависимости от рекламных источников.\n",
    "\n",
    "* Стоимость привлечения пользователя варьируется значительно в зависимости от рекламного канала. Наиболее дорогостоящим способом является Facebook Ads (0.79 у.е.), а самым дешевым - YouTube Channel Reklama (0.4 у.е.).\n",
    "\n",
    "* Результаты A/B тестов показывают статистически значимые различия во временах прохождения игры между PVE и PVP игроками. Однако выбранные каналы привлечения пользователей не оказывают статистически значимого влияния на время прохождения игры.\n",
    "\n",
    "* Таким образом, основным различием между рекламными каналами является стоимость привлечения игроков. Поэтому для ранжирования каналов по эффективности ключевой метрикой будет являться САС (стоимость привлечения одного пользователя).\n",
    "\n",
    "* Наилучшей стратегией будет вкладываться в рекламные каналы, которые позволяют привлекать игроков дешевле. Исходя из представленных данных, YouTube Channel Reklama является наиболее эффективным каналом с самой низкой стоимостью привлечения пользователя (0.4 у.е.), а Facebook Ads - наиболее дорогостоящим (0.79 у.е.)."
   ]
  },
  {
   "cell_type": "markdown",
   "metadata": {},
   "source": [
    "Полная таблица приоритизации рекламных каналов по эффективности выглядит следующим образом (согласно стоимости привлечения одного пользователя):\n",
    "1. youtube_channel_reklama\t\n",
    "1. yandex_direct\n",
    "1. instagram_new_adverts\n",
    "1. facebook_ads"
   ]
  }
 ],
 "metadata": {
  "ExecuteTimeLog": [
   {
    "duration": 121,
    "start_time": "2023-07-11T08:33:13.619Z"
   },
   {
    "duration": 1540,
    "start_time": "2023-07-11T08:33:40.641Z"
   },
   {
    "duration": 113,
    "start_time": "2023-07-11T08:33:56.750Z"
   },
   {
    "duration": 199,
    "start_time": "2023-07-11T08:40:08.660Z"
   },
   {
    "duration": 1016,
    "start_time": "2023-07-11T08:41:01.134Z"
   },
   {
    "duration": 17,
    "start_time": "2023-07-11T08:41:20.515Z"
   },
   {
    "duration": 13,
    "start_time": "2023-07-11T08:41:27.009Z"
   },
   {
    "duration": 12,
    "start_time": "2023-07-11T08:41:44.353Z"
   },
   {
    "duration": 8,
    "start_time": "2023-07-11T08:41:54.550Z"
   },
   {
    "duration": 15,
    "start_time": "2023-07-11T08:47:11.699Z"
   },
   {
    "duration": 52,
    "start_time": "2023-07-11T08:48:13.850Z"
   },
   {
    "duration": 17,
    "start_time": "2023-07-11T08:48:34.518Z"
   },
   {
    "duration": 97,
    "start_time": "2023-07-11T09:30:02.512Z"
   },
   {
    "duration": 64,
    "start_time": "2023-07-11T09:30:15.220Z"
   },
   {
    "duration": 14,
    "start_time": "2023-07-11T09:30:55.719Z"
   },
   {
    "duration": 19,
    "start_time": "2023-07-11T09:36:06.715Z"
   },
   {
    "duration": 29,
    "start_time": "2023-07-11T09:37:57.684Z"
   },
   {
    "duration": 43,
    "start_time": "2023-07-11T09:38:23.262Z"
   },
   {
    "duration": 37,
    "start_time": "2023-07-11T09:40:58.510Z"
   },
   {
    "duration": 6,
    "start_time": "2023-07-11T09:41:37.856Z"
   },
   {
    "duration": 8,
    "start_time": "2023-07-11T09:51:12.098Z"
   },
   {
    "duration": 90,
    "start_time": "2023-07-11T09:51:24.591Z"
   },
   {
    "duration": 15,
    "start_time": "2023-07-11T09:51:44.101Z"
   },
   {
    "duration": 103,
    "start_time": "2023-07-11T09:55:42.740Z"
   },
   {
    "duration": 142,
    "start_time": "2023-07-11T09:55:55.168Z"
   },
   {
    "duration": 60,
    "start_time": "2023-07-11T09:55:58.732Z"
   },
   {
    "duration": 8,
    "start_time": "2023-07-11T10:10:16.667Z"
   },
   {
    "duration": 16,
    "start_time": "2023-07-11T10:10:36.705Z"
   },
   {
    "duration": 11,
    "start_time": "2023-07-11T10:10:42.041Z"
   },
   {
    "duration": 40,
    "start_time": "2023-07-11T10:12:51.914Z"
   },
   {
    "duration": 14,
    "start_time": "2023-07-11T10:12:59.251Z"
   },
   {
    "duration": 62,
    "start_time": "2023-07-11T10:13:08.260Z"
   },
   {
    "duration": 18,
    "start_time": "2023-07-11T10:13:32.638Z"
   },
   {
    "duration": 17,
    "start_time": "2023-07-11T10:21:51.096Z"
   },
   {
    "duration": 8,
    "start_time": "2023-07-11T10:23:25.000Z"
   },
   {
    "duration": 1631,
    "start_time": "2023-07-12T08:27:23.677Z"
   },
   {
    "duration": 907,
    "start_time": "2023-07-12T08:27:25.310Z"
   },
   {
    "duration": 14,
    "start_time": "2023-07-12T08:27:26.218Z"
   },
   {
    "duration": 24,
    "start_time": "2023-07-12T08:27:26.234Z"
   },
   {
    "duration": 17,
    "start_time": "2023-07-12T08:27:26.260Z"
   },
   {
    "duration": 47,
    "start_time": "2023-07-12T08:27:26.285Z"
   },
   {
    "duration": 7,
    "start_time": "2023-07-12T08:27:26.334Z"
   },
   {
    "duration": 24,
    "start_time": "2023-07-12T08:27:26.342Z"
   },
   {
    "duration": 65,
    "start_time": "2023-07-12T08:27:26.371Z"
   },
   {
    "duration": 52,
    "start_time": "2023-07-12T08:27:26.438Z"
   },
   {
    "duration": 14,
    "start_time": "2023-07-12T08:27:26.496Z"
   },
   {
    "duration": 7,
    "start_time": "2023-07-12T08:27:26.511Z"
   },
   {
    "duration": 85,
    "start_time": "2023-07-12T08:27:26.519Z"
   },
   {
    "duration": 9,
    "start_time": "2023-07-12T08:27:26.605Z"
   },
   {
    "duration": 87,
    "start_time": "2023-07-12T08:27:26.615Z"
   },
   {
    "duration": 32,
    "start_time": "2023-07-12T08:27:26.704Z"
   },
   {
    "duration": 4,
    "start_time": "2023-07-12T08:27:26.737Z"
   },
   {
    "duration": 64,
    "start_time": "2023-07-12T08:27:26.742Z"
   },
   {
    "duration": 13,
    "start_time": "2023-07-12T08:27:26.808Z"
   },
   {
    "duration": 6,
    "start_time": "2023-07-12T08:27:26.823Z"
   },
   {
    "duration": 11,
    "start_time": "2023-07-12T08:28:23.600Z"
   },
   {
    "duration": 31,
    "start_time": "2023-07-12T08:29:32.458Z"
   },
   {
    "duration": 17,
    "start_time": "2023-07-12T08:30:38.850Z"
   },
   {
    "duration": 38,
    "start_time": "2023-07-12T08:35:19.501Z"
   },
   {
    "duration": 21,
    "start_time": "2023-07-12T08:35:25.582Z"
   },
   {
    "duration": 15,
    "start_time": "2023-07-12T08:37:15.797Z"
   },
   {
    "duration": 20,
    "start_time": "2023-07-12T08:40:51.091Z"
   },
   {
    "duration": 27,
    "start_time": "2023-07-12T08:41:11.559Z"
   },
   {
    "duration": 26,
    "start_time": "2023-07-12T08:41:19.665Z"
   },
   {
    "duration": 105,
    "start_time": "2023-07-12T08:43:47.708Z"
   },
   {
    "duration": 15,
    "start_time": "2023-07-12T08:43:59.391Z"
   },
   {
    "duration": 35,
    "start_time": "2023-07-12T08:46:19.431Z"
   },
   {
    "duration": 17,
    "start_time": "2023-07-12T08:46:20.585Z"
   },
   {
    "duration": 34,
    "start_time": "2023-07-12T08:46:56.021Z"
   },
   {
    "duration": 13,
    "start_time": "2023-07-12T08:46:56.789Z"
   },
   {
    "duration": 122,
    "start_time": "2023-07-12T08:47:47.909Z"
   },
   {
    "duration": 34,
    "start_time": "2023-07-12T08:48:00.503Z"
   },
   {
    "duration": 10,
    "start_time": "2023-07-12T08:48:01.799Z"
   },
   {
    "duration": 29,
    "start_time": "2023-07-12T08:49:23.360Z"
   },
   {
    "duration": 10,
    "start_time": "2023-07-12T08:49:24.512Z"
   },
   {
    "duration": 9,
    "start_time": "2023-07-12T08:49:31.512Z"
   },
   {
    "duration": 10,
    "start_time": "2023-07-12T08:49:39.116Z"
   },
   {
    "duration": 5,
    "start_time": "2023-07-12T08:49:47.493Z"
   },
   {
    "duration": 6,
    "start_time": "2023-07-12T08:50:55.007Z"
   },
   {
    "duration": 7,
    "start_time": "2023-07-12T08:50:55.566Z"
   },
   {
    "duration": 5,
    "start_time": "2023-07-12T08:53:28.348Z"
   },
   {
    "duration": 16,
    "start_time": "2023-07-12T08:53:28.987Z"
   },
   {
    "duration": 4,
    "start_time": "2023-07-12T08:53:46.998Z"
   },
   {
    "duration": 4,
    "start_time": "2023-07-12T08:54:01.400Z"
   },
   {
    "duration": 5,
    "start_time": "2023-07-12T08:57:17.063Z"
   },
   {
    "duration": 4,
    "start_time": "2023-07-12T08:57:43.100Z"
   },
   {
    "duration": 61,
    "start_time": "2023-07-12T09:02:49.934Z"
   },
   {
    "duration": 60,
    "start_time": "2023-07-12T09:03:05.426Z"
   },
   {
    "duration": 69,
    "start_time": "2023-07-12T09:11:16.151Z"
   },
   {
    "duration": 47,
    "start_time": "2023-07-12T09:12:12.589Z"
   },
   {
    "duration": 49,
    "start_time": "2023-07-12T09:15:57.809Z"
   },
   {
    "duration": 13,
    "start_time": "2023-07-12T09:16:05.868Z"
   },
   {
    "duration": 2131,
    "start_time": "2023-07-12T09:17:12.648Z"
   },
   {
    "duration": 0,
    "start_time": "2023-07-12T09:17:14.787Z"
   },
   {
    "duration": 60,
    "start_time": "2023-07-12T09:17:19.206Z"
   },
   {
    "duration": 11,
    "start_time": "2023-07-12T09:17:20.693Z"
   },
   {
    "duration": 6,
    "start_time": "2023-07-12T09:17:52.928Z"
   },
   {
    "duration": 6,
    "start_time": "2023-07-12T09:17:53.641Z"
   },
   {
    "duration": 71,
    "start_time": "2023-07-12T09:20:12.919Z"
   },
   {
    "duration": 7,
    "start_time": "2023-07-12T09:22:42.456Z"
   },
   {
    "duration": 8,
    "start_time": "2023-07-12T09:23:06.039Z"
   },
   {
    "duration": 7,
    "start_time": "2023-07-12T09:24:13.306Z"
   },
   {
    "duration": 5,
    "start_time": "2023-07-12T09:24:20.987Z"
   },
   {
    "duration": 8,
    "start_time": "2023-07-12T09:24:21.987Z"
   },
   {
    "duration": 7,
    "start_time": "2023-07-12T09:24:29.644Z"
   },
   {
    "duration": 10,
    "start_time": "2023-07-12T09:34:38.055Z"
   },
   {
    "duration": 48,
    "start_time": "2023-07-12T09:43:27.384Z"
   },
   {
    "duration": 48,
    "start_time": "2023-07-12T09:46:17.543Z"
   },
   {
    "duration": 71,
    "start_time": "2023-07-12T09:48:49.789Z"
   },
   {
    "duration": 139,
    "start_time": "2023-07-12T09:51:04.048Z"
   },
   {
    "duration": 13,
    "start_time": "2023-07-12T09:51:13.823Z"
   },
   {
    "duration": 7,
    "start_time": "2023-07-12T09:51:22.247Z"
   },
   {
    "duration": 54,
    "start_time": "2023-07-12T09:51:51.246Z"
   },
   {
    "duration": 51,
    "start_time": "2023-07-12T09:52:20.895Z"
   },
   {
    "duration": 6,
    "start_time": "2023-07-12T09:52:49.433Z"
   },
   {
    "duration": 6,
    "start_time": "2023-07-12T09:52:55.189Z"
   },
   {
    "duration": 128,
    "start_time": "2023-07-12T10:10:39.723Z"
   },
   {
    "duration": 6,
    "start_time": "2023-07-12T10:29:55.785Z"
   },
   {
    "duration": 169,
    "start_time": "2023-07-12T10:30:40.613Z"
   },
   {
    "duration": 51,
    "start_time": "2023-07-12T10:36:08.725Z"
   },
   {
    "duration": 60,
    "start_time": "2023-07-12T10:39:09.292Z"
   },
   {
    "duration": 40,
    "start_time": "2023-07-12T10:39:17.849Z"
   },
   {
    "duration": 37,
    "start_time": "2023-07-12T10:39:39.168Z"
   },
   {
    "duration": 38,
    "start_time": "2023-07-12T10:39:58.043Z"
   },
   {
    "duration": 1341,
    "start_time": "2023-07-12T12:42:59.967Z"
   },
   {
    "duration": 829,
    "start_time": "2023-07-12T12:43:01.310Z"
   },
   {
    "duration": 15,
    "start_time": "2023-07-12T12:43:02.141Z"
   },
   {
    "duration": 140,
    "start_time": "2023-07-12T12:43:02.157Z"
   },
   {
    "duration": 34,
    "start_time": "2023-07-12T12:43:02.300Z"
   },
   {
    "duration": 75,
    "start_time": "2023-07-12T12:43:02.335Z"
   },
   {
    "duration": 24,
    "start_time": "2023-07-12T12:43:02.412Z"
   },
   {
    "duration": 76,
    "start_time": "2023-07-12T12:43:02.438Z"
   },
   {
    "duration": 84,
    "start_time": "2023-07-12T12:43:02.516Z"
   },
   {
    "duration": 42,
    "start_time": "2023-07-12T12:43:02.602Z"
   },
   {
    "duration": 49,
    "start_time": "2023-07-12T12:43:02.646Z"
   },
   {
    "duration": 26,
    "start_time": "2023-07-12T12:43:02.697Z"
   },
   {
    "duration": 134,
    "start_time": "2023-07-12T12:43:02.725Z"
   },
   {
    "duration": 9,
    "start_time": "2023-07-12T12:43:02.862Z"
   },
   {
    "duration": 154,
    "start_time": "2023-07-12T12:43:02.872Z"
   },
   {
    "duration": 44,
    "start_time": "2023-07-12T12:43:03.028Z"
   },
   {
    "duration": 8,
    "start_time": "2023-07-12T12:43:03.074Z"
   },
   {
    "duration": 52,
    "start_time": "2023-07-12T12:43:03.084Z"
   },
   {
    "duration": 12,
    "start_time": "2023-07-12T12:43:03.137Z"
   },
   {
    "duration": 17,
    "start_time": "2023-07-12T12:43:03.150Z"
   },
   {
    "duration": 59,
    "start_time": "2023-07-12T12:43:03.169Z"
   },
   {
    "duration": 49,
    "start_time": "2023-07-12T12:43:03.230Z"
   },
   {
    "duration": 9,
    "start_time": "2023-07-12T12:43:03.280Z"
   },
   {
    "duration": 43,
    "start_time": "2023-07-12T12:43:03.291Z"
   },
   {
    "duration": 77,
    "start_time": "2023-07-12T12:43:03.335Z"
   },
   {
    "duration": 8,
    "start_time": "2023-07-12T12:43:03.413Z"
   },
   {
    "duration": 59,
    "start_time": "2023-07-12T12:43:03.423Z"
   },
   {
    "duration": 37,
    "start_time": "2023-07-12T12:43:03.484Z"
   },
   {
    "duration": 2411,
    "start_time": "2023-07-12T12:49:27.201Z"
   },
   {
    "duration": 51,
    "start_time": "2023-07-12T12:49:42.855Z"
   },
   {
    "duration": 2033,
    "start_time": "2023-07-12T12:51:01.610Z"
   },
   {
    "duration": 46,
    "start_time": "2023-07-12T12:51:39.850Z"
   },
   {
    "duration": 2223,
    "start_time": "2023-07-12T12:52:47.090Z"
   },
   {
    "duration": 6,
    "start_time": "2023-07-12T12:53:05.394Z"
   },
   {
    "duration": 52,
    "start_time": "2023-07-12T12:53:11.934Z"
   },
   {
    "duration": 1268,
    "start_time": "2023-07-12T12:53:40.042Z"
   },
   {
    "duration": 809,
    "start_time": "2023-07-12T12:53:41.312Z"
   },
   {
    "duration": 13,
    "start_time": "2023-07-12T12:53:42.123Z"
   },
   {
    "duration": 43,
    "start_time": "2023-07-12T12:53:42.137Z"
   },
   {
    "duration": 14,
    "start_time": "2023-07-12T12:53:42.183Z"
   },
   {
    "duration": 35,
    "start_time": "2023-07-12T12:53:42.199Z"
   },
   {
    "duration": 7,
    "start_time": "2023-07-12T12:53:42.236Z"
   },
   {
    "duration": 25,
    "start_time": "2023-07-12T12:53:42.244Z"
   },
   {
    "duration": 51,
    "start_time": "2023-07-12T12:53:42.270Z"
   },
   {
    "duration": 59,
    "start_time": "2023-07-12T12:53:42.323Z"
   },
   {
    "duration": 13,
    "start_time": "2023-07-12T12:53:42.384Z"
   },
   {
    "duration": 6,
    "start_time": "2023-07-12T12:53:42.399Z"
   },
   {
    "duration": 101,
    "start_time": "2023-07-12T12:53:42.407Z"
   },
   {
    "duration": 12,
    "start_time": "2023-07-12T12:53:42.510Z"
   },
   {
    "duration": 95,
    "start_time": "2023-07-12T12:53:42.524Z"
   },
   {
    "duration": 32,
    "start_time": "2023-07-12T12:53:42.620Z"
   },
   {
    "duration": 15,
    "start_time": "2023-07-12T12:53:42.654Z"
   },
   {
    "duration": 49,
    "start_time": "2023-07-12T12:53:42.671Z"
   },
   {
    "duration": 5,
    "start_time": "2023-07-12T12:53:42.723Z"
   },
   {
    "duration": 17,
    "start_time": "2023-07-12T12:53:42.730Z"
   },
   {
    "duration": 56,
    "start_time": "2023-07-12T12:53:42.749Z"
   },
   {
    "duration": 46,
    "start_time": "2023-07-12T12:53:42.807Z"
   },
   {
    "duration": 16,
    "start_time": "2023-07-12T12:53:42.855Z"
   },
   {
    "duration": 28,
    "start_time": "2023-07-12T12:53:42.872Z"
   },
   {
    "duration": 86,
    "start_time": "2023-07-12T12:53:42.901Z"
   },
   {
    "duration": 9,
    "start_time": "2023-07-12T12:53:42.989Z"
   },
   {
    "duration": 49,
    "start_time": "2023-07-12T12:53:42.999Z"
   },
   {
    "duration": 62,
    "start_time": "2023-07-12T12:53:43.051Z"
   },
   {
    "duration": 6,
    "start_time": "2023-07-12T12:53:43.115Z"
   },
   {
    "duration": 3,
    "start_time": "2023-07-12T12:54:14.768Z"
   },
   {
    "duration": 8,
    "start_time": "2023-07-12T12:54:18.644Z"
   },
   {
    "duration": 2204,
    "start_time": "2023-07-12T12:54:25.865Z"
   },
   {
    "duration": 49,
    "start_time": "2023-07-12T12:54:37.196Z"
   },
   {
    "duration": 50,
    "start_time": "2023-07-12T13:03:00.040Z"
   },
   {
    "duration": 67,
    "start_time": "2023-07-12T13:03:04.869Z"
   },
   {
    "duration": 337,
    "start_time": "2023-07-12T13:04:31.502Z"
   },
   {
    "duration": 140,
    "start_time": "2023-07-12T13:05:47.807Z"
   },
   {
    "duration": 135,
    "start_time": "2023-07-12T13:06:16.399Z"
   },
   {
    "duration": 30,
    "start_time": "2023-07-12T13:13:02.463Z"
   },
   {
    "duration": 1064,
    "start_time": "2023-07-12T13:14:58.218Z"
   },
   {
    "duration": 9,
    "start_time": "2023-07-12T13:30:59.917Z"
   },
   {
    "duration": 11,
    "start_time": "2023-07-12T13:32:20.490Z"
   },
   {
    "duration": 24,
    "start_time": "2023-07-12T13:32:45.576Z"
   },
   {
    "duration": 14,
    "start_time": "2023-07-12T13:32:52.632Z"
   },
   {
    "duration": 12,
    "start_time": "2023-07-12T13:33:06.353Z"
   },
   {
    "duration": 18,
    "start_time": "2023-07-12T13:33:13.604Z"
   },
   {
    "duration": 12,
    "start_time": "2023-07-12T13:33:14.152Z"
   },
   {
    "duration": 14,
    "start_time": "2023-07-12T13:33:17.283Z"
   },
   {
    "duration": 31,
    "start_time": "2023-07-12T14:01:30.196Z"
   },
   {
    "duration": 33,
    "start_time": "2023-07-12T14:01:35.211Z"
   },
   {
    "duration": 44,
    "start_time": "2023-07-12T14:08:10.554Z"
   },
   {
    "duration": 10,
    "start_time": "2023-07-12T14:08:17.291Z"
   },
   {
    "duration": 16,
    "start_time": "2023-07-12T14:08:28.104Z"
   },
   {
    "duration": 6,
    "start_time": "2023-07-12T14:09:19.499Z"
   },
   {
    "duration": 9,
    "start_time": "2023-07-12T14:09:24.497Z"
   },
   {
    "duration": 13,
    "start_time": "2023-07-12T14:09:34.010Z"
   },
   {
    "duration": 27,
    "start_time": "2023-07-12T14:10:56.030Z"
   },
   {
    "duration": 15,
    "start_time": "2023-07-12T14:10:59.911Z"
   },
   {
    "duration": 7,
    "start_time": "2023-07-12T14:13:03.423Z"
   },
   {
    "duration": 6,
    "start_time": "2023-07-12T14:13:12.717Z"
   },
   {
    "duration": 10,
    "start_time": "2023-07-12T14:13:20.598Z"
   },
   {
    "duration": 6,
    "start_time": "2023-07-12T14:13:38.958Z"
   },
   {
    "duration": 13,
    "start_time": "2023-07-12T14:17:03.630Z"
   },
   {
    "duration": 98,
    "start_time": "2023-07-12T14:28:34.396Z"
   },
   {
    "duration": 28,
    "start_time": "2023-07-12T14:28:35.951Z"
   },
   {
    "duration": 70,
    "start_time": "2023-07-12T14:30:35.568Z"
   },
   {
    "duration": 29,
    "start_time": "2023-07-12T14:30:36.453Z"
   },
   {
    "duration": 60,
    "start_time": "2023-07-12T14:33:06.853Z"
   },
   {
    "duration": 21,
    "start_time": "2023-07-12T14:33:08.530Z"
   },
   {
    "duration": 43,
    "start_time": "2023-07-12T14:33:59.219Z"
   },
   {
    "duration": 16,
    "start_time": "2023-07-12T14:33:59.933Z"
   },
   {
    "duration": 76,
    "start_time": "2023-07-12T14:34:13.187Z"
   },
   {
    "duration": 18,
    "start_time": "2023-07-12T14:34:15.017Z"
   },
   {
    "duration": 65,
    "start_time": "2023-07-12T14:34:36.344Z"
   },
   {
    "duration": 18,
    "start_time": "2023-07-12T14:34:37.008Z"
   },
   {
    "duration": 51,
    "start_time": "2023-07-12T14:38:13.123Z"
   },
   {
    "duration": 8,
    "start_time": "2023-07-12T14:38:22.325Z"
   },
   {
    "duration": 28,
    "start_time": "2023-07-12T14:38:30.757Z"
   },
   {
    "duration": 17,
    "start_time": "2023-07-12T14:38:39.704Z"
   },
   {
    "duration": 9,
    "start_time": "2023-07-12T14:38:56.400Z"
   },
   {
    "duration": 1678,
    "start_time": "2023-07-12T14:39:34.100Z"
   },
   {
    "duration": 1152,
    "start_time": "2023-07-12T14:39:35.785Z"
   },
   {
    "duration": 22,
    "start_time": "2023-07-12T14:39:36.939Z"
   },
   {
    "duration": 31,
    "start_time": "2023-07-12T14:39:36.962Z"
   },
   {
    "duration": 22,
    "start_time": "2023-07-12T14:39:36.997Z"
   },
   {
    "duration": 63,
    "start_time": "2023-07-12T14:39:37.021Z"
   },
   {
    "duration": 8,
    "start_time": "2023-07-12T14:39:37.086Z"
   },
   {
    "duration": 18,
    "start_time": "2023-07-12T14:39:37.096Z"
   },
   {
    "duration": 71,
    "start_time": "2023-07-12T14:39:37.116Z"
   },
   {
    "duration": 71,
    "start_time": "2023-07-12T14:39:37.189Z"
   },
   {
    "duration": 18,
    "start_time": "2023-07-12T14:39:37.264Z"
   },
   {
    "duration": 49,
    "start_time": "2023-07-12T14:39:37.284Z"
   },
   {
    "duration": 157,
    "start_time": "2023-07-12T14:39:37.343Z"
   },
   {
    "duration": 22,
    "start_time": "2023-07-12T14:39:37.509Z"
   },
   {
    "duration": 156,
    "start_time": "2023-07-12T14:39:37.534Z"
   },
   {
    "duration": 76,
    "start_time": "2023-07-12T14:39:37.707Z"
   },
   {
    "duration": 19,
    "start_time": "2023-07-12T14:39:37.787Z"
   },
   {
    "duration": 74,
    "start_time": "2023-07-12T14:39:37.812Z"
   },
   {
    "duration": 18,
    "start_time": "2023-07-12T14:39:37.899Z"
   },
   {
    "duration": 16,
    "start_time": "2023-07-12T14:39:37.923Z"
   },
   {
    "duration": 105,
    "start_time": "2023-07-12T14:39:37.942Z"
   },
   {
    "duration": 14,
    "start_time": "2023-07-12T14:39:38.049Z"
   },
   {
    "duration": 243,
    "start_time": "2023-07-12T14:39:38.065Z"
   },
   {
    "duration": 0,
    "start_time": "2023-07-12T14:39:38.310Z"
   },
   {
    "duration": 0,
    "start_time": "2023-07-12T14:39:38.311Z"
   },
   {
    "duration": 0,
    "start_time": "2023-07-12T14:39:38.312Z"
   },
   {
    "duration": 0,
    "start_time": "2023-07-12T14:39:38.314Z"
   },
   {
    "duration": 0,
    "start_time": "2023-07-12T14:39:38.316Z"
   },
   {
    "duration": 0,
    "start_time": "2023-07-12T14:39:38.317Z"
   },
   {
    "duration": 0,
    "start_time": "2023-07-12T14:39:38.319Z"
   },
   {
    "duration": 0,
    "start_time": "2023-07-12T14:39:38.320Z"
   },
   {
    "duration": 0,
    "start_time": "2023-07-12T14:39:38.322Z"
   },
   {
    "duration": 0,
    "start_time": "2023-07-12T14:39:38.324Z"
   },
   {
    "duration": 1333,
    "start_time": "2023-07-12T14:39:56.943Z"
   },
   {
    "duration": 786,
    "start_time": "2023-07-12T14:39:58.284Z"
   },
   {
    "duration": 24,
    "start_time": "2023-07-12T14:39:59.072Z"
   },
   {
    "duration": 14,
    "start_time": "2023-07-12T14:39:59.101Z"
   },
   {
    "duration": 18,
    "start_time": "2023-07-12T14:39:59.120Z"
   },
   {
    "duration": 46,
    "start_time": "2023-07-12T14:39:59.140Z"
   },
   {
    "duration": 18,
    "start_time": "2023-07-12T14:39:59.197Z"
   },
   {
    "duration": 10,
    "start_time": "2023-07-12T14:39:59.217Z"
   },
   {
    "duration": 73,
    "start_time": "2023-07-12T14:39:59.229Z"
   },
   {
    "duration": 41,
    "start_time": "2023-07-12T14:39:59.308Z"
   },
   {
    "duration": 18,
    "start_time": "2023-07-12T14:39:59.351Z"
   },
   {
    "duration": 23,
    "start_time": "2023-07-12T14:39:59.375Z"
   },
   {
    "duration": 100,
    "start_time": "2023-07-12T14:39:59.404Z"
   },
   {
    "duration": 11,
    "start_time": "2023-07-12T14:39:59.505Z"
   },
   {
    "duration": 92,
    "start_time": "2023-07-12T14:39:59.518Z"
   },
   {
    "duration": 35,
    "start_time": "2023-07-12T14:39:59.612Z"
   },
   {
    "duration": 4,
    "start_time": "2023-07-12T14:39:59.649Z"
   },
   {
    "duration": 57,
    "start_time": "2023-07-12T14:39:59.654Z"
   },
   {
    "duration": 4,
    "start_time": "2023-07-12T14:39:59.715Z"
   },
   {
    "duration": 10,
    "start_time": "2023-07-12T14:39:59.721Z"
   },
   {
    "duration": 79,
    "start_time": "2023-07-12T14:39:59.733Z"
   },
   {
    "duration": 16,
    "start_time": "2023-07-12T14:39:59.819Z"
   },
   {
    "duration": 155,
    "start_time": "2023-07-12T14:39:59.837Z"
   },
   {
    "duration": 0,
    "start_time": "2023-07-12T14:39:59.994Z"
   },
   {
    "duration": 0,
    "start_time": "2023-07-12T14:39:59.995Z"
   },
   {
    "duration": 0,
    "start_time": "2023-07-12T14:39:59.998Z"
   },
   {
    "duration": 0,
    "start_time": "2023-07-12T14:40:00.000Z"
   },
   {
    "duration": 0,
    "start_time": "2023-07-12T14:40:00.001Z"
   },
   {
    "duration": 0,
    "start_time": "2023-07-12T14:40:00.002Z"
   },
   {
    "duration": 0,
    "start_time": "2023-07-12T14:40:00.007Z"
   },
   {
    "duration": 0,
    "start_time": "2023-07-12T14:40:00.008Z"
   },
   {
    "duration": 0,
    "start_time": "2023-07-12T14:40:00.011Z"
   },
   {
    "duration": 1,
    "start_time": "2023-07-12T14:40:00.012Z"
   },
   {
    "duration": 1551,
    "start_time": "2023-07-12T14:40:33.816Z"
   },
   {
    "duration": 803,
    "start_time": "2023-07-12T14:40:35.369Z"
   },
   {
    "duration": 19,
    "start_time": "2023-07-12T14:40:36.183Z"
   },
   {
    "duration": 15,
    "start_time": "2023-07-12T14:40:36.205Z"
   },
   {
    "duration": 8,
    "start_time": "2023-07-12T14:40:36.223Z"
   },
   {
    "duration": 34,
    "start_time": "2023-07-12T14:40:36.232Z"
   },
   {
    "duration": 26,
    "start_time": "2023-07-12T14:40:36.268Z"
   },
   {
    "duration": 31,
    "start_time": "2023-07-12T14:40:36.297Z"
   },
   {
    "duration": 73,
    "start_time": "2023-07-12T14:40:36.330Z"
   },
   {
    "duration": 59,
    "start_time": "2023-07-12T14:40:36.405Z"
   },
   {
    "duration": 45,
    "start_time": "2023-07-12T14:40:36.466Z"
   },
   {
    "duration": 9,
    "start_time": "2023-07-12T14:40:36.513Z"
   },
   {
    "duration": 112,
    "start_time": "2023-07-12T14:40:36.523Z"
   },
   {
    "duration": 11,
    "start_time": "2023-07-12T14:40:36.639Z"
   },
   {
    "duration": 100,
    "start_time": "2023-07-12T14:40:36.651Z"
   },
   {
    "duration": 60,
    "start_time": "2023-07-12T14:40:36.752Z"
   },
   {
    "duration": 5,
    "start_time": "2023-07-12T14:40:36.814Z"
   },
   {
    "duration": 33,
    "start_time": "2023-07-12T14:40:36.820Z"
   },
   {
    "duration": 22,
    "start_time": "2023-07-12T14:40:36.855Z"
   },
   {
    "duration": 10,
    "start_time": "2023-07-12T14:40:36.879Z"
   },
   {
    "duration": 58,
    "start_time": "2023-07-12T14:40:36.892Z"
   },
   {
    "duration": 69,
    "start_time": "2023-07-12T14:40:36.952Z"
   },
   {
    "duration": 14,
    "start_time": "2023-07-12T14:40:37.022Z"
   },
   {
    "duration": 9,
    "start_time": "2023-07-12T14:40:37.038Z"
   },
   {
    "duration": 108,
    "start_time": "2023-07-12T14:40:37.049Z"
   },
   {
    "duration": 11,
    "start_time": "2023-07-12T14:40:37.159Z"
   },
   {
    "duration": 69,
    "start_time": "2023-07-12T14:40:37.174Z"
   },
   {
    "duration": 65,
    "start_time": "2023-07-12T14:40:37.245Z"
   },
   {
    "duration": 169,
    "start_time": "2023-07-12T14:40:37.312Z"
   },
   {
    "duration": 64,
    "start_time": "2023-07-12T14:40:37.482Z"
   },
   {
    "duration": 4,
    "start_time": "2023-07-12T14:40:37.548Z"
   },
   {
    "duration": 10,
    "start_time": "2023-07-12T14:41:27.340Z"
   },
   {
    "duration": 20,
    "start_time": "2023-07-12T14:42:03.656Z"
   },
   {
    "duration": 5,
    "start_time": "2023-07-12T14:42:04.633Z"
   },
   {
    "duration": 17,
    "start_time": "2023-07-12T14:42:11.555Z"
   },
   {
    "duration": 27,
    "start_time": "2023-07-12T14:42:24.569Z"
   },
   {
    "duration": 35,
    "start_time": "2023-07-12T14:42:47.554Z"
   },
   {
    "duration": 12,
    "start_time": "2023-07-12T14:43:12.536Z"
   },
   {
    "duration": 18,
    "start_time": "2023-07-12T14:44:00.748Z"
   },
   {
    "duration": 11,
    "start_time": "2023-07-12T14:44:35.726Z"
   },
   {
    "duration": 17,
    "start_time": "2023-07-12T14:44:40.722Z"
   },
   {
    "duration": 16,
    "start_time": "2023-07-12T14:45:00.123Z"
   },
   {
    "duration": 23,
    "start_time": "2023-07-12T15:00:49.458Z"
   },
   {
    "duration": 8,
    "start_time": "2023-07-12T15:00:53.526Z"
   },
   {
    "duration": 18,
    "start_time": "2023-07-12T15:03:15.299Z"
   },
   {
    "duration": 10,
    "start_time": "2023-07-12T15:03:17.516Z"
   },
   {
    "duration": 13,
    "start_time": "2023-07-12T15:07:19.101Z"
   },
   {
    "duration": 6,
    "start_time": "2023-07-12T15:07:20.497Z"
   },
   {
    "duration": 26,
    "start_time": "2023-07-12T15:07:37.667Z"
   },
   {
    "duration": 14,
    "start_time": "2023-07-12T15:07:39.994Z"
   },
   {
    "duration": 23,
    "start_time": "2023-07-12T15:08:12.866Z"
   },
   {
    "duration": 19,
    "start_time": "2023-07-12T15:19:14.297Z"
   },
   {
    "duration": 25,
    "start_time": "2023-07-12T15:19:17.107Z"
   },
   {
    "duration": 35,
    "start_time": "2023-07-12T15:19:27.990Z"
   },
   {
    "duration": 5,
    "start_time": "2023-07-12T15:20:11.629Z"
   },
   {
    "duration": 73,
    "start_time": "2023-07-12T15:24:28.969Z"
   },
   {
    "duration": 37,
    "start_time": "2023-07-12T15:24:33.752Z"
   },
   {
    "duration": 17,
    "start_time": "2023-07-12T15:24:40.048Z"
   },
   {
    "duration": 18,
    "start_time": "2023-07-12T15:25:19.194Z"
   },
   {
    "duration": 4,
    "start_time": "2023-07-12T15:29:28.808Z"
   },
   {
    "duration": 21,
    "start_time": "2023-07-12T15:29:38.695Z"
   },
   {
    "duration": 1594,
    "start_time": "2023-07-13T07:33:52.204Z"
   },
   {
    "duration": 759,
    "start_time": "2023-07-13T07:33:53.801Z"
   },
   {
    "duration": 17,
    "start_time": "2023-07-13T07:33:54.562Z"
   },
   {
    "duration": 141,
    "start_time": "2023-07-13T07:33:54.581Z"
   },
   {
    "duration": 50,
    "start_time": "2023-07-13T07:33:54.724Z"
   },
   {
    "duration": 41,
    "start_time": "2023-07-13T07:33:54.776Z"
   },
   {
    "duration": 18,
    "start_time": "2023-07-13T07:33:54.819Z"
   },
   {
    "duration": 20,
    "start_time": "2023-07-13T07:33:54.839Z"
   },
   {
    "duration": 78,
    "start_time": "2023-07-13T07:33:54.860Z"
   },
   {
    "duration": 38,
    "start_time": "2023-07-13T07:33:54.941Z"
   },
   {
    "duration": 32,
    "start_time": "2023-07-13T07:33:54.981Z"
   },
   {
    "duration": 14,
    "start_time": "2023-07-13T07:33:55.015Z"
   },
   {
    "duration": 110,
    "start_time": "2023-07-13T07:33:55.031Z"
   },
   {
    "duration": 11,
    "start_time": "2023-07-13T07:33:55.143Z"
   },
   {
    "duration": 110,
    "start_time": "2023-07-13T07:33:55.156Z"
   },
   {
    "duration": 43,
    "start_time": "2023-07-13T07:33:55.268Z"
   },
   {
    "duration": 5,
    "start_time": "2023-07-13T07:33:55.313Z"
   },
   {
    "duration": 51,
    "start_time": "2023-07-13T07:33:55.320Z"
   },
   {
    "duration": 10,
    "start_time": "2023-07-13T07:33:55.373Z"
   },
   {
    "duration": 25,
    "start_time": "2023-07-13T07:33:55.386Z"
   },
   {
    "duration": 65,
    "start_time": "2023-07-13T07:33:55.413Z"
   },
   {
    "duration": 81,
    "start_time": "2023-07-13T07:33:55.480Z"
   },
   {
    "duration": 15,
    "start_time": "2023-07-13T07:33:55.563Z"
   },
   {
    "duration": 20,
    "start_time": "2023-07-13T07:33:55.580Z"
   },
   {
    "duration": 93,
    "start_time": "2023-07-13T07:33:55.602Z"
   },
   {
    "duration": 10,
    "start_time": "2023-07-13T07:33:55.709Z"
   },
   {
    "duration": 92,
    "start_time": "2023-07-13T07:33:55.721Z"
   },
   {
    "duration": 60,
    "start_time": "2023-07-13T07:33:55.818Z"
   },
   {
    "duration": 233,
    "start_time": "2023-07-13T07:33:55.880Z"
   },
   {
    "duration": 135,
    "start_time": "2023-07-13T07:33:56.115Z"
   },
   {
    "duration": 0,
    "start_time": "2023-07-13T07:33:56.252Z"
   },
   {
    "duration": 0,
    "start_time": "2023-07-13T07:33:56.254Z"
   },
   {
    "duration": 53,
    "start_time": "2023-07-13T07:34:29.794Z"
   },
   {
    "duration": 22,
    "start_time": "2023-07-13T07:34:39.323Z"
   },
   {
    "duration": 52,
    "start_time": "2023-07-13T07:35:16.434Z"
   },
   {
    "duration": 20,
    "start_time": "2023-07-13T07:35:18.598Z"
   },
   {
    "duration": 14,
    "start_time": "2023-07-13T07:36:06.905Z"
   },
   {
    "duration": 8,
    "start_time": "2023-07-13T07:37:54.506Z"
   },
   {
    "duration": 16,
    "start_time": "2023-07-13T07:38:03.691Z"
   },
   {
    "duration": 16,
    "start_time": "2023-07-13T07:39:52.798Z"
   },
   {
    "duration": 16,
    "start_time": "2023-07-13T07:39:57.470Z"
   },
   {
    "duration": 7,
    "start_time": "2023-07-13T07:40:09.823Z"
   },
   {
    "duration": 11,
    "start_time": "2023-07-13T07:40:10.978Z"
   },
   {
    "duration": 9,
    "start_time": "2023-07-13T07:40:36.283Z"
   },
   {
    "duration": 21,
    "start_time": "2023-07-13T07:40:36.819Z"
   },
   {
    "duration": 7,
    "start_time": "2023-07-13T07:42:20.308Z"
   },
   {
    "duration": 20,
    "start_time": "2023-07-13T07:42:21.386Z"
   },
   {
    "duration": 325,
    "start_time": "2023-07-13T07:45:52.500Z"
   },
   {
    "duration": 16,
    "start_time": "2023-07-13T07:54:29.921Z"
   },
   {
    "duration": 27,
    "start_time": "2023-07-13T07:54:32.508Z"
   },
   {
    "duration": 18,
    "start_time": "2023-07-13T07:54:47.053Z"
   },
   {
    "duration": 17,
    "start_time": "2023-07-13T07:56:21.340Z"
   },
   {
    "duration": 20,
    "start_time": "2023-07-13T07:56:29.661Z"
   },
   {
    "duration": 14,
    "start_time": "2023-07-13T07:56:33.982Z"
   },
   {
    "duration": 4,
    "start_time": "2023-07-13T07:57:13.060Z"
   },
   {
    "duration": 6,
    "start_time": "2023-07-13T07:57:17.670Z"
   },
   {
    "duration": 4,
    "start_time": "2023-07-13T07:58:41.563Z"
   },
   {
    "duration": 6,
    "start_time": "2023-07-13T07:58:45.604Z"
   },
   {
    "duration": 3,
    "start_time": "2023-07-13T07:58:59.912Z"
   },
   {
    "duration": 11,
    "start_time": "2023-07-13T07:59:24.869Z"
   },
   {
    "duration": 4,
    "start_time": "2023-07-13T07:59:40.231Z"
   },
   {
    "duration": 6,
    "start_time": "2023-07-13T08:06:16.966Z"
   },
   {
    "duration": 202,
    "start_time": "2023-07-13T08:15:12.819Z"
   },
   {
    "duration": 248,
    "start_time": "2023-07-13T08:16:01.100Z"
   },
   {
    "duration": 208,
    "start_time": "2023-07-13T08:16:15.389Z"
   },
   {
    "duration": 469,
    "start_time": "2023-07-13T08:16:22.097Z"
   },
   {
    "duration": 496,
    "start_time": "2023-07-13T08:17:34.232Z"
   },
   {
    "duration": 325,
    "start_time": "2023-07-13T08:20:12.187Z"
   },
   {
    "duration": 498,
    "start_time": "2023-07-13T08:20:21.538Z"
   },
   {
    "duration": 653,
    "start_time": "2023-07-13T08:22:51.528Z"
   },
   {
    "duration": 549,
    "start_time": "2023-07-13T08:23:01.805Z"
   },
   {
    "duration": 516,
    "start_time": "2023-07-13T08:25:51.867Z"
   },
   {
    "duration": 523,
    "start_time": "2023-07-13T08:26:49.041Z"
   },
   {
    "duration": 17,
    "start_time": "2023-07-13T08:28:43.332Z"
   },
   {
    "duration": 6,
    "start_time": "2023-07-13T08:41:23.559Z"
   },
   {
    "duration": 13,
    "start_time": "2023-07-13T08:43:42.904Z"
   },
   {
    "duration": 10,
    "start_time": "2023-07-13T08:56:08.201Z"
   },
   {
    "duration": 6,
    "start_time": "2023-07-13T08:56:13.097Z"
   },
   {
    "duration": 6,
    "start_time": "2023-07-13T08:56:27.322Z"
   },
   {
    "duration": 4,
    "start_time": "2023-07-13T08:56:54.139Z"
   },
   {
    "duration": 4,
    "start_time": "2023-07-13T08:56:58.120Z"
   },
   {
    "duration": 5,
    "start_time": "2023-07-13T08:57:01.037Z"
   },
   {
    "duration": 8,
    "start_time": "2023-07-13T08:57:06.276Z"
   },
   {
    "duration": 14,
    "start_time": "2023-07-13T08:57:26.386Z"
   },
   {
    "duration": 15,
    "start_time": "2023-07-13T08:57:29.598Z"
   },
   {
    "duration": 11,
    "start_time": "2023-07-13T08:57:38.586Z"
   },
   {
    "duration": 6,
    "start_time": "2023-07-13T08:57:39.309Z"
   },
   {
    "duration": 1196,
    "start_time": "2023-07-13T08:58:00.096Z"
   },
   {
    "duration": 6,
    "start_time": "2023-07-13T08:58:06.768Z"
   },
   {
    "duration": 12,
    "start_time": "2023-07-13T08:58:42.203Z"
   },
   {
    "duration": 5,
    "start_time": "2023-07-13T08:58:42.997Z"
   },
   {
    "duration": 11,
    "start_time": "2023-07-13T08:58:49.100Z"
   },
   {
    "duration": 3,
    "start_time": "2023-07-13T09:06:20.602Z"
   },
   {
    "duration": 7,
    "start_time": "2023-07-13T09:07:02.436Z"
   },
   {
    "duration": 4,
    "start_time": "2023-07-13T09:08:43.500Z"
   },
   {
    "duration": 3,
    "start_time": "2023-07-13T09:08:57.715Z"
   },
   {
    "duration": 7,
    "start_time": "2023-07-13T09:14:41.497Z"
   },
   {
    "duration": 6,
    "start_time": "2023-07-13T09:16:00.915Z"
   },
   {
    "duration": 6,
    "start_time": "2023-07-13T09:18:33.707Z"
   },
   {
    "duration": 105,
    "start_time": "2023-07-13T09:19:39.572Z"
   },
   {
    "duration": 5,
    "start_time": "2023-07-13T09:20:31.526Z"
   },
   {
    "duration": 6,
    "start_time": "2023-07-13T09:22:15.204Z"
   },
   {
    "duration": 1478,
    "start_time": "2023-07-14T07:28:32.042Z"
   },
   {
    "duration": 648,
    "start_time": "2023-07-14T07:28:33.522Z"
   },
   {
    "duration": 14,
    "start_time": "2023-07-14T07:28:34.172Z"
   },
   {
    "duration": 19,
    "start_time": "2023-07-14T07:28:34.188Z"
   },
   {
    "duration": 23,
    "start_time": "2023-07-14T07:28:34.208Z"
   },
   {
    "duration": 48,
    "start_time": "2023-07-14T07:28:34.232Z"
   },
   {
    "duration": 27,
    "start_time": "2023-07-14T07:28:34.281Z"
   },
   {
    "duration": 37,
    "start_time": "2023-07-14T07:28:34.310Z"
   },
   {
    "duration": 63,
    "start_time": "2023-07-14T07:28:34.349Z"
   },
   {
    "duration": 33,
    "start_time": "2023-07-14T07:28:34.416Z"
   },
   {
    "duration": 17,
    "start_time": "2023-07-14T07:28:34.452Z"
   },
   {
    "duration": 9,
    "start_time": "2023-07-14T07:28:34.471Z"
   },
   {
    "duration": 94,
    "start_time": "2023-07-14T07:28:34.482Z"
   },
   {
    "duration": 10,
    "start_time": "2023-07-14T07:28:34.578Z"
   },
   {
    "duration": 86,
    "start_time": "2023-07-14T07:28:34.590Z"
   },
   {
    "duration": 33,
    "start_time": "2023-07-14T07:28:34.678Z"
   },
   {
    "duration": 14,
    "start_time": "2023-07-14T07:28:34.713Z"
   },
   {
    "duration": 45,
    "start_time": "2023-07-14T07:28:34.729Z"
   },
   {
    "duration": 6,
    "start_time": "2023-07-14T07:28:34.776Z"
   },
   {
    "duration": 16,
    "start_time": "2023-07-14T07:28:34.784Z"
   },
   {
    "duration": 59,
    "start_time": "2023-07-14T07:28:34.802Z"
   },
   {
    "duration": 44,
    "start_time": "2023-07-14T07:28:34.863Z"
   },
   {
    "duration": 10,
    "start_time": "2023-07-14T07:28:34.909Z"
   },
   {
    "duration": 33,
    "start_time": "2023-07-14T07:28:34.920Z"
   },
   {
    "duration": 75,
    "start_time": "2023-07-14T07:28:34.954Z"
   },
   {
    "duration": 23,
    "start_time": "2023-07-14T07:28:35.030Z"
   },
   {
    "duration": 51,
    "start_time": "2023-07-14T07:28:35.055Z"
   },
   {
    "duration": 56,
    "start_time": "2023-07-14T07:28:35.110Z"
   },
   {
    "duration": 169,
    "start_time": "2023-07-14T07:28:35.168Z"
   },
   {
    "duration": 55,
    "start_time": "2023-07-14T07:28:35.339Z"
   },
   {
    "duration": 13,
    "start_time": "2023-07-14T07:28:35.396Z"
   },
   {
    "duration": 22,
    "start_time": "2023-07-14T07:28:35.410Z"
   },
   {
    "duration": 25,
    "start_time": "2023-07-14T07:28:35.434Z"
   },
   {
    "duration": 33,
    "start_time": "2023-07-14T07:28:35.460Z"
   },
   {
    "duration": 44,
    "start_time": "2023-07-14T07:28:35.494Z"
   },
   {
    "duration": 16,
    "start_time": "2023-07-14T07:28:35.540Z"
   },
   {
    "duration": 20,
    "start_time": "2023-07-14T07:28:35.558Z"
   },
   {
    "duration": 479,
    "start_time": "2023-07-14T07:28:35.580Z"
   },
   {
    "duration": 5,
    "start_time": "2023-07-14T07:28:36.061Z"
   },
   {
    "duration": 36,
    "start_time": "2023-07-14T07:28:36.068Z"
   },
   {
    "duration": 20,
    "start_time": "2023-07-14T07:28:36.105Z"
   },
   {
    "duration": 26,
    "start_time": "2023-07-14T07:28:36.127Z"
   },
   {
    "duration": 19,
    "start_time": "2023-07-14T07:28:36.155Z"
   },
   {
    "duration": 24,
    "start_time": "2023-07-14T07:28:36.175Z"
   },
   {
    "duration": 24,
    "start_time": "2023-07-14T07:28:36.201Z"
   },
   {
    "duration": 20,
    "start_time": "2023-07-14T07:28:36.227Z"
   },
   {
    "duration": 28,
    "start_time": "2023-07-14T07:28:36.248Z"
   },
   {
    "duration": 40,
    "start_time": "2023-07-14T07:34:17.356Z"
   },
   {
    "duration": 14,
    "start_time": "2023-07-14T07:34:18.214Z"
   },
   {
    "duration": 9,
    "start_time": "2023-07-14T07:34:28.430Z"
   },
   {
    "duration": 144,
    "start_time": "2023-07-14T07:37:32.167Z"
   },
   {
    "duration": 125,
    "start_time": "2023-07-14T07:38:02.978Z"
   },
   {
    "duration": 128,
    "start_time": "2023-07-14T07:39:43.705Z"
   },
   {
    "duration": 52,
    "start_time": "2023-07-14T07:42:47.354Z"
   },
   {
    "duration": 233,
    "start_time": "2023-07-14T07:43:01.014Z"
   },
   {
    "duration": 121,
    "start_time": "2023-07-14T07:43:20.275Z"
   },
   {
    "duration": 131,
    "start_time": "2023-07-14T07:45:31.794Z"
   },
   {
    "duration": 1499,
    "start_time": "2023-07-14T22:17:08.027Z"
   },
   {
    "duration": 764,
    "start_time": "2023-07-14T22:17:09.529Z"
   },
   {
    "duration": 16,
    "start_time": "2023-07-14T22:17:10.295Z"
   },
   {
    "duration": 15,
    "start_time": "2023-07-14T22:17:10.313Z"
   },
   {
    "duration": 16,
    "start_time": "2023-07-14T22:17:10.330Z"
   },
   {
    "duration": 86,
    "start_time": "2023-07-14T22:17:10.348Z"
   },
   {
    "duration": 8,
    "start_time": "2023-07-14T22:17:10.436Z"
   },
   {
    "duration": 52,
    "start_time": "2023-07-14T22:17:10.446Z"
   },
   {
    "duration": 76,
    "start_time": "2023-07-14T22:17:10.500Z"
   },
   {
    "duration": 58,
    "start_time": "2023-07-14T22:17:10.579Z"
   },
   {
    "duration": 37,
    "start_time": "2023-07-14T22:17:10.640Z"
   },
   {
    "duration": 24,
    "start_time": "2023-07-14T22:17:10.679Z"
   },
   {
    "duration": 139,
    "start_time": "2023-07-14T22:17:10.707Z"
   },
   {
    "duration": 18,
    "start_time": "2023-07-14T22:17:10.848Z"
   },
   {
    "duration": 127,
    "start_time": "2023-07-14T22:17:10.868Z"
   },
   {
    "duration": 47,
    "start_time": "2023-07-14T22:17:10.997Z"
   },
   {
    "duration": 26,
    "start_time": "2023-07-14T22:17:11.061Z"
   },
   {
    "duration": 36,
    "start_time": "2023-07-14T22:17:11.090Z"
   },
   {
    "duration": 6,
    "start_time": "2023-07-14T22:17:11.128Z"
   },
   {
    "duration": 37,
    "start_time": "2023-07-14T22:17:11.136Z"
   },
   {
    "duration": 98,
    "start_time": "2023-07-14T22:17:11.183Z"
   },
   {
    "duration": 61,
    "start_time": "2023-07-14T22:17:11.284Z"
   },
   {
    "duration": 24,
    "start_time": "2023-07-14T22:17:11.355Z"
   },
   {
    "duration": 23,
    "start_time": "2023-07-14T22:17:11.382Z"
   },
   {
    "duration": 215,
    "start_time": "2023-07-14T22:17:11.410Z"
   },
   {
    "duration": 121,
    "start_time": "2023-07-14T22:17:11.627Z"
   },
   {
    "duration": 28,
    "start_time": "2023-07-14T22:17:11.753Z"
   },
   {
    "duration": 245,
    "start_time": "2023-07-14T22:17:11.786Z"
   },
   {
    "duration": 83,
    "start_time": "2023-07-14T22:17:12.033Z"
   },
   {
    "duration": 206,
    "start_time": "2023-07-14T22:17:12.118Z"
   },
   {
    "duration": 55,
    "start_time": "2023-07-14T22:17:12.325Z"
   },
   {
    "duration": 138,
    "start_time": "2023-07-14T22:17:12.382Z"
   },
   {
    "duration": 63,
    "start_time": "2023-07-14T22:17:12.521Z"
   },
   {
    "duration": 11,
    "start_time": "2023-07-14T22:17:12.586Z"
   },
   {
    "duration": 25,
    "start_time": "2023-07-14T22:17:12.598Z"
   },
   {
    "duration": 23,
    "start_time": "2023-07-14T22:17:12.625Z"
   },
   {
    "duration": 24,
    "start_time": "2023-07-14T22:17:12.650Z"
   },
   {
    "duration": 37,
    "start_time": "2023-07-14T22:17:12.676Z"
   },
   {
    "duration": 33,
    "start_time": "2023-07-14T22:17:12.714Z"
   },
   {
    "duration": 36,
    "start_time": "2023-07-14T22:17:12.749Z"
   },
   {
    "duration": 553,
    "start_time": "2023-07-14T22:17:12.787Z"
   },
   {
    "duration": 23,
    "start_time": "2023-07-14T22:17:13.344Z"
   },
   {
    "duration": 15,
    "start_time": "2023-07-14T22:17:13.368Z"
   },
   {
    "duration": 4,
    "start_time": "2023-07-14T22:17:13.385Z"
   },
   {
    "duration": 8,
    "start_time": "2023-07-14T22:17:13.390Z"
   },
   {
    "duration": 15,
    "start_time": "2023-07-14T22:17:13.399Z"
   },
   {
    "duration": 6,
    "start_time": "2023-07-14T22:17:13.416Z"
   },
   {
    "duration": 11,
    "start_time": "2023-07-14T22:17:13.424Z"
   },
   {
    "duration": 22,
    "start_time": "2023-07-14T22:17:13.436Z"
   },
   {
    "duration": 11,
    "start_time": "2023-07-14T22:17:13.459Z"
   },
   {
    "duration": 81,
    "start_time": "2023-07-14T22:19:10.641Z"
   },
   {
    "duration": 87,
    "start_time": "2023-07-14T22:19:11.138Z"
   },
   {
    "duration": 1404,
    "start_time": "2023-07-15T07:09:05.012Z"
   },
   {
    "duration": 848,
    "start_time": "2023-07-15T07:09:06.418Z"
   },
   {
    "duration": 12,
    "start_time": "2023-07-15T07:09:07.268Z"
   },
   {
    "duration": 73,
    "start_time": "2023-07-15T07:09:07.282Z"
   },
   {
    "duration": 45,
    "start_time": "2023-07-15T07:09:07.356Z"
   },
   {
    "duration": 42,
    "start_time": "2023-07-15T07:09:07.403Z"
   },
   {
    "duration": 18,
    "start_time": "2023-07-15T07:09:07.447Z"
   },
   {
    "duration": 24,
    "start_time": "2023-07-15T07:09:07.466Z"
   },
   {
    "duration": 65,
    "start_time": "2023-07-15T07:09:07.492Z"
   },
   {
    "duration": 38,
    "start_time": "2023-07-15T07:09:07.560Z"
   },
   {
    "duration": 14,
    "start_time": "2023-07-15T07:09:07.599Z"
   },
   {
    "duration": 5,
    "start_time": "2023-07-15T07:09:07.634Z"
   },
   {
    "duration": 104,
    "start_time": "2023-07-15T07:09:07.640Z"
   },
   {
    "duration": 10,
    "start_time": "2023-07-15T07:09:07.746Z"
   },
   {
    "duration": 86,
    "start_time": "2023-07-15T07:09:07.758Z"
   },
   {
    "duration": 39,
    "start_time": "2023-07-15T07:09:07.847Z"
   },
   {
    "duration": 4,
    "start_time": "2023-07-15T07:09:07.888Z"
   },
   {
    "duration": 40,
    "start_time": "2023-07-15T07:09:07.893Z"
   },
   {
    "duration": 8,
    "start_time": "2023-07-15T07:09:07.936Z"
   },
   {
    "duration": 18,
    "start_time": "2023-07-15T07:09:07.945Z"
   },
   {
    "duration": 45,
    "start_time": "2023-07-15T07:09:07.965Z"
   },
   {
    "duration": 57,
    "start_time": "2023-07-15T07:09:08.012Z"
   },
   {
    "duration": 8,
    "start_time": "2023-07-15T07:09:08.071Z"
   },
   {
    "duration": 22,
    "start_time": "2023-07-15T07:09:08.080Z"
   },
   {
    "duration": 144,
    "start_time": "2023-07-15T07:09:08.103Z"
   },
   {
    "duration": 71,
    "start_time": "2023-07-15T07:09:08.248Z"
   },
   {
    "duration": 25,
    "start_time": "2023-07-15T07:09:08.320Z"
   },
   {
    "duration": 138,
    "start_time": "2023-07-15T07:09:08.348Z"
   },
   {
    "duration": 68,
    "start_time": "2023-07-15T07:09:08.488Z"
   },
   {
    "duration": 145,
    "start_time": "2023-07-15T07:09:08.558Z"
   },
   {
    "duration": 45,
    "start_time": "2023-07-15T07:09:08.705Z"
   },
   {
    "duration": 136,
    "start_time": "2023-07-15T07:09:08.752Z"
   },
   {
    "duration": 59,
    "start_time": "2023-07-15T07:09:08.889Z"
   },
   {
    "duration": 11,
    "start_time": "2023-07-15T07:09:08.949Z"
   },
   {
    "duration": 16,
    "start_time": "2023-07-15T07:09:08.962Z"
   },
   {
    "duration": 13,
    "start_time": "2023-07-15T07:09:08.980Z"
   },
   {
    "duration": 8,
    "start_time": "2023-07-15T07:09:08.995Z"
   },
   {
    "duration": 39,
    "start_time": "2023-07-15T07:09:09.005Z"
   },
   {
    "duration": 10,
    "start_time": "2023-07-15T07:09:09.046Z"
   },
   {
    "duration": 46,
    "start_time": "2023-07-15T07:09:09.057Z"
   },
   {
    "duration": 570,
    "start_time": "2023-07-15T07:09:09.104Z"
   },
   {
    "duration": 4,
    "start_time": "2023-07-15T07:09:09.676Z"
   },
   {
    "duration": 68,
    "start_time": "2023-07-15T07:09:09.682Z"
   },
   {
    "duration": 17,
    "start_time": "2023-07-15T07:09:09.752Z"
   },
   {
    "duration": 45,
    "start_time": "2023-07-15T07:09:09.771Z"
   },
   {
    "duration": 42,
    "start_time": "2023-07-15T07:09:09.817Z"
   },
   {
    "duration": 41,
    "start_time": "2023-07-15T07:09:09.860Z"
   },
   {
    "duration": 44,
    "start_time": "2023-07-15T07:09:09.903Z"
   },
   {
    "duration": 30,
    "start_time": "2023-07-15T07:09:09.949Z"
   },
   {
    "duration": 66,
    "start_time": "2023-07-15T07:09:09.981Z"
   },
   {
    "duration": 1919,
    "start_time": "2023-07-15T07:30:16.648Z"
   },
   {
    "duration": 3502,
    "start_time": "2023-07-15T07:31:30.261Z"
   },
   {
    "duration": 84,
    "start_time": "2023-07-15T07:32:39.083Z"
   },
   {
    "duration": 24,
    "start_time": "2023-07-15T07:32:44.375Z"
   },
   {
    "duration": 39,
    "start_time": "2023-07-15T07:35:28.395Z"
   },
   {
    "duration": 10,
    "start_time": "2023-07-15T07:36:50.743Z"
   },
   {
    "duration": 5,
    "start_time": "2023-07-15T07:37:03.645Z"
   },
   {
    "duration": 7,
    "start_time": "2023-07-15T07:37:16.311Z"
   },
   {
    "duration": 8,
    "start_time": "2023-07-15T07:37:45.569Z"
   },
   {
    "duration": 9,
    "start_time": "2023-07-15T07:38:50.972Z"
   },
   {
    "duration": 10,
    "start_time": "2023-07-15T07:42:16.528Z"
   },
   {
    "duration": 12,
    "start_time": "2023-07-15T07:42:23.117Z"
   },
   {
    "duration": 12,
    "start_time": "2023-07-15T07:42:37.958Z"
   },
   {
    "duration": 102,
    "start_time": "2023-07-15T07:49:07.859Z"
   },
   {
    "duration": 794,
    "start_time": "2023-07-15T09:02:04.872Z"
   },
   {
    "duration": 320,
    "start_time": "2023-07-15T09:02:17.667Z"
   },
   {
    "duration": 459,
    "start_time": "2023-07-15T09:02:38.513Z"
   }
  ],
  "kernelspec": {
   "display_name": "Python 3 (ipykernel)",
   "language": "python",
   "name": "python3"
  },
  "language_info": {
   "codemirror_mode": {
    "name": "ipython",
    "version": 3
   },
   "file_extension": ".py",
   "mimetype": "text/x-python",
   "name": "python",
   "nbconvert_exporter": "python",
   "pygments_lexer": "ipython3",
   "version": "3.10.9"
  },
  "toc": {
   "base_numbering": 1,
   "nav_menu": {},
   "number_sections": true,
   "sideBar": true,
   "skip_h1_title": true,
   "title_cell": "Table of Contents",
   "title_sidebar": "Contents",
   "toc_cell": false,
   "toc_position": {},
   "toc_section_display": true,
   "toc_window_display": false
  }
 },
 "nbformat": 4,
 "nbformat_minor": 2
}
