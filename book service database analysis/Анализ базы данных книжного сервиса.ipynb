{
 "cells": [
  {
   "cell_type": "markdown",
   "metadata": {},
   "source": [
    "# Анализ базы данных книжного сервиса"
   ]
  },
  {
   "cell_type": "markdown",
   "metadata": {},
   "source": [
    "**Цель исследования** заключается в анализе базы данных книжного сервиса по подписке. Главная задача - выявить ключевые метрики и характеристики книг и пользователей, чтобы сформулировать ценностное предложение для нового продукта. Конкретные цели включают подсчет количества книг после 1 января 2000 года, определение количества обзоров и средней оценки для каждой книги, выявление наиболее активных издательств и популярных авторов, а также анализ среднего количества обзоров от активных пользователей. "
   ]
  },
  {
   "cell_type": "markdown",
   "metadata": {},
   "source": [
    "### Доступ к базе данных и исследование таблиц"
   ]
  },
  {
   "cell_type": "markdown",
   "metadata": {},
   "source": [
    "Установим доступ к базе данных, загрузим таблицы и выведем первые строк каждой из них:"
   ]
  },
  {
   "cell_type": "code",
   "execution_count": 5,
   "metadata": {},
   "outputs": [
    {
     "name": "stdout",
     "output_type": "stream",
     "text": [
      "Первые 5 строк таблицы books:\n"
     ]
    },
    {
     "data": {
      "text/html": [
       "<div>\n",
       "<style scoped>\n",
       "    .dataframe tbody tr th:only-of-type {\n",
       "        vertical-align: middle;\n",
       "    }\n",
       "\n",
       "    .dataframe tbody tr th {\n",
       "        vertical-align: top;\n",
       "    }\n",
       "\n",
       "    .dataframe thead th {\n",
       "        text-align: right;\n",
       "    }\n",
       "</style>\n",
       "<table border=\"1\" class=\"dataframe\">\n",
       "  <thead>\n",
       "    <tr style=\"text-align: right;\">\n",
       "      <th></th>\n",
       "      <th>book_id</th>\n",
       "      <th>author_id</th>\n",
       "      <th>title</th>\n",
       "      <th>num_pages</th>\n",
       "      <th>publication_date</th>\n",
       "      <th>publisher_id</th>\n",
       "    </tr>\n",
       "  </thead>\n",
       "  <tbody>\n",
       "    <tr>\n",
       "      <th>0</th>\n",
       "      <td>1</td>\n",
       "      <td>546</td>\n",
       "      <td>'Salem's Lot</td>\n",
       "      <td>594</td>\n",
       "      <td>2005-11-01</td>\n",
       "      <td>93</td>\n",
       "    </tr>\n",
       "    <tr>\n",
       "      <th>1</th>\n",
       "      <td>2</td>\n",
       "      <td>465</td>\n",
       "      <td>1 000 Places to See Before You Die</td>\n",
       "      <td>992</td>\n",
       "      <td>2003-05-22</td>\n",
       "      <td>336</td>\n",
       "    </tr>\n",
       "    <tr>\n",
       "      <th>2</th>\n",
       "      <td>3</td>\n",
       "      <td>407</td>\n",
       "      <td>13 Little Blue Envelopes (Little Blue Envelope...</td>\n",
       "      <td>322</td>\n",
       "      <td>2010-12-21</td>\n",
       "      <td>135</td>\n",
       "    </tr>\n",
       "    <tr>\n",
       "      <th>3</th>\n",
       "      <td>4</td>\n",
       "      <td>82</td>\n",
       "      <td>1491: New Revelations of the Americas Before C...</td>\n",
       "      <td>541</td>\n",
       "      <td>2006-10-10</td>\n",
       "      <td>309</td>\n",
       "    </tr>\n",
       "    <tr>\n",
       "      <th>4</th>\n",
       "      <td>5</td>\n",
       "      <td>125</td>\n",
       "      <td>1776</td>\n",
       "      <td>386</td>\n",
       "      <td>2006-07-04</td>\n",
       "      <td>268</td>\n",
       "    </tr>\n",
       "  </tbody>\n",
       "</table>\n",
       "</div>"
      ],
      "text/plain": [
       "   book_id  author_id                                              title  \\\n",
       "0        1        546                                       'Salem's Lot   \n",
       "1        2        465                 1 000 Places to See Before You Die   \n",
       "2        3        407  13 Little Blue Envelopes (Little Blue Envelope...   \n",
       "3        4         82  1491: New Revelations of the Americas Before C...   \n",
       "4        5        125                                               1776   \n",
       "\n",
       "   num_pages publication_date  publisher_id  \n",
       "0        594       2005-11-01            93  \n",
       "1        992       2003-05-22           336  \n",
       "2        322       2010-12-21           135  \n",
       "3        541       2006-10-10           309  \n",
       "4        386       2006-07-04           268  "
      ]
     },
     "metadata": {},
     "output_type": "display_data"
    },
    {
     "name": "stdout",
     "output_type": "stream",
     "text": [
      "\n",
      "\n",
      "Первые 5 строк таблицы authors:\n"
     ]
    },
    {
     "data": {
      "text/html": [
       "<div>\n",
       "<style scoped>\n",
       "    .dataframe tbody tr th:only-of-type {\n",
       "        vertical-align: middle;\n",
       "    }\n",
       "\n",
       "    .dataframe tbody tr th {\n",
       "        vertical-align: top;\n",
       "    }\n",
       "\n",
       "    .dataframe thead th {\n",
       "        text-align: right;\n",
       "    }\n",
       "</style>\n",
       "<table border=\"1\" class=\"dataframe\">\n",
       "  <thead>\n",
       "    <tr style=\"text-align: right;\">\n",
       "      <th></th>\n",
       "      <th>author_id</th>\n",
       "      <th>author</th>\n",
       "    </tr>\n",
       "  </thead>\n",
       "  <tbody>\n",
       "    <tr>\n",
       "      <th>0</th>\n",
       "      <td>1</td>\n",
       "      <td>A.S. Byatt</td>\n",
       "    </tr>\n",
       "    <tr>\n",
       "      <th>1</th>\n",
       "      <td>2</td>\n",
       "      <td>Aesop/Laura Harris/Laura Gibbs</td>\n",
       "    </tr>\n",
       "    <tr>\n",
       "      <th>2</th>\n",
       "      <td>3</td>\n",
       "      <td>Agatha Christie</td>\n",
       "    </tr>\n",
       "    <tr>\n",
       "      <th>3</th>\n",
       "      <td>4</td>\n",
       "      <td>Alan Brennert</td>\n",
       "    </tr>\n",
       "    <tr>\n",
       "      <th>4</th>\n",
       "      <td>5</td>\n",
       "      <td>Alan Moore/David   Lloyd</td>\n",
       "    </tr>\n",
       "  </tbody>\n",
       "</table>\n",
       "</div>"
      ],
      "text/plain": [
       "   author_id                          author\n",
       "0          1                      A.S. Byatt\n",
       "1          2  Aesop/Laura Harris/Laura Gibbs\n",
       "2          3                 Agatha Christie\n",
       "3          4                   Alan Brennert\n",
       "4          5        Alan Moore/David   Lloyd"
      ]
     },
     "metadata": {},
     "output_type": "display_data"
    },
    {
     "name": "stdout",
     "output_type": "stream",
     "text": [
      "\n",
      "\n",
      "Первые 5 строк таблицы publishers:\n"
     ]
    },
    {
     "data": {
      "text/html": [
       "<div>\n",
       "<style scoped>\n",
       "    .dataframe tbody tr th:only-of-type {\n",
       "        vertical-align: middle;\n",
       "    }\n",
       "\n",
       "    .dataframe tbody tr th {\n",
       "        vertical-align: top;\n",
       "    }\n",
       "\n",
       "    .dataframe thead th {\n",
       "        text-align: right;\n",
       "    }\n",
       "</style>\n",
       "<table border=\"1\" class=\"dataframe\">\n",
       "  <thead>\n",
       "    <tr style=\"text-align: right;\">\n",
       "      <th></th>\n",
       "      <th>publisher_id</th>\n",
       "      <th>publisher</th>\n",
       "    </tr>\n",
       "  </thead>\n",
       "  <tbody>\n",
       "    <tr>\n",
       "      <th>0</th>\n",
       "      <td>1</td>\n",
       "      <td>Ace</td>\n",
       "    </tr>\n",
       "    <tr>\n",
       "      <th>1</th>\n",
       "      <td>2</td>\n",
       "      <td>Ace Book</td>\n",
       "    </tr>\n",
       "    <tr>\n",
       "      <th>2</th>\n",
       "      <td>3</td>\n",
       "      <td>Ace Books</td>\n",
       "    </tr>\n",
       "    <tr>\n",
       "      <th>3</th>\n",
       "      <td>4</td>\n",
       "      <td>Ace Hardcover</td>\n",
       "    </tr>\n",
       "    <tr>\n",
       "      <th>4</th>\n",
       "      <td>5</td>\n",
       "      <td>Addison Wesley Publishing Company</td>\n",
       "    </tr>\n",
       "  </tbody>\n",
       "</table>\n",
       "</div>"
      ],
      "text/plain": [
       "   publisher_id                          publisher\n",
       "0             1                                Ace\n",
       "1             2                           Ace Book\n",
       "2             3                          Ace Books\n",
       "3             4                      Ace Hardcover\n",
       "4             5  Addison Wesley Publishing Company"
      ]
     },
     "metadata": {},
     "output_type": "display_data"
    },
    {
     "name": "stdout",
     "output_type": "stream",
     "text": [
      "\n",
      "\n",
      "Первые 5 строк таблицы ratings:\n"
     ]
    },
    {
     "data": {
      "text/html": [
       "<div>\n",
       "<style scoped>\n",
       "    .dataframe tbody tr th:only-of-type {\n",
       "        vertical-align: middle;\n",
       "    }\n",
       "\n",
       "    .dataframe tbody tr th {\n",
       "        vertical-align: top;\n",
       "    }\n",
       "\n",
       "    .dataframe thead th {\n",
       "        text-align: right;\n",
       "    }\n",
       "</style>\n",
       "<table border=\"1\" class=\"dataframe\">\n",
       "  <thead>\n",
       "    <tr style=\"text-align: right;\">\n",
       "      <th></th>\n",
       "      <th>rating_id</th>\n",
       "      <th>book_id</th>\n",
       "      <th>username</th>\n",
       "      <th>rating</th>\n",
       "    </tr>\n",
       "  </thead>\n",
       "  <tbody>\n",
       "    <tr>\n",
       "      <th>0</th>\n",
       "      <td>1</td>\n",
       "      <td>1</td>\n",
       "      <td>ryanfranco</td>\n",
       "      <td>4</td>\n",
       "    </tr>\n",
       "    <tr>\n",
       "      <th>1</th>\n",
       "      <td>2</td>\n",
       "      <td>1</td>\n",
       "      <td>grantpatricia</td>\n",
       "      <td>2</td>\n",
       "    </tr>\n",
       "    <tr>\n",
       "      <th>2</th>\n",
       "      <td>3</td>\n",
       "      <td>1</td>\n",
       "      <td>brandtandrea</td>\n",
       "      <td>5</td>\n",
       "    </tr>\n",
       "    <tr>\n",
       "      <th>3</th>\n",
       "      <td>4</td>\n",
       "      <td>2</td>\n",
       "      <td>lorichen</td>\n",
       "      <td>3</td>\n",
       "    </tr>\n",
       "    <tr>\n",
       "      <th>4</th>\n",
       "      <td>5</td>\n",
       "      <td>2</td>\n",
       "      <td>mariokeller</td>\n",
       "      <td>2</td>\n",
       "    </tr>\n",
       "  </tbody>\n",
       "</table>\n",
       "</div>"
      ],
      "text/plain": [
       "   rating_id  book_id       username  rating\n",
       "0          1        1     ryanfranco       4\n",
       "1          2        1  grantpatricia       2\n",
       "2          3        1   brandtandrea       5\n",
       "3          4        2       lorichen       3\n",
       "4          5        2    mariokeller       2"
      ]
     },
     "metadata": {},
     "output_type": "display_data"
    },
    {
     "name": "stdout",
     "output_type": "stream",
     "text": [
      "\n",
      "\n",
      "Первые 5 строк таблицы reviews:\n"
     ]
    },
    {
     "data": {
      "text/html": [
       "<div>\n",
       "<style scoped>\n",
       "    .dataframe tbody tr th:only-of-type {\n",
       "        vertical-align: middle;\n",
       "    }\n",
       "\n",
       "    .dataframe tbody tr th {\n",
       "        vertical-align: top;\n",
       "    }\n",
       "\n",
       "    .dataframe thead th {\n",
       "        text-align: right;\n",
       "    }\n",
       "</style>\n",
       "<table border=\"1\" class=\"dataframe\">\n",
       "  <thead>\n",
       "    <tr style=\"text-align: right;\">\n",
       "      <th></th>\n",
       "      <th>review_id</th>\n",
       "      <th>book_id</th>\n",
       "      <th>username</th>\n",
       "      <th>text</th>\n",
       "    </tr>\n",
       "  </thead>\n",
       "  <tbody>\n",
       "    <tr>\n",
       "      <th>0</th>\n",
       "      <td>1</td>\n",
       "      <td>1</td>\n",
       "      <td>brandtandrea</td>\n",
       "      <td>Mention society tell send professor analysis. ...</td>\n",
       "    </tr>\n",
       "    <tr>\n",
       "      <th>1</th>\n",
       "      <td>2</td>\n",
       "      <td>1</td>\n",
       "      <td>ryanfranco</td>\n",
       "      <td>Foot glass pretty audience hit themselves. Amo...</td>\n",
       "    </tr>\n",
       "    <tr>\n",
       "      <th>2</th>\n",
       "      <td>3</td>\n",
       "      <td>2</td>\n",
       "      <td>lorichen</td>\n",
       "      <td>Listen treat keep worry. Miss husband tax but ...</td>\n",
       "    </tr>\n",
       "    <tr>\n",
       "      <th>3</th>\n",
       "      <td>4</td>\n",
       "      <td>3</td>\n",
       "      <td>johnsonamanda</td>\n",
       "      <td>Finally month interesting blue could nature cu...</td>\n",
       "    </tr>\n",
       "    <tr>\n",
       "      <th>4</th>\n",
       "      <td>5</td>\n",
       "      <td>3</td>\n",
       "      <td>scotttamara</td>\n",
       "      <td>Nation purpose heavy give wait song will. List...</td>\n",
       "    </tr>\n",
       "  </tbody>\n",
       "</table>\n",
       "</div>"
      ],
      "text/plain": [
       "   review_id  book_id       username  \\\n",
       "0          1        1   brandtandrea   \n",
       "1          2        1     ryanfranco   \n",
       "2          3        2       lorichen   \n",
       "3          4        3  johnsonamanda   \n",
       "4          5        3    scotttamara   \n",
       "\n",
       "                                                text  \n",
       "0  Mention society tell send professor analysis. ...  \n",
       "1  Foot glass pretty audience hit themselves. Amo...  \n",
       "2  Listen treat keep worry. Miss husband tax but ...  \n",
       "3  Finally month interesting blue could nature cu...  \n",
       "4  Nation purpose heavy give wait song will. List...  "
      ]
     },
     "metadata": {},
     "output_type": "display_data"
    },
    {
     "name": "stdout",
     "output_type": "stream",
     "text": [
      "\n",
      "\n"
     ]
    }
   ],
   "source": [
    "# импортируем библиотеки\n",
    "import pandas as pd\n",
    "from sqlalchemy import text, create_engine\n",
    "\n",
    "# устанавливаем параметры\n",
    "db_config = {'user': 'praktikum_student', # имя пользователя\n",
    "'pwd': 'Sdf4$2;d-d30pp', # пароль\n",
    "'host': 'rc1b-wcoijxj3yxfsf3fs.mdb.yandexcloud.net',\n",
    "'port': 6432, # порт подключения\n",
    "'db': 'data-analyst-final-project-db'} # название базы данных\n",
    "connection_string = 'postgresql://{user}:{pwd}@{host}:{port}/{db}'.format(**db_config)\n",
    "\n",
    "# сохраняем коннектор\n",
    "engine = create_engine(connection_string, connect_args={'sslmode':'require'})\n",
    "\n",
    "# список таблиц для выполнения запросов\n",
    "tables = ['books', 'authors', 'publishers', 'ratings', 'reviews']\n",
    "\n",
    "# выполняем SQL-запросы и выводим первые 5 строк каждой таблицы\n",
    "for table in tables:\n",
    "    query = f'SELECT * FROM {table} LIMIT 5'\n",
    "    con = engine.connect()\n",
    "    df = pd.io.sql.read_sql(sql=text(query), con=con)\n",
    "    print(f'Первые 5 строк таблицы {table}:')\n",
    "    display(df)\n",
    "    print('\\n')"
   ]
  },
  {
   "cell_type": "markdown",
   "metadata": {},
   "source": [
    "### Задания"
   ]
  },
  {
   "cell_type": "markdown",
   "metadata": {},
   "source": [
    "#### Посчитаем, сколько книг вышло после 1 января 2000 года:"
   ]
  },
  {
   "cell_type": "code",
   "execution_count": 23,
   "metadata": {},
   "outputs": [
    {
     "data": {
      "text/html": [
       "<div>\n",
       "<style scoped>\n",
       "    .dataframe tbody tr th:only-of-type {\n",
       "        vertical-align: middle;\n",
       "    }\n",
       "\n",
       "    .dataframe tbody tr th {\n",
       "        vertical-align: top;\n",
       "    }\n",
       "\n",
       "    .dataframe thead th {\n",
       "        text-align: right;\n",
       "    }\n",
       "</style>\n",
       "<table border=\"1\" class=\"dataframe\">\n",
       "  <thead>\n",
       "    <tr style=\"text-align: right;\">\n",
       "      <th></th>\n",
       "      <th>total_books</th>\n",
       "    </tr>\n",
       "  </thead>\n",
       "  <tbody>\n",
       "    <tr>\n",
       "      <th>0</th>\n",
       "      <td>819</td>\n",
       "    </tr>\n",
       "  </tbody>\n",
       "</table>\n",
       "</div>"
      ],
      "text/plain": [
       "   total_books\n",
       "0          819"
      ]
     },
     "execution_count": 23,
     "metadata": {},
     "output_type": "execute_result"
    }
   ],
   "source": [
    "query = '''\n",
    "SELECT COUNT(book_id) AS total_books\n",
    "FROM books\n",
    "WHERE publication_date > '2000-01-01'\n",
    "'''\n",
    "\n",
    "pd.io.sql.read_sql(sql=text(query), con=con)"
   ]
  },
  {
   "cell_type": "markdown",
   "metadata": {},
   "source": [
    "С 1 января 2000 года вышло 819 книг."
   ]
  },
  {
   "cell_type": "markdown",
   "metadata": {},
   "source": [
    "#### Для каждой книги посчитаем количество обзоров и среднюю оценку:"
   ]
  },
  {
   "cell_type": "code",
   "execution_count": 63,
   "metadata": {},
   "outputs": [
    {
     "data": {
      "text/html": [
       "<div>\n",
       "<style scoped>\n",
       "    .dataframe tbody tr th:only-of-type {\n",
       "        vertical-align: middle;\n",
       "    }\n",
       "\n",
       "    .dataframe tbody tr th {\n",
       "        vertical-align: top;\n",
       "    }\n",
       "\n",
       "    .dataframe thead th {\n",
       "        text-align: right;\n",
       "    }\n",
       "</style>\n",
       "<table border=\"1\" class=\"dataframe\">\n",
       "  <thead>\n",
       "    <tr style=\"text-align: right;\">\n",
       "      <th></th>\n",
       "      <th>title</th>\n",
       "      <th>total_reviews</th>\n",
       "      <th>average_rating</th>\n",
       "    </tr>\n",
       "  </thead>\n",
       "  <tbody>\n",
       "    <tr>\n",
       "      <th>0</th>\n",
       "      <td>Twilight (Twilight  #1)</td>\n",
       "      <td>7</td>\n",
       "      <td>3.662500</td>\n",
       "    </tr>\n",
       "    <tr>\n",
       "      <th>1</th>\n",
       "      <td>Harry Potter and the Prisoner of Azkaban (Harr...</td>\n",
       "      <td>6</td>\n",
       "      <td>4.414634</td>\n",
       "    </tr>\n",
       "    <tr>\n",
       "      <th>2</th>\n",
       "      <td>Harry Potter and the Chamber of Secrets (Harry...</td>\n",
       "      <td>6</td>\n",
       "      <td>4.287500</td>\n",
       "    </tr>\n",
       "    <tr>\n",
       "      <th>3</th>\n",
       "      <td>The Book Thief</td>\n",
       "      <td>6</td>\n",
       "      <td>4.264151</td>\n",
       "    </tr>\n",
       "    <tr>\n",
       "      <th>4</th>\n",
       "      <td>The Glass Castle</td>\n",
       "      <td>6</td>\n",
       "      <td>4.206897</td>\n",
       "    </tr>\n",
       "    <tr>\n",
       "      <th>...</th>\n",
       "      <td>...</td>\n",
       "      <td>...</td>\n",
       "      <td>...</td>\n",
       "    </tr>\n",
       "    <tr>\n",
       "      <th>995</th>\n",
       "      <td>Disney's Beauty and the Beast (A Little Golden...</td>\n",
       "      <td>0</td>\n",
       "      <td>4.000000</td>\n",
       "    </tr>\n",
       "    <tr>\n",
       "      <th>996</th>\n",
       "      <td>Leonardo's Notebooks</td>\n",
       "      <td>0</td>\n",
       "      <td>4.000000</td>\n",
       "    </tr>\n",
       "    <tr>\n",
       "      <th>997</th>\n",
       "      <td>Essential Tales and Poems</td>\n",
       "      <td>0</td>\n",
       "      <td>4.000000</td>\n",
       "    </tr>\n",
       "    <tr>\n",
       "      <th>998</th>\n",
       "      <td>Anne Rice's The Vampire Lestat: A Graphic Novel</td>\n",
       "      <td>0</td>\n",
       "      <td>3.666667</td>\n",
       "    </tr>\n",
       "    <tr>\n",
       "      <th>999</th>\n",
       "      <td>The Natural Way to Draw</td>\n",
       "      <td>0</td>\n",
       "      <td>3.000000</td>\n",
       "    </tr>\n",
       "  </tbody>\n",
       "</table>\n",
       "<p>1000 rows × 3 columns</p>\n",
       "</div>"
      ],
      "text/plain": [
       "                                                 title  total_reviews  \\\n",
       "0                              Twilight (Twilight  #1)              7   \n",
       "1    Harry Potter and the Prisoner of Azkaban (Harr...              6   \n",
       "2    Harry Potter and the Chamber of Secrets (Harry...              6   \n",
       "3                                       The Book Thief              6   \n",
       "4                                     The Glass Castle              6   \n",
       "..                                                 ...            ...   \n",
       "995  Disney's Beauty and the Beast (A Little Golden...              0   \n",
       "996                               Leonardo's Notebooks              0   \n",
       "997                          Essential Tales and Poems              0   \n",
       "998    Anne Rice's The Vampire Lestat: A Graphic Novel              0   \n",
       "999                            The Natural Way to Draw              0   \n",
       "\n",
       "     average_rating  \n",
       "0          3.662500  \n",
       "1          4.414634  \n",
       "2          4.287500  \n",
       "3          4.264151  \n",
       "4          4.206897  \n",
       "..              ...  \n",
       "995        4.000000  \n",
       "996        4.000000  \n",
       "997        4.000000  \n",
       "998        3.666667  \n",
       "999        3.000000  \n",
       "\n",
       "[1000 rows x 3 columns]"
      ]
     },
     "execution_count": 63,
     "metadata": {},
     "output_type": "execute_result"
    }
   ],
   "source": [
    "query = '''\n",
    "SELECT\n",
    "    b.title,\n",
    "    COUNT(DISTINCT r.review_id) AS total_reviews,\n",
    "    AVG(ra.rating) AS average_rating\n",
    "FROM\n",
    "    books b\n",
    "LEFT JOIN\n",
    "    reviews r ON b.book_id = r.book_id\n",
    "LEFT JOIN\n",
    "    ratings ra ON b.book_id = ra.book_id\n",
    "GROUP BY\n",
    "    b.book_id\n",
    "ORDER BY\n",
    "    total_reviews DESC, average_rating DESC\n",
    "'''\n",
    "\n",
    "pd.io.sql.read_sql(sql=text(query), con=con)"
   ]
  },
  {
   "cell_type": "markdown",
   "metadata": {},
   "source": [
    "Больше всего обзоров на следующие книги: Memoirs of a Geisha (8 обзоров), Twilight (Twilight #1) (7 обзоров)\n",
    "\n",
    "Также стоит отметить, что в десятке — 2 книги из серии романов про Гарри Поттера."
   ]
  },
  {
   "cell_type": "markdown",
   "metadata": {},
   "source": [
    "#### Определим издательство, которое выпустило наибольшее число книг толще 50 страниц:"
   ]
  },
  {
   "cell_type": "code",
   "execution_count": 26,
   "metadata": {},
   "outputs": [
    {
     "data": {
      "text/html": [
       "<div>\n",
       "<style scoped>\n",
       "    .dataframe tbody tr th:only-of-type {\n",
       "        vertical-align: middle;\n",
       "    }\n",
       "\n",
       "    .dataframe tbody tr th {\n",
       "        vertical-align: top;\n",
       "    }\n",
       "\n",
       "    .dataframe thead th {\n",
       "        text-align: right;\n",
       "    }\n",
       "</style>\n",
       "<table border=\"1\" class=\"dataframe\">\n",
       "  <thead>\n",
       "    <tr style=\"text-align: right;\">\n",
       "      <th></th>\n",
       "      <th>publisher</th>\n",
       "      <th>book_count</th>\n",
       "    </tr>\n",
       "  </thead>\n",
       "  <tbody>\n",
       "    <tr>\n",
       "      <th>0</th>\n",
       "      <td>Penguin Books</td>\n",
       "      <td>42</td>\n",
       "    </tr>\n",
       "  </tbody>\n",
       "</table>\n",
       "</div>"
      ],
      "text/plain": [
       "       publisher  book_count\n",
       "0  Penguin Books          42"
      ]
     },
     "execution_count": 26,
     "metadata": {},
     "output_type": "execute_result"
    }
   ],
   "source": [
    "query = '''\n",
    "SELECT \n",
    "    p.publisher,\n",
    "    COUNT(b.book_id) AS book_count\n",
    "FROM \n",
    "    books b\n",
    "JOIN \n",
    "    publishers p ON b.publisher_id = p.publisher_id\n",
    "WHERE \n",
    "    b.num_pages > 50\n",
    "GROUP BY \n",
    "    p.publisher\n",
    "ORDER BY \n",
    "    book_count DESC\n",
    "LIMIT 1;\n",
    "'''\n",
    "\n",
    "pd.io.sql.read_sql(sql=text(query), con=con)"
   ]
  },
  {
   "cell_type": "markdown",
   "metadata": {},
   "source": [
    "Издательство Penguin Books выпустило наибольшее число книг толще 50 страниц — 42."
   ]
  },
  {
   "cell_type": "markdown",
   "metadata": {},
   "source": [
    "#### Определим автора с самой высокой средней оценкой книг:"
   ]
  },
  {
   "cell_type": "code",
   "execution_count": 27,
   "metadata": {},
   "outputs": [
    {
     "data": {
      "text/html": [
       "<div>\n",
       "<style scoped>\n",
       "    .dataframe tbody tr th:only-of-type {\n",
       "        vertical-align: middle;\n",
       "    }\n",
       "\n",
       "    .dataframe tbody tr th {\n",
       "        vertical-align: top;\n",
       "    }\n",
       "\n",
       "    .dataframe thead th {\n",
       "        text-align: right;\n",
       "    }\n",
       "</style>\n",
       "<table border=\"1\" class=\"dataframe\">\n",
       "  <thead>\n",
       "    <tr style=\"text-align: right;\">\n",
       "      <th></th>\n",
       "      <th>author</th>\n",
       "      <th>average_rating</th>\n",
       "    </tr>\n",
       "  </thead>\n",
       "  <tbody>\n",
       "    <tr>\n",
       "      <th>0</th>\n",
       "      <td>J.K. Rowling/Mary GrandPré</td>\n",
       "      <td>4.287097</td>\n",
       "    </tr>\n",
       "  </tbody>\n",
       "</table>\n",
       "</div>"
      ],
      "text/plain": [
       "                       author  average_rating\n",
       "0  J.K. Rowling/Mary GrandPré        4.287097"
      ]
     },
     "execution_count": 27,
     "metadata": {},
     "output_type": "execute_result"
    }
   ],
   "source": [
    "query = '''\n",
    "SELECT\n",
    "    a.author,\n",
    "    AVG(r2.rating) AS average_rating\n",
    "FROM\n",
    "    authors a\n",
    "JOIN\n",
    "    books b ON a.author_id = b.author_id\n",
    "JOIN\n",
    "    (\n",
    "        SELECT\n",
    "            book_id,\n",
    "            AVG(rating) AS rating_avg\n",
    "        FROM\n",
    "            ratings\n",
    "        GROUP BY\n",
    "            book_id\n",
    "        HAVING\n",
    "            COUNT(rating) >= 50\n",
    "    ) r ON b.book_id = r.book_id\n",
    "JOIN\n",
    "    ratings r2 ON b.book_id = r2.book_id\n",
    "GROUP BY\n",
    "    a.author\n",
    "ORDER BY\n",
    "    average_rating DESC\n",
    "LIMIT 1;\n",
    "\n",
    "'''\n",
    "\n",
    "pd.io.sql.read_sql(sql=text(query), con=con)"
   ]
  },
  {
   "cell_type": "markdown",
   "metadata": {},
   "source": [
    "Автором с самой высокой средней оценкой книг являет Дж. К. Роулинг — средний рейтинг её книг составляет 4.29."
   ]
  },
  {
   "cell_type": "markdown",
   "metadata": {},
   "source": [
    "#### Посчитаем среднее количество обзоров от пользователей, которые поставили больше 48 оценок:"
   ]
  },
  {
   "cell_type": "code",
   "execution_count": 28,
   "metadata": {},
   "outputs": [
    {
     "data": {
      "text/html": [
       "<div>\n",
       "<style scoped>\n",
       "    .dataframe tbody tr th:only-of-type {\n",
       "        vertical-align: middle;\n",
       "    }\n",
       "\n",
       "    .dataframe tbody tr th {\n",
       "        vertical-align: top;\n",
       "    }\n",
       "\n",
       "    .dataframe thead th {\n",
       "        text-align: right;\n",
       "    }\n",
       "</style>\n",
       "<table border=\"1\" class=\"dataframe\">\n",
       "  <thead>\n",
       "    <tr style=\"text-align: right;\">\n",
       "      <th></th>\n",
       "      <th>average_review_count</th>\n",
       "    </tr>\n",
       "  </thead>\n",
       "  <tbody>\n",
       "    <tr>\n",
       "      <th>0</th>\n",
       "      <td>24.0</td>\n",
       "    </tr>\n",
       "  </tbody>\n",
       "</table>\n",
       "</div>"
      ],
      "text/plain": [
       "   average_review_count\n",
       "0                  24.0"
      ]
     },
     "execution_count": 28,
     "metadata": {},
     "output_type": "execute_result"
    }
   ],
   "source": [
    "query = '''\n",
    "SELECT\n",
    "    AVG(review_count) AS average_review_count\n",
    "FROM\n",
    "    (\n",
    "        SELECT\n",
    "            username,\n",
    "            COUNT(review_id) AS review_count\n",
    "        FROM\n",
    "            reviews\n",
    "        WHERE\n",
    "            username IN (\n",
    "                SELECT\n",
    "                    username\n",
    "                FROM\n",
    "                    ratings\n",
    "                GROUP BY\n",
    "                    username\n",
    "                HAVING\n",
    "                    COUNT(rating_id) > 48\n",
    "            )\n",
    "        GROUP BY\n",
    "            username\n",
    "    ) AS subquery\n",
    "'''\n",
    "\n",
    "pd.io.sql.read_sql(sql=text(query), con=con)"
   ]
  },
  {
   "cell_type": "markdown",
   "metadata": {},
   "source": [
    "Среднее количество обзоров от таких пользователей — 24."
   ]
  },
  {
   "cell_type": "markdown",
   "metadata": {},
   "source": [
    "#### Выведите таблицу, которая будет содержать по году публикации:\n",
    "количество издательств, \\\n",
    "выпущенных книг и \\\n",
    "сколько всего тысяч страниц было в изданных книгах \\\n",
    "(отобразить только те года, в которых издано более 30 книг)"
   ]
  },
  {
   "cell_type": "code",
   "execution_count": 22,
   "metadata": {},
   "outputs": [
    {
     "data": {
      "text/html": [
       "<div>\n",
       "<style scoped>\n",
       "    .dataframe tbody tr th:only-of-type {\n",
       "        vertical-align: middle;\n",
       "    }\n",
       "\n",
       "    .dataframe tbody tr th {\n",
       "        vertical-align: top;\n",
       "    }\n",
       "\n",
       "    .dataframe thead th {\n",
       "        text-align: right;\n",
       "    }\n",
       "</style>\n",
       "<table border=\"1\" class=\"dataframe\">\n",
       "  <thead>\n",
       "    <tr style=\"text-align: right;\">\n",
       "      <th></th>\n",
       "      <th>publication_year</th>\n",
       "      <th>count_publishers</th>\n",
       "      <th>count_books</th>\n",
       "      <th>total_pages_thousands</th>\n",
       "    </tr>\n",
       "  </thead>\n",
       "  <tbody>\n",
       "    <tr>\n",
       "      <th>0</th>\n",
       "      <td>1999.0</td>\n",
       "      <td>26</td>\n",
       "      <td>41</td>\n",
       "      <td>15.763</td>\n",
       "    </tr>\n",
       "    <tr>\n",
       "      <th>1</th>\n",
       "      <td>2000.0</td>\n",
       "      <td>35</td>\n",
       "      <td>38</td>\n",
       "      <td>13.328</td>\n",
       "    </tr>\n",
       "    <tr>\n",
       "      <th>2</th>\n",
       "      <td>2001.0</td>\n",
       "      <td>41</td>\n",
       "      <td>60</td>\n",
       "      <td>21.758</td>\n",
       "    </tr>\n",
       "    <tr>\n",
       "      <th>3</th>\n",
       "      <td>2002.0</td>\n",
       "      <td>62</td>\n",
       "      <td>94</td>\n",
       "      <td>38.597</td>\n",
       "    </tr>\n",
       "    <tr>\n",
       "      <th>4</th>\n",
       "      <td>2003.0</td>\n",
       "      <td>65</td>\n",
       "      <td>105</td>\n",
       "      <td>41.423</td>\n",
       "    </tr>\n",
       "    <tr>\n",
       "      <th>5</th>\n",
       "      <td>2004.0</td>\n",
       "      <td>88</td>\n",
       "      <td>124</td>\n",
       "      <td>46.779</td>\n",
       "    </tr>\n",
       "    <tr>\n",
       "      <th>6</th>\n",
       "      <td>2005.0</td>\n",
       "      <td>89</td>\n",
       "      <td>139</td>\n",
       "      <td>55.967</td>\n",
       "    </tr>\n",
       "    <tr>\n",
       "      <th>7</th>\n",
       "      <td>2006.0</td>\n",
       "      <td>109</td>\n",
       "      <td>184</td>\n",
       "      <td>68.302</td>\n",
       "    </tr>\n",
       "    <tr>\n",
       "      <th>8</th>\n",
       "      <td>2007.0</td>\n",
       "      <td>38</td>\n",
       "      <td>50</td>\n",
       "      <td>18.258</td>\n",
       "    </tr>\n",
       "  </tbody>\n",
       "</table>\n",
       "</div>"
      ],
      "text/plain": [
       "   publication_year  count_publishers  count_books  total_pages_thousands\n",
       "0            1999.0                26           41                 15.763\n",
       "1            2000.0                35           38                 13.328\n",
       "2            2001.0                41           60                 21.758\n",
       "3            2002.0                62           94                 38.597\n",
       "4            2003.0                65          105                 41.423\n",
       "5            2004.0                88          124                 46.779\n",
       "6            2005.0                89          139                 55.967\n",
       "7            2006.0               109          184                 68.302\n",
       "8            2007.0                38           50                 18.258"
      ]
     },
     "execution_count": 22,
     "metadata": {},
     "output_type": "execute_result"
    }
   ],
   "source": [
    "query = '''\n",
    "SELECT\n",
    "    EXTRACT(YEAR FROM publication_date) AS publication_year,\n",
    "    COUNT(DISTINCT publisher_id) AS count_publishers,\n",
    "    COUNT(book_id) AS count_books,\n",
    "    SUM(num_pages) / 1000.0 AS total_pages_thousands\n",
    "FROM\n",
    "    books\n",
    "WHERE\n",
    "    EXTRACT(YEAR FROM publication_date) IN (\n",
    "        SELECT EXTRACT(YEAR FROM publication_date)\n",
    "        FROM books\n",
    "        GROUP BY EXTRACT(YEAR FROM publication_date)\n",
    "        HAVING COUNT(book_id) > 30\n",
    "    )\n",
    "GROUP BY\n",
    "    publication_year\n",
    "ORDER BY\n",
    "    publication_year;\n",
    "'''\n",
    "\n",
    "pd.io.sql.read_sql(sql=text(query), con=con)"
   ]
  },
  {
   "cell_type": "markdown",
   "metadata": {},
   "source": [
    "#### Выведите в одной таблице два числа — среднюю оценку тех книг, на которые написало отзывов более 3 человек и отдельно среднюю оценку остальных книг:"
   ]
  },
  {
   "cell_type": "code",
   "execution_count": 60,
   "metadata": {},
   "outputs": [
    {
     "data": {
      "text/html": [
       "<div>\n",
       "<style scoped>\n",
       "    .dataframe tbody tr th:only-of-type {\n",
       "        vertical-align: middle;\n",
       "    }\n",
       "\n",
       "    .dataframe tbody tr th {\n",
       "        vertical-align: top;\n",
       "    }\n",
       "\n",
       "    .dataframe thead th {\n",
       "        text-align: right;\n",
       "    }\n",
       "</style>\n",
       "<table border=\"1\" class=\"dataframe\">\n",
       "  <thead>\n",
       "    <tr style=\"text-align: right;\">\n",
       "      <th></th>\n",
       "      <th>avg_rating_4plus_reviews</th>\n",
       "      <th>avg_rating_3orless_reviews</th>\n",
       "    </tr>\n",
       "  </thead>\n",
       "  <tbody>\n",
       "    <tr>\n",
       "      <th>0</th>\n",
       "      <td>3.949505</td>\n",
       "      <td>3.890375</td>\n",
       "    </tr>\n",
       "  </tbody>\n",
       "</table>\n",
       "</div>"
      ],
      "text/plain": [
       "   avg_rating_4plus_reviews  avg_rating_3orless_reviews\n",
       "0                  3.949505                    3.890375"
      ]
     },
     "execution_count": 60,
     "metadata": {},
     "output_type": "execute_result"
    }
   ],
   "source": [
    "query = '''\n",
    "SELECT \n",
    "    (SELECT AVG(rating)\n",
    "     FROM ratings\n",
    "     WHERE book_id IN (SELECT book_id\n",
    "                       FROM reviews\n",
    "                       GROUP BY book_id\n",
    "                       HAVING COUNT(DISTINCT review_id) > 3)) AS avg_rating_4plus_reviews,\n",
    "    \n",
    "    (SELECT AVG(rating)\n",
    "     FROM ratings\n",
    "     WHERE book_id NOT IN (SELECT book_id\n",
    "                           FROM reviews\n",
    "                           GROUP BY book_id\n",
    "                           HAVING COUNT(review_id) > 3)) AS avg_rating_3orless_reviews;\n",
    "'''\n",
    "\n",
    "pd.io.sql.read_sql(sql=text(query), con=con)"
   ]
  },
  {
   "cell_type": "markdown",
   "metadata": {},
   "source": [
    "Таким образом, рейтинг книг, у которых больше 3 отзывов, формально выше рейтинга остальных книг. Но, в целом, отличие является незначительным и можно сказать что они примерно равны."
   ]
  },
  {
   "cell_type": "markdown",
   "metadata": {},
   "source": [
    "### Общий вывод"
   ]
  },
  {
   "cell_type": "markdown",
   "metadata": {},
   "source": [
    "В результате анализа базы данных книжного сервиса по подписке мы получили ценные метрики и характеристики книг и пользователей. Мы выяснили, что с 1 января 2000 года было выпущено 819 книг, и нашли топ-3 книг с наибольшим количеством обзоров. Выяснили, что серия книг о Гарри Поттере занимает значимое место среди самых обсуждаемых произведений.\n",
    "\n",
    "Также мы выявили наиболее продуктивное издательство — Penguin Books, которое выпустило 42 книги толще 50 страниц, что может быть важной информацией для формулирования стратегии сотрудничества с издательствами.\n",
    "\n",
    "Одним из ключевых авторов с самой высокой средней оценкой книг является Дж. К. Роулинг, чьи произведения имеют средний рейтинг 4.29, что может привлечь большее количество пользователей, предпочитающих книги с высокими оценками.\n",
    "\n",
    "Наконец, мы оценили активность пользователей и выяснили, что те, кто ставит более 48 оценок, также проявляют активность в написании обзоров — в среднем они пишут 24 ревью.\n",
    "\n",
    "Выводы из этого анализа помогут сформулировать ценностное предложение для нового продукта, привлечь больше пользователей и повысить их удовлетворенность сервисом."
   ]
  }
 ],
 "metadata": {
  "ExecuteTimeLog": [
   {
    "duration": 15566,
    "start_time": "2023-07-21T08:41:45.894Z"
   },
   {
    "duration": 85,
    "start_time": "2023-07-21T08:54:12.852Z"
   },
   {
    "duration": 9,
    "start_time": "2023-07-21T08:54:36.343Z"
   },
   {
    "duration": 113,
    "start_time": "2023-07-21T08:55:03.669Z"
   },
   {
    "duration": 7,
    "start_time": "2023-07-21T08:55:11.863Z"
   },
   {
    "duration": 7,
    "start_time": "2023-07-21T08:55:18.333Z"
   },
   {
    "duration": 7,
    "start_time": "2023-07-21T08:55:24.820Z"
   },
   {
    "duration": 8,
    "start_time": "2023-07-21T08:55:34.607Z"
   },
   {
    "duration": 9,
    "start_time": "2023-07-21T09:03:11.590Z"
   },
   {
    "duration": 239,
    "start_time": "2023-07-21T09:09:05.906Z"
   },
   {
    "duration": 139,
    "start_time": "2023-07-21T09:10:08.942Z"
   },
   {
    "duration": 46,
    "start_time": "2023-07-21T09:12:42.616Z"
   },
   {
    "duration": 37,
    "start_time": "2023-07-21T09:13:33.048Z"
   },
   {
    "duration": 56,
    "start_time": "2023-07-21T09:15:18.364Z"
   },
   {
    "duration": 29,
    "start_time": "2023-07-21T09:15:52.606Z"
   },
   {
    "duration": 36,
    "start_time": "2023-07-21T09:16:33.260Z"
   },
   {
    "duration": 154,
    "start_time": "2023-07-21T09:20:08.472Z"
   },
   {
    "duration": 24,
    "start_time": "2023-07-21T09:22:38.497Z"
   },
   {
    "duration": 13,
    "start_time": "2023-07-21T09:26:24.795Z"
   },
   {
    "duration": 14,
    "start_time": "2023-07-21T09:26:41.897Z"
   },
   {
    "duration": 18,
    "start_time": "2023-07-21T09:26:46.946Z"
   },
   {
    "duration": 181,
    "start_time": "2023-07-21T09:31:42.900Z"
   },
   {
    "duration": 197,
    "start_time": "2023-07-21T09:38:53.807Z"
   },
   {
    "duration": 178,
    "start_time": "2023-07-21T09:40:14.278Z"
   },
   {
    "duration": 14,
    "start_time": "2023-07-21T09:43:47.101Z"
   },
   {
    "duration": 161,
    "start_time": "2023-07-21T09:46:03.521Z"
   },
   {
    "duration": 16,
    "start_time": "2023-07-21T09:46:15.382Z"
   },
   {
    "duration": 16,
    "start_time": "2023-07-21T09:50:47.947Z"
   },
   {
    "duration": 15,
    "start_time": "2023-07-21T09:51:00.311Z"
   },
   {
    "duration": 16,
    "start_time": "2023-07-21T09:54:04.494Z"
   },
   {
    "duration": 13,
    "start_time": "2023-07-21T09:54:29.410Z"
   },
   {
    "duration": 291,
    "start_time": "2023-07-21T09:54:59.914Z"
   },
   {
    "duration": 15,
    "start_time": "2023-07-21T09:55:41.435Z"
   },
   {
    "duration": 18,
    "start_time": "2023-07-21T09:55:45.153Z"
   },
   {
    "duration": 42,
    "start_time": "2023-07-21T09:56:38.662Z"
   },
   {
    "duration": 36,
    "start_time": "2023-07-21T09:56:41.962Z"
   },
   {
    "duration": 19667,
    "start_time": "2023-07-21T10:23:38.134Z"
   },
   {
    "duration": 16,
    "start_time": "2023-07-21T10:23:57.803Z"
   },
   {
    "duration": 24,
    "start_time": "2023-07-21T10:23:57.820Z"
   },
   {
    "duration": 20,
    "start_time": "2023-07-21T10:23:57.845Z"
   },
   {
    "duration": 39,
    "start_time": "2023-07-21T10:23:57.867Z"
   },
   {
    "duration": 22,
    "start_time": "2023-07-21T10:23:57.908Z"
   },
   {
    "duration": 81,
    "start_time": "2023-07-21T10:23:57.932Z"
   },
   {
    "duration": 58,
    "start_time": "2023-07-21T10:23:58.015Z"
   },
   {
    "duration": 45,
    "start_time": "2023-07-21T10:23:58.075Z"
   },
   {
    "duration": 48,
    "start_time": "2023-07-21T10:23:58.122Z"
   },
   {
    "duration": 45,
    "start_time": "2023-07-21T10:23:58.172Z"
   },
   {
    "duration": 80,
    "start_time": "2023-07-21T10:24:48.353Z"
   },
   {
    "duration": 113,
    "start_time": "2023-07-21T11:54:30.453Z"
   },
   {
    "duration": 13638,
    "start_time": "2023-07-21T12:12:46.040Z"
   },
   {
    "duration": 139,
    "start_time": "2023-07-21T12:15:37.356Z"
   },
   {
    "duration": 131,
    "start_time": "2023-07-21T12:15:45.174Z"
   },
   {
    "duration": 147,
    "start_time": "2023-07-21T12:15:51.701Z"
   },
   {
    "duration": 14,
    "start_time": "2023-07-21T12:21:59.919Z"
   },
   {
    "duration": 8,
    "start_time": "2023-07-21T12:22:52.089Z"
   },
   {
    "duration": 26,
    "start_time": "2023-07-21T12:22:58.961Z"
   },
   {
    "duration": 12,
    "start_time": "2023-07-21T12:23:13.585Z"
   },
   {
    "duration": 14,
    "start_time": "2023-07-21T12:23:20.152Z"
   },
   {
    "duration": 12,
    "start_time": "2023-07-21T12:23:24.192Z"
   },
   {
    "duration": 9,
    "start_time": "2023-07-21T12:26:02.870Z"
   },
   {
    "duration": 119,
    "start_time": "2023-07-21T12:27:14.718Z"
   },
   {
    "duration": 25,
    "start_time": "2023-07-21T12:30:22.917Z"
   },
   {
    "duration": 25,
    "start_time": "2023-07-21T12:30:51.497Z"
   },
   {
    "duration": 32,
    "start_time": "2023-07-21T12:38:25.542Z"
   },
   {
    "duration": 4,
    "start_time": "2023-07-21T12:39:06.239Z"
   },
   {
    "duration": 28,
    "start_time": "2023-07-21T12:39:35.921Z"
   },
   {
    "duration": 14,
    "start_time": "2023-07-21T12:52:52.004Z"
   },
   {
    "duration": 15,
    "start_time": "2023-07-21T12:53:06.616Z"
   },
   {
    "duration": 73,
    "start_time": "2023-07-21T13:01:44.401Z"
   },
   {
    "duration": 14,
    "start_time": "2023-07-21T13:02:41.733Z"
   },
   {
    "duration": 9,
    "start_time": "2023-07-21T13:02:56.432Z"
   },
   {
    "duration": 27,
    "start_time": "2023-07-21T13:03:04.312Z"
   },
   {
    "duration": 8,
    "start_time": "2023-07-21T13:03:15.881Z"
   },
   {
    "duration": 11,
    "start_time": "2023-07-21T13:03:22.221Z"
   },
   {
    "duration": 14,
    "start_time": "2023-07-21T13:03:27.921Z"
   },
   {
    "duration": 14,
    "start_time": "2023-07-21T13:03:36.585Z"
   },
   {
    "duration": 20,
    "start_time": "2023-07-21T13:04:36.491Z"
   },
   {
    "duration": 18,
    "start_time": "2023-07-21T13:13:13.841Z"
   },
   {
    "duration": 12,
    "start_time": "2023-07-21T13:13:17.010Z"
   },
   {
    "duration": 12,
    "start_time": "2023-07-21T13:13:40.977Z"
   },
   {
    "duration": 16,
    "start_time": "2023-07-21T13:13:52.647Z"
   },
   {
    "duration": 23,
    "start_time": "2023-07-21T13:14:44.668Z"
   },
   {
    "duration": 7,
    "start_time": "2023-07-21T13:14:58.259Z"
   },
   {
    "duration": 8,
    "start_time": "2023-07-21T13:15:06.453Z"
   },
   {
    "duration": 5,
    "start_time": "2023-07-21T13:15:27.176Z"
   },
   {
    "duration": 26,
    "start_time": "2023-07-21T13:15:49.369Z"
   },
   {
    "duration": 4,
    "start_time": "2023-07-21T13:15:50.752Z"
   },
   {
    "duration": 16,
    "start_time": "2023-07-21T13:18:04.843Z"
   },
   {
    "duration": 29,
    "start_time": "2023-07-21T13:18:39.641Z"
   },
   {
    "duration": 34,
    "start_time": "2023-07-21T13:18:54.266Z"
   },
   {
    "duration": 14,
    "start_time": "2023-07-21T13:19:54.871Z"
   },
   {
    "duration": 12,
    "start_time": "2023-07-21T13:21:45.543Z"
   },
   {
    "duration": 12,
    "start_time": "2023-07-21T13:22:04.677Z"
   },
   {
    "duration": 11,
    "start_time": "2023-07-21T13:22:16.266Z"
   },
   {
    "duration": 8,
    "start_time": "2023-07-21T13:30:28.872Z"
   },
   {
    "duration": 19,
    "start_time": "2023-07-21T13:32:04.301Z"
   },
   {
    "duration": 25,
    "start_time": "2023-07-21T13:32:33.890Z"
   },
   {
    "duration": 19,
    "start_time": "2023-07-21T13:32:49.678Z"
   },
   {
    "duration": 14,
    "start_time": "2023-07-21T13:32:57.910Z"
   },
   {
    "duration": 13,
    "start_time": "2023-07-21T13:33:42.763Z"
   },
   {
    "duration": 18,
    "start_time": "2023-07-21T13:34:27.037Z"
   },
   {
    "duration": 12,
    "start_time": "2023-07-21T13:34:34.655Z"
   },
   {
    "duration": 11,
    "start_time": "2023-07-21T13:35:43.437Z"
   },
   {
    "duration": 15,
    "start_time": "2023-07-21T13:37:45.938Z"
   },
   {
    "duration": 25,
    "start_time": "2023-07-21T13:42:43.909Z"
   },
   {
    "duration": 7,
    "start_time": "2023-07-21T13:43:08.642Z"
   },
   {
    "duration": 32,
    "start_time": "2023-07-21T13:43:23.215Z"
   },
   {
    "duration": 14,
    "start_time": "2023-07-21T13:50:21.783Z"
   },
   {
    "duration": 111,
    "start_time": "2023-07-21T14:40:35.240Z"
   },
   {
    "duration": 19,
    "start_time": "2023-07-21T14:41:26.950Z"
   },
   {
    "duration": 29,
    "start_time": "2023-07-21T14:41:40.683Z"
   }
  ],
  "kernelspec": {
   "display_name": "Python 3 (ipykernel)",
   "language": "python",
   "name": "python3"
  },
  "language_info": {
   "codemirror_mode": {
    "name": "ipython",
    "version": 3
   },
   "file_extension": ".py",
   "mimetype": "text/x-python",
   "name": "python",
   "nbconvert_exporter": "python",
   "pygments_lexer": "ipython3",
   "version": "3.10.9"
  },
  "toc": {
   "base_numbering": 1,
   "nav_menu": {},
   "number_sections": true,
   "sideBar": true,
   "skip_h1_title": true,
   "title_cell": "Table of Contents",
   "title_sidebar": "Contents",
   "toc_cell": false,
   "toc_position": {},
   "toc_section_display": true,
   "toc_window_display": true
  }
 },
 "nbformat": 4,
 "nbformat_minor": 2
}
