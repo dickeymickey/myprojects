{
 "cells": [
  {
   "cell_type": "markdown",
   "metadata": {},
   "source": [
    "# Анализ воронки продаж и применение А/А/В-тестирования.\n",
    "**Цель исследования** — изучение поведения пользователей мобильного приложения, анализ воронки продаж и проведение A/A/B-эксперимента для определения лучшего варианта шрифтов в приложении. \\\n",
    "**Ход исследования**: Работа пройдёт в несколько этапов:\n",
    "* Подготовка и предобработка данных\n",
    "* Анализ данных\n",
    "* Изучение воронки событий\n",
    "* Изучение результатов эксперимента"
   ]
  },
  {
   "cell_type": "markdown",
   "metadata": {},
   "source": [
    "### Подготовка и предобработка данных"
   ]
  },
  {
   "cell_type": "markdown",
   "metadata": {},
   "source": [
    "Для начала импортируем необходимые библиотеки:"
   ]
  },
  {
   "cell_type": "code",
   "execution_count": 1,
   "metadata": {},
   "outputs": [],
   "source": [
    "import pandas as pd\n",
    "import datetime as dt\n",
    "import numpy as np\n",
    "import scipy.stats as stats\n",
    "from scipy.stats import norm\n",
    "from scipy import stats as st\n",
    "import matplotlib.pyplot as plt\n",
    "from pandas.plotting import register_matplotlib_converters\n",
    "import plotly.graph_objects as go\n",
    "import warnings\n",
    "import math as mth\n",
    "# конвертеры, которые позволяют использовать типы pandas в matplotlib  \n",
    "register_matplotlib_converters()"
   ]
  },
  {
   "cell_type": "markdown",
   "metadata": {},
   "source": [
    "Загрузим датасет из CSV-файла и выведем общую информацию о нём:"
   ]
  },
  {
   "cell_type": "code",
   "execution_count": 2,
   "metadata": {},
   "outputs": [],
   "source": [
    "logs = pd.read_csv('/datasets/logs_exp.csv', sep=\"\\t\")"
   ]
  },
  {
   "cell_type": "code",
   "execution_count": 3,
   "metadata": {},
   "outputs": [
    {
     "data": {
      "text/html": [
       "<div>\n",
       "<style scoped>\n",
       "    .dataframe tbody tr th:only-of-type {\n",
       "        vertical-align: middle;\n",
       "    }\n",
       "\n",
       "    .dataframe tbody tr th {\n",
       "        vertical-align: top;\n",
       "    }\n",
       "\n",
       "    .dataframe thead th {\n",
       "        text-align: right;\n",
       "    }\n",
       "</style>\n",
       "<table border=\"1\" class=\"dataframe\">\n",
       "  <thead>\n",
       "    <tr style=\"text-align: right;\">\n",
       "      <th></th>\n",
       "      <th>EventName</th>\n",
       "      <th>DeviceIDHash</th>\n",
       "      <th>EventTimestamp</th>\n",
       "      <th>ExpId</th>\n",
       "    </tr>\n",
       "  </thead>\n",
       "  <tbody>\n",
       "    <tr>\n",
       "      <th>0</th>\n",
       "      <td>MainScreenAppear</td>\n",
       "      <td>4575588528974610257</td>\n",
       "      <td>1564029816</td>\n",
       "      <td>246</td>\n",
       "    </tr>\n",
       "    <tr>\n",
       "      <th>1</th>\n",
       "      <td>MainScreenAppear</td>\n",
       "      <td>7416695313311560658</td>\n",
       "      <td>1564053102</td>\n",
       "      <td>246</td>\n",
       "    </tr>\n",
       "    <tr>\n",
       "      <th>2</th>\n",
       "      <td>PaymentScreenSuccessful</td>\n",
       "      <td>3518123091307005509</td>\n",
       "      <td>1564054127</td>\n",
       "      <td>248</td>\n",
       "    </tr>\n",
       "    <tr>\n",
       "      <th>3</th>\n",
       "      <td>CartScreenAppear</td>\n",
       "      <td>3518123091307005509</td>\n",
       "      <td>1564054127</td>\n",
       "      <td>248</td>\n",
       "    </tr>\n",
       "    <tr>\n",
       "      <th>4</th>\n",
       "      <td>PaymentScreenSuccessful</td>\n",
       "      <td>6217807653094995999</td>\n",
       "      <td>1564055322</td>\n",
       "      <td>248</td>\n",
       "    </tr>\n",
       "  </tbody>\n",
       "</table>\n",
       "</div>"
      ],
      "text/plain": [
       "                 EventName         DeviceIDHash  EventTimestamp  ExpId\n",
       "0         MainScreenAppear  4575588528974610257      1564029816    246\n",
       "1         MainScreenAppear  7416695313311560658      1564053102    246\n",
       "2  PaymentScreenSuccessful  3518123091307005509      1564054127    248\n",
       "3         CartScreenAppear  3518123091307005509      1564054127    248\n",
       "4  PaymentScreenSuccessful  6217807653094995999      1564055322    248"
      ]
     },
     "execution_count": 3,
     "metadata": {},
     "output_type": "execute_result"
    }
   ],
   "source": [
    "logs.head(5)"
   ]
  },
  {
   "cell_type": "code",
   "execution_count": 4,
   "metadata": {},
   "outputs": [
    {
     "name": "stdout",
     "output_type": "stream",
     "text": [
      "<class 'pandas.core.frame.DataFrame'>\n",
      "RangeIndex: 244126 entries, 0 to 244125\n",
      "Data columns (total 4 columns):\n",
      " #   Column          Non-Null Count   Dtype \n",
      "---  ------          --------------   ----- \n",
      " 0   EventName       244126 non-null  object\n",
      " 1   DeviceIDHash    244126 non-null  int64 \n",
      " 2   EventTimestamp  244126 non-null  int64 \n",
      " 3   ExpId           244126 non-null  int64 \n",
      "dtypes: int64(3), object(1)\n",
      "memory usage: 7.5+ MB\n"
     ]
    }
   ],
   "source": [
    "logs.info()"
   ]
  },
  {
   "cell_type": "markdown",
   "metadata": {},
   "source": [
    "Для удобства приведём названия столбцов к \"змеиному регистру\":"
   ]
  },
  {
   "cell_type": "code",
   "execution_count": 5,
   "metadata": {},
   "outputs": [],
   "source": [
    "logs.columns = ('event_name', 'device_id_hash', 'event_timestamp', 'exp_id')"
   ]
  },
  {
   "cell_type": "code",
   "execution_count": 6,
   "metadata": {},
   "outputs": [
    {
     "data": {
      "text/html": [
       "<div>\n",
       "<style scoped>\n",
       "    .dataframe tbody tr th:only-of-type {\n",
       "        vertical-align: middle;\n",
       "    }\n",
       "\n",
       "    .dataframe tbody tr th {\n",
       "        vertical-align: top;\n",
       "    }\n",
       "\n",
       "    .dataframe thead th {\n",
       "        text-align: right;\n",
       "    }\n",
       "</style>\n",
       "<table border=\"1\" class=\"dataframe\">\n",
       "  <thead>\n",
       "    <tr style=\"text-align: right;\">\n",
       "      <th></th>\n",
       "      <th>event_name</th>\n",
       "      <th>device_id_hash</th>\n",
       "      <th>event_timestamp</th>\n",
       "      <th>exp_id</th>\n",
       "    </tr>\n",
       "  </thead>\n",
       "  <tbody>\n",
       "    <tr>\n",
       "      <th>0</th>\n",
       "      <td>MainScreenAppear</td>\n",
       "      <td>4575588528974610257</td>\n",
       "      <td>1564029816</td>\n",
       "      <td>246</td>\n",
       "    </tr>\n",
       "    <tr>\n",
       "      <th>1</th>\n",
       "      <td>MainScreenAppear</td>\n",
       "      <td>7416695313311560658</td>\n",
       "      <td>1564053102</td>\n",
       "      <td>246</td>\n",
       "    </tr>\n",
       "    <tr>\n",
       "      <th>2</th>\n",
       "      <td>PaymentScreenSuccessful</td>\n",
       "      <td>3518123091307005509</td>\n",
       "      <td>1564054127</td>\n",
       "      <td>248</td>\n",
       "    </tr>\n",
       "    <tr>\n",
       "      <th>3</th>\n",
       "      <td>CartScreenAppear</td>\n",
       "      <td>3518123091307005509</td>\n",
       "      <td>1564054127</td>\n",
       "      <td>248</td>\n",
       "    </tr>\n",
       "    <tr>\n",
       "      <th>4</th>\n",
       "      <td>PaymentScreenSuccessful</td>\n",
       "      <td>6217807653094995999</td>\n",
       "      <td>1564055322</td>\n",
       "      <td>248</td>\n",
       "    </tr>\n",
       "  </tbody>\n",
       "</table>\n",
       "</div>"
      ],
      "text/plain": [
       "                event_name       device_id_hash  event_timestamp  exp_id\n",
       "0         MainScreenAppear  4575588528974610257       1564029816     246\n",
       "1         MainScreenAppear  7416695313311560658       1564053102     246\n",
       "2  PaymentScreenSuccessful  3518123091307005509       1564054127     248\n",
       "3         CartScreenAppear  3518123091307005509       1564054127     248\n",
       "4  PaymentScreenSuccessful  6217807653094995999       1564055322     248"
      ]
     },
     "execution_count": 6,
     "metadata": {},
     "output_type": "execute_result"
    }
   ],
   "source": [
    "logs.head(5)"
   ]
  },
  {
   "cell_type": "markdown",
   "metadata": {},
   "source": [
    "Проверим датасет на наличие пропусков и дубликатов:"
   ]
  },
  {
   "cell_type": "code",
   "execution_count": 7,
   "metadata": {},
   "outputs": [
    {
     "data": {
      "text/plain": [
       "event_name         0\n",
       "device_id_hash     0\n",
       "event_timestamp    0\n",
       "exp_id             0\n",
       "dtype: int64"
      ]
     },
     "execution_count": 7,
     "metadata": {},
     "output_type": "execute_result"
    }
   ],
   "source": [
    "logs.isna().sum()"
   ]
  },
  {
   "cell_type": "code",
   "execution_count": 8,
   "metadata": {},
   "outputs": [
    {
     "data": {
      "text/plain": [
       "413"
      ]
     },
     "execution_count": 8,
     "metadata": {},
     "output_type": "execute_result"
    }
   ],
   "source": [
    "logs.duplicated().sum()"
   ]
  },
  {
   "cell_type": "markdown",
   "metadata": {},
   "source": [
    "Видим, что в датасете есть дубликаты. Удалим их и проверим на пропуски снова:"
   ]
  },
  {
   "cell_type": "code",
   "execution_count": 9,
   "metadata": {},
   "outputs": [],
   "source": [
    "logs = logs.drop_duplicates().reset_index(drop=True)"
   ]
  },
  {
   "cell_type": "code",
   "execution_count": 10,
   "metadata": {},
   "outputs": [
    {
     "data": {
      "text/plain": [
       "0"
      ]
     },
     "execution_count": 10,
     "metadata": {},
     "output_type": "execute_result"
    }
   ],
   "source": [
    "logs.duplicated().sum()"
   ]
  },
  {
   "cell_type": "markdown",
   "metadata": {},
   "source": [
    "Видим, что столбец `event_timestamp` представлен в формате временных меток Unix. Для удобства и дальнейшего анализа датасета создадим столбцы `event_time` и `event_date`, в которых будут храниться, соответственно, значения даты и времени и только даты события, приведенные к формату `datetime`:"
   ]
  },
  {
   "cell_type": "code",
   "execution_count": 11,
   "metadata": {},
   "outputs": [],
   "source": [
    "logs['event_time'] = pd.to_datetime(logs['event_timestamp'], unit='s')\n",
    "logs['event_date'] = pd.to_datetime(logs['event_time'].dt.date)"
   ]
  },
  {
   "cell_type": "code",
   "execution_count": 12,
   "metadata": {},
   "outputs": [
    {
     "data": {
      "text/html": [
       "<div>\n",
       "<style scoped>\n",
       "    .dataframe tbody tr th:only-of-type {\n",
       "        vertical-align: middle;\n",
       "    }\n",
       "\n",
       "    .dataframe tbody tr th {\n",
       "        vertical-align: top;\n",
       "    }\n",
       "\n",
       "    .dataframe thead th {\n",
       "        text-align: right;\n",
       "    }\n",
       "</style>\n",
       "<table border=\"1\" class=\"dataframe\">\n",
       "  <thead>\n",
       "    <tr style=\"text-align: right;\">\n",
       "      <th></th>\n",
       "      <th>event_name</th>\n",
       "      <th>device_id_hash</th>\n",
       "      <th>event_timestamp</th>\n",
       "      <th>exp_id</th>\n",
       "      <th>event_time</th>\n",
       "      <th>event_date</th>\n",
       "    </tr>\n",
       "  </thead>\n",
       "  <tbody>\n",
       "    <tr>\n",
       "      <th>0</th>\n",
       "      <td>MainScreenAppear</td>\n",
       "      <td>4575588528974610257</td>\n",
       "      <td>1564029816</td>\n",
       "      <td>246</td>\n",
       "      <td>2019-07-25 04:43:36</td>\n",
       "      <td>2019-07-25</td>\n",
       "    </tr>\n",
       "    <tr>\n",
       "      <th>1</th>\n",
       "      <td>MainScreenAppear</td>\n",
       "      <td>7416695313311560658</td>\n",
       "      <td>1564053102</td>\n",
       "      <td>246</td>\n",
       "      <td>2019-07-25 11:11:42</td>\n",
       "      <td>2019-07-25</td>\n",
       "    </tr>\n",
       "    <tr>\n",
       "      <th>2</th>\n",
       "      <td>PaymentScreenSuccessful</td>\n",
       "      <td>3518123091307005509</td>\n",
       "      <td>1564054127</td>\n",
       "      <td>248</td>\n",
       "      <td>2019-07-25 11:28:47</td>\n",
       "      <td>2019-07-25</td>\n",
       "    </tr>\n",
       "    <tr>\n",
       "      <th>3</th>\n",
       "      <td>CartScreenAppear</td>\n",
       "      <td>3518123091307005509</td>\n",
       "      <td>1564054127</td>\n",
       "      <td>248</td>\n",
       "      <td>2019-07-25 11:28:47</td>\n",
       "      <td>2019-07-25</td>\n",
       "    </tr>\n",
       "    <tr>\n",
       "      <th>4</th>\n",
       "      <td>PaymentScreenSuccessful</td>\n",
       "      <td>6217807653094995999</td>\n",
       "      <td>1564055322</td>\n",
       "      <td>248</td>\n",
       "      <td>2019-07-25 11:48:42</td>\n",
       "      <td>2019-07-25</td>\n",
       "    </tr>\n",
       "  </tbody>\n",
       "</table>\n",
       "</div>"
      ],
      "text/plain": [
       "                event_name       device_id_hash  event_timestamp  exp_id  \\\n",
       "0         MainScreenAppear  4575588528974610257       1564029816     246   \n",
       "1         MainScreenAppear  7416695313311560658       1564053102     246   \n",
       "2  PaymentScreenSuccessful  3518123091307005509       1564054127     248   \n",
       "3         CartScreenAppear  3518123091307005509       1564054127     248   \n",
       "4  PaymentScreenSuccessful  6217807653094995999       1564055322     248   \n",
       "\n",
       "           event_time event_date  \n",
       "0 2019-07-25 04:43:36 2019-07-25  \n",
       "1 2019-07-25 11:11:42 2019-07-25  \n",
       "2 2019-07-25 11:28:47 2019-07-25  \n",
       "3 2019-07-25 11:28:47 2019-07-25  \n",
       "4 2019-07-25 11:48:42 2019-07-25  "
      ]
     },
     "execution_count": 12,
     "metadata": {},
     "output_type": "execute_result"
    }
   ],
   "source": [
    "logs.head(5)"
   ]
  },
  {
   "cell_type": "markdown",
   "metadata": {},
   "source": [
    "#### Вывод.\n",
    "* Названия столбцов таблиц приведены к единому стилю\n",
    "* Пропуски и дубликаты в датасете отсутствуют\n",
    "* Добавлены новые столбцы с датой события, преобразованные в удобный для анализа формат.\n",
    "\n",
    "Таким образом, выполнена предобработка данных и датасет готов к дальнейшему анализу."
   ]
  },
  {
   "cell_type": "markdown",
   "metadata": {},
   "source": [
    "### Изучение и проверка данных"
   ]
  },
  {
   "cell_type": "markdown",
   "metadata": {},
   "source": [
    "Определим, сколько всего событий представлено в датасете:"
   ]
  },
  {
   "cell_type": "code",
   "execution_count": 13,
   "metadata": {},
   "outputs": [
    {
     "name": "stdout",
     "output_type": "stream",
     "text": [
      "Количество событий в логе: 243713\n"
     ]
    }
   ],
   "source": [
    "event_count = logs['event_name'].count()\n",
    "print('Количество событий в логе:', event_count)"
   ]
  },
  {
   "cell_type": "markdown",
   "metadata": {},
   "source": [
    "Определим, сколько всего пользователей:"
   ]
  },
  {
   "cell_type": "code",
   "execution_count": 14,
   "metadata": {},
   "outputs": [
    {
     "name": "stdout",
     "output_type": "stream",
     "text": [
      "Количество уникальных пользователей: 7551\n"
     ]
    }
   ],
   "source": [
    "users_count = logs['device_id_hash'].nunique()\n",
    "print(\"Количество уникальных пользователей:\", users_count)"
   ]
  },
  {
   "cell_type": "code",
   "execution_count": 15,
   "metadata": {},
   "outputs": [
    {
     "name": "stdout",
     "output_type": "stream",
     "text": [
      "Событий в среднем на пользователя: 32\n"
     ]
    }
   ],
   "source": [
    "print('Событий в среднем на пользователя:', round(event_count / users_count))"
   ]
  },
  {
   "cell_type": "markdown",
   "metadata": {},
   "source": [
    "Проверим, данными за какой период мы располагаем. Для этого определим минимальную и максимальную дату в столбце `event_date`:"
   ]
  },
  {
   "cell_type": "code",
   "execution_count": 16,
   "metadata": {},
   "outputs": [
    {
     "name": "stdout",
     "output_type": "stream",
     "text": [
      "Минимальное время: 2019-07-25 00:00:00\n",
      "Максимальное время: 2019-08-07 00:00:00\n"
     ]
    }
   ],
   "source": [
    "print('Минимальное время:', logs['event_date'].min())\n",
    "print('Максимальное время:', logs['event_date'].max())"
   ]
  },
  {
   "cell_type": "markdown",
   "metadata": {},
   "source": [
    "Построим гистограмму по столбцу `event_time` с датой и временем:"
   ]
  },
  {
   "cell_type": "code",
   "execution_count": 17,
   "metadata": {},
   "outputs": [
    {
     "data": {
      "image/png": "[encoded data removed]",
      "text/plain": [
       "<Figure size 1080x576 with 1 Axes>"
      ]
     },
     "metadata": {
      "needs_background": "light"
     },
     "output_type": "display_data"
    }
   ],
   "source": [
    "# установим размер графика\n",
    "plt.figure(figsize=(15,8))\n",
    "\n",
    "# построим гистограмму\n",
    "logs['event_time'].hist(bins=14*24)\n",
    "\n",
    "# добавим подписи осей\n",
    "plt.xlabel('Дата и время')\n",
    "plt.ylabel('Количество событий')\n",
    "\n",
    "# добавим заголовок\n",
    "plt.title('Гистограмма распределения событий по времени')\n",
    "\n",
    "# повернем подписи по оси x на 45 градусов\n",
    "plt.xticks(rotation=45)\n",
    "\n",
    "# покажем график\n",
    "plt.show()"
   ]
  },
  {
   "cell_type": "markdown",
   "metadata": {},
   "source": [
    "Можем заметить, что преобладающее количество событий сосредоточено в период между 1 и 7 августа. Таким образом, чтобы получить корректную картину исследования, отбросим старые и неполные данные и перезапишем их в новую переменную:"
   ]
  },
  {
   "cell_type": "code",
   "execution_count": 18,
   "metadata": {},
   "outputs": [],
   "source": [
    "logs_filtered = logs.query(\"event_date >= '2019-08-01'\")"
   ]
  },
  {
   "cell_type": "markdown",
   "metadata": {},
   "source": [
    "Теперь посмотрим, сколько событий и пользователей мы потеряли, отбросив старые данные:"
   ]
  },
  {
   "cell_type": "code",
   "execution_count": 19,
   "metadata": {},
   "outputs": [
    {
     "name": "stdout",
     "output_type": "stream",
     "text": [
      "Количество событий в логе: 240887\n",
      "Количество уникальных пользователей: 7534\n",
      "Событий в среднем на пользователя: 32\n",
      "Разница в количестве событий между отфильтрованным и исходным датасетом составила 1.16 %\n",
      "Разница в количестве уникальных пользователей между отфильтрованным и исходным датасетом составила 0.23 %\n"
     ]
    }
   ],
   "source": [
    "event_count_filtered = logs_filtered['event_name'].count()\n",
    "print('Количество событий в логе:', event_count_filtered)\n",
    "users_count_filtered = logs_filtered['device_id_hash'].nunique()\n",
    "print(\"Количество уникальных пользователей:\", users_count_filtered)\n",
    "print('Событий в среднем на пользователя:', round(event_count_filtered / users_count_filtered))\n",
    "print('Разница в количестве событий между отфильтрованным и исходным датасетом составила', round((event_count - event_count_filtered)/event_count*100, 2), '%')\n",
    "print('Разница в количестве уникальных пользователей между отфильтрованным и исходным датасетом составила', round((users_count - users_count_filtered)/users_count*100, 2), '%')"
   ]
  },
  {
   "cell_type": "markdown",
   "metadata": {},
   "source": [
    "Таким образом, отфильтровав и отбросив неактуальные данные, мы потеряли чуть больше одного процента событий, что не является значимой величиной и не способно исказить дальнейший анализ."
   ]
  },
  {
   "cell_type": "markdown",
   "metadata": {},
   "source": [
    "Наконец, проверим наличие пользователей во всех трёх экспериментальных группах:"
   ]
  },
  {
   "cell_type": "code",
   "execution_count": 20,
   "metadata": {},
   "outputs": [
    {
     "data": {
      "text/plain": [
       "exp_id\n",
       "246    2484\n",
       "247    2513\n",
       "248    2537\n",
       "Name: device_id_hash, dtype: int64"
      ]
     },
     "execution_count": 20,
     "metadata": {},
     "output_type": "execute_result"
    }
   ],
   "source": [
    "logs_filtered.groupby('exp_id')['device_id_hash'].nunique()"
   ]
  },
  {
   "cell_type": "markdown",
   "metadata": {},
   "source": [
    "Видим, что пользователи представлены во всех группах и их количество распределено почти равномерно."
   ]
  },
  {
   "cell_type": "markdown",
   "metadata": {},
   "source": [
    "#### Вывод\n",
    "* Преобладающее количество событий сосредоточено в период между 1 и 7 августа\n",
    "* Отфильтровав и актуализировав данные, мы потеряли чуть больше одного процента событий, что не способно исказить дальнейший анализ.\n",
    "* Пользователи представлены во всех группах, количество пользователей в каждой из групп примерно одинаковое."
   ]
  },
  {
   "cell_type": "markdown",
   "metadata": {},
   "source": [
    "### Изучение воронки событий"
   ]
  },
  {
   "cell_type": "markdown",
   "metadata": {},
   "source": [
    "Посмотрим, какие события есть в логах, как часто они встречаются и отсортируем события по частоте:"
   ]
  },
  {
   "cell_type": "code",
   "execution_count": 21,
   "metadata": {},
   "outputs": [
    {
     "data": {
      "text/plain": [
       "MainScreenAppear           117328\n",
       "OffersScreenAppear          46333\n",
       "CartScreenAppear            42303\n",
       "PaymentScreenSuccessful     33918\n",
       "Tutorial                     1005\n",
       "Name: event_name, dtype: int64"
      ]
     },
     "execution_count": 21,
     "metadata": {},
     "output_type": "execute_result"
    }
   ],
   "source": [
    "logs_filtered['event_name'].value_counts()"
   ]
  },
  {
   "cell_type": "markdown",
   "metadata": {},
   "source": [
    "Самое распространенное событие — MainScreenAppear (более 117 тыс.), оно возникает когда пользователь запускает приложение и попадает на главный экран. \\\n",
    "Реже всего встречалось событие Tutorial (1005 раз), которое обозначает этап обучения, который пользователь должен пройти, чтобы начать использовать продукт."
   ]
  },
  {
   "cell_type": "markdown",
   "metadata": {},
   "source": [
    "Теперь посчитаем, сколько пользователей совершали каждое из этих событий, отсортируем события по числу пользователей и посчитаем долю пользователей, которые хоть раз совершали событие:"
   ]
  },
  {
   "cell_type": "code",
   "execution_count": 22,
   "metadata": {},
   "outputs": [
    {
     "data": {
      "text/html": [
       "<div>\n",
       "<style scoped>\n",
       "    .dataframe tbody tr th:only-of-type {\n",
       "        vertical-align: middle;\n",
       "    }\n",
       "\n",
       "    .dataframe tbody tr th {\n",
       "        vertical-align: top;\n",
       "    }\n",
       "\n",
       "    .dataframe thead th {\n",
       "        text-align: right;\n",
       "    }\n",
       "</style>\n",
       "<table border=\"1\" class=\"dataframe\">\n",
       "  <thead>\n",
       "    <tr style=\"text-align: right;\">\n",
       "      <th></th>\n",
       "      <th>event_name</th>\n",
       "      <th>num_users</th>\n",
       "      <th>user_ratio</th>\n",
       "    </tr>\n",
       "  </thead>\n",
       "  <tbody>\n",
       "    <tr>\n",
       "      <th>0</th>\n",
       "      <td>MainScreenAppear</td>\n",
       "      <td>7419</td>\n",
       "      <td>98.47%</td>\n",
       "    </tr>\n",
       "    <tr>\n",
       "      <th>1</th>\n",
       "      <td>OffersScreenAppear</td>\n",
       "      <td>4593</td>\n",
       "      <td>60.96%</td>\n",
       "    </tr>\n",
       "    <tr>\n",
       "      <th>2</th>\n",
       "      <td>CartScreenAppear</td>\n",
       "      <td>3734</td>\n",
       "      <td>49.56%</td>\n",
       "    </tr>\n",
       "    <tr>\n",
       "      <th>3</th>\n",
       "      <td>PaymentScreenSuccessful</td>\n",
       "      <td>3539</td>\n",
       "      <td>46.97%</td>\n",
       "    </tr>\n",
       "    <tr>\n",
       "      <th>4</th>\n",
       "      <td>Tutorial</td>\n",
       "      <td>840</td>\n",
       "      <td>11.15%</td>\n",
       "    </tr>\n",
       "  </tbody>\n",
       "</table>\n",
       "</div>"
      ],
      "text/plain": [
       "                event_name  num_users user_ratio\n",
       "0         MainScreenAppear       7419     98.47%\n",
       "1       OffersScreenAppear       4593     60.96%\n",
       "2         CartScreenAppear       3734     49.56%\n",
       "3  PaymentScreenSuccessful       3539     46.97%\n",
       "4                 Tutorial        840     11.15%"
      ]
     },
     "execution_count": 22,
     "metadata": {},
     "output_type": "execute_result"
    }
   ],
   "source": [
    "# подсчет количества уникальных пользователей для каждого события\n",
    "events_users_count = (\n",
    "    logs_filtered.groupby('event_name')['device_id_hash']\n",
    "                 .nunique()\n",
    "                 .reset_index(name='num_users')\n",
    ")\n",
    "\n",
    "\n",
    "# добавление столбца с долей пользователей, которые хоть раз совершали каждое из событий\n",
    "events_users_count['user_ratio'] = round(events_users_count['num_users'] / users_count_filtered * 100, 2).astype(str) + '%'\n",
    "events_users_count = events_users_count.sort_values(by='num_users', ascending=False).reset_index(drop=True)\n",
    "\n",
    "events_users_count"
   ]
  },
  {
   "cell_type": "markdown",
   "metadata": {},
   "source": [
    "Видим, что абсолютное большинство пользователей (более 98%) совершили действие MainScreenAppear хотя бы 1 раз. \\\n",
    "Событие Tutorial было совершено всего у 11% пользователей."
   ]
  },
  {
   "cell_type": "markdown",
   "metadata": {},
   "source": [
    "Можем предположить, что события совершаются в следующей последовательности:\n",
    "* Tutorial - первоначальное обучение\n",
    "* MainScreenAppear - появление главного экрана приложения\n",
    "* OffersScreenAppear - переход на страницу с предложениями товаров\n",
    "* CartScreenAppear - переход в корзину для выбора товаров перед оплатой\n",
    "* PaymentScreenSuccessful - успешная оплата товаров\n",
    "\n",
    "Не обязательно все события могут быть выстроены в последовательную цепочку. Например, пользователь может сначала посмотреть страницу с предложениями товаров, затем перейти в корзину, вернуться на главный экран, а затем снова перейти в корзину и оплатить товары. В этом случае, события будут происходить не по порядку."
   ]
  },
  {
   "cell_type": "markdown",
   "metadata": {},
   "source": [
    "Для расчёта конверсии пользователей из одного события в другое удалим из таблицы столбец `Tutorial`, так как он не является обязательным шагом и пользователи могут его пропускать:"
   ]
  },
  {
   "cell_type": "code",
   "execution_count": 23,
   "metadata": {},
   "outputs": [
    {
     "data": {
      "text/html": [
       "<div>\n",
       "<style scoped>\n",
       "    .dataframe tbody tr th:only-of-type {\n",
       "        vertical-align: middle;\n",
       "    }\n",
       "\n",
       "    .dataframe tbody tr th {\n",
       "        vertical-align: top;\n",
       "    }\n",
       "\n",
       "    .dataframe thead th {\n",
       "        text-align: right;\n",
       "    }\n",
       "</style>\n",
       "<table border=\"1\" class=\"dataframe\">\n",
       "  <thead>\n",
       "    <tr style=\"text-align: right;\">\n",
       "      <th></th>\n",
       "      <th>event_name</th>\n",
       "      <th>num_users</th>\n",
       "      <th>user_ratio</th>\n",
       "    </tr>\n",
       "  </thead>\n",
       "  <tbody>\n",
       "    <tr>\n",
       "      <th>0</th>\n",
       "      <td>MainScreenAppear</td>\n",
       "      <td>7419</td>\n",
       "      <td>98.47%</td>\n",
       "    </tr>\n",
       "    <tr>\n",
       "      <th>1</th>\n",
       "      <td>OffersScreenAppear</td>\n",
       "      <td>4593</td>\n",
       "      <td>60.96%</td>\n",
       "    </tr>\n",
       "    <tr>\n",
       "      <th>2</th>\n",
       "      <td>CartScreenAppear</td>\n",
       "      <td>3734</td>\n",
       "      <td>49.56%</td>\n",
       "    </tr>\n",
       "    <tr>\n",
       "      <th>3</th>\n",
       "      <td>PaymentScreenSuccessful</td>\n",
       "      <td>3539</td>\n",
       "      <td>46.97%</td>\n",
       "    </tr>\n",
       "  </tbody>\n",
       "</table>\n",
       "</div>"
      ],
      "text/plain": [
       "                event_name  num_users user_ratio\n",
       "0         MainScreenAppear       7419     98.47%\n",
       "1       OffersScreenAppear       4593     60.96%\n",
       "2         CartScreenAppear       3734     49.56%\n",
       "3  PaymentScreenSuccessful       3539     46.97%"
      ]
     },
     "execution_count": 23,
     "metadata": {},
     "output_type": "execute_result"
    }
   ],
   "source": [
    "events_users_count.drop(events_users_count.index[[4]], inplace=True) # удаляем пятую строку из исходной таблицы\n",
    "events_users_count.reset_index(drop=True)"
   ]
  },
  {
   "cell_type": "markdown",
   "metadata": {},
   "source": [
    "По воронке событий посчитаем, какая доля пользователей проходит на следующий шаг воронки (от числа пользователей на предыдущем):"
   ]
  },
  {
   "cell_type": "code",
   "execution_count": 24,
   "metadata": {},
   "outputs": [
    {
     "name": "stdout",
     "output_type": "stream",
     "text": [
      "\n",
      "Конверсия из события 'MainScreenAppear' в событие 'OffersScreenAppear': 61.91%\n",
      "Конверсия из события 'OffersScreenAppear' в событие 'CartScreenAppear': 81.3%\n",
      "Конверсия из события 'CartScreenAppear' в событие 'PaymentScreenSuccessful': 94.78%\n"
     ]
    }
   ],
   "source": [
    "# создаем новый столбец со значением предыдущего события\n",
    "events_users_count['prev_num_users'] = events_users_count['num_users'].shift(1)\n",
    "\n",
    "# создаем пустой словарь для хранения конверсий на каждом шаге воронки\n",
    "funnel_conversions = {}\n",
    "\n",
    "# проходимся по каждому событию, начиная со второго\n",
    "for i in range(1, len(events_users_count)):\n",
    "    # берем название текущего и предыдущего событий из таблицы events_users_count\n",
    "    current_event_name = events_users_count['event_name'][i]\n",
    "    prev_event_name = events_users_count['event_name'][i-1]\n",
    "    \n",
    "    # находим количество пользователей на текущем и предыдущем шагах воронки\n",
    "    current_event_users = events_users_count['num_users'][i]\n",
    "    prev_event_users = events_users_count['prev_num_users'][i]\n",
    "    \n",
    "    # вычисляем конверсию пользователей, переходящих к следующему шагу воронки\n",
    "    conversion_rate = round(current_event_users / prev_event_users * 100, 2)\n",
    "    funnel_conversions[current_event_name] = f\"Конверсия из события '{prev_event_name}' в событие '{current_event_name}': {conversion_rate}%\"\n",
    "\n",
    "# выводим результаты расчетов, начиная со второго события\n",
    "for event in events_users_count['event_name']:\n",
    "    print(funnel_conversions.get(event, ''))"
   ]
  },
  {
   "cell_type": "markdown",
   "metadata": {},
   "source": [
    "Как мы видим, ниже всего конверсия из события 'MainScreenAppear' в событие 'OffersScreenAppear': 61.91%. Это означает, что только 38% пользователей, оказавшихся на главном экране приложения, не перешли на страницу с предложениями товаров. Может быть много причин, почему так происходит, среди них:\n",
    "* Недостаточно продуманный дизайн приложения\n",
    "* Долгая загрузка страницы\n",
    "* Отсутствие инструкций и др."
   ]
  },
  {
   "cell_type": "markdown",
   "metadata": {},
   "source": [
    "Теперь посчитаем, какая доля пользователей доходит от первого события до оплаты:"
   ]
  },
  {
   "cell_type": "code",
   "execution_count": 25,
   "metadata": {},
   "outputs": [
    {
     "name": "stdout",
     "output_type": "stream",
     "text": [
      "Доля пользователей, прошедших от первого события до успешной оплаты: 46.97 %\n"
     ]
    }
   ],
   "source": [
    "print('Доля пользователей, прошедших от первого события до успешной оплаты:', round(events_users_count['num_users'][3] / users_count_filtered * 100, 2), '%')"
   ]
  },
  {
   "cell_type": "markdown",
   "metadata": {},
   "source": [
    "Таким образом, до успешной оплаты доходит чуть меньше половины пользователей — 46,87%"
   ]
  },
  {
   "cell_type": "markdown",
   "metadata": {},
   "source": [
    "#### Вывод\n",
    "Изучив воронку событий, можем сделать следующие промежуточные выводы:\n",
    "* Самое распространенное событие — MainScreenAppear (более 117 тыс.), более 98% пользователей совершили его хотя бы 1 раз.\n",
    "* Наименее распространенное событие — Tutorial, всего 11% пользователей запустили экран обучения.\n",
    "* Наиболее вероятная последовательность событий пользователя: \"появление главного экрана приложения\" → \"переход на страницу с предложениями товаров\" → \"переход в корзину для выбора товаров перед оплатой\" → \"успешная оплата товаров\"\n",
    "* На этапе перехода от события \"появление главного экрана приложения\" к событию \"переход на страницу с предложениями товаров\" наблюдается самая низкая конверсия пользователей: 61.91%\n",
    "* До успешной оплаты доходит чуть меньше половины пользователей — 46,87%"
   ]
  },
  {
   "cell_type": "markdown",
   "metadata": {},
   "source": [
    "### Изучение результатов эксперимента:"
   ]
  },
  {
   "cell_type": "markdown",
   "metadata": {},
   "source": [
    "#### Проведение А/А теста"
   ]
  },
  {
   "cell_type": "markdown",
   "metadata": {},
   "source": [
    "Для начала напишем функцию, которой можно было бы пользоваться для теста проверки равенства долей:"
   ]
  },
  {
   "cell_type": "code",
   "execution_count": 26,
   "metadata": {},
   "outputs": [],
   "source": [
    "def proportion_test(x1, n1, x2, n2, alpha):\n",
    "    p1 = x1 / n1\n",
    "    p2 = x2 / n2\n",
    "    p_combined = (x1 + x2) / (n1 + n2)\n",
    "    \n",
    "    z_score = (p1 - p2) / np.sqrt(p_combined * (1 - p_combined) * (1/n1 + 1/n2))\n",
    "    \n",
    "    distr = st.norm(0, 1)\n",
    "       \n",
    "    p_value = 2 * (1 - distr.cdf(abs(z_score)))\n",
    "    \n",
    "    print('p-значение: ', p_value)\n",
    "    \n",
    "    if p_value < alpha:# ваш код\n",
    "        print('Отвергаем нулевую гипотезу: между долями есть значимая разница')\n",
    "    else:\n",
    "        print(\n",
    "            'Не получилось отвергнуть нулевую гипотезу, нет оснований считать доли разными'\n",
    "        )"
   ]
  },
  {
   "cell_type": "markdown",
   "metadata": {},
   "source": [
    "Посмотрим на кол-во пользователей в каждой из групп:"
   ]
  },
  {
   "cell_type": "code",
   "execution_count": 27,
   "metadata": {},
   "outputs": [
    {
     "data": {
      "text/html": [
       "<div>\n",
       "<style scoped>\n",
       "    .dataframe tbody tr th:only-of-type {\n",
       "        vertical-align: middle;\n",
       "    }\n",
       "\n",
       "    .dataframe tbody tr th {\n",
       "        vertical-align: top;\n",
       "    }\n",
       "\n",
       "    .dataframe thead th {\n",
       "        text-align: right;\n",
       "    }\n",
       "</style>\n",
       "<table border=\"1\" class=\"dataframe\">\n",
       "  <thead>\n",
       "    <tr style=\"text-align: right;\">\n",
       "      <th></th>\n",
       "      <th>exp_id</th>\n",
       "      <th>count</th>\n",
       "    </tr>\n",
       "  </thead>\n",
       "  <tbody>\n",
       "    <tr>\n",
       "      <th>0</th>\n",
       "      <td>246</td>\n",
       "      <td>2484</td>\n",
       "    </tr>\n",
       "    <tr>\n",
       "      <th>1</th>\n",
       "      <td>247</td>\n",
       "      <td>2513</td>\n",
       "    </tr>\n",
       "    <tr>\n",
       "      <th>2</th>\n",
       "      <td>248</td>\n",
       "      <td>2537</td>\n",
       "    </tr>\n",
       "  </tbody>\n",
       "</table>\n",
       "</div>"
      ],
      "text/plain": [
       "   exp_id  count\n",
       "0     246   2484\n",
       "1     247   2513\n",
       "2     248   2537"
      ]
     },
     "execution_count": 27,
     "metadata": {},
     "output_type": "execute_result"
    }
   ],
   "source": [
    "logs_filtered_groups = logs_filtered.groupby('exp_id').agg(count=('device_id_hash', 'nunique')).reset_index()\n",
    "logs_filtered_groups"
   ]
  },
  {
   "cell_type": "markdown",
   "metadata": {},
   "source": [
    "Посчитаем число пользователей, совершивших самое популярное событие — `MainScreenAppear` в каждой из контрольных групп, а также долю пользователей, совершивших это событие."
   ]
  },
  {
   "cell_type": "code",
   "execution_count": 28,
   "metadata": {},
   "outputs": [
    {
     "name": "stdout",
     "output_type": "stream",
     "text": [
      "Число пользователей из группы 246: 2450, доля пользователей из группы 246, совершивших событие MainScreenAppear: 98.63%\n",
      "Число пользователей из группы 247: 2476, доля пользователей из группы 247, совершивших событие MainScreenAppear: 98.53%\n"
     ]
    }
   ],
   "source": [
    "# Получаем количество пользователей для каждой группы из таблицы logs_filtered_groups\n",
    "group_246_users = logs_filtered_groups.query('exp_id == 246')['count'].iloc[0]\n",
    "group_247_users = logs_filtered_groups.query('exp_id == 247')['count'].iloc[0]\n",
    "\n",
    "# Получаем число пользователей, совершивших событие MainScreenAppear, для каждой группы\n",
    "group_246_main_screen_appear = logs_filtered.query('event_name == \"MainScreenAppear\" and exp_id == 246')['device_id_hash'].nunique()\n",
    "group_247_main_screen_appear = logs_filtered.query('event_name == \"MainScreenAppear\" and exp_id == 247')['device_id_hash'].nunique()\n",
    "\n",
    "# Вычисляем долю пользователей, совершивших событие MainScreenAppear, от общего числа пользователей в каждой группе\n",
    "group_246_main_screen_appear_share = group_246_main_screen_appear / group_246_users\n",
    "group_247_main_screen_appear_share = group_247_main_screen_appear / group_247_users\n",
    "\n",
    "# Выводим результаты\n",
    "print(f\"Число пользователей из группы 246: {group_246_main_screen_appear}, доля пользователей из группы 246, совершивших событие MainScreenAppear: {group_246_main_screen_appear_share:.2%}\")\n",
    "print(f\"Число пользователей из группы 247: {group_247_main_screen_appear}, доля пользователей из группы 247, совершивших событие MainScreenAppear: {group_247_main_screen_appear_share:.2%}\")"
   ]
  },
  {
   "cell_type": "markdown",
   "metadata": {},
   "source": [
    "Как мы видим, доля пользователей в этих группах, совершивших это событие, почти не отличается."
   ]
  },
  {
   "cell_type": "markdown",
   "metadata": {},
   "source": [
    "Проведём А/А тест. Для этого проверим, находят ли статистические критерии разницу между выборками 246 и 247."
   ]
  },
  {
   "cell_type": "markdown",
   "metadata": {},
   "source": [
    "Сформулируем гипотезы. Нулевая: различий между группами 246 и 247 нет. Альтернативная: существует статистически значимая разница между выборками 246 и 247. Установим уровень статистической значимости 1%."
   ]
  },
  {
   "cell_type": "code",
   "execution_count": 29,
   "metadata": {},
   "outputs": [],
   "source": [
    "alpha = 0.01"
   ]
  },
  {
   "cell_type": "code",
   "execution_count": 30,
   "metadata": {},
   "outputs": [
    {
     "name": "stdout",
     "output_type": "stream",
     "text": [
      "p-значение:  0.7570597232046099\n",
      "Не получилось отвергнуть нулевую гипотезу, нет оснований считать доли разными\n"
     ]
    }
   ],
   "source": [
    "proportion_test(group_246_main_screen_appear, group_246_users, group_247_main_screen_appear, group_247_users, alpha)"
   ]
  },
  {
   "cell_type": "markdown",
   "metadata": {},
   "source": [
    "P-value значительно больше 0.01. Значит, причин отвергать нулевую гипотезу и считать, что между группами есть различия, нет."
   ]
  },
  {
   "cell_type": "markdown",
   "metadata": {},
   "source": [
    "Теперь сделаем те же самые действия для всех других событий."
   ]
  },
  {
   "cell_type": "markdown",
   "metadata": {},
   "source": [
    "Для удобства напишем универсальную функцию, которая будет считать нам количество и долю пользователей, совершивших по группам, а затем проводить z-тест для сравнения равенства долей этих групп:"
   ]
  },
  {
   "cell_type": "code",
   "execution_count": 31,
   "metadata": {},
   "outputs": [],
   "source": [
    "def calculate_event_share_and_proportion_test(logs_filtered, event_name, group1, group2, alpha):\n",
    "    # Получаем количество пользователей для каждой группы из таблицы logs_filtered_groups\n",
    "    group1_users = logs_filtered.query('exp_id == @group1')['device_id_hash'].nunique()\n",
    "    group2_users = logs_filtered.query('exp_id == @group2')['device_id_hash'].nunique()\n",
    "\n",
    "    # Получаем число пользователей, совершивших указанное событие, для каждой группы\n",
    "    group1_event = logs_filtered.query('event_name == @event_name and exp_id == @group1')['device_id_hash'].nunique()\n",
    "    group2_event = logs_filtered.query('event_name == @event_name and exp_id == @group2')['device_id_hash'].nunique()\n",
    "\n",
    "    # Вычисляем долю пользователей, совершивших событие, от общего числа пользователей в каждой группе\n",
    "    group1_event_share = group1_event / group1_users\n",
    "    group2_event_share = group2_event / group2_users\n",
    "\n",
    "    # Проведение двустороннего z-теста для проверки равенства долей\n",
    "    p1 = group1_event_share\n",
    "    p2 = group2_event_share\n",
    "    p_combined = (group1_event + group2_event) / (group1_users + group2_users)\n",
    "\n",
    "    z_score = (p1 - p2) / np.sqrt(p_combined * (1 - p_combined) * (1/group1_users + 1/group2_users))\n",
    "\n",
    "    distr = st.norm(0, 1)\n",
    "\n",
    "    p_value = 2 * (1 - distr.cdf(abs(z_score)))\n",
    "\n",
    "    print(f\"Число пользователей из группы {group1}, совершивших событие {event_name}: {group1_event}\")\n",
    "    print(f\"Число пользователей из группы {group2}, совершивших событие {event_name}: {group2_event}\")\n",
    "    print(f\"Доля пользователей из группы {group1}, совершивших событие {event_name}: {group1_event_share:.2%}\")\n",
    "    print(f\"Доля пользователей из группы {group2}, совершивших событие {event_name}: {group2_event_share:.2%}\")\n",
    "    print('p-значение: ', p_value)\n",
    "    \n",
    "    if p_value < alpha:\n",
    "        print('Отвергаем нулевую гипотезу: между долями есть значимая разница')\n",
    "    else:\n",
    "        print('Не получилось отвергнуть нулевую гипотезу, нет оснований считать доли разными')\n"
   ]
  },
  {
   "cell_type": "markdown",
   "metadata": {},
   "source": [
    "Посчитаем число пользователей, совершивших событие `OffersScreenAppear` в каждой из контрольных групп, а также долю пользователей, совершивших это событие."
   ]
  },
  {
   "cell_type": "markdown",
   "metadata": {},
   "source": [
    "Сформулируем гипотезы. Нулевая: различий между группами 246 и 247 нет. Альтернативная: существует статистически значимая разница между выборками 246 и 247. Установим уровень статистической значимости 1%."
   ]
  },
  {
   "cell_type": "code",
   "execution_count": 32,
   "metadata": {},
   "outputs": [
    {
     "name": "stdout",
     "output_type": "stream",
     "text": [
      "Число пользователей из группы 246, совершивших событие OffersScreenAppear: 1542\n",
      "Число пользователей из группы 247, совершивших событие OffersScreenAppear: 1520\n",
      "Доля пользователей из группы 246, совершивших событие OffersScreenAppear: 62.08%\n",
      "Доля пользователей из группы 247, совершивших событие OffersScreenAppear: 60.49%\n",
      "p-значение:  0.2480954578522181\n",
      "Не получилось отвергнуть нулевую гипотезу, нет оснований считать доли разными\n"
     ]
    }
   ],
   "source": [
    "calculate_event_share_and_proportion_test(logs_filtered, \"OffersScreenAppear\", 246, 247, alpha)"
   ]
  },
  {
   "cell_type": "markdown",
   "metadata": {},
   "source": [
    "Аналогичные действия проделаем для события `CartScreenAppear`.\n",
    "Сформулируем гипотезы. Нулевая: различий между группами 246 и 247 нет. Альтернативная: существует статистически значимая разница между выборками 246 и 247. Установим уровень статистической значимости 1%."
   ]
  },
  {
   "cell_type": "code",
   "execution_count": 33,
   "metadata": {},
   "outputs": [
    {
     "name": "stdout",
     "output_type": "stream",
     "text": [
      "Число пользователей из группы 246, совершивших событие CartScreenAppear: 1266\n",
      "Число пользователей из группы 247, совершивших событие CartScreenAppear: 1238\n",
      "Доля пользователей из группы 246, совершивших событие CartScreenAppear: 50.97%\n",
      "Доля пользователей из группы 247, совершивших событие CartScreenAppear: 49.26%\n",
      "p-значение:  0.22883372237997213\n",
      "Не получилось отвергнуть нулевую гипотезу, нет оснований считать доли разными\n"
     ]
    }
   ],
   "source": [
    "calculate_event_share_and_proportion_test(logs_filtered, \"CartScreenAppear\", 246, 247, alpha)"
   ]
  },
  {
   "cell_type": "markdown",
   "metadata": {},
   "source": [
    "Аналогичные действия проделаем для события `PaymentScreenSuccessful`. Сформулируем гипотезы. Нулевая: различий между группами 246 и 247 нет. Альтернативная: существует статистически значимая разница между выборками 246 и 247. Установим уровень статистической значимости 1%."
   ]
  },
  {
   "cell_type": "code",
   "execution_count": 34,
   "metadata": {},
   "outputs": [
    {
     "name": "stdout",
     "output_type": "stream",
     "text": [
      "Число пользователей из группы 246, совершивших событие PaymentScreenSuccessful: 1200\n",
      "Число пользователей из группы 247, совершивших событие PaymentScreenSuccessful: 1158\n",
      "Доля пользователей из группы 246, совершивших событие PaymentScreenSuccessful: 48.31%\n",
      "Доля пользователей из группы 247, совершивших событие PaymentScreenSuccessful: 46.08%\n",
      "p-значение:  0.11456679313141849\n",
      "Не получилось отвергнуть нулевую гипотезу, нет оснований считать доли разными\n"
     ]
    }
   ],
   "source": [
    "calculate_event_share_and_proportion_test(logs_filtered, \"PaymentScreenSuccessful\", 246, 247, alpha)"
   ]
  },
  {
   "cell_type": "markdown",
   "metadata": {},
   "source": [
    "Видим, что доля пользователей, совершивших каждое из событий в контрольных группах, различается незначительно. Кроме того, в каждом из случаев сравнения между собой групп по совершенному событию не была отвергнута нулевая гипотеза о статистическом различии выборок. А значит, причин полагать, что между группами существуют различия, нет."
   ]
  },
  {
   "cell_type": "markdown",
   "metadata": {},
   "source": [
    "Таким образом, суммируя результаты А/А теста можем сказать, что разбиение на группы работает корректно и можно переходить к А/В тесту."
   ]
  },
  {
   "cell_type": "markdown",
   "metadata": {},
   "source": [
    "#### Проведение А/В теста"
   ]
  },
  {
   "cell_type": "markdown",
   "metadata": {},
   "source": [
    "##### Сравнение групп 246 и 248"
   ]
  },
  {
   "cell_type": "markdown",
   "metadata": {},
   "source": [
    "Сравним группу с измененным шрифтом (248) с первой контрольной группой (246) по каждому из четырёх событий:"
   ]
  },
  {
   "cell_type": "markdown",
   "metadata": {},
   "source": [
    "Посчитаем число пользователей, совершивших событие `MainScreenAppear` в каждой из контрольных групп, а также долю пользователей, совершивших это событие. \\\n",
    "Сформулируем гипотезы. Нулевая: различий между группами 246 и 248 нет. Альтернативная: существует статистически значимая разница между выборками 246 и 248. Установим уровень статистической значимости 1%."
   ]
  },
  {
   "cell_type": "code",
   "execution_count": 35,
   "metadata": {},
   "outputs": [
    {
     "name": "stdout",
     "output_type": "stream",
     "text": [
      "Число пользователей из группы 246, совершивших событие MainScreenAppear: 2450\n",
      "Число пользователей из группы 248, совершивших событие MainScreenAppear: 2493\n",
      "Доля пользователей из группы 246, совершивших событие MainScreenAppear: 98.63%\n",
      "Доля пользователей из группы 248, совершивших событие MainScreenAppear: 98.27%\n",
      "p-значение:  0.2949721933554552\n",
      "Не получилось отвергнуть нулевую гипотезу, нет оснований считать доли разными\n"
     ]
    }
   ],
   "source": [
    "calculate_event_share_and_proportion_test(logs_filtered, \"MainScreenAppear\", 246, 248, alpha)"
   ]
  },
  {
   "cell_type": "markdown",
   "metadata": {},
   "source": [
    "Аналогичные действия проделаем для события `OffersScreenAppear`. Сформулируем гипотезы. Нулевая: различий между группами 246 и 248 нет. Альтернативная: существует статистически значимая разница между выборками 246 и 248. Установим уровень статистической значимости 1%."
   ]
  },
  {
   "cell_type": "code",
   "execution_count": 36,
   "metadata": {
    "scrolled": true
   },
   "outputs": [
    {
     "name": "stdout",
     "output_type": "stream",
     "text": [
      "Число пользователей из группы 246, совершивших событие OffersScreenAppear: 1542\n",
      "Число пользователей из группы 248, совершивших событие OffersScreenAppear: 1531\n",
      "Доля пользователей из группы 246, совершивших событие OffersScreenAppear: 62.08%\n",
      "Доля пользователей из группы 248, совершивших событие OffersScreenAppear: 60.35%\n",
      "p-значение:  0.20836205402738917\n",
      "Не получилось отвергнуть нулевую гипотезу, нет оснований считать доли разными\n"
     ]
    }
   ],
   "source": [
    "calculate_event_share_and_proportion_test(logs_filtered, \"OffersScreenAppear\", 246, 248, alpha)"
   ]
  },
  {
   "cell_type": "markdown",
   "metadata": {},
   "source": [
    "Аналогичные действия проделаем для события `CartScreenAppear`. Сформулируем гипотезы. Нулевая: различий между группами 246 и 248 нет. Альтернативная: существует статистически значимая разница между выборками 246 и 248. Установим уровень статистической значимости 1%."
   ]
  },
  {
   "cell_type": "code",
   "execution_count": 37,
   "metadata": {},
   "outputs": [
    {
     "name": "stdout",
     "output_type": "stream",
     "text": [
      "Число пользователей из группы 246, совершивших событие CartScreenAppear: 1266\n",
      "Число пользователей из группы 248, совершивших событие CartScreenAppear: 1230\n",
      "Доля пользователей из группы 246, совершивших событие CartScreenAppear: 50.97%\n",
      "Доля пользователей из группы 248, совершивших событие CartScreenAppear: 48.48%\n",
      "p-значение:  0.07842923237520116\n",
      "Не получилось отвергнуть нулевую гипотезу, нет оснований считать доли разными\n"
     ]
    }
   ],
   "source": [
    "calculate_event_share_and_proportion_test(logs_filtered, \"CartScreenAppear\", 246, 248, alpha)"
   ]
  },
  {
   "cell_type": "markdown",
   "metadata": {},
   "source": [
    "Аналогичные действия проделаем для события `PaymentScreenSuccessful`. Сформулируем гипотезы. Нулевая: различий между группами 246 и 248 нет. Альтернативная: существует статистически значимая разница между выборками 246 и 248. Установим уровень статистической значимости 1%."
   ]
  },
  {
   "cell_type": "code",
   "execution_count": 38,
   "metadata": {},
   "outputs": [
    {
     "name": "stdout",
     "output_type": "stream",
     "text": [
      "Число пользователей из группы 246, совершивших событие PaymentScreenSuccessful: 1200\n",
      "Число пользователей из группы 248, совершивших событие PaymentScreenSuccessful: 1181\n",
      "Доля пользователей из группы 246, совершивших событие PaymentScreenSuccessful: 48.31%\n",
      "Доля пользователей из группы 248, совершивших событие PaymentScreenSuccessful: 46.55%\n",
      "p-значение:  0.2122553275697796\n",
      "Не получилось отвергнуть нулевую гипотезу, нет оснований считать доли разными\n"
     ]
    }
   ],
   "source": [
    "calculate_event_share_and_proportion_test(logs_filtered, \"PaymentScreenSuccessful\", 246, 248, alpha)"
   ]
  },
  {
   "cell_type": "markdown",
   "metadata": {},
   "source": [
    "Видим, что доля пользователей, совершивших события OffersScreenAppear, CartScreenAppear и PaymentScreenSuccessful, в группе 246 выше, чем в группе 248, что может указывать на потенциально более эффективную конверсию пользователей в целевые действия в контрольной группе."
   ]
  },
  {
   "cell_type": "markdown",
   "metadata": {},
   "source": [
    "Исходя из полученных результатов, мы не можем сделать вывод о том, что существует статистически значимая разница между контрольной и экспериментальной группами по каждому из событий."
   ]
  },
  {
   "cell_type": "markdown",
   "metadata": {},
   "source": [
    "##### Сравнение групп 247 и 248"
   ]
  },
  {
   "cell_type": "markdown",
   "metadata": {},
   "source": [
    "Теперь аналогичным образом сравним между собой группы 247 и 248."
   ]
  },
  {
   "cell_type": "markdown",
   "metadata": {},
   "source": [
    "Посчитаем число пользователей, совершивших событие `MainScreenAppear` в каждой из групп, а также долю пользователей, совершивших это событие.\n",
    "Сформулируем гипотезы. Нулевая: различий между группами 247 и 248 нет. Альтернативная: существует статистически значимая разница между выборками 247 и 248. Установим уровень статистической значимости 1%."
   ]
  },
  {
   "cell_type": "code",
   "execution_count": 39,
   "metadata": {},
   "outputs": [
    {
     "name": "stdout",
     "output_type": "stream",
     "text": [
      "Число пользователей из группы 247, совершивших событие MainScreenAppear: 2476\n",
      "Число пользователей из группы 248, совершивших событие MainScreenAppear: 2493\n",
      "Доля пользователей из группы 247, совершивших событие MainScreenAppear: 98.53%\n",
      "Доля пользователей из группы 248, совершивших событие MainScreenAppear: 98.27%\n",
      "p-значение:  0.4587053616621515\n",
      "Не получилось отвергнуть нулевую гипотезу, нет оснований считать доли разными\n"
     ]
    }
   ],
   "source": [
    "calculate_event_share_and_proportion_test(logs_filtered, \"MainScreenAppear\", 247, 248, alpha)"
   ]
  },
  {
   "cell_type": "markdown",
   "metadata": {},
   "source": [
    "Аналогичные действия проделаем для события `OffersScreenAppear`. Сформулируем гипотезы. Нулевая: различий между группами 247 и 248 нет. Альтернативная: существует статистически значимая разница между выборками 247 и 248. Установим уровень статистической значимости 1%."
   ]
  },
  {
   "cell_type": "code",
   "execution_count": 40,
   "metadata": {
    "scrolled": true
   },
   "outputs": [
    {
     "name": "stdout",
     "output_type": "stream",
     "text": [
      "Число пользователей из группы 247, совершивших событие OffersScreenAppear: 1520\n",
      "Число пользователей из группы 248, совершивших событие OffersScreenAppear: 1531\n",
      "Доля пользователей из группы 247, совершивших событие OffersScreenAppear: 60.49%\n",
      "Доля пользователей из группы 248, совершивших событие OffersScreenAppear: 60.35%\n",
      "p-значение:  0.9197817830592261\n",
      "Не получилось отвергнуть нулевую гипотезу, нет оснований считать доли разными\n"
     ]
    }
   ],
   "source": [
    "calculate_event_share_and_proportion_test(logs_filtered, \"OffersScreenAppear\", 247, 248, alpha)"
   ]
  },
  {
   "cell_type": "markdown",
   "metadata": {},
   "source": [
    "Аналогичные действия проделаем для события `CartScreenAppear`. Сформулируем гипотезы. Нулевая: различий между группами 247 и 248 нет. Альтернативная: существует статистически значимая разница между выборками 247 и 248. Установим уровень статистической значимости 1%."
   ]
  },
  {
   "cell_type": "code",
   "execution_count": 41,
   "metadata": {},
   "outputs": [
    {
     "name": "stdout",
     "output_type": "stream",
     "text": [
      "Число пользователей из группы 247, совершивших событие CartScreenAppear: 1238\n",
      "Число пользователей из группы 248, совершивших событие CartScreenAppear: 1230\n",
      "Доля пользователей из группы 247, совершивших событие CartScreenAppear: 49.26%\n",
      "Доля пользователей из группы 248, совершивших событие CartScreenAppear: 48.48%\n",
      "p-значение:  0.5786197879539783\n",
      "Не получилось отвергнуть нулевую гипотезу, нет оснований считать доли разными\n"
     ]
    }
   ],
   "source": [
    "calculate_event_share_and_proportion_test(logs_filtered, \"CartScreenAppear\", 247, 248, alpha)"
   ]
  },
  {
   "cell_type": "markdown",
   "metadata": {},
   "source": [
    "Аналогичные действия проделаем для события `PaymentScreenSuccessful`. Сформулируем гипотезы. Нулевая: различий между группами 247 и 248 нет. Альтернативная: существует статистически значимая разница между выборками 247 и 248. Установим уровень статистической значимости 1%."
   ]
  },
  {
   "cell_type": "code",
   "execution_count": 42,
   "metadata": {},
   "outputs": [
    {
     "name": "stdout",
     "output_type": "stream",
     "text": [
      "Число пользователей из группы 247, совершивших событие PaymentScreenSuccessful: 1158\n",
      "Число пользователей из группы 248, совершивших событие PaymentScreenSuccessful: 1181\n",
      "Доля пользователей из группы 247, совершивших событие PaymentScreenSuccessful: 46.08%\n",
      "Доля пользователей из группы 248, совершивших событие PaymentScreenSuccessful: 46.55%\n",
      "p-значение:  0.7373415053803964\n",
      "Не получилось отвергнуть нулевую гипотезу, нет оснований считать доли разными\n"
     ]
    }
   ],
   "source": [
    "calculate_event_share_and_proportion_test(logs_filtered, \"PaymentScreenSuccessful\", 247, 248, alpha)"
   ]
  },
  {
   "cell_type": "markdown",
   "metadata": {},
   "source": [
    "На данном этапе мы можем сделать вывод, что различия в долях пользователей между контрольной группой 247 и экспериментальной группой 248 также невелики."
   ]
  },
  {
   "cell_type": "markdown",
   "metadata": {},
   "source": [
    "Исходя из полученных результатов, мы также не можем сделать вывод о cуществовании статистически значимой разницы между второй контрольной и экспериментальной группами по каждому из событий."
   ]
  },
  {
   "cell_type": "markdown",
   "metadata": {},
   "source": [
    "##### Сравнение объединённых групп 246/247 и 248"
   ]
  },
  {
   "cell_type": "markdown",
   "metadata": {},
   "source": [
    "Теперь сравним экспериментальную группу 248 с объединённой контрольной группой."
   ]
  },
  {
   "cell_type": "markdown",
   "metadata": {},
   "source": [
    "Для этого видоизменим нашу функцию так, чтобы в качестве аргументов мы могли передать ей две группы, которые объединяют их в одну и сравнивают объединённую группу с третьей:"
   ]
  },
  {
   "cell_type": "code",
   "execution_count": 43,
   "metadata": {},
   "outputs": [],
   "source": [
    "def calculate_event_share_and_proportion_test_combined(logs_filtered, event_name, group1, group2, group3, alpha):\n",
    "    # Создаем объединенную группу путем объединения двух других групп\n",
    "    combined_group = logs_filtered.query('exp_id == @group1')['device_id_hash'].tolist() + \\\n",
    "                     logs_filtered.query('exp_id == @group2')['device_id_hash'].tolist()\n",
    "\n",
    "    # Получаем количество пользователей для каждой группы из таблицы logs_filtered_groups\n",
    "    group1_users = logs_filtered.query('exp_id == @group1 | exp_id == @group2')['device_id_hash'].nunique()\n",
    "    group2_users = logs_filtered.query('exp_id == @group3')['device_id_hash'].nunique()\n",
    "\n",
    "    # Получаем число пользователей, совершивших указанное событие, для каждой группы\n",
    "    group1_event = logs_filtered.query('event_name == @event_name and device_id_hash in @combined_group')['device_id_hash'].nunique()\n",
    "    group2_event = logs_filtered.query('event_name == @event_name and exp_id == @group3')['device_id_hash'].nunique()\n",
    "\n",
    "    # Вычисляем долю пользователей, совершивших событие, от общего числа пользователей в каждой группе\n",
    "    group1_event_share = group1_event / group1_users\n",
    "    group2_event_share = group2_event / group2_users\n",
    "\n",
    "    # Проведение двустороннего z-теста для проверки равенства долей\n",
    "    p1 = group1_event_share\n",
    "    p2 = group2_event_share\n",
    "    p_combined = (group1_event + group2_event) / (group1_users + group2_users)\n",
    "\n",
    "    z_score = (p1 - p2) / np.sqrt(p_combined * (1 - p_combined) * (1/group1_users + 1/group2_users))\n",
    "\n",
    "    distr = st.norm(0, 1)\n",
    "\n",
    "    p_value = 2 * (1 - distr.cdf(abs(z_score)))\n",
    "    \n",
    "    print(f\"Число пользователей из групп {group1} и {group2}, совершивших событие {event_name}: {group1_event}\")\n",
    "    print(f\"Число пользователей из групп {group3}, совершивших событие {event_name}: {group2_event}\")\n",
    "    print(f\"Доля пользователей из групп {group1} и {group2}, совершивших событие {event_name}: {group1_event_share:.2%}\")\n",
    "    print(f\"Доля пользователей из групп {group3}, совершивших событие {event_name}: {group2_event_share:.2%}\")\n",
    "    print('p-значение: ', p_value)\n",
    "\n",
    "    if p_value < alpha:\n",
    "        print('Отвергаем нулевую гипотезу: между долями есть значимая разница')\n",
    "    else:\n",
    "        print('Не получилось отвергнуть нулевую гипотезу, нет оснований считать доли разными')\n"
   ]
  },
  {
   "cell_type": "markdown",
   "metadata": {},
   "source": [
    "Посчитаем число пользователей, совершивших событие `MainScreenAppear` в каждой из групп, а также долю пользователей, совершивших это событие. Сформулируем гипотезы. Нулевая: различий между группами 246/247 и 248 нет. Альтернативная: существует статистически значимая разница между выборками 246/247 и 248. Установим уровень статистической значимости 1%."
   ]
  },
  {
   "cell_type": "code",
   "execution_count": 44,
   "metadata": {},
   "outputs": [
    {
     "name": "stdout",
     "output_type": "stream",
     "text": [
      "Число пользователей из групп 246 и 247, совершивших событие MainScreenAppear: 4926\n",
      "Число пользователей из групп 248, совершивших событие MainScreenAppear: 2493\n",
      "Доля пользователей из групп 246 и 247, совершивших событие MainScreenAppear: 98.58%\n",
      "Доля пользователей из групп 248, совершивших событие MainScreenAppear: 98.27%\n",
      "p-значение:  0.29424526837179577\n",
      "Не получилось отвергнуть нулевую гипотезу, нет оснований считать доли разными\n"
     ]
    }
   ],
   "source": [
    "calculate_event_share_and_proportion_test_combined(logs_filtered, \"MainScreenAppear\", 246, 247, 248, alpha)"
   ]
  },
  {
   "cell_type": "markdown",
   "metadata": {},
   "source": [
    "Аналогичные действия проделаем для события `OffersScreenAppear`. Сформулируем гипотезы. Нулевая: различий между группами 246/247 и 248 нет. Альтернативная: существует статистически значимая разница между выборками 246/247 и 248. Установим уровень статистической значимости 1%."
   ]
  },
  {
   "cell_type": "code",
   "execution_count": 45,
   "metadata": {},
   "outputs": [
    {
     "name": "stdout",
     "output_type": "stream",
     "text": [
      "Число пользователей из групп 246 и 247, совершивших событие OffersScreenAppear: 3062\n",
      "Число пользователей из групп 248, совершивших событие OffersScreenAppear: 1531\n",
      "Доля пользователей из групп 246 и 247, совершивших событие OffersScreenAppear: 61.28%\n",
      "Доля пользователей из групп 248, совершивших событие OffersScreenAppear: 60.35%\n",
      "p-значение:  0.43425549655188256\n",
      "Не получилось отвергнуть нулевую гипотезу, нет оснований считать доли разными\n"
     ]
    }
   ],
   "source": [
    "calculate_event_share_and_proportion_test_combined(logs_filtered, \"OffersScreenAppear\", 246, 247, 248, alpha)"
   ]
  },
  {
   "cell_type": "markdown",
   "metadata": {},
   "source": [
    "Аналогичные действия проделаем для события `CartScreenAppear`. Сформулируем гипотезы. Нулевая: различий между группами 246/247 и 248 нет. Альтернативная: существует статистически значимая разница между выборками 246/247 и 248. Установим уровень статистической значимости 1%."
   ]
  },
  {
   "cell_type": "code",
   "execution_count": 46,
   "metadata": {},
   "outputs": [
    {
     "name": "stdout",
     "output_type": "stream",
     "text": [
      "Число пользователей из групп 246 и 247, совершивших событие CartScreenAppear: 2504\n",
      "Число пользователей из групп 248, совершивших событие CartScreenAppear: 1230\n",
      "Доля пользователей из групп 246 и 247, совершивших событие CartScreenAppear: 50.11%\n",
      "Доля пользователей из групп 248, совершивших событие CartScreenAppear: 48.48%\n",
      "p-значение:  0.18175875284404386\n",
      "Не получилось отвергнуть нулевую гипотезу, нет оснований считать доли разными\n"
     ]
    }
   ],
   "source": [
    "calculate_event_share_and_proportion_test_combined(logs_filtered, \"CartScreenAppear\", 246, 247, 248, alpha)"
   ]
  },
  {
   "cell_type": "markdown",
   "metadata": {},
   "source": [
    "Аналогичные действия проделаем для события `PaymentScreenSuccessful`. Сформулируем гипотезы. Нулевая: различий между группами 246/247 и 248 нет. Альтернативная: существует статистически значимая разница между выборками 246/247 и 248. Установим уровень статистической значимости 1%."
   ]
  },
  {
   "cell_type": "code",
   "execution_count": 47,
   "metadata": {},
   "outputs": [
    {
     "name": "stdout",
     "output_type": "stream",
     "text": [
      "Число пользователей из групп 246 и 247, совершивших событие PaymentScreenSuccessful: 2358\n",
      "Число пользователей из групп 248, совершивших событие PaymentScreenSuccessful: 1181\n",
      "Доля пользователей из групп 246 и 247, совершивших событие PaymentScreenSuccessful: 47.19%\n",
      "Доля пользователей из групп 248, совершивших событие PaymentScreenSuccessful: 46.55%\n",
      "p-значение:  0.6004294282308704\n",
      "Не получилось отвергнуть нулевую гипотезу, нет оснований считать доли разными\n"
     ]
    }
   ],
   "source": [
    "calculate_event_share_and_proportion_test_combined(logs_filtered, \"PaymentScreenSuccessful\", 246, 247, 248, alpha)"
   ]
  },
  {
   "cell_type": "markdown",
   "metadata": {},
   "source": [
    "Мы видим, что доли пользователей из групп 246-247 и 248, совершивших каждое из пяти событий, снова достаточно близки."
   ]
  },
  {
   "cell_type": "markdown",
   "metadata": {},
   "source": [
    "Статистическая значимость между группами снова не достигнута."
   ]
  },
  {
   "cell_type": "markdown",
   "metadata": {},
   "source": [
    "Таким образом, мы не можем утверждать, что изменение шрифта в мобильном приложении (в экспериментальной группе 248) оказало влияние на поведение пользователей в отношении всех рассмотренных нами событий. "
   ]
  },
  {
   "cell_type": "markdown",
   "metadata": {},
   "source": [
    "Всего в данном А/В тесте было использовано 16 проверки статистических гипотез: \n",
    "* 246/247 \n",
    "* 246/248\n",
    "* 247/248\n",
    "* 246_247/248. \n",
    "\n",
    "Вычислим требуемый уровень значимости для проведения 16 тестов по методу Бонферонни:"
   ]
  },
  {
   "cell_type": "code",
   "execution_count": 48,
   "metadata": {},
   "outputs": [
    {
     "name": "stdout",
     "output_type": "stream",
     "text": [
      "Необходимый уровень значимости при 4 сравнениях: 0.00625 %\n"
     ]
    }
   ],
   "source": [
    "alpha_test = 0.1\n",
    "bonferroni_alpha = alpha_test / 16\n",
    "print('Необходимый уровень значимости при 4 сравнениях:', bonferroni_alpha, '%')"
   ]
  },
  {
   "cell_type": "markdown",
   "metadata": {},
   "source": [
    "Мной было принято решение уменьшить вероятность ошибки первого рода и выбрать уровень значимости 0,01, что снижает вероятность ошибки до 1 - (1 - 0.01)^16 = 0.1496 — почти 15%."
   ]
  },
  {
   "cell_type": "markdown",
   "metadata": {},
   "source": [
    "#### Вывод\n",
    "* Причин полагать, что между контрольными группами существуют различия, нет, а значит А/А был успешным, что даёт нам уверенность в корректных результатах А/В теста.\n",
    "* В множественных сравнениях при применении А/В теста не была достигнута статистическая значимость между контрольными группами и экспериментальной, а так же между объединёнными контрольными и экспериментальной.\n",
    "* При проведении тестов был выбран уровень значимости 1%, что снижает вероятность ошибки первого рода до 15 процентов."
   ]
  },
  {
   "cell_type": "markdown",
   "metadata": {},
   "source": [
    "### Общий вывод"
   ]
  },
  {
   "cell_type": "markdown",
   "metadata": {},
   "source": [
    "1. Большинство событий приходится на период между 1 и 7 августа. После фильтрации данных потеряно незначительное количество событий, не влияющее на дальнейший анализ. Количество пользователей в каждой группе примерно одинаковое.\n",
    "2. Самое распространенное событие - MainScreenAppear, которое совершают более 98% пользователей. Tutorial запустили всего лишь 11% пользователей. Наиболее вероятная последовательность событий пользователя: \"появление главного экрана приложения\" → \"переход на страницу с предложениями товаров\" → \"переход в корзину для выбора товаров перед оплатой\" → \"успешная оплата товаров\". Обращает на себя внимание низкая конверсия пользователей на этапе перехода с главного экрана к странице с предложениями товаров (61,91%) и невысокий показатель успешной оплаты товаров (46,87%).\n",
    "3. А/А тест был успешным и показал отсутствие различий между контрольными группами. Множественные сравнения при применении А/В теста не позволили достичь статистической значимости между контрольными группами и экспериментальной, а также между объединенными контрольными и экспериментальной группами."
   ]
  }
 ],
 "metadata": {
  "ExecuteTimeLog": [
   {
    "duration": 1210,
    "start_time": "2023-05-22T07:52:10.865Z"
   },
   {
    "duration": 832,
    "start_time": "2023-05-22T08:00:21.721Z"
   },
   {
    "duration": 280,
    "start_time": "2023-05-22T08:00:35.259Z"
   },
   {
    "duration": 13,
    "start_time": "2023-05-22T08:02:04.032Z"
   },
   {
    "duration": 260,
    "start_time": "2023-05-22T08:03:29.865Z"
   },
   {
    "duration": 6,
    "start_time": "2023-05-22T08:03:30.971Z"
   },
   {
    "duration": 270,
    "start_time": "2023-05-22T08:05:19.951Z"
   },
   {
    "duration": 8,
    "start_time": "2023-05-22T08:05:20.836Z"
   },
   {
    "duration": 45,
    "start_time": "2023-05-22T08:05:53.233Z"
   },
   {
    "duration": 147,
    "start_time": "2023-05-22T08:10:55.180Z"
   },
   {
    "duration": 8,
    "start_time": "2023-05-22T08:10:56.741Z"
   },
   {
    "duration": 4,
    "start_time": "2023-05-22T08:16:55.896Z"
   },
   {
    "duration": 7,
    "start_time": "2023-05-22T08:17:56.897Z"
   },
   {
    "duration": 19,
    "start_time": "2023-05-22T08:18:41.333Z"
   },
   {
    "duration": 13,
    "start_time": "2023-05-22T08:22:57.010Z"
   },
   {
    "duration": 52,
    "start_time": "2023-05-22T08:24:50.605Z"
   },
   {
    "duration": 84,
    "start_time": "2023-05-22T08:25:02.482Z"
   },
   {
    "duration": 62,
    "start_time": "2023-05-22T08:28:53.014Z"
   },
   {
    "duration": 63,
    "start_time": "2023-05-22T08:29:00.488Z"
   },
   {
    "duration": 18,
    "start_time": "2023-05-22T08:29:10.039Z"
   },
   {
    "duration": 53,
    "start_time": "2023-05-22T08:30:42.270Z"
   },
   {
    "duration": 74,
    "start_time": "2023-05-22T08:49:35.783Z"
   },
   {
    "duration": 10,
    "start_time": "2023-05-22T08:49:42.957Z"
   },
   {
    "duration": 18,
    "start_time": "2023-05-22T08:55:59.004Z"
   },
   {
    "duration": 10,
    "start_time": "2023-05-22T08:57:53.719Z"
   },
   {
    "duration": 11,
    "start_time": "2023-05-22T08:58:34.970Z"
   },
   {
    "duration": 100,
    "start_time": "2023-05-22T08:59:57.444Z"
   },
   {
    "duration": 6,
    "start_time": "2023-05-22T09:00:54.529Z"
   },
   {
    "duration": 7,
    "start_time": "2023-05-22T09:01:13.768Z"
   },
   {
    "duration": 4,
    "start_time": "2023-05-22T09:02:52.773Z"
   },
   {
    "duration": 4,
    "start_time": "2023-05-22T09:08:25.359Z"
   },
   {
    "duration": 14,
    "start_time": "2023-05-22T09:12:11.112Z"
   },
   {
    "duration": 5,
    "start_time": "2023-05-22T09:12:51.050Z"
   },
   {
    "duration": 6,
    "start_time": "2023-05-22T09:13:51.663Z"
   },
   {
    "duration": 25,
    "start_time": "2023-05-22T09:16:26.680Z"
   },
   {
    "duration": 241,
    "start_time": "2023-05-22T09:18:53.085Z"
   },
   {
    "duration": 275,
    "start_time": "2023-05-22T09:19:16.389Z"
   },
   {
    "duration": 307,
    "start_time": "2023-05-22T09:22:39.964Z"
   },
   {
    "duration": 434,
    "start_time": "2023-05-22T09:22:46.349Z"
   },
   {
    "duration": 858,
    "start_time": "2023-05-22T09:22:51.250Z"
   },
   {
    "duration": 807,
    "start_time": "2023-05-22T09:23:47.835Z"
   },
   {
    "duration": 936,
    "start_time": "2023-05-22T09:25:38.419Z"
   },
   {
    "duration": 854,
    "start_time": "2023-05-22T09:28:10.285Z"
   },
   {
    "duration": 338,
    "start_time": "2023-05-22T09:45:31.076Z"
   },
   {
    "duration": 414,
    "start_time": "2023-05-22T09:47:39.965Z"
   },
   {
    "duration": 441,
    "start_time": "2023-05-22T09:49:27.592Z"
   },
   {
    "duration": 33,
    "start_time": "2023-05-22T09:50:55.700Z"
   },
   {
    "duration": 386,
    "start_time": "2023-05-22T09:51:09.554Z"
   },
   {
    "duration": 75,
    "start_time": "2023-05-22T09:52:49.251Z"
   },
   {
    "duration": 532,
    "start_time": "2023-05-22T09:52:56.069Z"
   },
   {
    "duration": 513,
    "start_time": "2023-05-22T09:54:10.996Z"
   },
   {
    "duration": 48,
    "start_time": "2023-05-22T09:57:12.947Z"
   },
   {
    "duration": 200,
    "start_time": "2023-05-22T09:57:21.272Z"
   },
   {
    "duration": 106,
    "start_time": "2023-05-22T09:59:16.844Z"
   },
   {
    "duration": 13,
    "start_time": "2023-05-22T09:59:20.283Z"
   },
   {
    "duration": 21,
    "start_time": "2023-05-22T10:01:39.809Z"
   },
   {
    "duration": 3937,
    "start_time": "2023-05-22T10:02:02.840Z"
   },
   {
    "duration": 947,
    "start_time": "2023-05-22T10:02:25.231Z"
   },
   {
    "duration": 11,
    "start_time": "2023-05-22T10:03:19.253Z"
   },
   {
    "duration": 7,
    "start_time": "2023-05-22T10:04:34.524Z"
   },
   {
    "duration": 3,
    "start_time": "2023-05-22T10:04:43.417Z"
   },
   {
    "duration": 18,
    "start_time": "2023-05-22T10:05:37.211Z"
   },
   {
    "duration": 10,
    "start_time": "2023-05-22T10:05:47.721Z"
   },
   {
    "duration": 9,
    "start_time": "2023-05-22T10:05:48.825Z"
   },
   {
    "duration": 4,
    "start_time": "2023-05-22T10:05:49.943Z"
   },
   {
    "duration": 10,
    "start_time": "2023-05-22T10:05:52.897Z"
   },
   {
    "duration": 7,
    "start_time": "2023-05-22T10:05:54.277Z"
   },
   {
    "duration": 3,
    "start_time": "2023-05-22T10:05:57.658Z"
   },
   {
    "duration": 4,
    "start_time": "2023-05-22T10:08:09.121Z"
   },
   {
    "duration": 3,
    "start_time": "2023-05-22T10:08:30.669Z"
   },
   {
    "duration": 57,
    "start_time": "2023-05-22T10:08:49.841Z"
   },
   {
    "duration": 57,
    "start_time": "2023-05-22T10:09:36.995Z"
   },
   {
    "duration": 4,
    "start_time": "2023-05-22T10:09:42.219Z"
   },
   {
    "duration": 3,
    "start_time": "2023-05-22T10:09:51.642Z"
   },
   {
    "duration": 5,
    "start_time": "2023-05-22T10:10:34.502Z"
   },
   {
    "duration": 3,
    "start_time": "2023-05-22T10:11:16.815Z"
   },
   {
    "duration": 17,
    "start_time": "2023-05-22T10:12:21.343Z"
   },
   {
    "duration": 28,
    "start_time": "2023-05-22T10:27:25.152Z"
   },
   {
    "duration": 31,
    "start_time": "2023-05-22T10:27:33.933Z"
   },
   {
    "duration": 33,
    "start_time": "2023-05-22T10:27:49.368Z"
   },
   {
    "duration": 47,
    "start_time": "2023-05-22T10:31:00.509Z"
   },
   {
    "duration": 51,
    "start_time": "2023-05-22T13:04:34.934Z"
   },
   {
    "duration": 49,
    "start_time": "2023-05-22T13:04:57.404Z"
   },
   {
    "duration": 58,
    "start_time": "2023-05-22T13:05:04.443Z"
   },
   {
    "duration": 23,
    "start_time": "2023-05-22T13:05:18.864Z"
   },
   {
    "duration": 12,
    "start_time": "2023-05-22T13:05:23.484Z"
   },
   {
    "duration": 34,
    "start_time": "2023-05-22T13:05:35.459Z"
   },
   {
    "duration": 16,
    "start_time": "2023-05-22T13:43:11.273Z"
   },
   {
    "duration": 55,
    "start_time": "2023-05-22T13:43:23.078Z"
   },
   {
    "duration": 49,
    "start_time": "2023-05-22T13:43:32.605Z"
   },
   {
    "duration": 56,
    "start_time": "2023-05-22T13:47:18.440Z"
   },
   {
    "duration": 54,
    "start_time": "2023-05-22T13:47:59.692Z"
   },
   {
    "duration": 47,
    "start_time": "2023-05-22T13:50:16.674Z"
   },
   {
    "duration": 53,
    "start_time": "2023-05-22T13:51:55.813Z"
   },
   {
    "duration": 12,
    "start_time": "2023-05-22T14:01:59.070Z"
   },
   {
    "duration": 58,
    "start_time": "2023-05-22T14:05:20.995Z"
   },
   {
    "duration": 56,
    "start_time": "2023-05-22T14:05:51.138Z"
   },
   {
    "duration": 57,
    "start_time": "2023-05-22T14:07:52.956Z"
   },
   {
    "duration": 55,
    "start_time": "2023-05-22T14:18:33.589Z"
   },
   {
    "duration": 56,
    "start_time": "2023-05-22T14:20:44.531Z"
   },
   {
    "duration": 6,
    "start_time": "2023-05-22T14:59:12.098Z"
   },
   {
    "duration": 10,
    "start_time": "2023-05-22T14:59:25.892Z"
   },
   {
    "duration": 57,
    "start_time": "2023-05-22T14:59:49.936Z"
   },
   {
    "duration": 6,
    "start_time": "2023-05-22T14:59:56.799Z"
   },
   {
    "duration": 7,
    "start_time": "2023-05-22T14:59:59.274Z"
   },
   {
    "duration": 11,
    "start_time": "2023-05-22T15:00:34.864Z"
   },
   {
    "duration": 12,
    "start_time": "2023-05-22T15:01:05.366Z"
   },
   {
    "duration": 12,
    "start_time": "2023-05-22T15:01:08.209Z"
   },
   {
    "duration": 18,
    "start_time": "2023-05-22T15:01:15.740Z"
   },
   {
    "duration": 10,
    "start_time": "2023-05-22T15:01:18.384Z"
   },
   {
    "duration": 4,
    "start_time": "2023-05-22T15:05:06.241Z"
   },
   {
    "duration": 11,
    "start_time": "2023-05-22T15:05:11.944Z"
   },
   {
    "duration": 10,
    "start_time": "2023-05-22T15:05:57.303Z"
   },
   {
    "duration": 1142,
    "start_time": "2023-05-22T15:06:17.225Z"
   },
   {
    "duration": 156,
    "start_time": "2023-05-22T15:06:18.370Z"
   },
   {
    "duration": 11,
    "start_time": "2023-05-22T15:06:18.528Z"
   },
   {
    "duration": 33,
    "start_time": "2023-05-22T15:06:18.540Z"
   },
   {
    "duration": 2,
    "start_time": "2023-05-22T15:06:18.575Z"
   },
   {
    "duration": 10,
    "start_time": "2023-05-22T15:06:18.578Z"
   },
   {
    "duration": 14,
    "start_time": "2023-05-22T15:06:18.589Z"
   },
   {
    "duration": 93,
    "start_time": "2023-05-22T15:06:18.605Z"
   },
   {
    "duration": 80,
    "start_time": "2023-05-22T15:06:18.699Z"
   },
   {
    "duration": 58,
    "start_time": "2023-05-22T15:06:18.782Z"
   },
   {
    "duration": 190,
    "start_time": "2023-05-22T15:06:18.841Z"
   },
   {
    "duration": 9,
    "start_time": "2023-05-22T15:06:19.033Z"
   },
   {
    "duration": 24,
    "start_time": "2023-05-22T15:06:19.049Z"
   },
   {
    "duration": 7,
    "start_time": "2023-05-22T15:06:19.075Z"
   },
   {
    "duration": 7,
    "start_time": "2023-05-22T15:06:19.083Z"
   },
   {
    "duration": 7,
    "start_time": "2023-05-22T15:06:19.092Z"
   },
   {
    "duration": 939,
    "start_time": "2023-05-22T15:06:19.100Z"
   },
   {
    "duration": 26,
    "start_time": "2023-05-22T15:06:20.041Z"
   },
   {
    "duration": 19,
    "start_time": "2023-05-22T15:06:20.069Z"
   },
   {
    "duration": 35,
    "start_time": "2023-05-22T15:06:20.090Z"
   },
   {
    "duration": 45,
    "start_time": "2023-05-22T15:06:20.127Z"
   },
   {
    "duration": 59,
    "start_time": "2023-05-22T15:06:20.173Z"
   },
   {
    "duration": 28,
    "start_time": "2023-05-22T15:06:20.234Z"
   },
   {
    "duration": 11,
    "start_time": "2023-05-22T15:06:20.264Z"
   },
   {
    "duration": 8,
    "start_time": "2023-05-22T15:13:39.366Z"
   },
   {
    "duration": 5,
    "start_time": "2023-05-22T15:19:10.578Z"
   },
   {
    "duration": 967,
    "start_time": "2023-05-22T15:21:45.365Z"
   },
   {
    "duration": 11,
    "start_time": "2023-05-22T15:22:14.276Z"
   },
   {
    "duration": 6,
    "start_time": "2023-05-22T15:24:26.571Z"
   },
   {
    "duration": 6,
    "start_time": "2023-05-22T15:26:58.315Z"
   },
   {
    "duration": 6,
    "start_time": "2023-05-22T15:28:00.288Z"
   },
   {
    "duration": 5,
    "start_time": "2023-05-22T15:28:10.743Z"
   },
   {
    "duration": 6,
    "start_time": "2023-05-22T15:28:38.698Z"
   },
   {
    "duration": 7,
    "start_time": "2023-05-22T15:30:51.220Z"
   },
   {
    "duration": 1531,
    "start_time": "2023-05-22T20:00:17.070Z"
   },
   {
    "duration": 1161,
    "start_time": "2023-05-22T20:00:39.827Z"
   },
   {
    "duration": 910,
    "start_time": "2023-05-22T20:00:40.990Z"
   },
   {
    "duration": 18,
    "start_time": "2023-05-22T20:00:41.902Z"
   },
   {
    "duration": 29,
    "start_time": "2023-05-22T20:00:41.922Z"
   },
   {
    "duration": 4,
    "start_time": "2023-05-22T20:00:41.954Z"
   },
   {
    "duration": 12,
    "start_time": "2023-05-22T20:00:41.960Z"
   },
   {
    "duration": 33,
    "start_time": "2023-05-22T20:00:41.975Z"
   },
   {
    "duration": 85,
    "start_time": "2023-05-22T20:00:42.015Z"
   },
   {
    "duration": 104,
    "start_time": "2023-05-22T20:00:42.102Z"
   },
   {
    "duration": 68,
    "start_time": "2023-05-22T20:00:42.212Z"
   },
   {
    "duration": 148,
    "start_time": "2023-05-22T20:00:42.282Z"
   },
   {
    "duration": 14,
    "start_time": "2023-05-22T20:00:42.442Z"
   },
   {
    "duration": 15,
    "start_time": "2023-05-22T20:00:42.458Z"
   },
   {
    "duration": 9,
    "start_time": "2023-05-22T20:00:42.478Z"
   },
   {
    "duration": 4,
    "start_time": "2023-05-22T20:00:42.493Z"
   },
   {
    "duration": 22,
    "start_time": "2023-05-22T20:00:42.499Z"
   },
   {
    "duration": 1133,
    "start_time": "2023-05-22T20:00:42.525Z"
   },
   {
    "duration": 20,
    "start_time": "2023-05-22T20:00:43.659Z"
   },
   {
    "duration": 44,
    "start_time": "2023-05-22T20:00:43.682Z"
   },
   {
    "duration": 45,
    "start_time": "2023-05-22T20:00:43.728Z"
   },
   {
    "duration": 49,
    "start_time": "2023-05-22T20:00:43.775Z"
   },
   {
    "duration": 68,
    "start_time": "2023-05-22T20:00:43.828Z"
   },
   {
    "duration": 12,
    "start_time": "2023-05-22T20:00:43.898Z"
   },
   {
    "duration": 16,
    "start_time": "2023-05-22T20:00:43.912Z"
   },
   {
    "duration": 212,
    "start_time": "2023-05-22T20:01:23.341Z"
   },
   {
    "duration": 23,
    "start_time": "2023-05-22T20:16:41.070Z"
   },
   {
    "duration": 14,
    "start_time": "2023-05-22T20:18:15.224Z"
   },
   {
    "duration": 1404,
    "start_time": "2023-05-22T20:19:14.373Z"
   },
   {
    "duration": 1310,
    "start_time": "2023-05-22T20:19:40.729Z"
   },
   {
    "duration": 1548,
    "start_time": "2023-05-22T20:20:36.518Z"
   },
   {
    "duration": 237,
    "start_time": "2023-05-22T20:20:38.068Z"
   },
   {
    "duration": 36,
    "start_time": "2023-05-22T20:20:38.315Z"
   },
   {
    "duration": 33,
    "start_time": "2023-05-22T20:20:38.359Z"
   },
   {
    "duration": 4,
    "start_time": "2023-05-22T20:20:38.395Z"
   },
   {
    "duration": 14,
    "start_time": "2023-05-22T20:20:38.401Z"
   },
   {
    "duration": 23,
    "start_time": "2023-05-22T20:20:38.417Z"
   },
   {
    "duration": 108,
    "start_time": "2023-05-22T20:20:38.443Z"
   },
   {
    "duration": 105,
    "start_time": "2023-05-22T20:20:38.554Z"
   },
   {
    "duration": 89,
    "start_time": "2023-05-22T20:20:38.666Z"
   },
   {
    "duration": 175,
    "start_time": "2023-05-22T20:20:38.761Z"
   },
   {
    "duration": 16,
    "start_time": "2023-05-22T20:20:38.941Z"
   },
   {
    "duration": 19,
    "start_time": "2023-05-22T20:20:38.963Z"
   },
   {
    "duration": 11,
    "start_time": "2023-05-22T20:20:38.984Z"
   },
   {
    "duration": 3,
    "start_time": "2023-05-22T20:20:39.007Z"
   },
   {
    "duration": 19,
    "start_time": "2023-05-22T20:20:39.012Z"
   },
   {
    "duration": 1485,
    "start_time": "2023-05-22T20:20:39.034Z"
   },
   {
    "duration": 25,
    "start_time": "2023-05-22T20:20:40.520Z"
   },
   {
    "duration": 30,
    "start_time": "2023-05-22T20:20:40.550Z"
   },
   {
    "duration": 64,
    "start_time": "2023-05-22T20:20:40.582Z"
   },
   {
    "duration": 53,
    "start_time": "2023-05-22T20:20:40.651Z"
   },
   {
    "duration": 81,
    "start_time": "2023-05-22T20:20:40.706Z"
   },
   {
    "duration": 10,
    "start_time": "2023-05-22T20:20:40.789Z"
   },
   {
    "duration": 1377,
    "start_time": "2023-05-22T20:20:40.801Z"
   },
   {
    "duration": 0,
    "start_time": "2023-05-22T20:20:42.180Z"
   },
   {
    "duration": 0,
    "start_time": "2023-05-22T20:20:42.182Z"
   },
   {
    "duration": 1268,
    "start_time": "2023-05-22T20:21:43.136Z"
   },
   {
    "duration": 181,
    "start_time": "2023-05-22T20:21:44.406Z"
   },
   {
    "duration": 17,
    "start_time": "2023-05-22T20:21:44.589Z"
   },
   {
    "duration": 25,
    "start_time": "2023-05-22T20:21:44.608Z"
   },
   {
    "duration": 12,
    "start_time": "2023-05-22T20:21:44.636Z"
   },
   {
    "duration": 13,
    "start_time": "2023-05-22T20:21:44.650Z"
   },
   {
    "duration": 22,
    "start_time": "2023-05-22T20:21:44.667Z"
   },
   {
    "duration": 93,
    "start_time": "2023-05-22T20:21:44.691Z"
   },
   {
    "duration": 81,
    "start_time": "2023-05-22T20:21:44.786Z"
   },
   {
    "duration": 69,
    "start_time": "2023-05-22T20:21:44.872Z"
   },
   {
    "duration": 133,
    "start_time": "2023-05-22T20:21:44.944Z"
   },
   {
    "duration": 11,
    "start_time": "2023-05-22T20:21:45.079Z"
   },
   {
    "duration": 72,
    "start_time": "2023-05-22T20:21:45.092Z"
   },
   {
    "duration": 10,
    "start_time": "2023-05-22T20:21:45.167Z"
   },
   {
    "duration": 33,
    "start_time": "2023-05-22T20:21:45.179Z"
   },
   {
    "duration": 10,
    "start_time": "2023-05-22T20:21:45.214Z"
   },
   {
    "duration": 1271,
    "start_time": "2023-05-22T20:21:45.226Z"
   },
   {
    "duration": 31,
    "start_time": "2023-05-22T20:21:46.500Z"
   },
   {
    "duration": 31,
    "start_time": "2023-05-22T20:21:46.532Z"
   },
   {
    "duration": 49,
    "start_time": "2023-05-22T20:21:46.564Z"
   },
   {
    "duration": 30,
    "start_time": "2023-05-22T20:21:46.615Z"
   },
   {
    "duration": 86,
    "start_time": "2023-05-22T20:21:46.647Z"
   },
   {
    "duration": 11,
    "start_time": "2023-05-22T20:21:46.735Z"
   },
   {
    "duration": 1310,
    "start_time": "2023-05-22T20:21:46.748Z"
   },
   {
    "duration": 0,
    "start_time": "2023-05-22T20:21:48.062Z"
   },
   {
    "duration": 0,
    "start_time": "2023-05-22T20:21:48.063Z"
   },
   {
    "duration": 1167,
    "start_time": "2023-05-22T20:22:46.560Z"
   },
   {
    "duration": 5,
    "start_time": "2023-05-22T20:28:45.101Z"
   },
   {
    "duration": 10,
    "start_time": "2023-05-22T20:29:42.699Z"
   },
   {
    "duration": 1100,
    "start_time": "2023-05-22T20:36:28.242Z"
   },
   {
    "duration": 149,
    "start_time": "2023-05-22T20:36:29.344Z"
   },
   {
    "duration": 17,
    "start_time": "2023-05-22T20:36:29.495Z"
   },
   {
    "duration": 20,
    "start_time": "2023-05-22T20:36:29.525Z"
   },
   {
    "duration": 3,
    "start_time": "2023-05-22T20:36:29.547Z"
   },
   {
    "duration": 17,
    "start_time": "2023-05-22T20:36:29.551Z"
   },
   {
    "duration": 15,
    "start_time": "2023-05-22T20:36:29.569Z"
   },
   {
    "duration": 72,
    "start_time": "2023-05-22T20:36:29.587Z"
   },
   {
    "duration": 88,
    "start_time": "2023-05-22T20:36:29.661Z"
   },
   {
    "duration": 58,
    "start_time": "2023-05-22T20:36:29.753Z"
   },
   {
    "duration": 119,
    "start_time": "2023-05-22T20:36:29.812Z"
   },
   {
    "duration": 9,
    "start_time": "2023-05-22T20:36:29.933Z"
   },
   {
    "duration": 17,
    "start_time": "2023-05-22T20:36:29.944Z"
   },
   {
    "duration": 10,
    "start_time": "2023-05-22T20:36:29.963Z"
   },
   {
    "duration": 3,
    "start_time": "2023-05-22T20:36:29.975Z"
   },
   {
    "duration": 30,
    "start_time": "2023-05-22T20:36:29.979Z"
   },
   {
    "duration": 953,
    "start_time": "2023-05-22T20:36:30.011Z"
   },
   {
    "duration": 24,
    "start_time": "2023-05-22T20:36:30.967Z"
   },
   {
    "duration": 38,
    "start_time": "2023-05-22T20:36:30.993Z"
   },
   {
    "duration": 53,
    "start_time": "2023-05-22T20:36:31.033Z"
   },
   {
    "duration": 37,
    "start_time": "2023-05-22T20:36:31.088Z"
   },
   {
    "duration": 81,
    "start_time": "2023-05-22T20:36:31.127Z"
   },
   {
    "duration": 14,
    "start_time": "2023-05-22T20:36:31.215Z"
   },
   {
    "duration": 19,
    "start_time": "2023-05-22T20:36:31.231Z"
   },
   {
    "duration": 1137,
    "start_time": "2023-05-23T05:20:38.133Z"
   },
   {
    "duration": 691,
    "start_time": "2023-05-23T05:20:39.272Z"
   },
   {
    "duration": 9,
    "start_time": "2023-05-23T05:20:39.965Z"
   },
   {
    "duration": 16,
    "start_time": "2023-05-23T05:20:39.976Z"
   },
   {
    "duration": 3,
    "start_time": "2023-05-23T05:20:39.993Z"
   },
   {
    "duration": 9,
    "start_time": "2023-05-23T05:20:39.997Z"
   },
   {
    "duration": 13,
    "start_time": "2023-05-23T05:20:40.007Z"
   },
   {
    "duration": 64,
    "start_time": "2023-05-23T05:20:40.022Z"
   },
   {
    "duration": 79,
    "start_time": "2023-05-23T05:20:40.087Z"
   },
   {
    "duration": 63,
    "start_time": "2023-05-23T05:20:40.169Z"
   },
   {
    "duration": 97,
    "start_time": "2023-05-23T05:20:40.234Z"
   },
   {
    "duration": 9,
    "start_time": "2023-05-23T05:20:40.332Z"
   },
   {
    "duration": 16,
    "start_time": "2023-05-23T05:20:40.343Z"
   },
   {
    "duration": 7,
    "start_time": "2023-05-23T05:20:40.360Z"
   },
   {
    "duration": 4,
    "start_time": "2023-05-23T05:20:40.368Z"
   },
   {
    "duration": 8,
    "start_time": "2023-05-23T05:20:40.373Z"
   },
   {
    "duration": 796,
    "start_time": "2023-05-23T05:20:40.382Z"
   },
   {
    "duration": 26,
    "start_time": "2023-05-23T05:20:41.180Z"
   },
   {
    "duration": 15,
    "start_time": "2023-05-23T05:20:41.208Z"
   },
   {
    "duration": 29,
    "start_time": "2023-05-23T05:20:41.225Z"
   },
   {
    "duration": 22,
    "start_time": "2023-05-23T05:20:41.256Z"
   },
   {
    "duration": 72,
    "start_time": "2023-05-23T05:20:41.280Z"
   },
   {
    "duration": 7,
    "start_time": "2023-05-23T05:20:41.354Z"
   },
   {
    "duration": 9,
    "start_time": "2023-05-23T05:20:41.363Z"
   },
   {
    "duration": 58,
    "start_time": "2023-05-23T05:39:01.388Z"
   },
   {
    "duration": 3,
    "start_time": "2023-05-23T05:41:41.220Z"
   },
   {
    "duration": 35,
    "start_time": "2023-05-23T05:56:22.507Z"
   },
   {
    "duration": 127,
    "start_time": "2023-05-23T06:09:22.982Z"
   },
   {
    "duration": 142,
    "start_time": "2023-05-23T06:12:42.477Z"
   },
   {
    "duration": 128,
    "start_time": "2023-05-23T06:13:39.351Z"
   },
   {
    "duration": 901,
    "start_time": "2023-05-23T06:15:27.690Z"
   },
   {
    "duration": 36,
    "start_time": "2023-05-23T06:15:40.565Z"
   },
   {
    "duration": 739,
    "start_time": "2023-05-23T06:19:41.102Z"
   },
   {
    "duration": 18,
    "start_time": "2023-05-23T06:21:42.320Z"
   },
   {
    "duration": 3,
    "start_time": "2023-05-23T06:22:21.481Z"
   },
   {
    "duration": 8651,
    "start_time": "2023-05-23T06:22:25.617Z"
   },
   {
    "duration": 23,
    "start_time": "2023-05-23T06:31:38.479Z"
   },
   {
    "duration": 23,
    "start_time": "2023-05-23T06:39:35.700Z"
   },
   {
    "duration": 30,
    "start_time": "2023-05-23T06:55:59.255Z"
   },
   {
    "duration": 36,
    "start_time": "2023-05-23T07:06:48.516Z"
   },
   {
    "duration": 34,
    "start_time": "2023-05-23T07:07:07.073Z"
   },
   {
    "duration": 25,
    "start_time": "2023-05-23T07:09:35.323Z"
   },
   {
    "duration": 26,
    "start_time": "2023-05-23T07:09:42.962Z"
   },
   {
    "duration": 27,
    "start_time": "2023-05-23T07:09:59.168Z"
   },
   {
    "duration": 50,
    "start_time": "2023-05-23T07:12:00.406Z"
   },
   {
    "duration": 39,
    "start_time": "2023-05-23T07:20:05.507Z"
   },
   {
    "duration": 40,
    "start_time": "2023-05-23T07:21:45.298Z"
   },
   {
    "duration": 31,
    "start_time": "2023-05-23T07:24:57.391Z"
   },
   {
    "duration": 969,
    "start_time": "2023-05-23T07:25:47.759Z"
   },
   {
    "duration": 134,
    "start_time": "2023-05-23T07:25:48.730Z"
   },
   {
    "duration": 11,
    "start_time": "2023-05-23T07:25:48.866Z"
   },
   {
    "duration": 23,
    "start_time": "2023-05-23T07:25:48.878Z"
   },
   {
    "duration": 8,
    "start_time": "2023-05-23T07:25:48.903Z"
   },
   {
    "duration": 19,
    "start_time": "2023-05-23T07:25:48.912Z"
   },
   {
    "duration": 26,
    "start_time": "2023-05-23T07:25:48.933Z"
   },
   {
    "duration": 58,
    "start_time": "2023-05-23T07:25:48.961Z"
   },
   {
    "duration": 61,
    "start_time": "2023-05-23T07:25:49.021Z"
   },
   {
    "duration": 61,
    "start_time": "2023-05-23T07:25:49.084Z"
   },
   {
    "duration": 99,
    "start_time": "2023-05-23T07:25:49.147Z"
   },
   {
    "duration": 9,
    "start_time": "2023-05-23T07:25:49.247Z"
   },
   {
    "duration": 14,
    "start_time": "2023-05-23T07:25:49.257Z"
   },
   {
    "duration": 18,
    "start_time": "2023-05-23T07:25:49.274Z"
   },
   {
    "duration": 4,
    "start_time": "2023-05-23T07:25:49.294Z"
   },
   {
    "duration": 6,
    "start_time": "2023-05-23T07:25:49.306Z"
   },
   {
    "duration": 790,
    "start_time": "2023-05-23T07:25:49.313Z"
   },
   {
    "duration": 19,
    "start_time": "2023-05-23T07:25:50.106Z"
   },
   {
    "duration": 17,
    "start_time": "2023-05-23T07:25:50.126Z"
   },
   {
    "duration": 30,
    "start_time": "2023-05-23T07:25:50.144Z"
   },
   {
    "duration": 41,
    "start_time": "2023-05-23T07:25:50.176Z"
   },
   {
    "duration": 51,
    "start_time": "2023-05-23T07:25:50.219Z"
   },
   {
    "duration": 8,
    "start_time": "2023-05-23T07:25:50.272Z"
   },
   {
    "duration": 26,
    "start_time": "2023-05-23T07:25:50.281Z"
   },
   {
    "duration": 12,
    "start_time": "2023-05-23T07:25:50.309Z"
   },
   {
    "duration": 45,
    "start_time": "2023-05-23T07:25:50.322Z"
   },
   {
    "duration": 37,
    "start_time": "2023-05-23T07:25:50.369Z"
   },
   {
    "duration": 31,
    "start_time": "2023-05-23T07:25:50.408Z"
   },
   {
    "duration": 25,
    "start_time": "2023-05-23T07:26:11.205Z"
   },
   {
    "duration": 857,
    "start_time": "2023-05-23T07:33:54.996Z"
   },
   {
    "duration": 159,
    "start_time": "2023-05-23T07:34:07.530Z"
   },
   {
    "duration": 171,
    "start_time": "2023-05-23T07:38:20.100Z"
   },
   {
    "duration": 207,
    "start_time": "2023-05-23T07:54:25.991Z"
   },
   {
    "duration": 131,
    "start_time": "2023-05-23T07:57:39.057Z"
   },
   {
    "duration": 125,
    "start_time": "2023-05-23T07:58:39.597Z"
   },
   {
    "duration": 188,
    "start_time": "2023-05-23T08:04:59.623Z"
   },
   {
    "duration": 1276,
    "start_time": "2023-05-23T12:58:44.696Z"
   },
   {
    "duration": 671,
    "start_time": "2023-05-23T12:58:45.974Z"
   },
   {
    "duration": 13,
    "start_time": "2023-05-23T12:58:46.647Z"
   },
   {
    "duration": 30,
    "start_time": "2023-05-23T12:58:46.663Z"
   },
   {
    "duration": 4,
    "start_time": "2023-05-23T12:58:46.695Z"
   },
   {
    "duration": 17,
    "start_time": "2023-05-23T12:58:46.701Z"
   },
   {
    "duration": 35,
    "start_time": "2023-05-23T12:58:46.720Z"
   },
   {
    "duration": 83,
    "start_time": "2023-05-23T12:58:46.757Z"
   },
   {
    "duration": 87,
    "start_time": "2023-05-23T12:58:46.841Z"
   },
   {
    "duration": 77,
    "start_time": "2023-05-23T12:58:46.931Z"
   },
   {
    "duration": 128,
    "start_time": "2023-05-23T12:58:47.010Z"
   },
   {
    "duration": 13,
    "start_time": "2023-05-23T12:58:47.140Z"
   },
   {
    "duration": 23,
    "start_time": "2023-05-23T12:58:47.154Z"
   },
   {
    "duration": 21,
    "start_time": "2023-05-23T12:58:47.179Z"
   },
   {
    "duration": 10,
    "start_time": "2023-05-23T12:58:47.201Z"
   },
   {
    "duration": 17,
    "start_time": "2023-05-23T12:58:47.213Z"
   },
   {
    "duration": 949,
    "start_time": "2023-05-23T12:58:47.232Z"
   },
   {
    "duration": 24,
    "start_time": "2023-05-23T12:58:48.183Z"
   },
   {
    "duration": 38,
    "start_time": "2023-05-23T12:58:48.209Z"
   },
   {
    "duration": 36,
    "start_time": "2023-05-23T12:58:48.249Z"
   },
   {
    "duration": 37,
    "start_time": "2023-05-23T12:58:48.287Z"
   },
   {
    "duration": 61,
    "start_time": "2023-05-23T12:58:48.347Z"
   },
   {
    "duration": 9,
    "start_time": "2023-05-23T12:58:48.410Z"
   },
   {
    "duration": 26,
    "start_time": "2023-05-23T12:58:48.421Z"
   },
   {
    "duration": 4,
    "start_time": "2023-05-23T12:58:48.449Z"
   },
   {
    "duration": 60,
    "start_time": "2023-05-23T12:58:48.455Z"
   },
   {
    "duration": 46,
    "start_time": "2023-05-23T12:58:48.517Z"
   },
   {
    "duration": 35,
    "start_time": "2023-05-23T12:58:48.566Z"
   },
   {
    "duration": 153,
    "start_time": "2023-05-23T12:58:48.603Z"
   },
   {
    "duration": 214,
    "start_time": "2023-05-23T12:58:48.758Z"
   },
   {
    "duration": 196,
    "start_time": "2023-05-23T12:59:53.231Z"
   },
   {
    "duration": 180,
    "start_time": "2023-05-23T13:00:03.885Z"
   },
   {
    "duration": 144,
    "start_time": "2023-05-23T13:00:31.047Z"
   },
   {
    "duration": 140,
    "start_time": "2023-05-23T13:00:43.440Z"
   },
   {
    "duration": 1201,
    "start_time": "2023-05-23T13:04:18.742Z"
   },
   {
    "duration": 184,
    "start_time": "2023-05-23T13:04:19.945Z"
   },
   {
    "duration": 19,
    "start_time": "2023-05-23T13:04:20.131Z"
   },
   {
    "duration": 25,
    "start_time": "2023-05-23T13:04:20.152Z"
   },
   {
    "duration": 6,
    "start_time": "2023-05-23T13:04:20.179Z"
   },
   {
    "duration": 19,
    "start_time": "2023-05-23T13:04:20.186Z"
   },
   {
    "duration": 52,
    "start_time": "2023-05-23T13:04:20.207Z"
   },
   {
    "duration": 84,
    "start_time": "2023-05-23T13:04:20.260Z"
   },
   {
    "duration": 103,
    "start_time": "2023-05-23T13:04:20.347Z"
   },
   {
    "duration": 67,
    "start_time": "2023-05-23T13:04:20.453Z"
   },
   {
    "duration": 132,
    "start_time": "2023-05-23T13:04:20.522Z"
   },
   {
    "duration": 10,
    "start_time": "2023-05-23T13:04:20.656Z"
   },
   {
    "duration": 21,
    "start_time": "2023-05-23T13:04:20.667Z"
   },
   {
    "duration": 13,
    "start_time": "2023-05-23T13:04:20.690Z"
   },
   {
    "duration": 4,
    "start_time": "2023-05-23T13:04:20.704Z"
   },
   {
    "duration": 36,
    "start_time": "2023-05-23T13:04:20.710Z"
   },
   {
    "duration": 963,
    "start_time": "2023-05-23T13:04:20.748Z"
   },
   {
    "duration": 34,
    "start_time": "2023-05-23T13:04:21.713Z"
   },
   {
    "duration": 22,
    "start_time": "2023-05-23T13:04:21.749Z"
   },
   {
    "duration": 36,
    "start_time": "2023-05-23T13:04:21.773Z"
   },
   {
    "duration": 39,
    "start_time": "2023-05-23T13:04:21.811Z"
   },
   {
    "duration": 62,
    "start_time": "2023-05-23T13:04:21.852Z"
   },
   {
    "duration": 8,
    "start_time": "2023-05-23T13:04:21.916Z"
   },
   {
    "duration": 21,
    "start_time": "2023-05-23T13:04:21.926Z"
   },
   {
    "duration": 16,
    "start_time": "2023-05-23T13:04:21.949Z"
   },
   {
    "duration": 58,
    "start_time": "2023-05-23T13:04:21.967Z"
   },
   {
    "duration": 41,
    "start_time": "2023-05-23T13:04:22.027Z"
   },
   {
    "duration": 38,
    "start_time": "2023-05-23T13:04:22.071Z"
   },
   {
    "duration": 182,
    "start_time": "2023-05-23T13:04:22.111Z"
   },
   {
    "duration": 252,
    "start_time": "2023-05-23T13:04:22.295Z"
   },
   {
    "duration": 151,
    "start_time": "2023-05-23T13:04:58.606Z"
   },
   {
    "duration": 195,
    "start_time": "2023-05-23T13:05:19.579Z"
   },
   {
    "duration": 199,
    "start_time": "2023-05-23T13:05:45.121Z"
   },
   {
    "duration": 164,
    "start_time": "2023-05-23T13:08:19.030Z"
   },
   {
    "duration": 139,
    "start_time": "2023-05-23T13:09:00.960Z"
   },
   {
    "duration": 1212,
    "start_time": "2023-05-24T06:42:24.908Z"
   },
   {
    "duration": 715,
    "start_time": "2023-05-24T06:42:26.122Z"
   },
   {
    "duration": 10,
    "start_time": "2023-05-24T06:42:26.839Z"
   },
   {
    "duration": 20,
    "start_time": "2023-05-24T06:42:26.851Z"
   },
   {
    "duration": 2,
    "start_time": "2023-05-24T06:42:26.873Z"
   },
   {
    "duration": 22,
    "start_time": "2023-05-24T06:42:26.876Z"
   },
   {
    "duration": 17,
    "start_time": "2023-05-24T06:42:26.899Z"
   },
   {
    "duration": 65,
    "start_time": "2023-05-24T06:42:26.917Z"
   },
   {
    "duration": 97,
    "start_time": "2023-05-24T06:42:26.984Z"
   },
   {
    "duration": 67,
    "start_time": "2023-05-24T06:42:27.082Z"
   },
   {
    "duration": 124,
    "start_time": "2023-05-24T06:42:27.151Z"
   },
   {
    "duration": 10,
    "start_time": "2023-05-24T06:42:27.276Z"
   },
   {
    "duration": 14,
    "start_time": "2023-05-24T06:42:27.287Z"
   },
   {
    "duration": 7,
    "start_time": "2023-05-24T06:42:27.304Z"
   },
   {
    "duration": 4,
    "start_time": "2023-05-24T06:42:27.312Z"
   },
   {
    "duration": 7,
    "start_time": "2023-05-24T06:42:27.317Z"
   },
   {
    "duration": 1020,
    "start_time": "2023-05-24T06:42:27.326Z"
   },
   {
    "duration": 31,
    "start_time": "2023-05-24T06:42:28.347Z"
   },
   {
    "duration": 21,
    "start_time": "2023-05-24T06:42:28.380Z"
   },
   {
    "duration": 34,
    "start_time": "2023-05-24T06:42:28.403Z"
   },
   {
    "duration": 49,
    "start_time": "2023-05-24T06:42:28.439Z"
   },
   {
    "duration": 57,
    "start_time": "2023-05-24T06:42:28.490Z"
   },
   {
    "duration": 27,
    "start_time": "2023-05-24T06:42:28.549Z"
   },
   {
    "duration": 9,
    "start_time": "2023-05-24T06:42:28.577Z"
   },
   {
    "duration": 9,
    "start_time": "2023-05-24T06:42:28.587Z"
   },
   {
    "duration": 59,
    "start_time": "2023-05-24T06:42:28.597Z"
   },
   {
    "duration": 29,
    "start_time": "2023-05-24T06:42:28.676Z"
   },
   {
    "duration": 36,
    "start_time": "2023-05-24T06:42:28.707Z"
   },
   {
    "duration": 168,
    "start_time": "2023-05-24T06:42:28.745Z"
   },
   {
    "duration": 201,
    "start_time": "2023-05-24T06:42:28.922Z"
   },
   {
    "duration": 138,
    "start_time": "2023-05-24T06:42:29.126Z"
   },
   {
    "duration": 121,
    "start_time": "2023-05-24T06:43:16.897Z"
   },
   {
    "duration": 132,
    "start_time": "2023-05-24T06:43:30.685Z"
   },
   {
    "duration": 178,
    "start_time": "2023-05-24T07:15:08.700Z"
   },
   {
    "duration": 121,
    "start_time": "2023-05-24T07:22:17.970Z"
   },
   {
    "duration": 172,
    "start_time": "2023-05-24T07:26:51.005Z"
   },
   {
    "duration": 128,
    "start_time": "2023-05-24T07:45:19.551Z"
   },
   {
    "duration": 826,
    "start_time": "2023-05-24T07:53:40.589Z"
   },
   {
    "duration": 711,
    "start_time": "2023-05-24T07:54:06.014Z"
   },
   {
    "duration": 234,
    "start_time": "2023-05-24T07:54:13.970Z"
   },
   {
    "duration": 27,
    "start_time": "2023-05-24T08:14:40.654Z"
   },
   {
    "duration": 27,
    "start_time": "2023-05-24T08:14:47.347Z"
   },
   {
    "duration": 26,
    "start_time": "2023-05-24T08:14:50.750Z"
   },
   {
    "duration": 1103,
    "start_time": "2023-05-24T08:15:00.459Z"
   },
   {
    "duration": 162,
    "start_time": "2023-05-24T08:15:01.564Z"
   },
   {
    "duration": 11,
    "start_time": "2023-05-24T08:15:01.728Z"
   },
   {
    "duration": 61,
    "start_time": "2023-05-24T08:15:01.741Z"
   },
   {
    "duration": 4,
    "start_time": "2023-05-24T08:15:01.805Z"
   },
   {
    "duration": 32,
    "start_time": "2023-05-24T08:15:01.811Z"
   },
   {
    "duration": 33,
    "start_time": "2023-05-24T08:15:01.844Z"
   },
   {
    "duration": 101,
    "start_time": "2023-05-24T08:15:01.879Z"
   },
   {
    "duration": 73,
    "start_time": "2023-05-24T08:15:01.982Z"
   },
   {
    "duration": 78,
    "start_time": "2023-05-24T08:15:02.057Z"
   },
   {
    "duration": 111,
    "start_time": "2023-05-24T08:15:02.137Z"
   },
   {
    "duration": 9,
    "start_time": "2023-05-24T08:15:02.249Z"
   },
   {
    "duration": 20,
    "start_time": "2023-05-24T08:15:02.259Z"
   },
   {
    "duration": 30,
    "start_time": "2023-05-24T08:15:02.281Z"
   },
   {
    "duration": 6,
    "start_time": "2023-05-24T08:15:02.313Z"
   },
   {
    "duration": 6,
    "start_time": "2023-05-24T08:15:02.321Z"
   },
   {
    "duration": 837,
    "start_time": "2023-05-24T08:15:02.329Z"
   },
   {
    "duration": 26,
    "start_time": "2023-05-24T08:15:03.167Z"
   },
   {
    "duration": 22,
    "start_time": "2023-05-24T08:15:03.194Z"
   },
   {
    "duration": 34,
    "start_time": "2023-05-24T08:15:03.217Z"
   },
   {
    "duration": 39,
    "start_time": "2023-05-24T08:15:03.253Z"
   },
   {
    "duration": 68,
    "start_time": "2023-05-24T08:15:03.294Z"
   },
   {
    "duration": 16,
    "start_time": "2023-05-24T08:15:03.364Z"
   },
   {
    "duration": 9,
    "start_time": "2023-05-24T08:15:03.382Z"
   },
   {
    "duration": 20,
    "start_time": "2023-05-24T08:15:03.392Z"
   },
   {
    "duration": 51,
    "start_time": "2023-05-24T08:15:03.414Z"
   },
   {
    "duration": 30,
    "start_time": "2023-05-24T08:15:03.474Z"
   },
   {
    "duration": 36,
    "start_time": "2023-05-24T08:15:03.506Z"
   },
   {
    "duration": 162,
    "start_time": "2023-05-24T08:15:03.544Z"
   },
   {
    "duration": 198,
    "start_time": "2023-05-24T08:15:03.707Z"
   },
   {
    "duration": 146,
    "start_time": "2023-05-24T08:15:03.907Z"
   },
   {
    "duration": 237,
    "start_time": "2023-05-24T08:15:04.055Z"
   },
   {
    "duration": 162,
    "start_time": "2023-05-24T08:15:04.294Z"
   },
   {
    "duration": 190,
    "start_time": "2023-05-24T08:15:04.458Z"
   },
   {
    "duration": 155,
    "start_time": "2023-05-24T08:15:04.650Z"
   },
   {
    "duration": 214,
    "start_time": "2023-05-24T08:15:04.807Z"
   },
   {
    "duration": 2,
    "start_time": "2023-05-24T08:39:44.266Z"
   },
   {
    "duration": 90,
    "start_time": "2023-05-24T08:39:55.966Z"
   },
   {
    "duration": 4,
    "start_time": "2023-05-24T08:41:12.554Z"
   },
   {
    "duration": 4,
    "start_time": "2023-05-24T08:41:18.488Z"
   },
   {
    "duration": 4,
    "start_time": "2023-05-24T08:41:41.613Z"
   },
   {
    "duration": 3,
    "start_time": "2023-05-24T08:42:32.908Z"
   },
   {
    "duration": 1079,
    "start_time": "2023-05-24T10:42:16.798Z"
   },
   {
    "duration": 156,
    "start_time": "2023-05-24T10:42:17.878Z"
   },
   {
    "duration": 11,
    "start_time": "2023-05-24T10:42:18.036Z"
   },
   {
    "duration": 36,
    "start_time": "2023-05-24T10:42:18.049Z"
   },
   {
    "duration": 2,
    "start_time": "2023-05-24T10:42:18.087Z"
   },
   {
    "duration": 9,
    "start_time": "2023-05-24T10:42:18.091Z"
   },
   {
    "duration": 17,
    "start_time": "2023-05-24T10:42:18.101Z"
   },
   {
    "duration": 75,
    "start_time": "2023-05-24T10:42:18.120Z"
   },
   {
    "duration": 79,
    "start_time": "2023-05-24T10:42:18.196Z"
   },
   {
    "duration": 57,
    "start_time": "2023-05-24T10:42:18.277Z"
   },
   {
    "duration": 113,
    "start_time": "2023-05-24T10:42:18.336Z"
   },
   {
    "duration": 9,
    "start_time": "2023-05-24T10:42:18.451Z"
   },
   {
    "duration": 19,
    "start_time": "2023-05-24T10:42:18.461Z"
   },
   {
    "duration": 7,
    "start_time": "2023-05-24T10:42:18.481Z"
   },
   {
    "duration": 3,
    "start_time": "2023-05-24T10:42:18.490Z"
   },
   {
    "duration": 6,
    "start_time": "2023-05-24T10:42:18.495Z"
   },
   {
    "duration": 873,
    "start_time": "2023-05-24T10:42:18.502Z"
   },
   {
    "duration": 21,
    "start_time": "2023-05-24T10:42:19.377Z"
   },
   {
    "duration": 19,
    "start_time": "2023-05-24T10:42:19.400Z"
   },
   {
    "duration": 54,
    "start_time": "2023-05-24T10:42:19.421Z"
   },
   {
    "duration": 23,
    "start_time": "2023-05-24T10:42:19.477Z"
   },
   {
    "duration": 73,
    "start_time": "2023-05-24T10:42:19.502Z"
   },
   {
    "duration": 7,
    "start_time": "2023-05-24T10:42:19.576Z"
   },
   {
    "duration": 12,
    "start_time": "2023-05-24T10:42:19.585Z"
   },
   {
    "duration": 7,
    "start_time": "2023-05-24T10:42:19.598Z"
   },
   {
    "duration": 83,
    "start_time": "2023-05-24T10:42:19.607Z"
   },
   {
    "duration": 35,
    "start_time": "2023-05-24T10:42:19.692Z"
   },
   {
    "duration": 49,
    "start_time": "2023-05-24T10:42:19.731Z"
   },
   {
    "duration": 153,
    "start_time": "2023-05-24T10:42:19.782Z"
   },
   {
    "duration": 218,
    "start_time": "2023-05-24T10:42:19.936Z"
   },
   {
    "duration": 150,
    "start_time": "2023-05-24T10:42:20.156Z"
   },
   {
    "duration": 199,
    "start_time": "2023-05-24T10:42:20.308Z"
   },
   {
    "duration": 141,
    "start_time": "2023-05-24T10:42:20.509Z"
   },
   {
    "duration": 202,
    "start_time": "2023-05-24T10:42:20.652Z"
   },
   {
    "duration": 164,
    "start_time": "2023-05-24T10:42:20.856Z"
   },
   {
    "duration": 206,
    "start_time": "2023-05-24T10:42:21.021Z"
   },
   {
    "duration": 4,
    "start_time": "2023-05-24T10:42:21.229Z"
   },
   {
    "duration": 19,
    "start_time": "2023-05-24T10:43:16.487Z"
   },
   {
    "duration": 35,
    "start_time": "2023-05-24T10:43:23.665Z"
   },
   {
    "duration": 5,
    "start_time": "2023-05-24T10:44:26.712Z"
   },
   {
    "duration": 15,
    "start_time": "2023-05-24T10:44:49.954Z"
   },
   {
    "duration": 32,
    "start_time": "2023-05-24T10:45:00.100Z"
   },
   {
    "duration": 4,
    "start_time": "2023-05-24T10:45:02.722Z"
   },
   {
    "duration": 24,
    "start_time": "2023-05-24T10:48:22.091Z"
   },
   {
    "duration": 4,
    "start_time": "2023-05-24T10:48:44.382Z"
   },
   {
    "duration": 3,
    "start_time": "2023-05-24T10:48:47.766Z"
   },
   {
    "duration": 45,
    "start_time": "2023-05-24T11:57:27.854Z"
   },
   {
    "duration": 1239,
    "start_time": "2023-05-24T12:04:06.555Z"
   },
   {
    "duration": 601,
    "start_time": "2023-05-24T12:04:07.796Z"
   },
   {
    "duration": 12,
    "start_time": "2023-05-24T12:04:08.399Z"
   },
   {
    "duration": 40,
    "start_time": "2023-05-24T12:04:08.412Z"
   },
   {
    "duration": 2,
    "start_time": "2023-05-24T12:04:08.455Z"
   },
   {
    "duration": 11,
    "start_time": "2023-05-24T12:04:08.459Z"
   },
   {
    "duration": 19,
    "start_time": "2023-05-24T12:04:08.471Z"
   },
   {
    "duration": 57,
    "start_time": "2023-05-24T12:04:08.491Z"
   },
   {
    "duration": 158,
    "start_time": "2023-05-24T12:04:08.549Z"
   },
   {
    "duration": 0,
    "start_time": "2023-05-24T12:04:08.711Z"
   },
   {
    "duration": 0,
    "start_time": "2023-05-24T12:04:08.712Z"
   },
   {
    "duration": 0,
    "start_time": "2023-05-24T12:04:08.713Z"
   },
   {
    "duration": 0,
    "start_time": "2023-05-24T12:04:08.715Z"
   },
   {
    "duration": 0,
    "start_time": "2023-05-24T12:04:08.716Z"
   },
   {
    "duration": 0,
    "start_time": "2023-05-24T12:04:08.717Z"
   },
   {
    "duration": 0,
    "start_time": "2023-05-24T12:04:08.719Z"
   },
   {
    "duration": 0,
    "start_time": "2023-05-24T12:04:08.720Z"
   },
   {
    "duration": 0,
    "start_time": "2023-05-24T12:04:08.721Z"
   },
   {
    "duration": 0,
    "start_time": "2023-05-24T12:04:08.722Z"
   },
   {
    "duration": 0,
    "start_time": "2023-05-24T12:04:08.724Z"
   },
   {
    "duration": 0,
    "start_time": "2023-05-24T12:04:08.725Z"
   },
   {
    "duration": 0,
    "start_time": "2023-05-24T12:04:08.727Z"
   },
   {
    "duration": 0,
    "start_time": "2023-05-24T12:04:08.728Z"
   },
   {
    "duration": 0,
    "start_time": "2023-05-24T12:04:08.730Z"
   },
   {
    "duration": 0,
    "start_time": "2023-05-24T12:04:08.731Z"
   },
   {
    "duration": 0,
    "start_time": "2023-05-24T12:04:08.732Z"
   },
   {
    "duration": 0,
    "start_time": "2023-05-24T12:04:08.734Z"
   },
   {
    "duration": 0,
    "start_time": "2023-05-24T12:04:08.735Z"
   },
   {
    "duration": 0,
    "start_time": "2023-05-24T12:04:08.736Z"
   },
   {
    "duration": 0,
    "start_time": "2023-05-24T12:04:08.737Z"
   },
   {
    "duration": 0,
    "start_time": "2023-05-24T12:04:08.739Z"
   },
   {
    "duration": 0,
    "start_time": "2023-05-24T12:04:08.740Z"
   },
   {
    "duration": 0,
    "start_time": "2023-05-24T12:04:08.785Z"
   },
   {
    "duration": 0,
    "start_time": "2023-05-24T12:04:08.786Z"
   },
   {
    "duration": 0,
    "start_time": "2023-05-24T12:04:08.788Z"
   },
   {
    "duration": 0,
    "start_time": "2023-05-24T12:04:08.789Z"
   },
   {
    "duration": 0,
    "start_time": "2023-05-24T12:04:08.791Z"
   },
   {
    "duration": 68,
    "start_time": "2023-05-24T12:04:36.250Z"
   },
   {
    "duration": 60,
    "start_time": "2023-05-24T12:06:19.684Z"
   },
   {
    "duration": 54,
    "start_time": "2023-05-24T12:08:13.781Z"
   },
   {
    "duration": 7,
    "start_time": "2023-05-24T12:09:52.964Z"
   },
   {
    "duration": 62,
    "start_time": "2023-05-24T12:10:54.191Z"
   },
   {
    "duration": 1096,
    "start_time": "2023-05-24T12:11:04.668Z"
   },
   {
    "duration": 137,
    "start_time": "2023-05-24T12:11:05.766Z"
   },
   {
    "duration": 11,
    "start_time": "2023-05-24T12:11:05.904Z"
   },
   {
    "duration": 27,
    "start_time": "2023-05-24T12:11:05.916Z"
   },
   {
    "duration": 3,
    "start_time": "2023-05-24T12:11:05.945Z"
   },
   {
    "duration": 14,
    "start_time": "2023-05-24T12:11:05.949Z"
   },
   {
    "duration": 21,
    "start_time": "2023-05-24T12:11:05.964Z"
   },
   {
    "duration": 60,
    "start_time": "2023-05-24T12:11:05.987Z"
   },
   {
    "duration": 65,
    "start_time": "2023-05-24T12:11:06.048Z"
   },
   {
    "duration": 59,
    "start_time": "2023-05-24T12:11:06.115Z"
   },
   {
    "duration": 117,
    "start_time": "2023-05-24T12:11:06.176Z"
   },
   {
    "duration": 10,
    "start_time": "2023-05-24T12:11:06.296Z"
   },
   {
    "duration": 24,
    "start_time": "2023-05-24T12:11:06.308Z"
   },
   {
    "duration": 24,
    "start_time": "2023-05-24T12:11:06.335Z"
   },
   {
    "duration": 4,
    "start_time": "2023-05-24T12:11:06.361Z"
   },
   {
    "duration": 14,
    "start_time": "2023-05-24T12:11:06.366Z"
   },
   {
    "duration": 583,
    "start_time": "2023-05-24T12:11:06.382Z"
   },
   {
    "duration": 23,
    "start_time": "2023-05-24T12:11:06.967Z"
   },
   {
    "duration": 21,
    "start_time": "2023-05-24T12:11:06.992Z"
   },
   {
    "duration": 32,
    "start_time": "2023-05-24T12:11:07.014Z"
   },
   {
    "duration": 40,
    "start_time": "2023-05-24T12:11:07.048Z"
   },
   {
    "duration": 53,
    "start_time": "2023-05-24T12:11:07.090Z"
   },
   {
    "duration": 6,
    "start_time": "2023-05-24T12:11:07.145Z"
   },
   {
    "duration": 8,
    "start_time": "2023-05-24T12:11:07.152Z"
   },
   {
    "duration": 25,
    "start_time": "2023-05-24T12:11:07.161Z"
   },
   {
    "duration": 46,
    "start_time": "2023-05-24T12:11:07.188Z"
   },
   {
    "duration": 22,
    "start_time": "2023-05-24T12:11:07.236Z"
   },
   {
    "duration": 42,
    "start_time": "2023-05-24T12:11:07.259Z"
   },
   {
    "duration": 119,
    "start_time": "2023-05-24T12:11:07.302Z"
   },
   {
    "duration": 170,
    "start_time": "2023-05-24T12:11:07.422Z"
   },
   {
    "duration": 120,
    "start_time": "2023-05-24T12:11:07.593Z"
   },
   {
    "duration": 171,
    "start_time": "2023-05-24T12:11:07.714Z"
   },
   {
    "duration": 108,
    "start_time": "2023-05-24T12:11:07.886Z"
   },
   {
    "duration": 163,
    "start_time": "2023-05-24T12:11:07.995Z"
   },
   {
    "duration": 125,
    "start_time": "2023-05-24T12:11:08.160Z"
   },
   {
    "duration": 178,
    "start_time": "2023-05-24T12:11:08.287Z"
   },
   {
    "duration": 3,
    "start_time": "2023-05-24T12:11:08.466Z"
   },
   {
    "duration": 14,
    "start_time": "2023-05-24T12:11:37.213Z"
   },
   {
    "duration": 14,
    "start_time": "2023-05-24T12:11:43.622Z"
   },
   {
    "duration": 1023,
    "start_time": "2023-05-24T12:11:50.924Z"
   },
   {
    "duration": 134,
    "start_time": "2023-05-24T12:11:51.949Z"
   },
   {
    "duration": 9,
    "start_time": "2023-05-24T12:11:52.084Z"
   },
   {
    "duration": 44,
    "start_time": "2023-05-24T12:11:52.095Z"
   },
   {
    "duration": 3,
    "start_time": "2023-05-24T12:11:52.140Z"
   },
   {
    "duration": 14,
    "start_time": "2023-05-24T12:11:52.144Z"
   },
   {
    "duration": 38,
    "start_time": "2023-05-24T12:11:52.159Z"
   },
   {
    "duration": 64,
    "start_time": "2023-05-24T12:11:52.198Z"
   },
   {
    "duration": 67,
    "start_time": "2023-05-24T12:11:52.263Z"
   },
   {
    "duration": 65,
    "start_time": "2023-05-24T12:11:52.333Z"
   },
   {
    "duration": 122,
    "start_time": "2023-05-24T12:11:52.399Z"
   },
   {
    "duration": 10,
    "start_time": "2023-05-24T12:11:52.522Z"
   },
   {
    "duration": 17,
    "start_time": "2023-05-24T12:11:52.534Z"
   },
   {
    "duration": 42,
    "start_time": "2023-05-24T12:11:52.553Z"
   },
   {
    "duration": 19,
    "start_time": "2023-05-24T12:11:52.597Z"
   },
   {
    "duration": 14,
    "start_time": "2023-05-24T12:11:52.618Z"
   },
   {
    "duration": 636,
    "start_time": "2023-05-24T12:11:52.633Z"
   },
   {
    "duration": 27,
    "start_time": "2023-05-24T12:11:53.271Z"
   },
   {
    "duration": 19,
    "start_time": "2023-05-24T12:11:53.300Z"
   },
   {
    "duration": 33,
    "start_time": "2023-05-24T12:11:53.321Z"
   },
   {
    "duration": 35,
    "start_time": "2023-05-24T12:11:53.356Z"
   },
   {
    "duration": 65,
    "start_time": "2023-05-24T12:11:53.392Z"
   },
   {
    "duration": 7,
    "start_time": "2023-05-24T12:11:53.458Z"
   },
   {
    "duration": 10,
    "start_time": "2023-05-24T12:11:53.466Z"
   },
   {
    "duration": 18,
    "start_time": "2023-05-24T12:11:53.478Z"
   },
   {
    "duration": 46,
    "start_time": "2023-05-24T12:11:53.498Z"
   },
   {
    "duration": 23,
    "start_time": "2023-05-24T12:11:53.546Z"
   },
   {
    "duration": 33,
    "start_time": "2023-05-24T12:11:53.571Z"
   },
   {
    "duration": 115,
    "start_time": "2023-05-24T12:11:53.605Z"
   },
   {
    "duration": 166,
    "start_time": "2023-05-24T12:11:53.722Z"
   },
   {
    "duration": 119,
    "start_time": "2023-05-24T12:11:53.889Z"
   },
   {
    "duration": 167,
    "start_time": "2023-05-24T12:11:54.009Z"
   },
   {
    "duration": 134,
    "start_time": "2023-05-24T12:11:54.177Z"
   },
   {
    "duration": 175,
    "start_time": "2023-05-24T12:11:54.312Z"
   },
   {
    "duration": 130,
    "start_time": "2023-05-24T12:11:54.489Z"
   },
   {
    "duration": 175,
    "start_time": "2023-05-24T12:11:54.620Z"
   },
   {
    "duration": 3,
    "start_time": "2023-05-24T12:11:54.796Z"
   },
   {
    "duration": 3,
    "start_time": "2023-05-24T12:25:57.901Z"
   },
   {
    "duration": 91,
    "start_time": "2023-05-24T12:32:41.885Z"
   },
   {
    "duration": 133,
    "start_time": "2023-05-24T12:33:06.053Z"
   },
   {
    "duration": 6,
    "start_time": "2023-05-24T12:33:27.560Z"
   },
   {
    "duration": 3,
    "start_time": "2023-05-24T12:41:09.571Z"
   },
   {
    "duration": 24,
    "start_time": "2023-05-24T12:42:59.352Z"
   },
   {
    "duration": 36,
    "start_time": "2023-05-24T12:44:18.921Z"
   },
   {
    "duration": 107,
    "start_time": "2023-05-24T13:46:33.759Z"
   },
   {
    "duration": 4,
    "start_time": "2023-05-24T13:46:53.563Z"
   },
   {
    "duration": 19,
    "start_time": "2023-05-24T13:46:56.875Z"
   },
   {
    "duration": 4,
    "start_time": "2023-05-24T13:48:06.770Z"
   },
   {
    "duration": 10,
    "start_time": "2023-05-24T13:48:17.159Z"
   },
   {
    "duration": 3,
    "start_time": "2023-05-24T13:49:24.271Z"
   },
   {
    "duration": 6,
    "start_time": "2023-05-24T13:49:53.397Z"
   },
   {
    "duration": 4,
    "start_time": "2023-05-24T13:55:04.976Z"
   },
   {
    "duration": 6,
    "start_time": "2023-05-24T13:56:58.289Z"
   },
   {
    "duration": 3,
    "start_time": "2023-05-24T13:57:16.930Z"
   },
   {
    "duration": 1333,
    "start_time": "2023-05-25T06:35:54.863Z"
   },
   {
    "duration": 504,
    "start_time": "2023-05-25T06:35:56.198Z"
   },
   {
    "duration": 10,
    "start_time": "2023-05-25T06:35:56.703Z"
   },
   {
    "duration": 23,
    "start_time": "2023-05-25T06:35:56.715Z"
   },
   {
    "duration": 3,
    "start_time": "2023-05-25T06:35:56.740Z"
   },
   {
    "duration": 11,
    "start_time": "2023-05-25T06:35:56.745Z"
   },
   {
    "duration": 25,
    "start_time": "2023-05-25T06:35:56.758Z"
   },
   {
    "duration": 105,
    "start_time": "2023-05-25T06:35:56.785Z"
   },
   {
    "duration": 121,
    "start_time": "2023-05-25T06:35:56.892Z"
   },
   {
    "duration": 81,
    "start_time": "2023-05-25T06:35:57.016Z"
   },
   {
    "duration": 119,
    "start_time": "2023-05-25T06:35:57.099Z"
   },
   {
    "duration": 10,
    "start_time": "2023-05-25T06:35:57.219Z"
   },
   {
    "duration": 16,
    "start_time": "2023-05-25T06:35:57.231Z"
   },
   {
    "duration": 24,
    "start_time": "2023-05-25T06:35:57.249Z"
   },
   {
    "duration": 3,
    "start_time": "2023-05-25T06:35:57.275Z"
   },
   {
    "duration": 18,
    "start_time": "2023-05-25T06:35:57.280Z"
   },
   {
    "duration": 629,
    "start_time": "2023-05-25T06:35:57.300Z"
   },
   {
    "duration": 20,
    "start_time": "2023-05-25T06:35:57.930Z"
   },
   {
    "duration": 18,
    "start_time": "2023-05-25T06:35:57.952Z"
   },
   {
    "duration": 47,
    "start_time": "2023-05-25T06:35:57.972Z"
   },
   {
    "duration": 22,
    "start_time": "2023-05-25T06:35:58.020Z"
   },
   {
    "duration": 63,
    "start_time": "2023-05-25T06:35:58.043Z"
   },
   {
    "duration": 7,
    "start_time": "2023-05-25T06:35:58.108Z"
   },
   {
    "duration": 15,
    "start_time": "2023-05-25T06:35:58.117Z"
   },
   {
    "duration": 24,
    "start_time": "2023-05-25T06:35:58.134Z"
   },
   {
    "duration": 9,
    "start_time": "2023-05-25T06:35:58.160Z"
   },
   {
    "duration": 53,
    "start_time": "2023-05-25T06:35:58.170Z"
   },
   {
    "duration": 3,
    "start_time": "2023-05-25T06:35:58.226Z"
   },
   {
    "duration": 90,
    "start_time": "2023-05-25T06:35:58.230Z"
   },
   {
    "duration": 0,
    "start_time": "2023-05-25T06:35:58.322Z"
   },
   {
    "duration": 0,
    "start_time": "2023-05-25T06:35:58.323Z"
   },
   {
    "duration": 0,
    "start_time": "2023-05-25T06:35:58.324Z"
   },
   {
    "duration": 0,
    "start_time": "2023-05-25T06:35:58.326Z"
   },
   {
    "duration": 0,
    "start_time": "2023-05-25T06:35:58.327Z"
   },
   {
    "duration": 0,
    "start_time": "2023-05-25T06:35:58.328Z"
   },
   {
    "duration": 0,
    "start_time": "2023-05-25T06:35:58.329Z"
   },
   {
    "duration": 0,
    "start_time": "2023-05-25T06:35:58.331Z"
   },
   {
    "duration": 0,
    "start_time": "2023-05-25T06:35:58.332Z"
   },
   {
    "duration": 0,
    "start_time": "2023-05-25T06:35:58.333Z"
   },
   {
    "duration": 32,
    "start_time": "2023-05-25T06:37:49.681Z"
   },
   {
    "duration": 3,
    "start_time": "2023-05-25T06:37:56.614Z"
   },
   {
    "duration": 4,
    "start_time": "2023-05-25T06:38:02.448Z"
   },
   {
    "duration": 34,
    "start_time": "2023-05-25T06:42:43.990Z"
   },
   {
    "duration": 71,
    "start_time": "2023-05-25T06:57:57.912Z"
   },
   {
    "duration": 81,
    "start_time": "2023-05-25T07:01:55.850Z"
   },
   {
    "duration": 83,
    "start_time": "2023-05-25T07:03:36.373Z"
   },
   {
    "duration": 82,
    "start_time": "2023-05-25T07:03:46.313Z"
   },
   {
    "duration": 137,
    "start_time": "2023-05-25T07:07:38.369Z"
   },
   {
    "duration": 4,
    "start_time": "2023-05-25T07:15:37.326Z"
   },
   {
    "duration": 36,
    "start_time": "2023-05-25T07:15:55.621Z"
   },
   {
    "duration": 6,
    "start_time": "2023-05-25T07:30:02.716Z"
   },
   {
    "duration": 38,
    "start_time": "2023-05-25T07:30:41.650Z"
   },
   {
    "duration": 42,
    "start_time": "2023-05-25T07:30:55.776Z"
   },
   {
    "duration": 47,
    "start_time": "2023-05-25T07:49:07.440Z"
   },
   {
    "duration": 42,
    "start_time": "2023-05-25T07:54:18.869Z"
   },
   {
    "duration": 34,
    "start_time": "2023-05-25T07:55:04.162Z"
   },
   {
    "duration": 42,
    "start_time": "2023-05-25T08:00:48.978Z"
   },
   {
    "duration": 44,
    "start_time": "2023-05-25T08:02:24.590Z"
   },
   {
    "duration": 42,
    "start_time": "2023-05-25T08:03:23.052Z"
   },
   {
    "duration": 43,
    "start_time": "2023-05-25T08:04:05.463Z"
   },
   {
    "duration": 42,
    "start_time": "2023-05-25T08:18:51.459Z"
   },
   {
    "duration": 38,
    "start_time": "2023-05-25T08:20:29.251Z"
   },
   {
    "duration": 37,
    "start_time": "2023-05-25T08:20:38.209Z"
   },
   {
    "duration": 40,
    "start_time": "2023-05-25T08:20:54.700Z"
   },
   {
    "duration": 33,
    "start_time": "2023-05-25T08:21:09.566Z"
   },
   {
    "duration": 1064,
    "start_time": "2023-05-25T08:26:29.457Z"
   },
   {
    "duration": 169,
    "start_time": "2023-05-25T08:26:30.523Z"
   },
   {
    "duration": 12,
    "start_time": "2023-05-25T08:26:30.693Z"
   },
   {
    "duration": 51,
    "start_time": "2023-05-25T08:26:30.706Z"
   },
   {
    "duration": 67,
    "start_time": "2023-05-25T08:26:30.758Z"
   },
   {
    "duration": 55,
    "start_time": "2023-05-25T08:26:30.826Z"
   },
   {
    "duration": 88,
    "start_time": "2023-05-25T08:26:30.883Z"
   },
   {
    "duration": 130,
    "start_time": "2023-05-25T08:26:30.973Z"
   },
   {
    "duration": 75,
    "start_time": "2023-05-25T08:26:31.105Z"
   },
   {
    "duration": 64,
    "start_time": "2023-05-25T08:26:31.183Z"
   },
   {
    "duration": 117,
    "start_time": "2023-05-25T08:26:31.248Z"
   },
   {
    "duration": 9,
    "start_time": "2023-05-25T08:26:31.367Z"
   },
   {
    "duration": 39,
    "start_time": "2023-05-25T08:26:31.378Z"
   },
   {
    "duration": 36,
    "start_time": "2023-05-25T08:26:31.419Z"
   },
   {
    "duration": 23,
    "start_time": "2023-05-25T08:26:31.457Z"
   },
   {
    "duration": 45,
    "start_time": "2023-05-25T08:26:31.482Z"
   },
   {
    "duration": 709,
    "start_time": "2023-05-25T08:26:31.529Z"
   },
   {
    "duration": 19,
    "start_time": "2023-05-25T08:26:32.239Z"
   },
   {
    "duration": 19,
    "start_time": "2023-05-25T08:26:32.260Z"
   },
   {
    "duration": 43,
    "start_time": "2023-05-25T08:26:32.280Z"
   },
   {
    "duration": 21,
    "start_time": "2023-05-25T08:26:32.324Z"
   },
   {
    "duration": 67,
    "start_time": "2023-05-25T08:26:32.347Z"
   },
   {
    "duration": 8,
    "start_time": "2023-05-25T08:26:32.416Z"
   },
   {
    "duration": 11,
    "start_time": "2023-05-25T08:26:32.426Z"
   },
   {
    "duration": 11,
    "start_time": "2023-05-25T08:26:32.438Z"
   },
   {
    "duration": 16,
    "start_time": "2023-05-25T08:26:32.451Z"
   },
   {
    "duration": 56,
    "start_time": "2023-05-25T08:26:32.469Z"
   },
   {
    "duration": 33,
    "start_time": "2023-05-25T08:26:32.529Z"
   },
   {
    "duration": 3,
    "start_time": "2023-05-25T08:26:32.564Z"
   },
   {
    "duration": 9,
    "start_time": "2023-05-25T08:26:32.568Z"
   },
   {
    "duration": 23,
    "start_time": "2023-05-25T08:26:32.578Z"
   },
   {
    "duration": 11,
    "start_time": "2023-05-25T08:26:32.602Z"
   },
   {
    "duration": 54,
    "start_time": "2023-05-25T08:26:32.614Z"
   },
   {
    "duration": 38,
    "start_time": "2023-05-25T08:26:32.670Z"
   },
   {
    "duration": 30,
    "start_time": "2023-05-25T08:26:32.710Z"
   },
   {
    "duration": 55,
    "start_time": "2023-05-25T08:26:32.742Z"
   },
   {
    "duration": 35,
    "start_time": "2023-05-25T08:26:32.799Z"
   },
   {
    "duration": 31,
    "start_time": "2023-05-25T08:26:32.836Z"
   },
   {
    "duration": 52,
    "start_time": "2023-05-25T08:26:32.869Z"
   },
   {
    "duration": 38,
    "start_time": "2023-05-25T08:26:32.923Z"
   },
   {
    "duration": 59,
    "start_time": "2023-05-25T08:26:32.963Z"
   },
   {
    "duration": 29,
    "start_time": "2023-05-25T08:26:33.024Z"
   },
   {
    "duration": 28,
    "start_time": "2023-05-25T08:26:33.055Z"
   },
   {
    "duration": 86,
    "start_time": "2023-05-25T08:26:33.097Z"
   },
   {
    "duration": 0,
    "start_time": "2023-05-25T08:26:33.185Z"
   },
   {
    "duration": 0,
    "start_time": "2023-05-25T08:26:33.186Z"
   },
   {
    "duration": 0,
    "start_time": "2023-05-25T08:26:33.197Z"
   },
   {
    "duration": 6,
    "start_time": "2023-05-25T08:49:59.968Z"
   },
   {
    "duration": 6,
    "start_time": "2023-05-25T08:51:58.981Z"
   },
   {
    "duration": 8,
    "start_time": "2023-05-25T08:53:38.809Z"
   },
   {
    "duration": 6,
    "start_time": "2023-05-25T08:54:07.879Z"
   },
   {
    "duration": 6,
    "start_time": "2023-05-25T08:54:18.473Z"
   },
   {
    "duration": 81,
    "start_time": "2023-05-25T08:54:30.347Z"
   },
   {
    "duration": 7,
    "start_time": "2023-05-25T08:57:03.451Z"
   },
   {
    "duration": 80,
    "start_time": "2023-05-25T08:57:05.946Z"
   },
   {
    "duration": 6,
    "start_time": "2023-05-25T09:00:13.793Z"
   },
   {
    "duration": 54,
    "start_time": "2023-05-25T09:00:16.137Z"
   },
   {
    "duration": 10,
    "start_time": "2023-05-25T09:01:21.539Z"
   },
   {
    "duration": 102,
    "start_time": "2023-05-25T09:01:23.222Z"
   },
   {
    "duration": 6,
    "start_time": "2023-05-25T09:02:02.898Z"
   },
   {
    "duration": 116,
    "start_time": "2023-05-25T09:02:03.727Z"
   },
   {
    "duration": 6,
    "start_time": "2023-05-25T09:02:47.720Z"
   },
   {
    "duration": 94,
    "start_time": "2023-05-25T09:02:48.557Z"
   },
   {
    "duration": 93,
    "start_time": "2023-05-25T09:04:46.098Z"
   },
   {
    "duration": 91,
    "start_time": "2023-05-25T09:05:38.203Z"
   },
   {
    "duration": 87,
    "start_time": "2023-05-25T09:06:20.803Z"
   },
   {
    "duration": 3,
    "start_time": "2023-05-25T09:07:03.685Z"
   },
   {
    "duration": 3,
    "start_time": "2023-05-25T09:07:32.734Z"
   },
   {
    "duration": 3,
    "start_time": "2023-05-25T09:07:37.724Z"
   },
   {
    "duration": 1083,
    "start_time": "2023-05-25T09:11:43.907Z"
   },
   {
    "duration": 161,
    "start_time": "2023-05-25T09:11:44.992Z"
   },
   {
    "duration": 10,
    "start_time": "2023-05-25T09:11:45.154Z"
   },
   {
    "duration": 29,
    "start_time": "2023-05-25T09:11:45.166Z"
   },
   {
    "duration": 4,
    "start_time": "2023-05-25T09:11:45.198Z"
   },
   {
    "duration": 14,
    "start_time": "2023-05-25T09:11:45.203Z"
   },
   {
    "duration": 21,
    "start_time": "2023-05-25T09:11:45.219Z"
   },
   {
    "duration": 79,
    "start_time": "2023-05-25T09:11:45.242Z"
   },
   {
    "duration": 89,
    "start_time": "2023-05-25T09:11:45.323Z"
   },
   {
    "duration": 83,
    "start_time": "2023-05-25T09:11:45.415Z"
   },
   {
    "duration": 109,
    "start_time": "2023-05-25T09:11:45.500Z"
   },
   {
    "duration": 9,
    "start_time": "2023-05-25T09:11:45.610Z"
   },
   {
    "duration": 17,
    "start_time": "2023-05-25T09:11:45.620Z"
   },
   {
    "duration": 13,
    "start_time": "2023-05-25T09:11:45.639Z"
   },
   {
    "duration": 3,
    "start_time": "2023-05-25T09:11:45.654Z"
   },
   {
    "duration": 11,
    "start_time": "2023-05-25T09:11:45.658Z"
   },
   {
    "duration": 659,
    "start_time": "2023-05-25T09:11:45.670Z"
   },
   {
    "duration": 19,
    "start_time": "2023-05-25T09:11:46.331Z"
   },
   {
    "duration": 20,
    "start_time": "2023-05-25T09:11:46.351Z"
   },
   {
    "duration": 52,
    "start_time": "2023-05-25T09:11:46.372Z"
   },
   {
    "duration": 22,
    "start_time": "2023-05-25T09:11:46.426Z"
   },
   {
    "duration": 70,
    "start_time": "2023-05-25T09:11:46.449Z"
   },
   {
    "duration": 7,
    "start_time": "2023-05-25T09:11:46.521Z"
   },
   {
    "duration": 11,
    "start_time": "2023-05-25T09:11:46.530Z"
   },
   {
    "duration": 20,
    "start_time": "2023-05-25T09:11:46.543Z"
   },
   {
    "duration": 10,
    "start_time": "2023-05-25T09:11:46.565Z"
   },
   {
    "duration": 76,
    "start_time": "2023-05-25T09:11:46.577Z"
   },
   {
    "duration": 49,
    "start_time": "2023-05-25T09:11:46.655Z"
   },
   {
    "duration": 4,
    "start_time": "2023-05-25T09:11:46.707Z"
   },
   {
    "duration": 12,
    "start_time": "2023-05-25T09:11:46.713Z"
   },
   {
    "duration": 17,
    "start_time": "2023-05-25T09:11:46.727Z"
   },
   {
    "duration": 63,
    "start_time": "2023-05-25T09:11:46.746Z"
   },
   {
    "duration": 46,
    "start_time": "2023-05-25T09:11:46.813Z"
   },
   {
    "duration": 49,
    "start_time": "2023-05-25T09:11:46.862Z"
   },
   {
    "duration": 47,
    "start_time": "2023-05-25T09:11:46.913Z"
   },
   {
    "duration": 52,
    "start_time": "2023-05-25T09:11:46.962Z"
   },
   {
    "duration": 38,
    "start_time": "2023-05-25T09:11:47.015Z"
   },
   {
    "duration": 50,
    "start_time": "2023-05-25T09:11:47.055Z"
   },
   {
    "duration": 41,
    "start_time": "2023-05-25T09:11:47.107Z"
   },
   {
    "duration": 48,
    "start_time": "2023-05-25T09:11:47.150Z"
   },
   {
    "duration": 38,
    "start_time": "2023-05-25T09:11:47.202Z"
   },
   {
    "duration": 31,
    "start_time": "2023-05-25T09:11:47.241Z"
   },
   {
    "duration": 6,
    "start_time": "2023-05-25T09:11:47.273Z"
   },
   {
    "duration": 103,
    "start_time": "2023-05-25T09:11:47.296Z"
   },
   {
    "duration": 96,
    "start_time": "2023-05-25T09:11:47.401Z"
   },
   {
    "duration": 88,
    "start_time": "2023-05-25T09:11:47.498Z"
   },
   {
    "duration": 81,
    "start_time": "2023-05-25T09:11:47.596Z"
   },
   {
    "duration": 3,
    "start_time": "2023-05-25T09:11:47.679Z"
   },
   {
    "duration": 999,
    "start_time": "2023-05-25T21:13:06.844Z"
   },
   {
    "duration": 146,
    "start_time": "2023-05-25T21:13:07.844Z"
   },
   {
    "duration": 9,
    "start_time": "2023-05-25T21:13:07.991Z"
   },
   {
    "duration": 24,
    "start_time": "2023-05-25T21:13:08.002Z"
   },
   {
    "duration": 3,
    "start_time": "2023-05-25T21:13:08.028Z"
   },
   {
    "duration": 9,
    "start_time": "2023-05-25T21:13:08.032Z"
   },
   {
    "duration": 18,
    "start_time": "2023-05-25T21:13:08.042Z"
   },
   {
    "duration": 94,
    "start_time": "2023-05-25T21:13:08.061Z"
   },
   {
    "duration": 180,
    "start_time": "2023-05-25T21:13:08.157Z"
   },
   {
    "duration": 105,
    "start_time": "2023-05-25T21:13:08.339Z"
   },
   {
    "duration": 90,
    "start_time": "2023-05-25T21:13:08.445Z"
   },
   {
    "duration": 7,
    "start_time": "2023-05-25T21:13:08.537Z"
   },
   {
    "duration": 11,
    "start_time": "2023-05-25T21:13:08.545Z"
   },
   {
    "duration": 8,
    "start_time": "2023-05-25T21:13:08.559Z"
   },
   {
    "duration": 3,
    "start_time": "2023-05-25T21:13:08.568Z"
   },
   {
    "duration": 5,
    "start_time": "2023-05-25T21:13:08.572Z"
   },
   {
    "duration": 563,
    "start_time": "2023-05-25T21:13:08.578Z"
   },
   {
    "duration": 16,
    "start_time": "2023-05-25T21:13:09.142Z"
   },
   {
    "duration": 16,
    "start_time": "2023-05-25T21:13:09.159Z"
   },
   {
    "duration": 44,
    "start_time": "2023-05-25T21:13:09.177Z"
   },
   {
    "duration": 17,
    "start_time": "2023-05-25T21:13:09.222Z"
   },
   {
    "duration": 51,
    "start_time": "2023-05-25T21:13:09.240Z"
   },
   {
    "duration": 6,
    "start_time": "2023-05-25T21:13:09.292Z"
   },
   {
    "duration": 20,
    "start_time": "2023-05-25T21:13:09.299Z"
   },
   {
    "duration": 7,
    "start_time": "2023-05-25T21:13:09.320Z"
   },
   {
    "duration": 4,
    "start_time": "2023-05-25T21:13:09.329Z"
   },
   {
    "duration": 50,
    "start_time": "2023-05-25T21:13:09.334Z"
   },
   {
    "duration": 45,
    "start_time": "2023-05-25T21:13:09.386Z"
   },
   {
    "duration": 2,
    "start_time": "2023-05-25T21:13:09.432Z"
   },
   {
    "duration": 8,
    "start_time": "2023-05-25T21:13:09.435Z"
   },
   {
    "duration": 5,
    "start_time": "2023-05-25T21:13:09.444Z"
   },
   {
    "duration": 37,
    "start_time": "2023-05-25T21:13:09.450Z"
   },
   {
    "duration": 42,
    "start_time": "2023-05-25T21:13:09.488Z"
   },
   {
    "duration": 28,
    "start_time": "2023-05-25T21:13:09.531Z"
   },
   {
    "duration": 33,
    "start_time": "2023-05-25T21:13:09.561Z"
   },
   {
    "duration": 45,
    "start_time": "2023-05-25T21:13:09.595Z"
   },
   {
    "duration": 29,
    "start_time": "2023-05-25T21:13:09.641Z"
   },
   {
    "duration": 44,
    "start_time": "2023-05-25T21:13:09.671Z"
   },
   {
    "duration": 34,
    "start_time": "2023-05-25T21:13:09.717Z"
   },
   {
    "duration": 31,
    "start_time": "2023-05-25T21:13:09.753Z"
   },
   {
    "duration": 48,
    "start_time": "2023-05-25T21:13:09.787Z"
   },
   {
    "duration": 31,
    "start_time": "2023-05-25T21:13:09.836Z"
   },
   {
    "duration": 5,
    "start_time": "2023-05-25T21:13:09.869Z"
   },
   {
    "duration": 96,
    "start_time": "2023-05-25T21:13:09.875Z"
   },
   {
    "duration": 78,
    "start_time": "2023-05-25T21:13:09.973Z"
   },
   {
    "duration": 73,
    "start_time": "2023-05-25T21:13:10.053Z"
   },
   {
    "duration": 71,
    "start_time": "2023-05-25T21:13:10.127Z"
   },
   {
    "duration": 4,
    "start_time": "2023-05-25T21:13:10.199Z"
   },
   {
    "duration": 4,
    "start_time": "2023-05-25T21:18:48.598Z"
   }
  ],
  "kernelspec": {
   "display_name": "Python 3 (ipykernel)",
   "language": "python",
   "name": "python3"
  },
  "language_info": {
   "codemirror_mode": {
    "name": "ipython",
    "version": 3
   },
   "file_extension": ".py",
   "mimetype": "text/x-python",
   "name": "python",
   "nbconvert_exporter": "python",
   "pygments_lexer": "ipython3",
   "version": "3.10.9"
  },
  "toc": {
   "base_numbering": 1,
   "nav_menu": {},
   "number_sections": false,
   "sideBar": true,
   "skip_h1_title": false,
   "title_cell": "Table of Contents",
   "title_sidebar": "Contents",
   "toc_cell": false,
   "toc_position": {
    "height": "calc(100% - 180px)",
    "left": "10px",
    "top": "150px",
    "width": "247.429px"
   },
   "toc_section_display": true,
   "toc_window_display": true
  }
 },
 "nbformat": 4,
 "nbformat_minor": 2
}
