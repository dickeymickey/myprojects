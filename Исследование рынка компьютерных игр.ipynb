{
 "cells": [
  {
   "cell_type": "markdown",
   "metadata": {},
   "source": [
    "# Исследование рынка компьютерных игр\n",
    "**Цели исследования:**\n",
    "* Изучение статистики продаж компьютерных игр \n",
    "* Выявление закономерностей, определяющих успешность игр\n",
    "* Исследование популярности жанров\n",
    "* Формирование портрета пользователя каждого из регионов\n",
    "\n",
    "**Ход исследования:**\n",
    "\n",
    "Данные об играх получим из файла `games.csv`. Работа пройдёт в три этапа:\n",
    "* Предобработка данных\n",
    "* Исследовательский анализ данных\n",
    "* Проверка статистических гипотез"
   ]
  },
  {
   "cell_type": "markdown",
   "metadata": {},
   "source": [
    "### Просмотр и открытие файла с данными, изучение общей информации."
   ]
  },
  {
   "cell_type": "code",
   "execution_count": 1,
   "metadata": {},
   "outputs": [],
   "source": [
    "import pandas as pd\n",
    "import matplotlib\n",
    "import matplotlib.pyplot as plt\n",
    "pd.set_option('display.max_columns', None)\n",
    "import numpy as np\n",
    "from scipy import stats as st\n",
    "import seaborn as sns                                           #импортируем необходимые библиотеки\n",
    "pd.options.display.float_format = '{:.2f}'.format               #для удобства численные значения приведем к формату с двумя знаками после запятой\n",
    "pd.set_option('chained_assignment', None)"
   ]
  },
  {
   "cell_type": "code",
   "execution_count": 2,
   "metadata": {},
   "outputs": [],
   "source": [
    "data = pd.read_csv('/datasets/games.csv')"
   ]
  },
  {
   "cell_type": "code",
   "execution_count": 3,
   "metadata": {},
   "outputs": [
    {
     "data": {
      "text/html": [
       "<div>\n",
       "<style scoped>\n",
       "    .dataframe tbody tr th:only-of-type {\n",
       "        vertical-align: middle;\n",
       "    }\n",
       "\n",
       "    .dataframe tbody tr th {\n",
       "        vertical-align: top;\n",
       "    }\n",
       "\n",
       "    .dataframe thead th {\n",
       "        text-align: right;\n",
       "    }\n",
       "</style>\n",
       "<table border=\"1\" class=\"dataframe\">\n",
       "  <thead>\n",
       "    <tr style=\"text-align: right;\">\n",
       "      <th></th>\n",
       "      <th>Name</th>\n",
       "      <th>Platform</th>\n",
       "      <th>Year_of_Release</th>\n",
       "      <th>Genre</th>\n",
       "      <th>NA_sales</th>\n",
       "      <th>EU_sales</th>\n",
       "      <th>JP_sales</th>\n",
       "      <th>Other_sales</th>\n",
       "      <th>Critic_Score</th>\n",
       "      <th>User_Score</th>\n",
       "      <th>Rating</th>\n",
       "    </tr>\n",
       "  </thead>\n",
       "  <tbody>\n",
       "    <tr>\n",
       "      <th>0</th>\n",
       "      <td>Wii Sports</td>\n",
       "      <td>Wii</td>\n",
       "      <td>2006.00</td>\n",
       "      <td>Sports</td>\n",
       "      <td>41.36</td>\n",
       "      <td>28.96</td>\n",
       "      <td>3.77</td>\n",
       "      <td>8.45</td>\n",
       "      <td>76.00</td>\n",
       "      <td>8</td>\n",
       "      <td>E</td>\n",
       "    </tr>\n",
       "    <tr>\n",
       "      <th>1</th>\n",
       "      <td>Super Mario Bros.</td>\n",
       "      <td>NES</td>\n",
       "      <td>1985.00</td>\n",
       "      <td>Platform</td>\n",
       "      <td>29.08</td>\n",
       "      <td>3.58</td>\n",
       "      <td>6.81</td>\n",
       "      <td>0.77</td>\n",
       "      <td>NaN</td>\n",
       "      <td>NaN</td>\n",
       "      <td>NaN</td>\n",
       "    </tr>\n",
       "    <tr>\n",
       "      <th>2</th>\n",
       "      <td>Mario Kart Wii</td>\n",
       "      <td>Wii</td>\n",
       "      <td>2008.00</td>\n",
       "      <td>Racing</td>\n",
       "      <td>15.68</td>\n",
       "      <td>12.76</td>\n",
       "      <td>3.79</td>\n",
       "      <td>3.29</td>\n",
       "      <td>82.00</td>\n",
       "      <td>8.3</td>\n",
       "      <td>E</td>\n",
       "    </tr>\n",
       "    <tr>\n",
       "      <th>3</th>\n",
       "      <td>Wii Sports Resort</td>\n",
       "      <td>Wii</td>\n",
       "      <td>2009.00</td>\n",
       "      <td>Sports</td>\n",
       "      <td>15.61</td>\n",
       "      <td>10.93</td>\n",
       "      <td>3.28</td>\n",
       "      <td>2.95</td>\n",
       "      <td>80.00</td>\n",
       "      <td>8</td>\n",
       "      <td>E</td>\n",
       "    </tr>\n",
       "    <tr>\n",
       "      <th>4</th>\n",
       "      <td>Pokemon Red/Pokemon Blue</td>\n",
       "      <td>GB</td>\n",
       "      <td>1996.00</td>\n",
       "      <td>Role-Playing</td>\n",
       "      <td>11.27</td>\n",
       "      <td>8.89</td>\n",
       "      <td>10.22</td>\n",
       "      <td>1.00</td>\n",
       "      <td>NaN</td>\n",
       "      <td>NaN</td>\n",
       "      <td>NaN</td>\n",
       "    </tr>\n",
       "    <tr>\n",
       "      <th>5</th>\n",
       "      <td>Tetris</td>\n",
       "      <td>GB</td>\n",
       "      <td>1989.00</td>\n",
       "      <td>Puzzle</td>\n",
       "      <td>23.20</td>\n",
       "      <td>2.26</td>\n",
       "      <td>4.22</td>\n",
       "      <td>0.58</td>\n",
       "      <td>NaN</td>\n",
       "      <td>NaN</td>\n",
       "      <td>NaN</td>\n",
       "    </tr>\n",
       "    <tr>\n",
       "      <th>6</th>\n",
       "      <td>New Super Mario Bros.</td>\n",
       "      <td>DS</td>\n",
       "      <td>2006.00</td>\n",
       "      <td>Platform</td>\n",
       "      <td>11.28</td>\n",
       "      <td>9.14</td>\n",
       "      <td>6.50</td>\n",
       "      <td>2.88</td>\n",
       "      <td>89.00</td>\n",
       "      <td>8.5</td>\n",
       "      <td>E</td>\n",
       "    </tr>\n",
       "    <tr>\n",
       "      <th>7</th>\n",
       "      <td>Wii Play</td>\n",
       "      <td>Wii</td>\n",
       "      <td>2006.00</td>\n",
       "      <td>Misc</td>\n",
       "      <td>13.96</td>\n",
       "      <td>9.18</td>\n",
       "      <td>2.93</td>\n",
       "      <td>2.84</td>\n",
       "      <td>58.00</td>\n",
       "      <td>6.6</td>\n",
       "      <td>E</td>\n",
       "    </tr>\n",
       "    <tr>\n",
       "      <th>8</th>\n",
       "      <td>New Super Mario Bros. Wii</td>\n",
       "      <td>Wii</td>\n",
       "      <td>2009.00</td>\n",
       "      <td>Platform</td>\n",
       "      <td>14.44</td>\n",
       "      <td>6.94</td>\n",
       "      <td>4.70</td>\n",
       "      <td>2.24</td>\n",
       "      <td>87.00</td>\n",
       "      <td>8.4</td>\n",
       "      <td>E</td>\n",
       "    </tr>\n",
       "    <tr>\n",
       "      <th>9</th>\n",
       "      <td>Duck Hunt</td>\n",
       "      <td>NES</td>\n",
       "      <td>1984.00</td>\n",
       "      <td>Shooter</td>\n",
       "      <td>26.93</td>\n",
       "      <td>0.63</td>\n",
       "      <td>0.28</td>\n",
       "      <td>0.47</td>\n",
       "      <td>NaN</td>\n",
       "      <td>NaN</td>\n",
       "      <td>NaN</td>\n",
       "    </tr>\n",
       "  </tbody>\n",
       "</table>\n",
       "</div>"
      ],
      "text/plain": [
       "                        Name Platform  Year_of_Release         Genre  \\\n",
       "0                 Wii Sports      Wii          2006.00        Sports   \n",
       "1          Super Mario Bros.      NES          1985.00      Platform   \n",
       "2             Mario Kart Wii      Wii          2008.00        Racing   \n",
       "3          Wii Sports Resort      Wii          2009.00        Sports   \n",
       "4   Pokemon Red/Pokemon Blue       GB          1996.00  Role-Playing   \n",
       "5                     Tetris       GB          1989.00        Puzzle   \n",
       "6      New Super Mario Bros.       DS          2006.00      Platform   \n",
       "7                   Wii Play      Wii          2006.00          Misc   \n",
       "8  New Super Mario Bros. Wii      Wii          2009.00      Platform   \n",
       "9                  Duck Hunt      NES          1984.00       Shooter   \n",
       "\n",
       "   NA_sales  EU_sales  JP_sales  Other_sales  Critic_Score User_Score Rating  \n",
       "0     41.36     28.96      3.77         8.45         76.00          8      E  \n",
       "1     29.08      3.58      6.81         0.77           NaN        NaN    NaN  \n",
       "2     15.68     12.76      3.79         3.29         82.00        8.3      E  \n",
       "3     15.61     10.93      3.28         2.95         80.00          8      E  \n",
       "4     11.27      8.89     10.22         1.00           NaN        NaN    NaN  \n",
       "5     23.20      2.26      4.22         0.58           NaN        NaN    NaN  \n",
       "6     11.28      9.14      6.50         2.88         89.00        8.5      E  \n",
       "7     13.96      9.18      2.93         2.84         58.00        6.6      E  \n",
       "8     14.44      6.94      4.70         2.24         87.00        8.4      E  \n",
       "9     26.93      0.63      0.28         0.47           NaN        NaN    NaN  "
      ]
     },
     "execution_count": 3,
     "metadata": {},
     "output_type": "execute_result"
    }
   ],
   "source": [
    "data.head(10) #выведем первые 10 строк таблицы на экран"
   ]
  },
  {
   "cell_type": "code",
   "execution_count": 4,
   "metadata": {},
   "outputs": [
    {
     "name": "stdout",
     "output_type": "stream",
     "text": [
      "<class 'pandas.core.frame.DataFrame'>\n",
      "RangeIndex: 16715 entries, 0 to 16714\n",
      "Data columns (total 11 columns):\n",
      " #   Column           Non-Null Count  Dtype  \n",
      "---  ------           --------------  -----  \n",
      " 0   Name             16713 non-null  object \n",
      " 1   Platform         16715 non-null  object \n",
      " 2   Year_of_Release  16446 non-null  float64\n",
      " 3   Genre            16713 non-null  object \n",
      " 4   NA_sales         16715 non-null  float64\n",
      " 5   EU_sales         16715 non-null  float64\n",
      " 6   JP_sales         16715 non-null  float64\n",
      " 7   Other_sales      16715 non-null  float64\n",
      " 8   Critic_Score     8137 non-null   float64\n",
      " 9   User_Score       10014 non-null  object \n",
      " 10  Rating           9949 non-null   object \n",
      "dtypes: float64(6), object(5)\n",
      "memory usage: 1.4+ MB\n"
     ]
    }
   ],
   "source": [
    "data.info() #выводим на экран общую информацию о датасете, а именно кол-во столбцов, их названия и типы содержащихся данных"
   ]
  },
  {
   "cell_type": "code",
   "execution_count": 5,
   "metadata": {},
   "outputs": [
    {
     "data": {
      "text/plain": [
       "Name                  2\n",
       "Platform              0\n",
       "Year_of_Release     269\n",
       "Genre                 2\n",
       "NA_sales              0\n",
       "EU_sales              0\n",
       "JP_sales              0\n",
       "Other_sales           0\n",
       "Critic_Score       8578\n",
       "User_Score         6701\n",
       "Rating             6766\n",
       "dtype: int64"
      ]
     },
     "execution_count": 5,
     "metadata": {},
     "output_type": "execute_result"
    }
   ],
   "source": [
    "data.isna().sum() #найдём пропуски в столбцах датасета"
   ]
  },
  {
   "cell_type": "markdown",
   "metadata": {},
   "source": [
    "Найдём долю пропусков по каждому из столбцов:"
   ]
  },
  {
   "cell_type": "code",
   "execution_count": 6,
   "metadata": {},
   "outputs": [
    {
     "data": {
      "text/html": [
       "<style  type=\"text/css\" >\n",
       "#T_c17f1_row0_col0,#T_c17f1_row1_col0,#T_c17f1_row3_col0,#T_c17f1_row4_col0,#T_c17f1_row5_col0,#T_c17f1_row6_col0,#T_c17f1_row7_col0{\n",
       "            background-color:  #3b4cc0;\n",
       "            color:  #f1f1f1;\n",
       "        }#T_c17f1_row2_col0{\n",
       "            background-color:  #4358cb;\n",
       "            color:  #f1f1f1;\n",
       "        }#T_c17f1_row8_col0{\n",
       "            background-color:  #b40426;\n",
       "            color:  #f1f1f1;\n",
       "        }#T_c17f1_row9_col0{\n",
       "            background-color:  #f08b6e;\n",
       "            color:  #000000;\n",
       "        }#T_c17f1_row10_col0{\n",
       "            background-color:  #ef886b;\n",
       "            color:  #000000;\n",
       "        }</style><table id=\"T_c17f1_\" ><thead>    <tr>        <th class=\"blank level0\" ></th>        <th class=\"col_heading level0 col0\" >0</th>    </tr></thead><tbody>\n",
       "                <tr>\n",
       "                        <th id=\"T_c17f1_level0_row0\" class=\"row_heading level0 row0\" >Name</th>\n",
       "                        <td id=\"T_c17f1_row0_col0\" class=\"data row0 col0\" >0.000000</td>\n",
       "            </tr>\n",
       "            <tr>\n",
       "                        <th id=\"T_c17f1_level0_row1\" class=\"row_heading level0 row1\" >Platform</th>\n",
       "                        <td id=\"T_c17f1_row1_col0\" class=\"data row1 col0\" >0.000000</td>\n",
       "            </tr>\n",
       "            <tr>\n",
       "                        <th id=\"T_c17f1_level0_row2\" class=\"row_heading level0 row2\" >Year_of_Release</th>\n",
       "                        <td id=\"T_c17f1_row2_col0\" class=\"data row2 col0\" >1.600000</td>\n",
       "            </tr>\n",
       "            <tr>\n",
       "                        <th id=\"T_c17f1_level0_row3\" class=\"row_heading level0 row3\" >Genre</th>\n",
       "                        <td id=\"T_c17f1_row3_col0\" class=\"data row3 col0\" >0.000000</td>\n",
       "            </tr>\n",
       "            <tr>\n",
       "                        <th id=\"T_c17f1_level0_row4\" class=\"row_heading level0 row4\" >NA_sales</th>\n",
       "                        <td id=\"T_c17f1_row4_col0\" class=\"data row4 col0\" >0.000000</td>\n",
       "            </tr>\n",
       "            <tr>\n",
       "                        <th id=\"T_c17f1_level0_row5\" class=\"row_heading level0 row5\" >EU_sales</th>\n",
       "                        <td id=\"T_c17f1_row5_col0\" class=\"data row5 col0\" >0.000000</td>\n",
       "            </tr>\n",
       "            <tr>\n",
       "                        <th id=\"T_c17f1_level0_row6\" class=\"row_heading level0 row6\" >JP_sales</th>\n",
       "                        <td id=\"T_c17f1_row6_col0\" class=\"data row6 col0\" >0.000000</td>\n",
       "            </tr>\n",
       "            <tr>\n",
       "                        <th id=\"T_c17f1_level0_row7\" class=\"row_heading level0 row7\" >Other_sales</th>\n",
       "                        <td id=\"T_c17f1_row7_col0\" class=\"data row7 col0\" >0.000000</td>\n",
       "            </tr>\n",
       "            <tr>\n",
       "                        <th id=\"T_c17f1_level0_row8\" class=\"row_heading level0 row8\" >Critic_Score</th>\n",
       "                        <td id=\"T_c17f1_row8_col0\" class=\"data row8 col0\" >51.300000</td>\n",
       "            </tr>\n",
       "            <tr>\n",
       "                        <th id=\"T_c17f1_level0_row9\" class=\"row_heading level0 row9\" >User_Score</th>\n",
       "                        <td id=\"T_c17f1_row9_col0\" class=\"data row9 col0\" >40.100000</td>\n",
       "            </tr>\n",
       "            <tr>\n",
       "                        <th id=\"T_c17f1_level0_row10\" class=\"row_heading level0 row10\" >Rating</th>\n",
       "                        <td id=\"T_c17f1_row10_col0\" class=\"data row10 col0\" >40.500000</td>\n",
       "            </tr>\n",
       "    </tbody></table>"
      ],
      "text/plain": [
       "<pandas.io.formats.style.Styler at 0x7fbbfee56610>"
      ]
     },
     "execution_count": 6,
     "metadata": {},
     "output_type": "execute_result"
    }
   ],
   "source": [
    "pd.DataFrame(round(data.isna().mean()*100,1)).style.background_gradient('coolwarm')"
   ]
  },
  {
   "cell_type": "markdown",
   "metadata": {},
   "source": [
    "#### Вывод:\n",
    "Проанализировав данную таблицу, мы получили следующую информацию:\n",
    "* Таблица имеет 11 столбцов и 16715 строк.\n",
    "* В ней встречаются следующие типы данных: object и float64.\n",
    "* Незначительное кол-во пропусков в столбцах **Year_of_Release**, **Name** и **Genre** не должно повлиять на общую картину исследования.\n",
    "* Столбцы **Critic_Score**, **User_Score** и **Rating** имеют значительную долю пропусков в значениях."
   ]
  },
  {
   "cell_type": "markdown",
   "metadata": {},
   "source": [
    "### Предобработка данных."
   ]
  },
  {
   "cell_type": "markdown",
   "metadata": {},
   "source": [
    "#### Подготовка данных, работа с пропусками, добавление новых столбцов."
   ]
  },
  {
   "cell_type": "markdown",
   "metadata": {},
   "source": [
    "Для начала проверим датасет на наличие дубликатов:"
   ]
  },
  {
   "cell_type": "code",
   "execution_count": 7,
   "metadata": {},
   "outputs": [
    {
     "data": {
      "text/plain": [
       "0"
      ]
     },
     "execution_count": 7,
     "metadata": {},
     "output_type": "execute_result"
    }
   ],
   "source": [
    "data.duplicated().sum()"
   ]
  },
  {
   "cell_type": "markdown",
   "metadata": {},
   "source": [
    "Явных дубликатов не обнаружено. Проверим на неявные:"
   ]
  },
  {
   "cell_type": "code",
   "execution_count": 8,
   "metadata": {},
   "outputs": [
    {
     "data": {
      "text/plain": [
       "array(['Sports', 'Platform', 'Racing', 'Role-Playing', 'Puzzle', 'Misc',\n",
       "       'Shooter', 'Simulation', 'Action', 'Fighting', 'Adventure',\n",
       "       'Strategy', nan], dtype=object)"
      ]
     },
     "execution_count": 8,
     "metadata": {},
     "output_type": "execute_result"
    }
   ],
   "source": [
    "data['Genre'].unique()"
   ]
  },
  {
   "cell_type": "code",
   "execution_count": 9,
   "metadata": {},
   "outputs": [
    {
     "data": {
      "text/plain": [
       "array(['Wii', 'NES', 'GB', 'DS', 'X360', 'PS3', 'PS2', 'SNES', 'GBA',\n",
       "       'PS4', '3DS', 'N64', 'PS', 'XB', 'PC', '2600', 'PSP', 'XOne',\n",
       "       'WiiU', 'GC', 'GEN', 'DC', 'PSV', 'SAT', 'SCD', 'WS', 'NG', 'TG16',\n",
       "       '3DO', 'GG', 'PCFX'], dtype=object)"
      ]
     },
     "execution_count": 9,
     "metadata": {},
     "output_type": "execute_result"
    }
   ],
   "source": [
    "data['Platform'].unique()"
   ]
  },
  {
   "cell_type": "markdown",
   "metadata": {},
   "source": [
    "Таким образом, неявные дубликаты обнаружить не удалось."
   ]
  },
  {
   "cell_type": "markdown",
   "metadata": {},
   "source": [
    "Затем приведём названия столбцов к одному регистру:"
   ]
  },
  {
   "cell_type": "code",
   "execution_count": 10,
   "metadata": {},
   "outputs": [],
   "source": [
    "data.columns = data.columns.str.lower()"
   ]
  },
  {
   "cell_type": "markdown",
   "metadata": {},
   "source": [
    "Удалим строки с пустыми значениями в столбцах **'year_of_release'**, **'name'** и **'genre'**. Количество пропусков в них невелико, и это не скажется на дальнейшем исследовании."
   ]
  },
  {
   "cell_type": "code",
   "execution_count": 11,
   "metadata": {},
   "outputs": [],
   "source": [
    "data = data.dropna(subset=['year_of_release', 'name', 'genre'])\n",
    "data = data.reset_index(drop=True)"
   ]
  },
  {
   "cell_type": "markdown",
   "metadata": {},
   "source": [
    "Видим, что некоторые столбцы нуждаются в замене типов данных. \\\n",
    "Так, столбец **'year_of_release'** для удобства приведём к целочисленному типу:"
   ]
  },
  {
   "cell_type": "code",
   "execution_count": 12,
   "metadata": {},
   "outputs": [],
   "source": [
    "data['year_of_release'] = data['year_of_release'].astype('int')"
   ]
  },
  {
   "cell_type": "markdown",
   "metadata": {},
   "source": [
    "Рассмотрим столбец **'user_score'**. Изначально данные имеют тип object."
   ]
  },
  {
   "cell_type": "code",
   "execution_count": 13,
   "metadata": {},
   "outputs": [
    {
     "data": {
      "text/plain": [
       "array(['0', '0.2', '0.3', '0.5', '0.6', '0.7', '0.9', '1', '1.1', '1.2',\n",
       "       '1.3', '1.4', '1.5', '1.6', '1.7', '1.8', '1.9', '2', '2.1', '2.2',\n",
       "       '2.3', '2.4', '2.5', '2.6', '2.7', '2.8', '2.9', '3', '3.1', '3.2',\n",
       "       '3.3', '3.4', '3.5', '3.6', '3.7', '3.8', '3.9', '4', '4.1', '4.2',\n",
       "       '4.3', '4.4', '4.5', '4.6', '4.7', '4.8', '4.9', '5', '5.1', '5.2',\n",
       "       '5.3', '5.4', '5.5', '5.6', '5.7', '5.8', '5.9', '6', '6.1', '6.2',\n",
       "       '6.3', '6.4', '6.5', '6.6', '6.7', '6.8', '6.9', '7', '7.1', '7.2',\n",
       "       '7.3', '7.4', '7.5', '7.6', '7.7', '7.8', '7.9', '8', '8.1', '8.2',\n",
       "       '8.3', '8.4', '8.5', '8.6', '8.7', '8.8', '8.9', '9', '9.1', '9.2',\n",
       "       '9.3', '9.4', '9.5', '9.6', '9.7', 'tbd', nan], dtype=object)"
      ]
     },
     "execution_count": 13,
     "metadata": {},
     "output_type": "execute_result"
    }
   ],
   "source": [
    "data['user_score'].sort_values().unique() #выведем все уникальные значения столбца 'user_score'"
   ]
  },
  {
   "cell_type": "markdown",
   "metadata": {},
   "source": [
    "Возможная причина в пробелах данных — в 80-90е годы просто не существовало полноценной игровой критики и не было профессиональных игровых обозревателей. А до массового распространения интернета не существовало больших сайтов - аггрегаторов пользовательских оценок. Эту гипотезу косвенно можем подтвердить, взглянув на первые 10 строк таблицы, выведенной выше — игры до 1996 года не имеют ни критических, ни пользовательских оценок, а более поздние — имеют.\n",
    "В данном случае мы не можем корректно заполнить пропуски средним, медианой или модой, т.к. оценки пользователей являются независимой величиной; искать подобные величины и заполнять ими пропуски — означает исказить результаты дальнейшего анализа. \\\n",
    "Это касается не только пропусков, но и значения **'tbd'**, обычно используемого для обозначения чего-то, что в настоящее время неизвестно, но, как ожидается, будет известно в будущем. \n",
    "Поэтому заменим все пропущенные и **'tbd'** значения \"заглушкой\":"
   ]
  },
  {
   "cell_type": "code",
   "execution_count": 14,
   "metadata": {},
   "outputs": [],
   "source": [
    "data['user_score'] = data['user_score'].fillna(16)\n",
    "data['user_score'] = data['user_score'].replace('tbd', 16)"
   ]
  },
  {
   "cell_type": "markdown",
   "metadata": {},
   "source": [
    "Приведём данный столбец к типу данных с плавающей точкой, это понадобится нам в дальнейших расчётах:"
   ]
  },
  {
   "cell_type": "code",
   "execution_count": 15,
   "metadata": {},
   "outputs": [],
   "source": [
    "data['user_score'] = data['user_score'].astype('float')"
   ]
  },
  {
   "cell_type": "markdown",
   "metadata": {},
   "source": [
    "Рассмотрим столбец **'critic_score'** с оценками критиков:"
   ]
  },
  {
   "cell_type": "code",
   "execution_count": 16,
   "metadata": {},
   "outputs": [
    {
     "data": {
      "text/plain": [
       "array([13., 17., 19., 20., 21., 23., 24., 25., 26., 27., 28., 29., 30.,\n",
       "       31., 32., 33., 34., 35., 36., 37., 38., 39., 40., 41., 42., 43.,\n",
       "       44., 45., 46., 47., 48., 49., 50., 51., 52., 53., 54., 55., 56.,\n",
       "       57., 58., 59., 60., 61., 62., 63., 64., 65., 66., 67., 68., 69.,\n",
       "       70., 71., 72., 73., 74., 75., 76., 77., 78., 79., 80., 81., 82.,\n",
       "       83., 84., 85., 86., 87., 88., 89., 90., 91., 92., 93., 94., 95.,\n",
       "       96., 97., 98., nan])"
      ]
     },
     "execution_count": 16,
     "metadata": {},
     "output_type": "execute_result"
    }
   ],
   "source": [
    "data['critic_score'].sort_values().unique()"
   ]
  },
  {
   "cell_type": "markdown",
   "metadata": {},
   "source": [
    "По аналогии с оценками пользователей поступим и с этим столбцом — для того, чтобы не исказить данные."
   ]
  },
  {
   "cell_type": "code",
   "execution_count": 17,
   "metadata": {},
   "outputs": [],
   "source": [
    "data['critic_score'] = data['critic_score'].fillna(160)"
   ]
  },
  {
   "cell_type": "markdown",
   "metadata": {},
   "source": [
    "И, наконец, руководствуясь той же самой логикой, обработаем пропуски в столбце **'rating'**, но заменим пустые значения не нулями, а Unknown:"
   ]
  },
  {
   "cell_type": "code",
   "execution_count": 18,
   "metadata": {},
   "outputs": [],
   "source": [
    "data['rating'] = data['rating'].fillna('Unknown')"
   ]
  },
  {
   "cell_type": "markdown",
   "metadata": {},
   "source": [
    "Посчитаем суммарные продажи по всем регионам и запишем значения в отдельный столбец:"
   ]
  },
  {
   "cell_type": "code",
   "execution_count": 19,
   "metadata": {},
   "outputs": [],
   "source": [
    "data['sum_sales'] = data['na_sales'] + data['eu_sales'] + data['jp_sales'] + data['other_sales']"
   ]
  },
  {
   "cell_type": "markdown",
   "metadata": {},
   "source": [
    "#### Вывод:\n",
    "На данном этапе мы избавились от пропусков и подготовили датасет к дальнейшему анализу"
   ]
  },
  {
   "cell_type": "markdown",
   "metadata": {},
   "source": [
    "### Исследовательский анализ данных"
   ]
  },
  {
   "cell_type": "markdown",
   "metadata": {},
   "source": [
    "#### Изучение продаж по годам."
   ]
  },
  {
   "cell_type": "markdown",
   "metadata": {},
   "source": [
    "Посмотрим, сколько игр выпускалось в разные годы:"
   ]
  },
  {
   "cell_type": "code",
   "execution_count": 21,
   "metadata": {
    "scrolled": false
   },
   "outputs": [
    {
     "data": {
      "image/png": "[encoded data removed]",
      "text/plain": [
       "<Figure size 864x576 with 1 Axes>"
      ]
     },
     "metadata": {
      "needs_background": "light"
     },
     "output_type": "display_data"
    }
   ],
   "source": [
    "data.groupby('year_of_release')['name'].count().plot(kind='bar', figsize=(12,8))\n",
    "plt.show()"
   ]
  },
  {
   "cell_type": "markdown",
   "metadata": {},
   "source": [
    "Из данной диаграммы можем сделать первые выводы — в период с 2006 по 2011 выпускалось больше 1000 игр в год. А в 80е-90е годы игр выходило мало, но этот временной период не интересует нас в дальнейшем исследовании. \\\n",
    "Но данный график не отражает, как продавались игры на разных платформах. Перейдём к более детальному анализу."
   ]
  },
  {
   "cell_type": "markdown",
   "metadata": {},
   "source": [
    "#### Изучение продаж по платформам."
   ]
  },
  {
   "cell_type": "markdown",
   "metadata": {},
   "source": [
    "Посмотрим, как менялись продажи по платформам. Для начала, сформируем сводную таблицу по суммарным продажам каждой из платформ и на её основе построим столбчатую диаграмму:"
   ]
  },
  {
   "cell_type": "code",
   "execution_count": 22,
   "metadata": {},
   "outputs": [
    {
     "data": {
      "image/png": "[encoded data removed]",
      "text/plain": [
       "<Figure size 864x576 with 1 Axes>"
      ]
     },
     "metadata": {
      "needs_background": "light"
     },
     "output_type": "display_data"
    }
   ],
   "source": [
    "data_pivot_plat = (\n",
    "    data\n",
    "    .pivot_table(index = 'platform', values = 'sum_sales', aggfunc= 'sum')\n",
    "    .sort_values(by='sum_sales', ascending=False)\n",
    "    .plot(y='sum_sales', kind='bar', figsize=(12, 8), grid=True)\n",
    ")\n",
    "plt.show()"
   ]
  },
  {
   "cell_type": "markdown",
   "metadata": {},
   "source": [
    "На этом графике наглядно видим платформы с наибольшими суммарными продажами (более 700), обратим своё внимание на них. Возьмём шесть наиболее популярных платформ (PS2, Xbox360, PS3, Wii, DS и PS) и построим распределение продаж по годам."
   ]
  },
  {
   "cell_type": "code",
   "execution_count": 23,
   "metadata": {},
   "outputs": [
    {
     "data": {
      "image/png": "[encoded data removed]",
      "text/plain": [
       "<Figure size 432x288 with 1 Axes>"
      ]
     },
     "metadata": {
      "needs_background": "light"
     },
     "output_type": "display_data"
    }
   ],
   "source": [
    "(\n",
    "    data\n",
    "    .query('platform == \"PS2\"')\n",
    "    .groupby('year_of_release')['sum_sales'].sum()\n",
    "    .plot(y='sum_sales', kind='bar', grid=True)\n",
    ")\n",
    "plt.show()"
   ]
  },
  {
   "cell_type": "code",
   "execution_count": 24,
   "metadata": {},
   "outputs": [
    {
     "data": {
      "image/png": "[encoded data removed]",
      "text/plain": [
       "<Figure size 432x288 with 1 Axes>"
      ]
     },
     "metadata": {
      "needs_background": "light"
     },
     "output_type": "display_data"
    }
   ],
   "source": [
    "(\n",
    "    data\n",
    "    .query('platform == \"X360\"')\n",
    "    .groupby('year_of_release')['sum_sales'].sum()\n",
    "    .plot(y='sum_sales', kind='bar', grid=True)\n",
    ")\n",
    "plt.show()"
   ]
  },
  {
   "cell_type": "code",
   "execution_count": 25,
   "metadata": {},
   "outputs": [
    {
     "data": {
      "image/png": "[encoded data removed]",
      "text/plain": [
       "<Figure size 432x288 with 1 Axes>"
      ]
     },
     "metadata": {
      "needs_background": "light"
     },
     "output_type": "display_data"
    }
   ],
   "source": [
    "(\n",
    "    data\n",
    "    .query('platform == \"PS3\"')\n",
    "    .groupby('year_of_release')['sum_sales'].sum()\n",
    "    .plot(y='sum_sales', kind='bar', grid=True)\n",
    ")\n",
    "plt.show()"
   ]
  },
  {
   "cell_type": "code",
   "execution_count": 26,
   "metadata": {},
   "outputs": [
    {
     "data": {
      "image/png": "[encoded data removed]",
      "text/plain": [
       "<Figure size 432x288 with 1 Axes>"
      ]
     },
     "metadata": {
      "needs_background": "light"
     },
     "output_type": "display_data"
    }
   ],
   "source": [
    "(\n",
    "    data\n",
    "    .query('platform == \"Wii\"')\n",
    "    .groupby('year_of_release')['sum_sales'].sum()\n",
    "    .plot(y='sum_sales', kind='bar', grid=True)\n",
    ")\n",
    "plt.show()"
   ]
  },
  {
   "cell_type": "code",
   "execution_count": 27,
   "metadata": {},
   "outputs": [
    {
     "data": {
      "image/png": "[encoded data removed]",
      "text/plain": [
       "<Figure size 432x288 with 1 Axes>"
      ]
     },
     "metadata": {
      "needs_background": "light"
     },
     "output_type": "display_data"
    }
   ],
   "source": [
    "(\n",
    "    data\n",
    "    .query('platform == \"DS\"')\n",
    "    .groupby('year_of_release')['sum_sales'].sum()\n",
    "    .plot(y='sum_sales', kind='bar', grid=True)\n",
    ")\n",
    "plt.show()"
   ]
  },
  {
   "cell_type": "code",
   "execution_count": 28,
   "metadata": {},
   "outputs": [
    {
     "data": {
      "image/png": "[encoded data removed]",
      "text/plain": [
       "<Figure size 432x288 with 1 Axes>"
      ]
     },
     "metadata": {
      "needs_background": "light"
     },
     "output_type": "display_data"
    }
   ],
   "source": [
    "(\n",
    "    data\n",
    "    .query('platform == \"PS\"')\n",
    "    .groupby('year_of_release')['sum_sales'].sum()\n",
    "    .plot(y='sum_sales', kind='bar', grid=True)\n",
    ")\n",
    "plt.show()"
   ]
  },
  {
   "cell_type": "markdown",
   "metadata": {},
   "source": [
    "Видим, что обычно \"срок жизни\" современных платформ составляет 5 лет, после чего продажи идут вниз. Тогда, возьмём данные за последние 5 лет от текущего 2016 года и исследуем их продажи и тенденции роста и падения:"
   ]
  },
  {
   "cell_type": "markdown",
   "metadata": {},
   "source": [
    "#### Изучение потенциально прибыльных платформ."
   ]
  },
  {
   "cell_type": "markdown",
   "metadata": {},
   "source": [
    "Для удобства дальнейшего анализа выделим данные за актуальный период в отдельную переменную:"
   ]
  },
  {
   "cell_type": "code",
   "execution_count": 29,
   "metadata": {},
   "outputs": [],
   "source": [
    "data_fresh = data.query('year_of_release >= 2012')"
   ]
  },
  {
   "cell_type": "code",
   "execution_count": 30,
   "metadata": {},
   "outputs": [
    {
     "data": {
      "image/png": "[encoded data removed]",
      "text/plain": [
       "<Figure size 1080x360 with 1 Axes>"
      ]
     },
     "metadata": {
      "needs_background": "light"
     },
     "output_type": "display_data"
    }
   ],
   "source": [
    "actual_period = data_fresh.pivot_table(\n",
    "    index='platform', columns='year_of_release', values='sum_sales', aggfunc='sum')\n",
    "actual_period.plot(kind='bar', figsize=(15,5))\n",
    "plt.show()"
   ]
  },
  {
   "cell_type": "markdown",
   "metadata": {},
   "source": [
    "Исходя из представленных диаграмм и учитывая возможную неполноту данных за 2016 год, можем заметить, что продажи только на двух платформах — PS4 и Xbox One постепенно растут, а значит можно предположить, что именно эти платформы можно считать потенциально прибыльными."
   ]
  },
  {
   "cell_type": "markdown",
   "metadata": {},
   "source": [
    "Для наглядности построим боксплот и воспользуемся методом .describe():"
   ]
  },
  {
   "cell_type": "code",
   "execution_count": 31,
   "metadata": {},
   "outputs": [
    {
     "data": {
      "image/png": "[encoded data removed]",
      "text/plain": [
       "<Figure size 1080x576 with 1 Axes>"
      ]
     },
     "metadata": {},
     "output_type": "display_data"
    }
   ],
   "source": [
    "sns.set(rc={'figure.figsize':(15,8)})\n",
    "sns.boxplot(data=data_fresh, x='platform', y='sum_sales')\n",
    "plt.show()"
   ]
  },
  {
   "cell_type": "markdown",
   "metadata": {},
   "source": [
    "И масштабируем его:"
   ]
  },
  {
   "cell_type": "code",
   "execution_count": 32,
   "metadata": {},
   "outputs": [
    {
     "data": {
      "image/png": "[encoded data removed]",
      "text/plain": [
       "<Figure size 1080x576 with 1 Axes>"
      ]
     },
     "metadata": {},
     "output_type": "display_data"
    }
   ],
   "source": [
    "sns.set(rc={'figure.figsize':(15,8)})\n",
    "sns.boxplot(data=data_fresh, x='platform', y='sum_sales')\n",
    "plt.ylim([0,2])\n",
    "plt.show()"
   ]
  },
  {
   "cell_type": "code",
   "execution_count": 33,
   "metadata": {},
   "outputs": [
    {
     "data": {
      "text/plain": [
       "count   392.00\n",
       "mean      0.80\n",
       "std       1.61\n",
       "min       0.01\n",
       "25%       0.06\n",
       "50%       0.20\n",
       "75%       0.73\n",
       "max      14.63\n",
       "Name: sum_sales, dtype: float64"
      ]
     },
     "execution_count": 33,
     "metadata": {},
     "output_type": "execute_result"
    }
   ],
   "source": [
    "data_fresh.query('platform == \"PS4\"')['sum_sales'].describe()"
   ]
  },
  {
   "cell_type": "code",
   "execution_count": 34,
   "metadata": {},
   "outputs": [
    {
     "data": {
      "text/plain": [
       "count   247.00\n",
       "mean      0.65\n",
       "std       1.04\n",
       "min       0.01\n",
       "25%       0.06\n",
       "50%       0.22\n",
       "75%       0.69\n",
       "max       7.39\n",
       "Name: sum_sales, dtype: float64"
      ]
     },
     "execution_count": 34,
     "metadata": {},
     "output_type": "execute_result"
    }
   ],
   "source": [
    "data_fresh.query('platform == \"XOne\"')['sum_sales'].describe()"
   ]
  },
  {
   "cell_type": "code",
   "execution_count": 35,
   "metadata": {},
   "outputs": [
    {
     "name": "stdout",
     "output_type": "stream",
     "text": [
      "Граница выбросов продаж на PS4: 1.735 млн копий\n"
     ]
    }
   ],
   "source": [
    "Q1 = data_fresh.query('platform == \"PS4\"')['sum_sales'].quantile(q=.25)\n",
    "Q3 = data_fresh.query('platform == \"PS4\"')['sum_sales'].quantile(q=.75)\n",
    "print('Граница выбросов продаж на PS4:', '{:.3f}'.format((Q3-Q1)*1.5+Q3), 'млн копий') \n",
    "#ищем IQR и вычисляем границу выбросов по формуле"
   ]
  },
  {
   "cell_type": "code",
   "execution_count": 36,
   "metadata": {},
   "outputs": [
    {
     "name": "stdout",
     "output_type": "stream",
     "text": [
      "Граница выбросов продаж на XOne: 1.623 млн копий\n"
     ]
    }
   ],
   "source": [
    "Q1 = data_fresh.query('platform == \"XOne\"')['sum_sales'].quantile(q=.25)\n",
    "Q3 = data_fresh.query('platform == \"XOne\"')['sum_sales'].quantile(q=.75)\n",
    "print('Граница выбросов продаж на XOne:', '{:.3f}'.format((Q3-Q1)*1.5+Q3), 'млн копий')\n",
    "#ищем IQR и вычисляем границу выбросов по формуле"
   ]
  },
  {
   "cell_type": "markdown",
   "metadata": {},
   "source": [
    "Исходя из рассчитанных данных, получаем очень схожую картину по продажам на PS4 и Xbox One:\n",
    "* Медианное значение продаж игры составляет 200 тыс. и 220 тыс. копий соответственно.\n",
    "* В среднем игра продаётся тиражом 800 тыс. и 650 тыс. копий соответственно.\n",
    "* Границы выбросов на представленном графике также схожи и составляют около 1,7 млн. на PS4 и около 1,6 млн. на Xbox One, это означает, что продажи выше этих чисел будут крайне редкими."
   ]
  },
  {
   "cell_type": "markdown",
   "metadata": {},
   "source": [
    "#### Изучение связи между отзывами и продажами."
   ]
  },
  {
   "cell_type": "markdown",
   "metadata": {},
   "source": [
    "Рассмотрим, как влияют на продажи внутри одной популярной платформы отзывы пользователей и критиков. В первую очередь отсортируем платформы из актуального датасета по популярности:"
   ]
  },
  {
   "cell_type": "code",
   "execution_count": 37,
   "metadata": {},
   "outputs": [
    {
     "data": {
      "image/png": "[encoded data removed]",
      "text/plain": [
       "<Figure size 576x432 with 1 Axes>"
      ]
     },
     "metadata": {},
     "output_type": "display_data"
    }
   ],
   "source": [
    "data_pivot_fresh = data_fresh.pivot_table(index = 'platform', values = 'sum_sales', aggfunc= 'sum').sort_values(by='sum_sales', ascending=False)\n",
    "    \n",
    "data_pivot_fresh.plot(y='sum_sales', kind='bar', figsize=(8, 6), grid=True)\n",
    "plt.show()"
   ]
  },
  {
   "cell_type": "markdown",
   "metadata": {},
   "source": [
    "В качестве примера возьмём PS4 как самую популярную платформу за последние 5 лет. Для удобства анализа вынесем данные по ней в отдельную переменную, не забыв отсеять заглушки:"
   ]
  },
  {
   "cell_type": "code",
   "execution_count": 38,
   "metadata": {},
   "outputs": [],
   "source": [
    "data_ps4_critics = data_fresh.query('platform == \"PS4\" and critic_score != 160')\n",
    "data_ps4_users = data_fresh.query('platform == \"PS4\" and user_score != 16')"
   ]
  },
  {
   "cell_type": "markdown",
   "metadata": {},
   "source": [
    "Построим диаграммы рассеяния и посчитаем коэффициент корреляции Пирсона:"
   ]
  },
  {
   "cell_type": "code",
   "execution_count": 40,
   "metadata": {},
   "outputs": [
    {
     "data": {
      "image/png": "[encoded data removed]",
      "text/plain": [
       "<Figure size 576x360 with 1 Axes>"
      ]
     },
     "metadata": {},
     "output_type": "display_data"
    },
    {
     "name": "stdout",
     "output_type": "stream",
     "text": [
      "Коэффициент корреляции Пирсона: 0.407\n"
     ]
    },
    {
     "data": {
      "image/png": "[encoded data removed]",
      "text/plain": [
       "<Figure size 576x360 with 1 Axes>"
      ]
     },
     "metadata": {},
     "output_type": "display_data"
    },
    {
     "name": "stdout",
     "output_type": "stream",
     "text": [
      "Коэффициент корреляции Пирсона: -0.032\n"
     ]
    }
   ],
   "source": [
    "(\n",
    "    data_ps4_critics\n",
    "    .plot(x='sum_sales', y='critic_score', kind='scatter', color=\"DarkBlue\", alpha=0.25, figsize=(8,5))\n",
    ") \n",
    "plt.show()\n",
    "print('Коэффициент корреляции Пирсона:','{:.3f}'.format(data_ps4_critics['sum_sales'].corr(data_ps4_critics['critic_score'])))\n",
    "(\n",
    "    data_ps4_users\n",
    "    .plot(x='sum_sales', y='user_score', kind='scatter', color=\"DarkBlue\", alpha=0.25, figsize=(8,5))\n",
    ") \n",
    "plt.show()\n",
    "print('Коэффициент корреляции Пирсона:','{:.3f}'.format(data_ps4_users['sum_sales'].corr(data_ps4_users['user_score'])))"
   ]
  },
  {
   "cell_type": "markdown",
   "metadata": {},
   "source": [
    "Судя по данным графикам и рассчитанным коэффициентам корреляции, связь между итоговыми продажами игры и её оценкой у критиков хоть и существует, но является слабой, а связи между продажами игры и её оценкой у пользователей нет, т.к. коэффициент корреляции около нуля, а значит эти два параметра никак не связаны между собой."
   ]
  },
  {
   "cell_type": "markdown",
   "metadata": {},
   "source": [
    "Теперь исследуем связь между продажами и оценками, основываясь на данных по другим популярным платформам:"
   ]
  },
  {
   "cell_type": "markdown",
   "metadata": {},
   "source": [
    "В качестве предмета исследования возьмём топ-5 популярных платформ за актуальный период, который мы определили выше."
   ]
  },
  {
   "cell_type": "code",
   "execution_count": 41,
   "metadata": {},
   "outputs": [
    {
     "data": {
      "text/html": [
       "<div>\n",
       "<style scoped>\n",
       "    .dataframe tbody tr th:only-of-type {\n",
       "        vertical-align: middle;\n",
       "    }\n",
       "\n",
       "    .dataframe tbody tr th {\n",
       "        vertical-align: top;\n",
       "    }\n",
       "\n",
       "    .dataframe thead th {\n",
       "        text-align: right;\n",
       "    }\n",
       "</style>\n",
       "<table border=\"1\" class=\"dataframe\">\n",
       "  <thead>\n",
       "    <tr style=\"text-align: right;\">\n",
       "      <th></th>\n",
       "      <th>sum_sales</th>\n",
       "    </tr>\n",
       "    <tr>\n",
       "      <th>platform</th>\n",
       "      <th></th>\n",
       "    </tr>\n",
       "  </thead>\n",
       "  <tbody>\n",
       "    <tr>\n",
       "      <th>PS4</th>\n",
       "      <td>314.14</td>\n",
       "    </tr>\n",
       "    <tr>\n",
       "      <th>PS3</th>\n",
       "      <td>288.79</td>\n",
       "    </tr>\n",
       "    <tr>\n",
       "      <th>X360</th>\n",
       "      <td>236.54</td>\n",
       "    </tr>\n",
       "    <tr>\n",
       "      <th>3DS</th>\n",
       "      <td>194.61</td>\n",
       "    </tr>\n",
       "    <tr>\n",
       "      <th>XOne</th>\n",
       "      <td>159.32</td>\n",
       "    </tr>\n",
       "  </tbody>\n",
       "</table>\n",
       "</div>"
      ],
      "text/plain": [
       "          sum_sales\n",
       "platform           \n",
       "PS4          314.14\n",
       "PS3          288.79\n",
       "X360         236.54\n",
       "3DS          194.61\n",
       "XOne         159.32"
      ]
     },
     "execution_count": 41,
     "metadata": {},
     "output_type": "execute_result"
    }
   ],
   "source": [
    "data_pivot_fresh.head(5)"
   ]
  },
  {
   "cell_type": "markdown",
   "metadata": {},
   "source": [
    "Сходным образом построим диаграммы рассеяния и посчитаем коэффициент корреляции Пирсона для оставшихся четырех платформ:"
   ]
  },
  {
   "cell_type": "code",
   "execution_count": 42,
   "metadata": {},
   "outputs": [
    {
     "data": {
      "image/png": "[encoded data removed]",
      "text/plain": [
       "<Figure size 576x360 with 1 Axes>"
      ]
     },
     "metadata": {},
     "output_type": "display_data"
    },
    {
     "name": "stdout",
     "output_type": "stream",
     "text": [
      "Коэффициент корреляции Пирсона: 0.331\n"
     ]
    },
    {
     "data": {
      "image/png": "[encoded data removed]",
      "text/plain": [
       "<Figure size 576x360 with 1 Axes>"
      ]
     },
     "metadata": {},
     "output_type": "display_data"
    },
    {
     "name": "stdout",
     "output_type": "stream",
     "text": [
      "Коэффициент корреляции Пирсона: -0.005\n"
     ]
    }
   ],
   "source": [
    "data_ps3_critics = data_fresh.query('platform == \"PS3\" and critic_score != 160')\n",
    "data_ps3_users = data_fresh.query('platform == \"PS3\" and user_score != 16')\n",
    "(\n",
    "    data_ps3_critics\n",
    "    .plot(x='sum_sales', y='critic_score', kind='scatter', color=\"DarkBlue\", alpha=0.25, figsize=(8,5))\n",
    ") \n",
    "plt.show()\n",
    "print('Коэффициент корреляции Пирсона:','{:.3f}'.format(data_ps3_critics['sum_sales'].corr(data_ps3_critics['critic_score'])))\n",
    "(\n",
    "    data_ps3_users\n",
    "    .plot(x='sum_sales', y='user_score', kind='scatter', color=\"DarkBlue\", alpha=0.25, figsize=(8,5))\n",
    ") \n",
    "plt.show()\n",
    "print('Коэффициент корреляции Пирсона:','{:.3f}'.format(data_ps3_users['sum_sales'].corr(data_ps3_users['user_score'])))"
   ]
  },
  {
   "cell_type": "code",
   "execution_count": 43,
   "metadata": {},
   "outputs": [
    {
     "data": {
      "image/png": "[encoded data removed]",
      "text/plain": [
       "<Figure size 576x360 with 1 Axes>"
      ]
     },
     "metadata": {},
     "output_type": "display_data"
    },
    {
     "name": "stdout",
     "output_type": "stream",
     "text": [
      "Коэффициент корреляции Пирсона: 0.361\n"
     ]
    },
    {
     "data": {
      "image/png": "[encoded data removed]",
      "text/plain": [
       "<Figure size 576x360 with 1 Axes>"
      ]
     },
     "metadata": {},
     "output_type": "display_data"
    },
    {
     "name": "stdout",
     "output_type": "stream",
     "text": [
      "Коэффициент корреляции Пирсона: 0.006\n"
     ]
    }
   ],
   "source": [
    "data_x360_critics = data_fresh.query('platform == \"X360\" and critic_score != 160')\n",
    "data_x360_users = data_fresh.query('platform == \"X360\" and user_score != 16')\n",
    "(\n",
    "    data_x360_critics\n",
    "    .plot(x='sum_sales', y='critic_score', kind='scatter', color=\"DarkBlue\", alpha=0.25, figsize=(8,5))\n",
    ") \n",
    "plt.show()\n",
    "print('Коэффициент корреляции Пирсона:','{:.3f}'.format(data_x360_critics['sum_sales'].corr(data_x360_critics['critic_score'])))\n",
    "(\n",
    "    data_x360_users\n",
    "    .plot(x='sum_sales', y='user_score', kind='scatter', color=\"DarkBlue\", alpha=0.25, figsize=(8,5))\n",
    ") \n",
    "plt.show()\n",
    "print('Коэффициент корреляции Пирсона:','{:.3f}'.format(data_x360_users['sum_sales'].corr(data_x360_users['user_score'])))"
   ]
  },
  {
   "cell_type": "code",
   "execution_count": 44,
   "metadata": {},
   "outputs": [
    {
     "data": {
      "image/png": "[encoded data removed]",
      "text/plain": [
       "<Figure size 576x360 with 1 Axes>"
      ]
     },
     "metadata": {},
     "output_type": "display_data"
    },
    {
     "name": "stdout",
     "output_type": "stream",
     "text": [
      "Коэффициент корреляции Пирсона: 0.321\n"
     ]
    },
    {
     "data": {
      "image/png": "[encoded data removed]",
      "text/plain": [
       "<Figure size 576x360 with 1 Axes>"
      ]
     },
     "metadata": {},
     "output_type": "display_data"
    },
    {
     "name": "stdout",
     "output_type": "stream",
     "text": [
      "Коэффициент корреляции Пирсона: 0.198\n"
     ]
    }
   ],
   "source": [
    "data_3ds_critics = data_fresh.query('platform == \"3DS\" and critic_score != 160')\n",
    "data_3ds_users = data_fresh.query('platform == \"3DS\" and user_score != 16')\n",
    "(\n",
    "    data_3ds_critics\n",
    "    .plot(x='sum_sales', y='critic_score', kind='scatter', color=\"DarkBlue\", alpha=0.25, figsize=(8,5))\n",
    ") \n",
    "plt.show()\n",
    "print('Коэффициент корреляции Пирсона:','{:.3f}'.format(data_3ds_critics['sum_sales'].corr(data_3ds_critics['critic_score'])))\n",
    "(\n",
    "    data_3ds_users\n",
    "    .plot(x='sum_sales', y='user_score', kind='scatter', color=\"DarkBlue\", alpha=0.25, figsize=(8,5))\n",
    ") \n",
    "plt.show()\n",
    "print('Коэффициент корреляции Пирсона:','{:.3f}'.format(data_3ds_users['sum_sales'].corr(data_3ds_users['user_score'])))"
   ]
  },
  {
   "cell_type": "code",
   "execution_count": 45,
   "metadata": {},
   "outputs": [
    {
     "data": {
      "image/png": "[encoded data removed]",
      "text/plain": [
       "<Figure size 576x360 with 1 Axes>"
      ]
     },
     "metadata": {},
     "output_type": "display_data"
    },
    {
     "name": "stdout",
     "output_type": "stream",
     "text": [
      "Коэффициент корреляции Пирсона: 0.417\n"
     ]
    },
    {
     "data": {
      "image/png": "[encoded data removed]",
      "text/plain": [
       "<Figure size 576x360 with 1 Axes>"
      ]
     },
     "metadata": {},
     "output_type": "display_data"
    },
    {
     "name": "stdout",
     "output_type": "stream",
     "text": [
      "Коэффициент корреляции Пирсона: -0.069\n"
     ]
    }
   ],
   "source": [
    "data_xone_critics = data_fresh.query('platform == \"XOne\" and critic_score != 160')\n",
    "data_xone_users = data_fresh.query('platform == \"XOne\" and user_score != 16')\n",
    "(\n",
    "    data_xone_critics\n",
    "    .plot(x='sum_sales', y='critic_score', kind='scatter', color=\"DarkBlue\", alpha=0.25, figsize=(8,5))\n",
    ") \n",
    "plt.show()\n",
    "print('Коэффициент корреляции Пирсона:','{:.3f}'.format(data_xone_critics['sum_sales'].corr(data_xone_critics['critic_score'])))\n",
    "(\n",
    "    data_xone_users\n",
    "    .plot(x='sum_sales', y='user_score', kind='scatter', color=\"DarkBlue\", alpha=0.25, figsize=(8,5))\n",
    ") \n",
    "plt.show()\n",
    "print('Коэффициент корреляции Пирсона:','{:.3f}'.format(data_xone_users['sum_sales'].corr(data_xone_users['user_score'])))"
   ]
  },
  {
   "cell_type": "markdown",
   "metadata": {},
   "source": [
    "На основе построенных диаграмм и рассчитанных коэффициентов корреляции для каждой из платформ можем сделать вывод, что во всех случаях связь оценок критиков с продажами игр является слабой (коэф. 0,3-0,4). \\\n",
    "Как и в случае с PS4, на других платформах нет какой-либо закономерности между оценками пользователей и успешностью игры на рынке, за исключением Nintendo 3DS, однако и в её случае взаимосвязь является очень слабой и неочевидной."
   ]
  },
  {
   "cell_type": "markdown",
   "metadata": {},
   "source": [
    "#### Распределение продаж по жанрам."
   ]
  },
  {
   "cell_type": "markdown",
   "metadata": {},
   "source": [
    "Обратимся к распределению игр по жанрам, для этого построим боксплот:"
   ]
  },
  {
   "cell_type": "code",
   "execution_count": 46,
   "metadata": {},
   "outputs": [
    {
     "data": {
      "image/png": "[encoded data removed]",
      "text/plain": [
       "<Figure size 1080x576 with 1 Axes>"
      ]
     },
     "metadata": {},
     "output_type": "display_data"
    }
   ],
   "source": [
    "sns.set(rc={'figure.figsize':(15,8)})\n",
    "sns.boxplot(data=data_fresh, x='genre', y='sum_sales')\n",
    "plt.show()"
   ]
  },
  {
   "cell_type": "code",
   "execution_count": 47,
   "metadata": {},
   "outputs": [
    {
     "data": {
      "image/png": "[encoded data removed]",
      "text/plain": [
       "<Figure size 1080x576 with 1 Axes>"
      ]
     },
     "metadata": {},
     "output_type": "display_data"
    }
   ],
   "source": [
    "sns.set(rc={'figure.figsize':(15,8)})\n",
    "sns.boxplot(data=data_fresh, x='genre', y='sum_sales')\n",
    "plt.ylim([0,3.5])\n",
    "plt.show()"
   ]
  },
  {
   "cell_type": "code",
   "execution_count": 48,
   "metadata": {},
   "outputs": [
    {
     "data": {
      "text/html": [
       "<div>\n",
       "<style scoped>\n",
       "    .dataframe tbody tr th:only-of-type {\n",
       "        vertical-align: middle;\n",
       "    }\n",
       "\n",
       "    .dataframe tbody tr th {\n",
       "        vertical-align: top;\n",
       "    }\n",
       "\n",
       "    .dataframe thead th {\n",
       "        text-align: right;\n",
       "    }\n",
       "</style>\n",
       "<table border=\"1\" class=\"dataframe\">\n",
       "  <thead>\n",
       "    <tr style=\"text-align: right;\">\n",
       "      <th></th>\n",
       "      <th>median_sales</th>\n",
       "    </tr>\n",
       "    <tr>\n",
       "      <th>genre</th>\n",
       "      <th></th>\n",
       "    </tr>\n",
       "  </thead>\n",
       "  <tbody>\n",
       "    <tr>\n",
       "      <th>Shooter</th>\n",
       "      <td>0.44</td>\n",
       "    </tr>\n",
       "    <tr>\n",
       "      <th>Sports</th>\n",
       "      <td>0.24</td>\n",
       "    </tr>\n",
       "    <tr>\n",
       "      <th>Platform</th>\n",
       "      <td>0.21</td>\n",
       "    </tr>\n",
       "    <tr>\n",
       "      <th>Role-Playing</th>\n",
       "      <td>0.14</td>\n",
       "    </tr>\n",
       "    <tr>\n",
       "      <th>Racing</th>\n",
       "      <td>0.14</td>\n",
       "    </tr>\n",
       "    <tr>\n",
       "      <th>Fighting</th>\n",
       "      <td>0.13</td>\n",
       "    </tr>\n",
       "    <tr>\n",
       "      <th>Action</th>\n",
       "      <td>0.12</td>\n",
       "    </tr>\n",
       "    <tr>\n",
       "      <th>Misc</th>\n",
       "      <td>0.12</td>\n",
       "    </tr>\n",
       "    <tr>\n",
       "      <th>Simulation</th>\n",
       "      <td>0.12</td>\n",
       "    </tr>\n",
       "    <tr>\n",
       "      <th>Strategy</th>\n",
       "      <td>0.08</td>\n",
       "    </tr>\n",
       "    <tr>\n",
       "      <th>Puzzle</th>\n",
       "      <td>0.04</td>\n",
       "    </tr>\n",
       "    <tr>\n",
       "      <th>Adventure</th>\n",
       "      <td>0.03</td>\n",
       "    </tr>\n",
       "  </tbody>\n",
       "</table>\n",
       "</div>"
      ],
      "text/plain": [
       "              median_sales\n",
       "genre                     \n",
       "Shooter               0.44\n",
       "Sports                0.24\n",
       "Platform              0.21\n",
       "Role-Playing          0.14\n",
       "Racing                0.14\n",
       "Fighting              0.13\n",
       "Action                0.12\n",
       "Misc                  0.12\n",
       "Simulation            0.12\n",
       "Strategy              0.08\n",
       "Puzzle                0.04\n",
       "Adventure             0.03"
      ]
     },
     "execution_count": 48,
     "metadata": {},
     "output_type": "execute_result"
    }
   ],
   "source": [
    "data_topgenres_pivot = data_fresh.pivot_table(index = 'genre', values = 'sum_sales', aggfunc= 'median').sort_values(by='sum_sales', ascending=False)\n",
    "data_topgenres_pivot.rename(columns = {'genre' : 'First Name', 'sum_sales' : 'median_sales'}, inplace = True)\n",
    "data_topgenres_pivot"
   ]
  },
  {
   "cell_type": "markdown",
   "metadata": {},
   "source": [
    "Медианные продажи жанра \"шутер\" являются самыми высокими — 440 тыс. проданных копий, затем идут \"спорт\" (240 тыс.) и \"платформер\" (210 тыс.). Жанры \"пазл\" и \"приключения\" продавались хуже всего — 40 тыс. и 30 тыс. медианных продаж соответственно."
   ]
  },
  {
   "cell_type": "markdown",
   "metadata": {},
   "source": [
    "#### Вывод:"
   ]
  },
  {
   "cell_type": "markdown",
   "metadata": {},
   "source": [
    "На основе исследовательского анализа можем сделать следующие промежуточные выводы:\n",
    "* Средний \"срок жизни\" современных платформ составляет 5 лет, после чего продажи идут вниз.\n",
    "* Продажи на PS4 и Xbox One за актуальный период постепенно расли, а значит можно предположить, что именно эти платформы можно считать потенциально прибыльными. \n",
    "* В среднем игра продаётся тиражом 800 тыс. и 650 тыс. копий соответственно. Продажи одной игры выше 1,7 млн. на PS4 и 1,6 млн. на Xbox One будут крайне редкими.\n",
    "* Во всех описанных нами случаях связь оценок критиков с продажами игр является слабой (коэф. 0,3-0,4), также нет какой-либо закономерности между оценками пользователей и успешностью игры на рынке, за исключением Nintendo 3DS, где данная связь представлена слабо.\n",
    "* Самыми продаваемыми жанром является \"шутер\" —  медианная продажа составляет 440 тыс. проданных копий, а \"пазл\" и \"приключения\" продавались хуже всего — 40 тыс. и 30 тыс. медианных продаж соответственно."
   ]
  },
  {
   "cell_type": "markdown",
   "metadata": {},
   "source": [
    "### Составление портрета пользователя по каждому из регионов"
   ]
  },
  {
   "cell_type": "markdown",
   "metadata": {},
   "source": [
    "#### Популярность платформ в регионах."
   ]
  },
  {
   "cell_type": "markdown",
   "metadata": {},
   "source": [
    "Для составления портрета пользователя сформируем сводные таблицы по платформам и жанрам для каждого региона:"
   ]
  },
  {
   "cell_type": "code",
   "execution_count": 49,
   "metadata": {},
   "outputs": [],
   "source": [
    "data_region_sales = data_fresh.pivot_table(index = 'platform',  values = ['na_sales','jp_sales','eu_sales'], aggfunc = 'sum')\n",
    "data_region_genres = data_fresh.pivot_table(index = 'genre',  values = ['na_sales','jp_sales','eu_sales'], aggfunc = 'sum')"
   ]
  },
  {
   "cell_type": "markdown",
   "metadata": {},
   "source": [
    "Рассмотрим самые популярные платформы и жанры в каждом из регионов. Для наглядности построим круговые диаграммы:"
   ]
  },
  {
   "cell_type": "code",
   "execution_count": 50,
   "metadata": {},
   "outputs": [],
   "source": [
    "data_eu_sales = data_region_sales['eu_sales'].sort_values(ascending=False).head(5) #для построения графика\n",
    "data_na_sales = data_region_sales['na_sales'].sort_values(ascending=False).head(5) #сформируем сводные таблицы по популярным\n",
    "data_jp_sales = data_region_sales['jp_sales'].sort_values(ascending=False).head(5) #платформам в каждом регионе"
   ]
  },
  {
   "cell_type": "code",
   "execution_count": 51,
   "metadata": {},
   "outputs": [
    {
     "data": {
      "image/png": "[encoded data removed]",
      "text/plain": [
       "<Figure size 1440x576 with 3 Axes>"
      ]
     },
     "metadata": {},
     "output_type": "display_data"
    }
   ],
   "source": [
    "fig, (ax1, ax2, ax3) = plt.subplots(1, 3, figsize=(20,8))\n",
    "fig.suptitle('Продажи платформ')\n",
    "ax1.pie(data_eu_sales, labels=data_eu_sales.index, autopct='%1.0f%%')\n",
    "ax1.set_title('Топ-5 платформ - Европа')\n",
    "ax2.pie(data_na_sales, labels=data_na_sales.index, autopct='%1.0f%%')\n",
    "ax2.set_title('Топ-5 платформ - Сев.Америка')\n",
    "ax3.pie(data_jp_sales, labels=data_jp_sales.index, autopct='%1.0f%%')\n",
    "ax3.set_title('Топ-5 платформ - Япония')\n",
    "plt.show()"
   ]
  },
  {
   "cell_type": "markdown",
   "metadata": {},
   "source": [
    "* Видим, что в Европе лидерами по продажам являются Playstation 3 и 4 — 26% и 34% соответственно. \n",
    "* В Северной Америке более высокая плотность результатов — обе Playstation и Xbox One занимают долю от 19 до 22 процентов, а на первом месте до сих пор Xbox360 — 28%. \n",
    "* В обоих регионах относительно невысока популярность Nintendo 3DS — около 10%, тогда как в Японии, наоборот, эта консоль занимает свыше 50% рынка. \n",
    "* PS3, вторая по популярности платформа в Японии имеет долю 20%, сходную с долей этой консоли в Сев.Америке.\n",
    "* Продукция компании Microsoft вообще не представлена в топ-5 платформах на японском рынке."
   ]
  },
  {
   "cell_type": "markdown",
   "metadata": {},
   "source": [
    "#### Популярность жанров в регионах."
   ]
  },
  {
   "cell_type": "markdown",
   "metadata": {},
   "source": [
    "Аналогичным образом подготовим сводные таблицы и построим круговые диаграммы для отображения популярности жанров по каждому из регионов:"
   ]
  },
  {
   "cell_type": "code",
   "execution_count": 52,
   "metadata": {},
   "outputs": [],
   "source": [
    "data_eu_genres = data_region_genres['eu_sales'].sort_values(ascending=False).head(5) #для построения графика\n",
    "data_na_genres = data_region_genres['na_sales'].sort_values(ascending=False).head(5) #сформируем сводные таблицы по популярным\n",
    "data_jp_genres = data_region_genres['jp_sales'].sort_values(ascending=False).head(5) #платформам в каждом регионе"
   ]
  },
  {
   "cell_type": "code",
   "execution_count": 53,
   "metadata": {},
   "outputs": [
    {
     "data": {
      "image/png": "[encoded data removed]",
      "text/plain": [
       "<Figure size 1440x576 with 3 Axes>"
      ]
     },
     "metadata": {},
     "output_type": "display_data"
    }
   ],
   "source": [
    "fig, (ax1, ax2, ax3) = plt.subplots(1, 3, figsize=(20,8))\n",
    "fig.suptitle('Продажи жанров')\n",
    "ax1.pie(data_eu_genres, labels=data_eu_genres.index, autopct='%1.0f%%')\n",
    "ax1.set_title('Топ-5 жанров - Европа')\n",
    "ax2.pie(data_na_genres, labels=data_na_genres.index, autopct='%1.0f%%')\n",
    "ax2.set_title('Топ-5 жанров - Сев.Америка')\n",
    "ax3.pie(data_jp_genres, labels=data_jp_genres.index, autopct='%1.0f%%')\n",
    "ax3.set_title('Топ-5 жанров - Япония')\n",
    "plt.show()"
   ]
  },
  {
   "cell_type": "markdown",
   "metadata": {},
   "source": [
    "* Доли самых популярных жанров в Америке и Европе во многом похожи друг на друга — первые четыре места (\"экшн\", \"шутер\", \"спорт\" и \"РПГ\") абсолютно идентичны и различаются лишь на несколько процентов. Самый продаваемый жанр — \"экшн\", имеет долю в 35% и 38% соотвественно.\n",
    "* В Японии \"экшн\" также очень популярен и занимает 35% рынка, но самым популярным жанром является \"РПГ\" — 43%.\n",
    "* На западе жанр \"РПГ\" менее популярен, чем в Японии и занимает долю 12-13%."
   ]
  },
  {
   "cell_type": "markdown",
   "metadata": {},
   "source": [
    "#### Влияние рейтинга ESRB на продажи."
   ]
  },
  {
   "cell_type": "markdown",
   "metadata": {},
   "source": [
    "Для начала разберёмся, какие обозначения рейтинга ESRB встречаются нам в актуальной таблице:"
   ]
  },
  {
   "cell_type": "code",
   "execution_count": 54,
   "metadata": {},
   "outputs": [
    {
     "data": {
      "text/plain": [
       "array(['M', 'Unknown', 'E', 'E10+', 'T'], dtype=object)"
      ]
     },
     "execution_count": 54,
     "metadata": {},
     "output_type": "execute_result"
    }
   ],
   "source": [
    "data_fresh['rating'].unique()"
   ]
  },
  {
   "cell_type": "markdown",
   "metadata": {},
   "source": [
    "И для удобства интерпретации данных создадим функцию, которая возвращала бы рекомендуемый возраст пользователя для условных обозначений данного рейтинга:"
   ]
  },
  {
   "cell_type": "code",
   "execution_count": 55,
   "metadata": {},
   "outputs": [],
   "source": [
    "def categorize_rating(rating):\n",
    "    if rating['rating'] == 'E':\n",
    "        return '3+'\n",
    "    elif rating['rating'] == 'E10+':\n",
    "        return '10+'\n",
    "    elif rating['rating'] == 'T':\n",
    "        return '13+'\n",
    "    elif rating['rating'] == 'M':\n",
    "        return '17+'\n",
    "    else:\n",
    "        return 'unknown'\n",
    "data_fresh['rating_age'] = data_fresh.apply(categorize_rating, axis=1)"
   ]
  },
  {
   "cell_type": "markdown",
   "metadata": {},
   "source": [
    "<font color='DarkBlue'><b>Комментарий ревьюера</b></font><br>\n",
    "<font color='DarkGreen'>👌 Когда у нас выскакивают предупреждения, это означает, что в будущей новой версии библиотеки применяемый метод обработки будет не применим. Если мы планируем данный код использовать в будущем, то надо разобраться и изменить код. Если нам он в будущем не понадобится, то можно принудительно запретить вывод предупреждений вставив в ячейку с библиотеками вот такой код: <br>`pd.set_option('chained_assignment', None)` или такой: <br></font>\n",
    "`import warnings`<br>\n",
    "`warnings.filterwarnings(\"ignore\")`"
   ]
  },
  {
   "cell_type": "markdown",
   "metadata": {},
   "source": [
    "Наконец, построим сводную таблицу по продажам игр с различным возрастным рейтингом для разных регионов:"
   ]
  },
  {
   "cell_type": "code",
   "execution_count": 56,
   "metadata": {},
   "outputs": [],
   "source": [
    "data_region_esrb = data_fresh.pivot_table(index = 'rating_age',  values = ['na_sales','jp_sales','eu_sales'], aggfunc = 'sum')"
   ]
  },
  {
   "cell_type": "code",
   "execution_count": 57,
   "metadata": {},
   "outputs": [
    {
     "data": {
      "image/png": "[encoded data removed]",
      "text/plain": [
       "<Figure size 1440x576 with 3 Axes>"
      ]
     },
     "metadata": {},
     "output_type": "display_data"
    }
   ],
   "source": [
    "fig, (ax1, ax2, ax3) = plt.subplots(1, 3, figsize=(20,8))\n",
    "fig.suptitle('Продажи игр по возрастным категориям')\n",
    "ax1.pie(data_region_esrb['eu_sales'], labels=data_region_esrb.index, autopct='%1.0f%%')\n",
    "ax1.set_title('Европа')\n",
    "ax2.pie(data_region_esrb['na_sales'], labels=data_region_esrb.index, autopct='%1.0f%%')\n",
    "ax2.set_title('Сев.Америка')\n",
    "ax3.pie(data_region_esrb['jp_sales'], labels=data_region_esrb.index, autopct='%1.0f%%')\n",
    "ax3.set_title('Япония')\n",
    "plt.show()"
   ]
  },
  {
   "cell_type": "markdown",
   "metadata": {},
   "source": [
    "Как видим, продажи игр с рейтингом М (17+) в Европе и Северной Америке очень высоки, почти 40% всех игр. \\\n",
    "В то же время, в Японии картина совершенно иная: рейтинг ESRB предназначен для маркировки игр для США и Канады, а на территории Японии действует свой возрастной рейтинг CERO. Поэтому 57% игр, изданных в Японии, не получают возрастной оценки ESRB."
   ]
  },
  {
   "cell_type": "markdown",
   "metadata": {},
   "source": [
    "Также дополнительно можно взглянуть на хиты продаж, самые продаваемые игры и франшизы за актуальный период по каждому из регионов:"
   ]
  },
  {
   "cell_type": "code",
   "execution_count": 58,
   "metadata": {},
   "outputs": [
    {
     "data": {
      "text/html": [
       "<div>\n",
       "<style scoped>\n",
       "    .dataframe tbody tr th:only-of-type {\n",
       "        vertical-align: middle;\n",
       "    }\n",
       "\n",
       "    .dataframe tbody tr th {\n",
       "        vertical-align: top;\n",
       "    }\n",
       "\n",
       "    .dataframe thead th {\n",
       "        text-align: right;\n",
       "    }\n",
       "</style>\n",
       "<table border=\"1\" class=\"dataframe\">\n",
       "  <thead>\n",
       "    <tr style=\"text-align: right;\">\n",
       "      <th></th>\n",
       "      <th>eu_sales</th>\n",
       "    </tr>\n",
       "    <tr>\n",
       "      <th>name</th>\n",
       "      <th></th>\n",
       "    </tr>\n",
       "  </thead>\n",
       "  <tbody>\n",
       "    <tr>\n",
       "      <th>Grand Theft Auto V</th>\n",
       "      <td>23.42</td>\n",
       "    </tr>\n",
       "    <tr>\n",
       "      <th>FIFA 15</th>\n",
       "      <td>12.02</td>\n",
       "    </tr>\n",
       "    <tr>\n",
       "      <th>FIFA 16</th>\n",
       "      <td>11.09</td>\n",
       "    </tr>\n",
       "    <tr>\n",
       "      <th>FIFA 14</th>\n",
       "      <td>10.96</td>\n",
       "    </tr>\n",
       "    <tr>\n",
       "      <th>Call of Duty: Black Ops II</th>\n",
       "      <td>10.84</td>\n",
       "    </tr>\n",
       "    <tr>\n",
       "      <th>FIFA Soccer 13</th>\n",
       "      <td>10.16</td>\n",
       "    </tr>\n",
       "  </tbody>\n",
       "</table>\n",
       "</div>"
      ],
      "text/plain": [
       "                            eu_sales\n",
       "name                                \n",
       "Grand Theft Auto V             23.42\n",
       "FIFA 15                        12.02\n",
       "FIFA 16                        11.09\n",
       "FIFA 14                        10.96\n",
       "Call of Duty: Black Ops II     10.84\n",
       "FIFA Soccer 13                 10.16"
      ]
     },
     "execution_count": 58,
     "metadata": {},
     "output_type": "execute_result"
    }
   ],
   "source": [
    "data_topgames_eu = data_fresh.pivot_table(index = 'name', values = 'eu_sales', aggfunc= 'sum').sort_values(by='eu_sales', ascending=False).head(6)\n",
    "data_topgames_eu"
   ]
  },
  {
   "cell_type": "code",
   "execution_count": 59,
   "metadata": {},
   "outputs": [
    {
     "data": {
      "text/html": [
       "<div>\n",
       "<style scoped>\n",
       "    .dataframe tbody tr th:only-of-type {\n",
       "        vertical-align: middle;\n",
       "    }\n",
       "\n",
       "    .dataframe tbody tr th {\n",
       "        vertical-align: top;\n",
       "    }\n",
       "\n",
       "    .dataframe thead th {\n",
       "        text-align: right;\n",
       "    }\n",
       "</style>\n",
       "<table border=\"1\" class=\"dataframe\">\n",
       "  <thead>\n",
       "    <tr style=\"text-align: right;\">\n",
       "      <th></th>\n",
       "      <th>na_sales</th>\n",
       "    </tr>\n",
       "    <tr>\n",
       "      <th>name</th>\n",
       "      <th></th>\n",
       "    </tr>\n",
       "  </thead>\n",
       "  <tbody>\n",
       "    <tr>\n",
       "      <th>Grand Theft Auto V</th>\n",
       "      <td>23.84</td>\n",
       "    </tr>\n",
       "    <tr>\n",
       "      <th>Call of Duty: Ghosts</th>\n",
       "      <td>14.94</td>\n",
       "    </tr>\n",
       "    <tr>\n",
       "      <th>Call of Duty: Black Ops II</th>\n",
       "      <td>14.08</td>\n",
       "    </tr>\n",
       "    <tr>\n",
       "      <th>Call of Duty: Black Ops 3</th>\n",
       "      <td>12.25</td>\n",
       "    </tr>\n",
       "    <tr>\n",
       "      <th>Minecraft</th>\n",
       "      <td>11.28</td>\n",
       "    </tr>\n",
       "    <tr>\n",
       "      <th>Call of Duty: Advanced Warfare</th>\n",
       "      <td>10.51</td>\n",
       "    </tr>\n",
       "  </tbody>\n",
       "</table>\n",
       "</div>"
      ],
      "text/plain": [
       "                                na_sales\n",
       "name                                    \n",
       "Grand Theft Auto V                 23.84\n",
       "Call of Duty: Ghosts               14.94\n",
       "Call of Duty: Black Ops II         14.08\n",
       "Call of Duty: Black Ops 3          12.25\n",
       "Minecraft                          11.28\n",
       "Call of Duty: Advanced Warfare     10.51"
      ]
     },
     "execution_count": 59,
     "metadata": {},
     "output_type": "execute_result"
    }
   ],
   "source": [
    "data_topgames_na = data_fresh.pivot_table(index = 'name', values = 'na_sales', aggfunc= 'sum').sort_values(by='na_sales', ascending=False).head(6)\n",
    "data_topgames_na"
   ]
  },
  {
   "cell_type": "code",
   "execution_count": 60,
   "metadata": {},
   "outputs": [
    {
     "data": {
      "text/html": [
       "<div>\n",
       "<style scoped>\n",
       "    .dataframe tbody tr th:only-of-type {\n",
       "        vertical-align: middle;\n",
       "    }\n",
       "\n",
       "    .dataframe tbody tr th {\n",
       "        vertical-align: top;\n",
       "    }\n",
       "\n",
       "    .dataframe thead th {\n",
       "        text-align: right;\n",
       "    }\n",
       "</style>\n",
       "<table border=\"1\" class=\"dataframe\">\n",
       "  <thead>\n",
       "    <tr style=\"text-align: right;\">\n",
       "      <th></th>\n",
       "      <th>jp_sales</th>\n",
       "    </tr>\n",
       "    <tr>\n",
       "      <th>name</th>\n",
       "      <th></th>\n",
       "    </tr>\n",
       "  </thead>\n",
       "  <tbody>\n",
       "    <tr>\n",
       "      <th>Animal Crossing: New Leaf</th>\n",
       "      <td>4.39</td>\n",
       "    </tr>\n",
       "    <tr>\n",
       "      <th>Pokemon X/Pokemon Y</th>\n",
       "      <td>4.35</td>\n",
       "    </tr>\n",
       "    <tr>\n",
       "      <th>Monster Hunter 4</th>\n",
       "      <td>3.44</td>\n",
       "    </tr>\n",
       "    <tr>\n",
       "      <th>Super Smash Bros. for Wii U and 3DS</th>\n",
       "      <td>3.24</td>\n",
       "    </tr>\n",
       "    <tr>\n",
       "      <th>Yokai Watch 2 Ganso/Honke</th>\n",
       "      <td>3.18</td>\n",
       "    </tr>\n",
       "  </tbody>\n",
       "</table>\n",
       "</div>"
      ],
      "text/plain": [
       "                                     jp_sales\n",
       "name                                         \n",
       "Animal Crossing: New Leaf                4.39\n",
       "Pokemon X/Pokemon Y                      4.35\n",
       "Monster Hunter 4                         3.44\n",
       "Super Smash Bros. for Wii U and 3DS      3.24\n",
       "Yokai Watch 2 Ganso/Honke                3.18"
      ]
     },
     "execution_count": 60,
     "metadata": {},
     "output_type": "execute_result"
    }
   ],
   "source": [
    "data_topgames_jp = data_fresh.pivot_table(index = 'name', values = 'jp_sales', aggfunc= 'sum').sort_values(by='jp_sales', ascending=False).head(5)\n",
    "data_topgames_jp"
   ]
  },
  {
   "cell_type": "markdown",
   "metadata": {},
   "source": [
    "Как мы видим, GTA V является абсолютным лидером в Европе и Америке, суммарно более 47 млн проданных копий за последние 5 лет. Серии спортивных симуляторов FIFA и шутеров Call of Duty также выделяются своими продажами: свежие части этих франшиз продаются тиражами от 10 до 15 млн копий."
   ]
  },
  {
   "cell_type": "markdown",
   "metadata": {},
   "source": [
    "#### Вывод."
   ]
  },
  {
   "cell_type": "markdown",
   "metadata": {},
   "source": [
    "* Разные платформы и жанры популярны в разных регионах по-разному. \n",
    "* Некоторой стабильностью отличается Playstation 3 — доля 26%, 23% и 20% в Европе, Америке и Японии соответственно.\n",
    "* Лидер по продажам в Европе — Playstation 4 (34%), в Америке — Xbox360 (28%). В Японии абсолютным лидером является 3DS —  свыше 50% рынка.\n",
    "* Стабильно продающийся жанр — \"экшн\", имеет долю в 35-38% по всем регионам.\n",
    "* В Японии самым популярным жанром является \"РПГ\" — 43%.\n",
    "* Также на западе популярны \"шутеры\" — доля рынка 27-29%.\n",
    "* GTA V является абсолютным лидером в Европе и Америке, суммарно более 47 млн проданных копий за последние 5 лет.\n",
    "* Рейтинг ESRB не является помехой для продаж в Европе и Сев.Америке, рейтинг 17+ имеет почти 40% всех проданных игр. Но в Японии действует свой возрастной рейтинг CERO. Поэтому 57% игр, изданных в Японии, не получают возрастной оценки ESRB."
   ]
  },
  {
   "cell_type": "markdown",
   "metadata": {},
   "source": [
    "### Проверка гипотез"
   ]
  },
  {
   "cell_type": "markdown",
   "metadata": {},
   "source": [
    "#### Проверим гипотезу: Средние пользовательские рейтинги платформ Xbox One и PC одинаковые."
   ]
  },
  {
   "cell_type": "markdown",
   "metadata": {},
   "source": [
    "В качестве нулевой гипотезы сформулируем следующее утверждение: \\\n",
    "Пользовательские рейтинги игр на платформе Xbox One = Пользовательские рейтинги игр на платформе PC \\\n",
    "Тогда альтернативной гипотезой будет: \\\n",
    "Пользовательские рейтинги игр на платформе Xbox One ≠ Пользовательские рейтинги игр на платформе PC"
   ]
  },
  {
   "cell_type": "markdown",
   "metadata": {},
   "source": [
    "Применим t-test в качестве критерия проверки данной гипотезы. Его применение обуславливается тем, что генеральные совокупности не зависят друг от друга."
   ]
  },
  {
   "cell_type": "code",
   "execution_count": 61,
   "metadata": {},
   "outputs": [
    {
     "name": "stdout",
     "output_type": "stream",
     "text": [
      "p-значение: 0.5489537965134912\n",
      "Не получилось отвергнуть нулевую гипотезу\n"
     ]
    }
   ],
   "source": [
    "results = st.ttest_ind(data_fresh.query('platform == \"XOne\" and user_score != 16')['user_score'], data_fresh.query('platform == \"PC\" and user_score != 16')['user_score'], equal_var=False) # results = вызов метода для проверки гипотезы\n",
    "\n",
    "alpha = 0.01 # задаём значение уровня значимости\n",
    "\n",
    "print('p-значение:', results.pvalue)# вывод значения p-value на экран \n",
    "\n",
    "if results.pvalue < alpha:\n",
    "    print('Отвергаем нулевую гипотезу')\n",
    "else:\n",
    "    print('Не получилось отвергнуть нулевую гипотезу')"
   ]
  },
  {
   "cell_type": "markdown",
   "metadata": {},
   "source": [
    "Таким образом, вероятность получить такое или большее различие между генеральными совокупностями больше 50% — это слишком большая вероятность, чтобы делать вывод о большом различии между средними рейтингами на этих двух платформах."
   ]
  },
  {
   "cell_type": "markdown",
   "metadata": {},
   "source": [
    "#### Теперь проверим следующую гипотезу: Средние пользовательские рейтинги жанров Action и Sports разные."
   ]
  },
  {
   "cell_type": "markdown",
   "metadata": {},
   "source": [
    "В качестве нулевой гипотезы сформулируем следующее утверждение: \\\n",
    "Пользовательские рейтинги игр жанра Action = Пользовательские рейтинги игр жанра Sports \\\n",
    "Тогда альтернативной гипотезой будет: \\\n",
    "Пользовательские рейтинги игр жанра Action ≠ Пользовательские рейтинги игр жанра Sports"
   ]
  },
  {
   "cell_type": "markdown",
   "metadata": {},
   "source": [
    "Аналогично применим t-test в качестве критерия проверки данной гипотезы. Генеральные совокупности не зависят друг от друга."
   ]
  },
  {
   "cell_type": "code",
   "execution_count": 62,
   "metadata": {},
   "outputs": [
    {
     "name": "stdout",
     "output_type": "stream",
     "text": [
      "p-значение: 4.24307776572644e-20\n",
      "Отвергаем нулевую гипотезу\n"
     ]
    }
   ],
   "source": [
    "results = st.ttest_ind(data_fresh.query('genre == \"Action\" and user_score != 16')['user_score'], data_fresh.query('genre == \"Sports\" and user_score != 16')['user_score'], equal_var=False) # results = вызов метода для проверки гипотезы\n",
    "\n",
    "alpha = 0.05 # задаём значение уровня значимости\n",
    "\n",
    "print('p-значение:', results.pvalue)# вывод значения p-value на экран \n",
    "\n",
    "if results.pvalue < alpha:\n",
    "    print('Отвергаем нулевую гипотезу')\n",
    "else:\n",
    "    print('Не получилось отвергнуть нулевую гипотезу')"
   ]
  },
  {
   "cell_type": "markdown",
   "metadata": {},
   "source": [
    "Таким образом, мы убедились в том, что средние пользовательские рейтинги жанров Action и Sports разные."
   ]
  },
  {
   "cell_type": "markdown",
   "metadata": {},
   "source": [
    "### Общий вывод."
   ]
  },
  {
   "cell_type": "markdown",
   "metadata": {},
   "source": [
    "В данном исследовании мы постарались выявить закономерности, влияющие на успешность продаж игры. \n",
    "* Выявить сильную связь между отзывами и продажами нам не удалось.\n",
    "* Самыми прибыльными жанрами являются: \"экшн\", имеет долю в 35-38% по всем регионам; в Японии самым популярным жанром является \"РПГ\" — 43%. Также на западе популярны \"шутеры\" — доля рынка 27-29%.\n",
    "* Самыми прибыльными консолями являются: в Европе — Playstation 4 (34%), в Америке — Xbox360 (28%). В Японии абсолютным лидером является 3DS — свыше 50% рынка.\n",
    "* Самыми перспективными платформами можно назвать Playstation 4 и Xbox One, т.к. их продажи год от года растут.\n",
    "* Рейтинг ESRB почти не влияет на продажи игр.\n",
    "* Среди самых продаваемых франшиз на западном рынке — GTA (47 млн копий за пятилетний период), FIFA, Call of Duty (от 10 до 15 млн проданных копий), на эти игры можно сделать ставку в будущее время как потенциально продаваемые.\n",
    "* Средние пользовательские рейтинги платформ Xbox One и PC одинаковые.\n",
    "* Средние пользовательские рейтинги жанров Action и Sports разные."
   ]
  }
 ],
 "metadata": {
  "ExecuteTimeLog": [
   {
    "duration": 1297,
    "start_time": "2023-03-13T07:42:25.601Z"
   },
   {
    "duration": 435,
    "start_time": "2023-03-13T07:43:18.288Z"
   },
   {
    "duration": 19,
    "start_time": "2023-03-13T07:43:37.500Z"
   },
   {
    "duration": 14,
    "start_time": "2023-03-13T07:43:58.286Z"
   },
   {
    "duration": 9,
    "start_time": "2023-03-13T07:44:17.769Z"
   },
   {
    "duration": 61,
    "start_time": "2023-03-13T07:44:54.655Z"
   },
   {
    "duration": 3,
    "start_time": "2023-03-13T07:54:46.714Z"
   },
   {
    "duration": 4,
    "start_time": "2023-03-13T08:01:13.447Z"
   },
   {
    "duration": 15,
    "start_time": "2023-03-13T08:01:26.260Z"
   },
   {
    "duration": 780,
    "start_time": "2023-03-13T08:08:20.449Z"
   },
   {
    "duration": 18,
    "start_time": "2023-03-13T08:09:09.208Z"
   },
   {
    "duration": 5,
    "start_time": "2023-03-13T08:11:17.658Z"
   },
   {
    "duration": 13,
    "start_time": "2023-03-13T08:34:36.858Z"
   },
   {
    "duration": 34,
    "start_time": "2023-03-13T08:36:53.803Z"
   },
   {
    "duration": 29,
    "start_time": "2023-03-13T08:37:12.255Z"
   },
   {
    "duration": 17,
    "start_time": "2023-03-13T08:38:00.037Z"
   },
   {
    "duration": 41,
    "start_time": "2023-03-13T08:39:03.038Z"
   },
   {
    "duration": 19,
    "start_time": "2023-03-13T08:46:12.560Z"
   },
   {
    "duration": 19,
    "start_time": "2023-03-13T08:48:51.689Z"
   },
   {
    "duration": 9,
    "start_time": "2023-03-13T08:52:47.472Z"
   },
   {
    "duration": 10,
    "start_time": "2023-03-13T09:10:01.396Z"
   },
   {
    "duration": 10,
    "start_time": "2023-03-13T09:10:14.927Z"
   },
   {
    "duration": 47,
    "start_time": "2023-03-13T09:10:28.390Z"
   },
   {
    "duration": 11,
    "start_time": "2023-03-13T09:10:38.338Z"
   },
   {
    "duration": 14,
    "start_time": "2023-03-13T09:10:46.310Z"
   },
   {
    "duration": 6,
    "start_time": "2023-03-13T09:25:09.060Z"
   },
   {
    "duration": 51,
    "start_time": "2023-03-13T09:26:12.862Z"
   },
   {
    "duration": 9,
    "start_time": "2023-03-13T09:26:18.032Z"
   },
   {
    "duration": 1357,
    "start_time": "2023-03-13T09:26:35.399Z"
   },
   {
    "duration": 54,
    "start_time": "2023-03-13T09:26:36.759Z"
   },
   {
    "duration": 22,
    "start_time": "2023-03-13T09:26:36.815Z"
   },
   {
    "duration": 17,
    "start_time": "2023-03-13T09:26:36.838Z"
   },
   {
    "duration": 11,
    "start_time": "2023-03-13T09:26:36.858Z"
   },
   {
    "duration": 94,
    "start_time": "2023-03-13T09:26:36.872Z"
   },
   {
    "duration": 20,
    "start_time": "2023-03-13T09:26:36.968Z"
   },
   {
    "duration": 4,
    "start_time": "2023-03-13T09:26:36.990Z"
   },
   {
    "duration": 25,
    "start_time": "2023-03-13T09:26:36.997Z"
   },
   {
    "duration": 27,
    "start_time": "2023-03-13T09:26:37.024Z"
   },
   {
    "duration": 14,
    "start_time": "2023-03-13T09:26:37.054Z"
   },
   {
    "duration": 32,
    "start_time": "2023-03-13T09:26:37.071Z"
   },
   {
    "duration": 8,
    "start_time": "2023-03-13T09:26:37.105Z"
   },
   {
    "duration": 44,
    "start_time": "2023-03-13T09:26:37.117Z"
   },
   {
    "duration": 18,
    "start_time": "2023-03-13T09:27:19.901Z"
   },
   {
    "duration": 3,
    "start_time": "2023-03-13T09:29:43.774Z"
   },
   {
    "duration": 19,
    "start_time": "2023-03-13T09:30:11.820Z"
   },
   {
    "duration": 4,
    "start_time": "2023-03-13T09:38:51.212Z"
   },
   {
    "duration": 14,
    "start_time": "2023-03-13T09:42:38.251Z"
   },
   {
    "duration": 5,
    "start_time": "2023-03-13T09:43:38.612Z"
   },
   {
    "duration": 12,
    "start_time": "2023-03-13T09:43:47.701Z"
   },
   {
    "duration": 13,
    "start_time": "2023-03-13T09:46:07.695Z"
   },
   {
    "duration": 8,
    "start_time": "2023-03-13T09:46:53.319Z"
   },
   {
    "duration": 5,
    "start_time": "2023-03-13T09:48:01.308Z"
   },
   {
    "duration": 4,
    "start_time": "2023-03-13T09:48:45.639Z"
   },
   {
    "duration": 382,
    "start_time": "2023-03-13T09:54:14.546Z"
   },
   {
    "duration": 342,
    "start_time": "2023-03-13T09:55:02.304Z"
   },
   {
    "duration": 303,
    "start_time": "2023-03-13T09:55:30.363Z"
   },
   {
    "duration": 4,
    "start_time": "2023-03-13T09:59:45.761Z"
   },
   {
    "duration": 17,
    "start_time": "2023-03-13T09:59:58.500Z"
   },
   {
    "duration": 7,
    "start_time": "2023-03-13T10:02:43.722Z"
   },
   {
    "duration": 5,
    "start_time": "2023-03-13T10:04:18.874Z"
   },
   {
    "duration": 45,
    "start_time": "2023-03-13T10:05:06.644Z"
   },
   {
    "duration": 3,
    "start_time": "2023-03-13T10:18:06.760Z"
   },
   {
    "duration": 128,
    "start_time": "2023-03-13T10:22:34.416Z"
   },
   {
    "duration": 722,
    "start_time": "2023-03-13T10:23:17.440Z"
   },
   {
    "duration": 405,
    "start_time": "2023-03-13T10:23:26.201Z"
   },
   {
    "duration": 298,
    "start_time": "2023-03-13T10:24:09.807Z"
   },
   {
    "duration": 329,
    "start_time": "2023-03-13T10:30:01.270Z"
   },
   {
    "duration": 5,
    "start_time": "2023-03-13T10:35:33.442Z"
   },
   {
    "duration": 19,
    "start_time": "2023-03-13T10:38:16.622Z"
   },
   {
    "duration": 34,
    "start_time": "2023-03-13T10:38:34.496Z"
   },
   {
    "duration": 3988,
    "start_time": "2023-03-13T10:39:47.439Z"
   },
   {
    "duration": 4053,
    "start_time": "2023-03-13T10:40:21.193Z"
   },
   {
    "duration": 488,
    "start_time": "2023-03-13T10:41:26.796Z"
   },
   {
    "duration": 17,
    "start_time": "2023-03-13T10:47:10.664Z"
   },
   {
    "duration": 19,
    "start_time": "2023-03-13T10:47:53.641Z"
   },
   {
    "duration": 16,
    "start_time": "2023-03-13T10:49:42.247Z"
   },
   {
    "duration": 25,
    "start_time": "2023-03-13T10:49:55.639Z"
   },
   {
    "duration": 17,
    "start_time": "2023-03-13T10:50:01.650Z"
   },
   {
    "duration": 336,
    "start_time": "2023-03-13T10:50:44.658Z"
   },
   {
    "duration": 21,
    "start_time": "2023-03-13T10:54:34.262Z"
   },
   {
    "duration": 121,
    "start_time": "2023-03-13T10:57:59.607Z"
   },
   {
    "duration": 17,
    "start_time": "2023-03-13T10:58:29.025Z"
   },
   {
    "duration": 5,
    "start_time": "2023-03-13T11:05:13.724Z"
   },
   {
    "duration": 1333,
    "start_time": "2023-03-13T11:09:30.847Z"
   },
   {
    "duration": 55,
    "start_time": "2023-03-13T11:09:32.183Z"
   },
   {
    "duration": 32,
    "start_time": "2023-03-13T11:09:32.240Z"
   },
   {
    "duration": 19,
    "start_time": "2023-03-13T11:09:32.276Z"
   },
   {
    "duration": 12,
    "start_time": "2023-03-13T11:09:32.297Z"
   },
   {
    "duration": 106,
    "start_time": "2023-03-13T11:09:32.311Z"
   },
   {
    "duration": 19,
    "start_time": "2023-03-13T11:09:32.420Z"
   },
   {
    "duration": 981,
    "start_time": "2023-03-13T11:09:32.441Z"
   },
   {
    "duration": 0,
    "start_time": "2023-03-13T11:09:33.424Z"
   },
   {
    "duration": 0,
    "start_time": "2023-03-13T11:09:33.426Z"
   },
   {
    "duration": 0,
    "start_time": "2023-03-13T11:09:33.428Z"
   },
   {
    "duration": 0,
    "start_time": "2023-03-13T11:09:33.429Z"
   },
   {
    "duration": 0,
    "start_time": "2023-03-13T11:09:33.431Z"
   },
   {
    "duration": 0,
    "start_time": "2023-03-13T11:09:33.432Z"
   },
   {
    "duration": 0,
    "start_time": "2023-03-13T11:09:33.433Z"
   },
   {
    "duration": 0,
    "start_time": "2023-03-13T11:09:33.435Z"
   },
   {
    "duration": 0,
    "start_time": "2023-03-13T11:09:33.436Z"
   },
   {
    "duration": 0,
    "start_time": "2023-03-13T11:09:33.438Z"
   },
   {
    "duration": 0,
    "start_time": "2023-03-13T11:09:33.439Z"
   },
   {
    "duration": 0,
    "start_time": "2023-03-13T11:09:33.441Z"
   },
   {
    "duration": 0,
    "start_time": "2023-03-13T11:09:33.443Z"
   },
   {
    "duration": 6,
    "start_time": "2023-03-13T11:11:21.757Z"
   },
   {
    "duration": 919,
    "start_time": "2023-03-13T11:11:24.238Z"
   },
   {
    "duration": 6,
    "start_time": "2023-03-13T11:11:30.606Z"
   },
   {
    "duration": 3,
    "start_time": "2023-03-13T11:11:32.544Z"
   },
   {
    "duration": 15,
    "start_time": "2023-03-13T11:11:44.191Z"
   },
   {
    "duration": 4,
    "start_time": "2023-03-13T11:12:24.696Z"
   },
   {
    "duration": 10,
    "start_time": "2023-03-13T11:16:29.853Z"
   },
   {
    "duration": 7,
    "start_time": "2023-03-13T11:16:32.904Z"
   },
   {
    "duration": 7,
    "start_time": "2023-03-13T11:16:34.109Z"
   },
   {
    "duration": 8,
    "start_time": "2023-03-13T11:16:35.520Z"
   },
   {
    "duration": 5,
    "start_time": "2023-03-13T11:16:38.011Z"
   },
   {
    "duration": 5,
    "start_time": "2023-03-13T11:17:31.239Z"
   },
   {
    "duration": 6,
    "start_time": "2023-03-13T11:17:33.032Z"
   },
   {
    "duration": 342,
    "start_time": "2023-03-13T11:17:38.141Z"
   },
   {
    "duration": 323,
    "start_time": "2023-03-13T11:18:57.669Z"
   },
   {
    "duration": 302,
    "start_time": "2023-03-13T11:22:52.754Z"
   },
   {
    "duration": 12,
    "start_time": "2023-03-13T11:41:53.107Z"
   },
   {
    "duration": 9,
    "start_time": "2023-03-13T11:43:21.098Z"
   },
   {
    "duration": 31,
    "start_time": "2023-03-13T11:43:38.254Z"
   },
   {
    "duration": 9,
    "start_time": "2023-03-13T11:44:21.325Z"
   },
   {
    "duration": 11,
    "start_time": "2023-03-13T11:44:59.019Z"
   },
   {
    "duration": 24,
    "start_time": "2023-03-13T11:45:11.593Z"
   },
   {
    "duration": 10,
    "start_time": "2023-03-13T11:45:28.712Z"
   },
   {
    "duration": 50,
    "start_time": "2023-03-13T11:46:31.621Z"
   },
   {
    "duration": 11,
    "start_time": "2023-03-13T11:46:36.754Z"
   },
   {
    "duration": 205,
    "start_time": "2023-03-13T11:46:55.562Z"
   },
   {
    "duration": 194,
    "start_time": "2023-03-13T11:47:09.248Z"
   },
   {
    "duration": 208,
    "start_time": "2023-03-13T11:49:22.267Z"
   },
   {
    "duration": 179,
    "start_time": "2023-03-13T11:51:14.456Z"
   },
   {
    "duration": 205,
    "start_time": "2023-03-13T11:51:35.437Z"
   },
   {
    "duration": 219,
    "start_time": "2023-03-13T11:51:44.874Z"
   },
   {
    "duration": 196,
    "start_time": "2023-03-13T11:51:53.324Z"
   },
   {
    "duration": 202,
    "start_time": "2023-03-13T11:52:49.107Z"
   },
   {
    "duration": 178,
    "start_time": "2023-03-13T11:52:58.204Z"
   },
   {
    "duration": 184,
    "start_time": "2023-03-13T11:53:57.943Z"
   },
   {
    "duration": 168,
    "start_time": "2023-03-13T11:59:07.032Z"
   },
   {
    "duration": 179,
    "start_time": "2023-03-13T11:59:13.376Z"
   },
   {
    "duration": 161,
    "start_time": "2023-03-13T11:59:18.801Z"
   },
   {
    "duration": 159,
    "start_time": "2023-03-13T11:59:23.539Z"
   },
   {
    "duration": 161,
    "start_time": "2023-03-13T11:59:31.659Z"
   },
   {
    "duration": 159,
    "start_time": "2023-03-13T11:59:36.741Z"
   },
   {
    "duration": 15,
    "start_time": "2023-03-13T12:00:39.414Z"
   },
   {
    "duration": 13,
    "start_time": "2023-03-13T12:03:27.344Z"
   },
   {
    "duration": 11,
    "start_time": "2023-03-13T12:04:39.060Z"
   },
   {
    "duration": 13,
    "start_time": "2023-03-13T12:07:17.762Z"
   },
   {
    "duration": 12,
    "start_time": "2023-03-13T12:10:21.609Z"
   },
   {
    "duration": 13,
    "start_time": "2023-03-13T12:10:48.714Z"
   },
   {
    "duration": 144,
    "start_time": "2023-03-13T12:12:12.433Z"
   },
   {
    "duration": 179,
    "start_time": "2023-03-13T12:12:35.257Z"
   },
   {
    "duration": 166,
    "start_time": "2023-03-13T12:14:41.622Z"
   },
   {
    "duration": 196,
    "start_time": "2023-03-13T12:15:00.143Z"
   },
   {
    "duration": 12,
    "start_time": "2023-03-13T12:21:10.805Z"
   },
   {
    "duration": 83,
    "start_time": "2023-03-14T07:37:15.929Z"
   },
   {
    "duration": 1807,
    "start_time": "2023-03-14T07:37:32.581Z"
   },
   {
    "duration": 144,
    "start_time": "2023-03-14T07:37:34.391Z"
   },
   {
    "duration": 24,
    "start_time": "2023-03-14T07:37:34.538Z"
   },
   {
    "duration": 58,
    "start_time": "2023-03-14T07:37:34.565Z"
   },
   {
    "duration": 26,
    "start_time": "2023-03-14T07:37:34.627Z"
   },
   {
    "duration": 117,
    "start_time": "2023-03-14T07:37:34.655Z"
   },
   {
    "duration": 26,
    "start_time": "2023-03-14T07:37:34.775Z"
   },
   {
    "duration": 19,
    "start_time": "2023-03-14T07:37:34.803Z"
   },
   {
    "duration": 25,
    "start_time": "2023-03-14T07:37:34.827Z"
   },
   {
    "duration": 28,
    "start_time": "2023-03-14T07:37:34.865Z"
   },
   {
    "duration": 32,
    "start_time": "2023-03-14T07:37:34.896Z"
   },
   {
    "duration": 51,
    "start_time": "2023-03-14T07:37:34.931Z"
   },
   {
    "duration": 31,
    "start_time": "2023-03-14T07:37:34.985Z"
   },
   {
    "duration": 18,
    "start_time": "2023-03-14T07:37:35.021Z"
   },
   {
    "duration": 17,
    "start_time": "2023-03-14T07:37:35.042Z"
   },
   {
    "duration": 49,
    "start_time": "2023-03-14T07:37:35.062Z"
   },
   {
    "duration": 17,
    "start_time": "2023-03-14T07:37:35.114Z"
   },
   {
    "duration": 19,
    "start_time": "2023-03-14T07:37:35.134Z"
   },
   {
    "duration": 24,
    "start_time": "2023-03-14T07:37:35.155Z"
   },
   {
    "duration": 400,
    "start_time": "2023-03-14T07:37:35.181Z"
   },
   {
    "duration": 389,
    "start_time": "2023-03-14T07:37:35.584Z"
   },
   {
    "duration": 259,
    "start_time": "2023-03-14T07:37:35.977Z"
   },
   {
    "duration": 326,
    "start_time": "2023-03-14T07:37:36.239Z"
   },
   {
    "duration": 294,
    "start_time": "2023-03-14T07:37:36.568Z"
   },
   {
    "duration": 382,
    "start_time": "2023-03-14T07:37:36.869Z"
   },
   {
    "duration": 281,
    "start_time": "2023-03-14T07:37:37.253Z"
   },
   {
    "duration": 191,
    "start_time": "2023-03-14T07:37:37.536Z"
   },
   {
    "duration": 287,
    "start_time": "2023-03-14T07:37:37.730Z"
   },
   {
    "duration": 183,
    "start_time": "2023-03-14T07:39:11.764Z"
   },
   {
    "duration": 243,
    "start_time": "2023-03-14T07:39:34.495Z"
   },
   {
    "duration": 200,
    "start_time": "2023-03-14T07:40:02.423Z"
   },
   {
    "duration": 443,
    "start_time": "2023-03-14T07:40:11.367Z"
   },
   {
    "duration": 187,
    "start_time": "2023-03-14T07:40:57.583Z"
   },
   {
    "duration": 50,
    "start_time": "2023-03-14T07:41:03.257Z"
   },
   {
    "duration": 44,
    "start_time": "2023-03-14T07:41:10.131Z"
   },
   {
    "duration": 186,
    "start_time": "2023-03-14T07:41:21.553Z"
   },
   {
    "duration": 2033,
    "start_time": "2023-03-14T07:49:13.779Z"
   },
   {
    "duration": 1318,
    "start_time": "2023-03-14T07:50:07.173Z"
   },
   {
    "duration": 1805,
    "start_time": "2023-03-14T07:51:41.904Z"
   },
   {
    "duration": 1737,
    "start_time": "2023-03-14T07:56:08.572Z"
   },
   {
    "duration": 519,
    "start_time": "2023-03-14T07:58:21.519Z"
   },
   {
    "duration": 3820,
    "start_time": "2023-03-14T07:59:36.147Z"
   },
   {
    "duration": 570,
    "start_time": "2023-03-14T07:59:50.713Z"
   },
   {
    "duration": 23,
    "start_time": "2023-03-14T08:06:21.165Z"
   },
   {
    "duration": 24,
    "start_time": "2023-03-14T08:06:43.019Z"
   },
   {
    "duration": 519,
    "start_time": "2023-03-14T08:07:03.061Z"
   },
   {
    "duration": 21,
    "start_time": "2023-03-14T09:59:18.268Z"
   },
   {
    "duration": 14,
    "start_time": "2023-03-14T09:59:23.529Z"
   },
   {
    "duration": 12,
    "start_time": "2023-03-14T09:59:29.556Z"
   },
   {
    "duration": 18,
    "start_time": "2023-03-14T09:59:37.106Z"
   },
   {
    "duration": 25,
    "start_time": "2023-03-14T09:59:46.199Z"
   },
   {
    "duration": 727,
    "start_time": "2023-03-14T09:59:54.125Z"
   },
   {
    "duration": 620,
    "start_time": "2023-03-14T10:00:12.876Z"
   },
   {
    "duration": 415,
    "start_time": "2023-03-14T10:03:18.704Z"
   },
   {
    "duration": 228,
    "start_time": "2023-03-14T10:04:51.500Z"
   },
   {
    "duration": 272,
    "start_time": "2023-03-14T10:08:56.954Z"
   },
   {
    "duration": 207,
    "start_time": "2023-03-14T10:09:28.601Z"
   },
   {
    "duration": 215,
    "start_time": "2023-03-14T10:09:52.299Z"
   },
   {
    "duration": 262,
    "start_time": "2023-03-14T10:10:49.543Z"
   },
   {
    "duration": 264,
    "start_time": "2023-03-14T10:10:57.639Z"
   },
   {
    "duration": 1377,
    "start_time": "2023-03-14T10:11:26.852Z"
   },
   {
    "duration": 53,
    "start_time": "2023-03-14T10:11:28.233Z"
   },
   {
    "duration": 20,
    "start_time": "2023-03-14T10:11:28.288Z"
   },
   {
    "duration": 21,
    "start_time": "2023-03-14T10:11:28.310Z"
   },
   {
    "duration": 32,
    "start_time": "2023-03-14T10:11:28.333Z"
   },
   {
    "duration": 60,
    "start_time": "2023-03-14T10:11:28.367Z"
   },
   {
    "duration": 50,
    "start_time": "2023-03-14T10:11:28.429Z"
   },
   {
    "duration": 6,
    "start_time": "2023-03-14T10:11:28.481Z"
   },
   {
    "duration": 13,
    "start_time": "2023-03-14T10:11:28.489Z"
   },
   {
    "duration": 16,
    "start_time": "2023-03-14T10:11:28.505Z"
   },
   {
    "duration": 48,
    "start_time": "2023-03-14T10:11:28.523Z"
   },
   {
    "duration": 5,
    "start_time": "2023-03-14T10:11:28.573Z"
   },
   {
    "duration": 16,
    "start_time": "2023-03-14T10:11:28.580Z"
   },
   {
    "duration": 7,
    "start_time": "2023-03-14T10:11:28.598Z"
   },
   {
    "duration": 10,
    "start_time": "2023-03-14T10:11:28.607Z"
   },
   {
    "duration": 18,
    "start_time": "2023-03-14T10:11:28.619Z"
   },
   {
    "duration": 29,
    "start_time": "2023-03-14T10:11:28.639Z"
   },
   {
    "duration": 12,
    "start_time": "2023-03-14T10:11:28.671Z"
   },
   {
    "duration": 11,
    "start_time": "2023-03-14T10:11:28.685Z"
   },
   {
    "duration": 360,
    "start_time": "2023-03-14T10:11:28.697Z"
   },
   {
    "duration": 354,
    "start_time": "2023-03-14T10:11:29.064Z"
   },
   {
    "duration": 218,
    "start_time": "2023-03-14T10:11:29.420Z"
   },
   {
    "duration": 200,
    "start_time": "2023-03-14T10:11:29.640Z"
   },
   {
    "duration": 167,
    "start_time": "2023-03-14T10:11:29.842Z"
   },
   {
    "duration": 277,
    "start_time": "2023-03-14T10:11:30.011Z"
   },
   {
    "duration": 180,
    "start_time": "2023-03-14T10:11:30.292Z"
   },
   {
    "duration": 186,
    "start_time": "2023-03-14T10:11:30.474Z"
   },
   {
    "duration": 217,
    "start_time": "2023-03-14T10:11:30.666Z"
   },
   {
    "duration": 157,
    "start_time": "2023-03-14T10:11:30.884Z"
   },
   {
    "duration": 155,
    "start_time": "2023-03-14T10:11:31.043Z"
   },
   {
    "duration": 141,
    "start_time": "2023-03-14T10:11:31.200Z"
   },
   {
    "duration": 176,
    "start_time": "2023-03-14T10:11:31.343Z"
   },
   {
    "duration": 333,
    "start_time": "2023-03-14T10:11:31.521Z"
   },
   {
    "duration": 248,
    "start_time": "2023-03-14T10:12:01.929Z"
   },
   {
    "duration": 299,
    "start_time": "2023-03-14T10:12:12.970Z"
   },
   {
    "duration": 204,
    "start_time": "2023-03-14T10:12:17.857Z"
   },
   {
    "duration": 188,
    "start_time": "2023-03-14T10:12:25.667Z"
   },
   {
    "duration": 193,
    "start_time": "2023-03-14T10:12:30.805Z"
   },
   {
    "duration": 263,
    "start_time": "2023-03-14T10:12:38.355Z"
   },
   {
    "duration": 203,
    "start_time": "2023-03-14T10:12:45.063Z"
   },
   {
    "duration": 287,
    "start_time": "2023-03-14T10:12:54.560Z"
   },
   {
    "duration": 167,
    "start_time": "2023-03-14T10:13:08.744Z"
   },
   {
    "duration": 203,
    "start_time": "2023-03-14T10:13:32.041Z"
   },
   {
    "duration": 138,
    "start_time": "2023-03-14T10:13:47.396Z"
   },
   {
    "duration": 3077,
    "start_time": "2023-03-14T10:15:01.812Z"
   },
   {
    "duration": 175,
    "start_time": "2023-03-14T10:15:11.070Z"
   },
   {
    "duration": 361,
    "start_time": "2023-03-14T10:18:44.159Z"
   },
   {
    "duration": 321,
    "start_time": "2023-03-14T10:20:26.139Z"
   },
   {
    "duration": 548,
    "start_time": "2023-03-14T10:20:30.507Z"
   },
   {
    "duration": 371,
    "start_time": "2023-03-14T10:20:58.140Z"
   },
   {
    "duration": 376,
    "start_time": "2023-03-14T10:21:16.897Z"
   },
   {
    "duration": 349,
    "start_time": "2023-03-14T10:23:30.721Z"
   },
   {
    "duration": 351,
    "start_time": "2023-03-14T10:23:40.059Z"
   },
   {
    "duration": 337,
    "start_time": "2023-03-14T10:23:47.943Z"
   },
   {
    "duration": 328,
    "start_time": "2023-03-14T10:24:49.915Z"
   },
   {
    "duration": 193,
    "start_time": "2023-03-14T10:25:26.017Z"
   },
   {
    "duration": 195,
    "start_time": "2023-03-14T10:25:35.131Z"
   },
   {
    "duration": 192,
    "start_time": "2023-03-14T10:25:41.469Z"
   },
   {
    "duration": 194,
    "start_time": "2023-03-14T10:25:51.659Z"
   },
   {
    "duration": 182,
    "start_time": "2023-03-14T10:25:59.551Z"
   },
   {
    "duration": 337,
    "start_time": "2023-03-14T10:26:39.722Z"
   },
   {
    "duration": 1374,
    "start_time": "2023-03-14T10:48:42.470Z"
   },
   {
    "duration": 55,
    "start_time": "2023-03-14T10:48:43.846Z"
   },
   {
    "duration": 27,
    "start_time": "2023-03-14T10:48:43.903Z"
   },
   {
    "duration": 35,
    "start_time": "2023-03-14T10:48:43.933Z"
   },
   {
    "duration": 30,
    "start_time": "2023-03-14T10:48:43.972Z"
   },
   {
    "duration": 86,
    "start_time": "2023-03-14T10:48:44.004Z"
   },
   {
    "duration": 23,
    "start_time": "2023-03-14T10:48:44.093Z"
   },
   {
    "duration": 12,
    "start_time": "2023-03-14T10:48:44.118Z"
   },
   {
    "duration": 35,
    "start_time": "2023-03-14T10:48:44.132Z"
   },
   {
    "duration": 37,
    "start_time": "2023-03-14T10:48:44.171Z"
   },
   {
    "duration": 26,
    "start_time": "2023-03-14T10:48:44.211Z"
   },
   {
    "duration": 26,
    "start_time": "2023-03-14T10:48:44.239Z"
   },
   {
    "duration": 21,
    "start_time": "2023-03-14T10:48:44.267Z"
   },
   {
    "duration": 15,
    "start_time": "2023-03-14T10:48:44.291Z"
   },
   {
    "duration": 20,
    "start_time": "2023-03-14T10:48:44.309Z"
   },
   {
    "duration": 21,
    "start_time": "2023-03-14T10:48:44.331Z"
   },
   {
    "duration": 11,
    "start_time": "2023-03-14T10:48:44.355Z"
   },
   {
    "duration": 14,
    "start_time": "2023-03-14T10:48:44.368Z"
   },
   {
    "duration": 19,
    "start_time": "2023-03-14T10:48:44.384Z"
   },
   {
    "duration": 547,
    "start_time": "2023-03-14T10:48:44.405Z"
   },
   {
    "duration": 435,
    "start_time": "2023-03-14T10:48:44.954Z"
   },
   {
    "duration": 228,
    "start_time": "2023-03-14T10:48:45.391Z"
   },
   {
    "duration": 238,
    "start_time": "2023-03-14T10:48:45.621Z"
   },
   {
    "duration": 222,
    "start_time": "2023-03-14T10:48:45.866Z"
   },
   {
    "duration": 304,
    "start_time": "2023-03-14T10:48:46.091Z"
   },
   {
    "duration": 204,
    "start_time": "2023-03-14T10:48:46.397Z"
   },
   {
    "duration": 226,
    "start_time": "2023-03-14T10:48:46.603Z"
   },
   {
    "duration": 357,
    "start_time": "2023-03-14T10:48:46.833Z"
   },
   {
    "duration": 9,
    "start_time": "2023-03-14T10:51:22.843Z"
   },
   {
    "duration": 388,
    "start_time": "2023-03-14T10:51:36.531Z"
   },
   {
    "duration": 233,
    "start_time": "2023-03-14T10:55:31.715Z"
   },
   {
    "duration": 208,
    "start_time": "2023-03-14T10:57:06.706Z"
   },
   {
    "duration": 308,
    "start_time": "2023-03-14T10:57:19.906Z"
   },
   {
    "duration": 18,
    "start_time": "2023-03-14T10:57:33.710Z"
   },
   {
    "duration": 25,
    "start_time": "2023-03-14T10:57:39.720Z"
   },
   {
    "duration": 38,
    "start_time": "2023-03-14T11:02:48.200Z"
   },
   {
    "duration": 444,
    "start_time": "2023-03-14T11:03:31.275Z"
   },
   {
    "duration": 347,
    "start_time": "2023-03-14T11:05:16.067Z"
   },
   {
    "duration": 364,
    "start_time": "2023-03-14T11:06:07.155Z"
   },
   {
    "duration": 327,
    "start_time": "2023-03-14T11:06:30.793Z"
   },
   {
    "duration": 397,
    "start_time": "2023-03-14T11:07:24.109Z"
   },
   {
    "duration": 7,
    "start_time": "2023-03-14T12:14:41.194Z"
   },
   {
    "duration": 413,
    "start_time": "2023-03-14T12:14:50.112Z"
   },
   {
    "duration": 452,
    "start_time": "2023-03-14T12:15:03.022Z"
   },
   {
    "duration": 94,
    "start_time": "2023-03-14T12:17:40.862Z"
   },
   {
    "duration": 258,
    "start_time": "2023-03-14T12:18:09.094Z"
   },
   {
    "duration": 249,
    "start_time": "2023-03-14T12:18:55.251Z"
   },
   {
    "duration": 244,
    "start_time": "2023-03-14T12:19:23.709Z"
   },
   {
    "duration": 19,
    "start_time": "2023-03-14T12:21:53.292Z"
   },
   {
    "duration": 16,
    "start_time": "2023-03-14T12:22:41.325Z"
   },
   {
    "duration": 256,
    "start_time": "2023-03-14T12:22:52.675Z"
   },
   {
    "duration": 382,
    "start_time": "2023-03-14T12:23:06.636Z"
   },
   {
    "duration": 274,
    "start_time": "2023-03-14T12:31:12.504Z"
   },
   {
    "duration": 242,
    "start_time": "2023-03-14T12:31:25.925Z"
   },
   {
    "duration": 9,
    "start_time": "2023-03-14T12:34:27.519Z"
   },
   {
    "duration": 273,
    "start_time": "2023-03-14T12:34:36.453Z"
   },
   {
    "duration": 224,
    "start_time": "2023-03-14T12:34:56.308Z"
   },
   {
    "duration": 8,
    "start_time": "2023-03-14T12:35:15.876Z"
   },
   {
    "duration": 7,
    "start_time": "2023-03-14T12:35:27.328Z"
   },
   {
    "duration": 234,
    "start_time": "2023-03-14T12:40:37.764Z"
   },
   {
    "duration": 331,
    "start_time": "2023-03-14T12:42:27.914Z"
   },
   {
    "duration": 243,
    "start_time": "2023-03-14T12:42:52.254Z"
   },
   {
    "duration": 235,
    "start_time": "2023-03-14T12:45:49.635Z"
   },
   {
    "duration": 225,
    "start_time": "2023-03-14T12:46:05.597Z"
   },
   {
    "duration": 238,
    "start_time": "2023-03-14T12:55:49.061Z"
   },
   {
    "duration": 244,
    "start_time": "2023-03-14T12:55:53.955Z"
   },
   {
    "duration": 82,
    "start_time": "2023-03-14T12:58:20.439Z"
   },
   {
    "duration": 88,
    "start_time": "2023-03-14T12:59:11.789Z"
   },
   {
    "duration": 207,
    "start_time": "2023-03-14T13:01:26.007Z"
   },
   {
    "duration": 251,
    "start_time": "2023-03-14T13:01:34.660Z"
   },
   {
    "duration": 256,
    "start_time": "2023-03-14T13:03:24.856Z"
   },
   {
    "duration": 221,
    "start_time": "2023-03-14T13:04:04.295Z"
   },
   {
    "duration": 186,
    "start_time": "2023-03-14T13:12:37.219Z"
   },
   {
    "duration": 188,
    "start_time": "2023-03-14T13:13:17.300Z"
   },
   {
    "duration": 342,
    "start_time": "2023-03-14T13:13:56.496Z"
   },
   {
    "duration": 209,
    "start_time": "2023-03-14T13:14:00.012Z"
   },
   {
    "duration": 202,
    "start_time": "2023-03-14T13:14:05.785Z"
   },
   {
    "duration": 213,
    "start_time": "2023-03-14T13:14:15.021Z"
   },
   {
    "duration": 200,
    "start_time": "2023-03-14T13:14:19.494Z"
   },
   {
    "duration": 207,
    "start_time": "2023-03-14T13:14:31.472Z"
   },
   {
    "duration": 233,
    "start_time": "2023-03-14T13:14:55.763Z"
   },
   {
    "duration": 182,
    "start_time": "2023-03-14T13:15:16.517Z"
   },
   {
    "duration": 183,
    "start_time": "2023-03-14T13:15:21.121Z"
   },
   {
    "duration": 1662,
    "start_time": "2023-03-15T05:02:59.617Z"
   },
   {
    "duration": 108,
    "start_time": "2023-03-15T05:03:01.281Z"
   },
   {
    "duration": 17,
    "start_time": "2023-03-15T05:03:01.392Z"
   },
   {
    "duration": 37,
    "start_time": "2023-03-15T05:03:01.411Z"
   },
   {
    "duration": 24,
    "start_time": "2023-03-15T05:03:01.450Z"
   },
   {
    "duration": 100,
    "start_time": "2023-03-15T05:03:01.477Z"
   },
   {
    "duration": 44,
    "start_time": "2023-03-15T05:03:01.579Z"
   },
   {
    "duration": 47,
    "start_time": "2023-03-15T05:03:01.625Z"
   },
   {
    "duration": 93,
    "start_time": "2023-03-15T05:03:01.674Z"
   },
   {
    "duration": 61,
    "start_time": "2023-03-15T05:03:01.770Z"
   },
   {
    "duration": 71,
    "start_time": "2023-03-15T05:03:01.833Z"
   },
   {
    "duration": 45,
    "start_time": "2023-03-15T05:03:01.906Z"
   },
   {
    "duration": 91,
    "start_time": "2023-03-15T05:03:01.953Z"
   },
   {
    "duration": 86,
    "start_time": "2023-03-15T05:03:02.047Z"
   },
   {
    "duration": 87,
    "start_time": "2023-03-15T05:03:02.135Z"
   },
   {
    "duration": 47,
    "start_time": "2023-03-15T05:03:02.224Z"
   },
   {
    "duration": 51,
    "start_time": "2023-03-15T05:03:02.274Z"
   },
   {
    "duration": 38,
    "start_time": "2023-03-15T05:03:02.327Z"
   },
   {
    "duration": 39,
    "start_time": "2023-03-15T05:03:02.367Z"
   },
   {
    "duration": 499,
    "start_time": "2023-03-15T05:03:02.408Z"
   },
   {
    "duration": 401,
    "start_time": "2023-03-15T05:03:02.908Z"
   },
   {
    "duration": 216,
    "start_time": "2023-03-15T05:03:03.310Z"
   },
   {
    "duration": 203,
    "start_time": "2023-03-15T05:03:03.528Z"
   },
   {
    "duration": 202,
    "start_time": "2023-03-15T05:03:03.734Z"
   },
   {
    "duration": 288,
    "start_time": "2023-03-15T05:03:03.938Z"
   },
   {
    "duration": 219,
    "start_time": "2023-03-15T05:03:04.229Z"
   },
   {
    "duration": 197,
    "start_time": "2023-03-15T05:03:04.450Z"
   },
   {
    "duration": 6,
    "start_time": "2023-03-15T05:03:04.651Z"
   },
   {
    "duration": 359,
    "start_time": "2023-03-15T05:03:04.658Z"
   },
   {
    "duration": 347,
    "start_time": "2023-03-15T05:03:05.019Z"
   },
   {
    "duration": 254,
    "start_time": "2023-03-15T05:03:05.368Z"
   },
   {
    "duration": 8,
    "start_time": "2023-03-15T05:03:05.624Z"
   },
   {
    "duration": 236,
    "start_time": "2023-03-15T05:03:05.634Z"
   },
   {
    "duration": 223,
    "start_time": "2023-03-15T05:03:05.879Z"
   },
   {
    "duration": 208,
    "start_time": "2023-03-15T05:03:06.104Z"
   },
   {
    "duration": 300,
    "start_time": "2023-03-15T05:03:06.313Z"
   },
   {
    "duration": 433,
    "start_time": "2023-03-15T05:13:05.903Z"
   },
   {
    "duration": 414,
    "start_time": "2023-03-15T05:13:40.018Z"
   },
   {
    "duration": 248,
    "start_time": "2023-03-15T06:32:46.815Z"
   },
   {
    "duration": 16,
    "start_time": "2023-03-15T06:41:40.050Z"
   },
   {
    "duration": 16,
    "start_time": "2023-03-15T06:43:54.719Z"
   },
   {
    "duration": 114,
    "start_time": "2023-03-15T06:44:46.152Z"
   },
   {
    "duration": 18,
    "start_time": "2023-03-15T06:44:51.954Z"
   },
   {
    "duration": 34,
    "start_time": "2023-03-15T06:49:26.132Z"
   },
   {
    "duration": 33,
    "start_time": "2023-03-15T06:49:41.365Z"
   },
   {
    "duration": 8,
    "start_time": "2023-03-15T06:53:05.823Z"
   },
   {
    "duration": 224,
    "start_time": "2023-03-15T06:53:59.275Z"
   },
   {
    "duration": 155,
    "start_time": "2023-03-15T06:54:35.303Z"
   },
   {
    "duration": 325,
    "start_time": "2023-03-15T06:57:03.610Z"
   },
   {
    "duration": 304,
    "start_time": "2023-03-15T06:57:13.901Z"
   },
   {
    "duration": 424,
    "start_time": "2023-03-15T06:58:22.026Z"
   },
   {
    "duration": 317,
    "start_time": "2023-03-15T06:59:16.882Z"
   },
   {
    "duration": 105,
    "start_time": "2023-03-15T07:02:53.715Z"
   },
   {
    "duration": 87,
    "start_time": "2023-03-15T07:03:07.028Z"
   },
   {
    "duration": 116,
    "start_time": "2023-03-15T07:04:34.383Z"
   },
   {
    "duration": 126,
    "start_time": "2023-03-15T07:06:14.807Z"
   },
   {
    "duration": 137,
    "start_time": "2023-03-15T07:07:53.413Z"
   },
   {
    "duration": 130,
    "start_time": "2023-03-15T07:09:15.267Z"
   },
   {
    "duration": 136,
    "start_time": "2023-03-15T07:09:30.547Z"
   },
   {
    "duration": 344,
    "start_time": "2023-03-15T07:11:08.983Z"
   },
   {
    "duration": 354,
    "start_time": "2023-03-15T07:16:21.500Z"
   },
   {
    "duration": 182,
    "start_time": "2023-03-15T07:16:48.068Z"
   },
   {
    "duration": 303,
    "start_time": "2023-03-15T07:17:02.640Z"
   },
   {
    "duration": 337,
    "start_time": "2023-03-15T07:19:04.640Z"
   },
   {
    "duration": 25,
    "start_time": "2023-03-15T07:20:22.496Z"
   },
   {
    "duration": 1442,
    "start_time": "2023-03-15T07:49:42.605Z"
   },
   {
    "duration": 62,
    "start_time": "2023-03-15T07:49:44.049Z"
   },
   {
    "duration": 24,
    "start_time": "2023-03-15T07:49:44.113Z"
   },
   {
    "duration": 23,
    "start_time": "2023-03-15T07:49:44.139Z"
   },
   {
    "duration": 26,
    "start_time": "2023-03-15T07:49:44.165Z"
   },
   {
    "duration": 101,
    "start_time": "2023-03-15T07:49:44.193Z"
   },
   {
    "duration": 28,
    "start_time": "2023-03-15T07:49:44.306Z"
   },
   {
    "duration": 20,
    "start_time": "2023-03-15T07:49:44.336Z"
   },
   {
    "duration": 17,
    "start_time": "2023-03-15T07:49:44.358Z"
   },
   {
    "duration": 61,
    "start_time": "2023-03-15T07:49:44.377Z"
   },
   {
    "duration": 20,
    "start_time": "2023-03-15T07:49:44.440Z"
   },
   {
    "duration": 10,
    "start_time": "2023-03-15T07:49:44.461Z"
   },
   {
    "duration": 65,
    "start_time": "2023-03-15T07:49:44.472Z"
   },
   {
    "duration": 6,
    "start_time": "2023-03-15T07:49:44.540Z"
   },
   {
    "duration": 8,
    "start_time": "2023-03-15T07:49:44.549Z"
   },
   {
    "duration": 13,
    "start_time": "2023-03-15T07:49:44.559Z"
   },
   {
    "duration": 51,
    "start_time": "2023-03-15T07:49:44.574Z"
   },
   {
    "duration": 14,
    "start_time": "2023-03-15T07:49:44.627Z"
   },
   {
    "duration": 15,
    "start_time": "2023-03-15T07:49:44.643Z"
   },
   {
    "duration": 437,
    "start_time": "2023-03-15T07:49:44.660Z"
   },
   {
    "duration": 365,
    "start_time": "2023-03-15T07:49:45.104Z"
   },
   {
    "duration": 203,
    "start_time": "2023-03-15T07:49:45.470Z"
   },
   {
    "duration": 203,
    "start_time": "2023-03-15T07:49:45.675Z"
   },
   {
    "duration": 213,
    "start_time": "2023-03-15T07:49:45.880Z"
   },
   {
    "duration": 274,
    "start_time": "2023-03-15T07:49:46.098Z"
   },
   {
    "duration": 185,
    "start_time": "2023-03-15T07:49:46.374Z"
   },
   {
    "duration": 189,
    "start_time": "2023-03-15T07:49:46.560Z"
   },
   {
    "duration": 7,
    "start_time": "2023-03-15T07:49:46.751Z"
   },
   {
    "duration": 399,
    "start_time": "2023-03-15T07:49:46.759Z"
   },
   {
    "duration": 387,
    "start_time": "2023-03-15T07:49:47.160Z"
   },
   {
    "duration": 311,
    "start_time": "2023-03-15T07:49:47.549Z"
   },
   {
    "duration": 7,
    "start_time": "2023-03-15T07:49:47.862Z"
   },
   {
    "duration": 456,
    "start_time": "2023-03-15T07:49:47.885Z"
   },
   {
    "duration": 219,
    "start_time": "2023-03-15T07:49:48.342Z"
   },
   {
    "duration": 309,
    "start_time": "2023-03-15T07:49:48.563Z"
   },
   {
    "duration": 271,
    "start_time": "2023-03-15T07:49:48.874Z"
   },
   {
    "duration": 35,
    "start_time": "2023-03-15T07:49:49.146Z"
   },
   {
    "duration": 334,
    "start_time": "2023-03-15T07:49:49.190Z"
   },
   {
    "duration": 366,
    "start_time": "2023-03-15T07:49:49.527Z"
   },
   {
    "duration": 156,
    "start_time": "2023-03-15T07:52:17.411Z"
   },
   {
    "duration": 14,
    "start_time": "2023-03-15T08:15:48.647Z"
   },
   {
    "duration": 13,
    "start_time": "2023-03-15T08:17:04.018Z"
   },
   {
    "duration": 20,
    "start_time": "2023-03-15T08:25:12.681Z"
   },
   {
    "duration": 15,
    "start_time": "2023-03-15T08:25:16.311Z"
   },
   {
    "duration": 364,
    "start_time": "2023-03-15T08:43:09.467Z"
   },
   {
    "duration": 18,
    "start_time": "2023-03-15T08:56:58.736Z"
   },
   {
    "duration": 320,
    "start_time": "2023-03-15T08:58:03.251Z"
   },
   {
    "duration": 55,
    "start_time": "2023-03-15T11:56:08.911Z"
   },
   {
    "duration": 1507,
    "start_time": "2023-03-15T11:56:19.102Z"
   },
   {
    "duration": 105,
    "start_time": "2023-03-15T11:56:20.612Z"
   },
   {
    "duration": 19,
    "start_time": "2023-03-15T11:56:20.721Z"
   },
   {
    "duration": 21,
    "start_time": "2023-03-15T11:56:20.743Z"
   },
   {
    "duration": 11,
    "start_time": "2023-03-15T11:56:20.766Z"
   },
   {
    "duration": 69,
    "start_time": "2023-03-15T11:56:20.779Z"
   },
   {
    "duration": 18,
    "start_time": "2023-03-15T11:56:20.863Z"
   },
   {
    "duration": 7,
    "start_time": "2023-03-15T11:56:20.883Z"
   },
   {
    "duration": 15,
    "start_time": "2023-03-15T11:56:20.892Z"
   },
   {
    "duration": 21,
    "start_time": "2023-03-15T11:56:20.909Z"
   },
   {
    "duration": 22,
    "start_time": "2023-03-15T11:56:20.932Z"
   },
   {
    "duration": 22,
    "start_time": "2023-03-15T11:56:20.956Z"
   },
   {
    "duration": 23,
    "start_time": "2023-03-15T11:56:20.981Z"
   },
   {
    "duration": 17,
    "start_time": "2023-03-15T11:56:21.006Z"
   },
   {
    "duration": 18,
    "start_time": "2023-03-15T11:56:21.025Z"
   },
   {
    "duration": 25,
    "start_time": "2023-03-15T11:56:21.045Z"
   },
   {
    "duration": 11,
    "start_time": "2023-03-15T11:56:21.072Z"
   },
   {
    "duration": 27,
    "start_time": "2023-03-15T11:56:21.084Z"
   },
   {
    "duration": 10,
    "start_time": "2023-03-15T11:56:21.113Z"
   },
   {
    "duration": 392,
    "start_time": "2023-03-15T11:56:21.125Z"
   },
   {
    "duration": 350,
    "start_time": "2023-03-15T11:56:21.518Z"
   },
   {
    "duration": 377,
    "start_time": "2023-03-15T11:56:21.870Z"
   },
   {
    "duration": 199,
    "start_time": "2023-03-15T11:56:22.249Z"
   },
   {
    "duration": 278,
    "start_time": "2023-03-15T11:56:22.449Z"
   },
   {
    "duration": 187,
    "start_time": "2023-03-15T11:56:22.730Z"
   },
   {
    "duration": 180,
    "start_time": "2023-03-15T11:56:22.919Z"
   },
   {
    "duration": 185,
    "start_time": "2023-03-15T11:56:23.101Z"
   },
   {
    "duration": 7,
    "start_time": "2023-03-15T11:56:23.288Z"
   },
   {
    "duration": 322,
    "start_time": "2023-03-15T11:56:23.297Z"
   },
   {
    "duration": 339,
    "start_time": "2023-03-15T11:56:23.621Z"
   },
   {
    "duration": 245,
    "start_time": "2023-03-15T11:56:23.964Z"
   },
   {
    "duration": 8,
    "start_time": "2023-03-15T11:56:24.211Z"
   },
   {
    "duration": 509,
    "start_time": "2023-03-15T11:56:24.221Z"
   },
   {
    "duration": 313,
    "start_time": "2023-03-15T11:56:24.733Z"
   },
   {
    "duration": 203,
    "start_time": "2023-03-15T11:56:25.048Z"
   },
   {
    "duration": 262,
    "start_time": "2023-03-15T11:56:25.253Z"
   },
   {
    "duration": 18,
    "start_time": "2023-03-15T11:56:25.517Z"
   },
   {
    "duration": 316,
    "start_time": "2023-03-15T11:56:25.537Z"
   },
   {
    "duration": 300,
    "start_time": "2023-03-15T11:56:25.864Z"
   },
   {
    "duration": 13,
    "start_time": "2023-03-15T11:56:26.168Z"
   },
   {
    "duration": 19,
    "start_time": "2023-03-15T11:56:26.183Z"
   },
   {
    "duration": 367,
    "start_time": "2023-03-15T11:58:31.402Z"
   },
   {
    "duration": 133,
    "start_time": "2023-03-15T12:00:54.651Z"
   },
   {
    "duration": 223,
    "start_time": "2023-03-15T12:03:13.206Z"
   },
   {
    "duration": 8,
    "start_time": "2023-03-15T12:03:46.066Z"
   },
   {
    "duration": 426,
    "start_time": "2023-03-15T12:06:40.512Z"
   },
   {
    "duration": 16,
    "start_time": "2023-03-15T12:07:35.801Z"
   },
   {
    "duration": 509,
    "start_time": "2023-03-15T12:07:43.484Z"
   },
   {
    "duration": 390,
    "start_time": "2023-03-15T12:08:36.282Z"
   },
   {
    "duration": 447,
    "start_time": "2023-03-15T12:08:54.689Z"
   },
   {
    "duration": 114,
    "start_time": "2023-03-15T12:18:24.600Z"
   },
   {
    "duration": 74,
    "start_time": "2023-03-15T12:20:22.475Z"
   },
   {
    "duration": 5,
    "start_time": "2023-03-15T13:22:44.067Z"
   },
   {
    "duration": 243,
    "start_time": "2023-03-15T13:22:51.834Z"
   },
   {
    "duration": 287,
    "start_time": "2023-03-15T13:27:44.553Z"
   },
   {
    "duration": 9,
    "start_time": "2023-03-15T13:36:47.550Z"
   },
   {
    "duration": 1326,
    "start_time": "2023-03-15T16:34:22.696Z"
   },
   {
    "duration": 242,
    "start_time": "2023-03-15T16:34:24.024Z"
   },
   {
    "duration": 18,
    "start_time": "2023-03-15T16:34:24.268Z"
   },
   {
    "duration": 12,
    "start_time": "2023-03-15T16:34:24.288Z"
   },
   {
    "duration": 9,
    "start_time": "2023-03-15T16:34:24.302Z"
   },
   {
    "duration": 63,
    "start_time": "2023-03-15T16:34:24.313Z"
   },
   {
    "duration": 17,
    "start_time": "2023-03-15T16:34:24.378Z"
   },
   {
    "duration": 4,
    "start_time": "2023-03-15T16:34:24.396Z"
   },
   {
    "duration": 7,
    "start_time": "2023-03-15T16:34:24.402Z"
   },
   {
    "duration": 5,
    "start_time": "2023-03-15T16:34:24.411Z"
   },
   {
    "duration": 32,
    "start_time": "2023-03-15T16:34:24.417Z"
   },
   {
    "duration": 22,
    "start_time": "2023-03-15T16:34:24.453Z"
   },
   {
    "duration": 16,
    "start_time": "2023-03-15T16:34:24.477Z"
   },
   {
    "duration": 6,
    "start_time": "2023-03-15T16:34:24.494Z"
   },
   {
    "duration": 8,
    "start_time": "2023-03-15T16:34:24.501Z"
   },
   {
    "duration": 10,
    "start_time": "2023-03-15T16:34:24.510Z"
   },
   {
    "duration": 6,
    "start_time": "2023-03-15T16:34:24.521Z"
   },
   {
    "duration": 25,
    "start_time": "2023-03-15T16:34:24.528Z"
   },
   {
    "duration": 26,
    "start_time": "2023-03-15T16:34:24.555Z"
   },
   {
    "duration": 319,
    "start_time": "2023-03-15T16:34:24.582Z"
   },
   {
    "duration": 320,
    "start_time": "2023-03-15T16:34:24.903Z"
   },
   {
    "duration": 188,
    "start_time": "2023-03-15T16:34:25.225Z"
   },
   {
    "duration": 190,
    "start_time": "2023-03-15T16:34:25.415Z"
   },
   {
    "duration": 192,
    "start_time": "2023-03-15T16:34:25.607Z"
   },
   {
    "duration": 265,
    "start_time": "2023-03-15T16:34:25.800Z"
   },
   {
    "duration": 153,
    "start_time": "2023-03-15T16:34:26.067Z"
   },
   {
    "duration": 253,
    "start_time": "2023-03-15T16:34:26.222Z"
   },
   {
    "duration": 7,
    "start_time": "2023-03-15T16:34:26.480Z"
   },
   {
    "duration": 369,
    "start_time": "2023-03-15T16:34:26.490Z"
   },
   {
    "duration": 327,
    "start_time": "2023-03-15T16:34:26.860Z"
   },
   {
    "duration": 226,
    "start_time": "2023-03-15T16:34:27.189Z"
   },
   {
    "duration": 7,
    "start_time": "2023-03-15T16:34:27.416Z"
   },
   {
    "duration": 370,
    "start_time": "2023-03-15T16:34:27.424Z"
   },
   {
    "duration": 7,
    "start_time": "2023-03-15T16:34:27.795Z"
   },
   {
    "duration": 431,
    "start_time": "2023-03-15T16:34:27.803Z"
   },
   {
    "duration": 413,
    "start_time": "2023-03-15T16:34:28.235Z"
   },
   {
    "duration": 355,
    "start_time": "2023-03-15T16:34:28.651Z"
   },
   {
    "duration": 367,
    "start_time": "2023-03-15T16:34:29.007Z"
   },
   {
    "duration": 212,
    "start_time": "2023-03-15T16:34:29.376Z"
   },
   {
    "duration": 6,
    "start_time": "2023-03-15T16:34:29.589Z"
   },
   {
    "duration": 17,
    "start_time": "2023-03-15T16:34:29.596Z"
   },
   {
    "duration": 239,
    "start_time": "2023-03-15T16:34:29.615Z"
   },
   {
    "duration": 343,
    "start_time": "2023-03-15T16:34:29.855Z"
   },
   {
    "duration": 10,
    "start_time": "2023-03-15T16:34:30.199Z"
   },
   {
    "duration": 22,
    "start_time": "2023-03-15T16:34:30.211Z"
   },
   {
    "duration": 4,
    "start_time": "2023-03-15T16:35:05.176Z"
   },
   {
    "duration": 283,
    "start_time": "2023-03-15T16:35:18.367Z"
   },
   {
    "duration": 50,
    "start_time": "2023-03-16T07:20:23.314Z"
   },
   {
    "duration": 1378,
    "start_time": "2023-03-16T07:20:40.499Z"
   },
   {
    "duration": 199,
    "start_time": "2023-03-16T07:20:41.880Z"
   },
   {
    "duration": 18,
    "start_time": "2023-03-16T07:20:42.081Z"
   },
   {
    "duration": 15,
    "start_time": "2023-03-16T07:20:42.101Z"
   },
   {
    "duration": 9,
    "start_time": "2023-03-16T07:20:42.118Z"
   },
   {
    "duration": 84,
    "start_time": "2023-03-16T07:20:42.129Z"
   },
   {
    "duration": 19,
    "start_time": "2023-03-16T07:20:42.215Z"
   },
   {
    "duration": 5,
    "start_time": "2023-03-16T07:20:42.236Z"
   },
   {
    "duration": 8,
    "start_time": "2023-03-16T07:20:42.243Z"
   },
   {
    "duration": 4,
    "start_time": "2023-03-16T07:20:42.252Z"
   },
   {
    "duration": 13,
    "start_time": "2023-03-16T07:20:42.258Z"
   },
   {
    "duration": 39,
    "start_time": "2023-03-16T07:20:42.273Z"
   },
   {
    "duration": 12,
    "start_time": "2023-03-16T07:20:42.314Z"
   },
   {
    "duration": 6,
    "start_time": "2023-03-16T07:20:42.329Z"
   },
   {
    "duration": 9,
    "start_time": "2023-03-16T07:20:42.337Z"
   },
   {
    "duration": 8,
    "start_time": "2023-03-16T07:20:42.347Z"
   },
   {
    "duration": 3,
    "start_time": "2023-03-16T07:20:42.357Z"
   },
   {
    "duration": 7,
    "start_time": "2023-03-16T07:20:42.362Z"
   },
   {
    "duration": 46,
    "start_time": "2023-03-16T07:20:42.371Z"
   },
   {
    "duration": 331,
    "start_time": "2023-03-16T07:20:42.419Z"
   },
   {
    "duration": 348,
    "start_time": "2023-03-16T07:20:42.752Z"
   },
   {
    "duration": 195,
    "start_time": "2023-03-16T07:20:43.102Z"
   },
   {
    "duration": 188,
    "start_time": "2023-03-16T07:20:43.299Z"
   },
   {
    "duration": 200,
    "start_time": "2023-03-16T07:20:43.489Z"
   },
   {
    "duration": 266,
    "start_time": "2023-03-16T07:20:43.690Z"
   },
   {
    "duration": 199,
    "start_time": "2023-03-16T07:20:43.958Z"
   },
   {
    "duration": 193,
    "start_time": "2023-03-16T07:20:44.159Z"
   },
   {
    "duration": 7,
    "start_time": "2023-03-16T07:20:44.354Z"
   },
   {
    "duration": 325,
    "start_time": "2023-03-16T07:20:44.363Z"
   },
   {
    "duration": 307,
    "start_time": "2023-03-16T07:20:44.690Z"
   },
   {
    "duration": 260,
    "start_time": "2023-03-16T07:20:44.999Z"
   },
   {
    "duration": 6,
    "start_time": "2023-03-16T07:20:45.261Z"
   },
   {
    "duration": 408,
    "start_time": "2023-03-16T07:20:45.269Z"
   },
   {
    "duration": 6,
    "start_time": "2023-03-16T07:20:45.679Z"
   },
   {
    "duration": 464,
    "start_time": "2023-03-16T07:20:45.687Z"
   },
   {
    "duration": 420,
    "start_time": "2023-03-16T07:20:46.153Z"
   },
   {
    "duration": 380,
    "start_time": "2023-03-16T07:20:46.575Z"
   },
   {
    "duration": 383,
    "start_time": "2023-03-16T07:20:46.957Z"
   },
   {
    "duration": 302,
    "start_time": "2023-03-16T07:20:47.342Z"
   },
   {
    "duration": 8,
    "start_time": "2023-03-16T07:20:47.646Z"
   },
   {
    "duration": 34,
    "start_time": "2023-03-16T07:20:47.659Z"
   },
   {
    "duration": 283,
    "start_time": "2023-03-16T07:20:47.695Z"
   },
   {
    "duration": 347,
    "start_time": "2023-03-16T07:20:47.982Z"
   },
   {
    "duration": 11,
    "start_time": "2023-03-16T07:20:48.331Z"
   },
   {
    "duration": 14,
    "start_time": "2023-03-16T07:20:48.344Z"
   },
   {
    "duration": 296,
    "start_time": "2023-03-16T07:21:25.702Z"
   },
   {
    "duration": 301,
    "start_time": "2023-03-16T07:21:51.813Z"
   },
   {
    "duration": 290,
    "start_time": "2023-03-16T07:22:22.795Z"
   },
   {
    "duration": 304,
    "start_time": "2023-03-16T07:22:28.501Z"
   },
   {
    "duration": 387,
    "start_time": "2023-03-16T07:22:33.381Z"
   },
   {
    "duration": 280,
    "start_time": "2023-03-16T07:22:38.904Z"
   },
   {
    "duration": 47,
    "start_time": "2023-03-16T07:30:50.779Z"
   },
   {
    "duration": 621,
    "start_time": "2023-03-16T07:31:30.801Z"
   },
   {
    "duration": 559,
    "start_time": "2023-03-16T07:31:42.703Z"
   },
   {
    "duration": 527,
    "start_time": "2023-03-16T07:32:23.701Z"
   },
   {
    "duration": 685,
    "start_time": "2023-03-16T07:32:43.198Z"
   },
   {
    "duration": 17,
    "start_time": "2023-03-16T07:32:56.996Z"
   },
   {
    "duration": 290,
    "start_time": "2023-03-16T07:32:59.817Z"
   },
   {
    "duration": 10,
    "start_time": "2023-03-16T07:34:15.530Z"
   },
   {
    "duration": 15,
    "start_time": "2023-03-16T07:35:36.574Z"
   },
   {
    "duration": 8,
    "start_time": "2023-03-16T07:35:39.002Z"
   },
   {
    "duration": 4,
    "start_time": "2023-03-16T07:37:01.414Z"
   },
   {
    "duration": 1226,
    "start_time": "2023-03-16T07:37:22.798Z"
   },
   {
    "duration": 491,
    "start_time": "2023-03-16T07:37:40.661Z"
   },
   {
    "duration": 5,
    "start_time": "2023-03-16T07:38:54.641Z"
   },
   {
    "duration": 362,
    "start_time": "2023-03-16T07:39:22.744Z"
   },
   {
    "duration": 295,
    "start_time": "2023-03-16T07:39:35.430Z"
   },
   {
    "duration": 5,
    "start_time": "2023-03-16T07:40:12.246Z"
   },
   {
    "duration": 415,
    "start_time": "2023-03-16T07:40:43.714Z"
   },
   {
    "duration": 5,
    "start_time": "2023-03-16T07:44:23.106Z"
   },
   {
    "duration": 291,
    "start_time": "2023-03-16T07:45:37.016Z"
   },
   {
    "duration": 284,
    "start_time": "2023-03-16T07:53:26.827Z"
   },
   {
    "duration": 278,
    "start_time": "2023-03-16T07:53:54.398Z"
   },
   {
    "duration": 302,
    "start_time": "2023-03-16T07:54:10.221Z"
   },
   {
    "duration": 289,
    "start_time": "2023-03-16T07:58:51.637Z"
   },
   {
    "duration": 400,
    "start_time": "2023-03-16T07:58:58.073Z"
   },
   {
    "duration": 11,
    "start_time": "2023-03-16T08:21:37.338Z"
   },
   {
    "duration": 8,
    "start_time": "2023-03-16T08:24:32.506Z"
   },
   {
    "duration": 11,
    "start_time": "2023-03-16T08:27:30.310Z"
   },
   {
    "duration": 303,
    "start_time": "2023-03-16T08:27:36.681Z"
   },
   {
    "duration": 12,
    "start_time": "2023-03-16T08:28:02.929Z"
   },
   {
    "duration": 178,
    "start_time": "2023-03-16T08:28:46.510Z"
   },
   {
    "duration": 304,
    "start_time": "2023-03-16T08:28:52.409Z"
   },
   {
    "duration": 4,
    "start_time": "2023-03-16T08:28:56.018Z"
   },
   {
    "duration": 13,
    "start_time": "2023-03-16T08:29:01.538Z"
   },
   {
    "duration": 49,
    "start_time": "2023-03-16T08:34:36.281Z"
   },
   {
    "duration": 34,
    "start_time": "2023-03-16T08:34:49.736Z"
   },
   {
    "duration": 32,
    "start_time": "2023-03-16T08:35:44.961Z"
   },
   {
    "duration": 21,
    "start_time": "2023-03-16T08:36:45.014Z"
   },
   {
    "duration": 6,
    "start_time": "2023-03-16T08:37:12.944Z"
   },
   {
    "duration": 18,
    "start_time": "2023-03-16T08:37:20.262Z"
   },
   {
    "duration": 111,
    "start_time": "2023-03-16T08:37:41.325Z"
   },
   {
    "duration": 8,
    "start_time": "2023-03-16T08:37:56.098Z"
   },
   {
    "duration": 18,
    "start_time": "2023-03-16T08:38:15.385Z"
   },
   {
    "duration": 11,
    "start_time": "2023-03-16T08:38:45.717Z"
   },
   {
    "duration": 9,
    "start_time": "2023-03-16T08:38:50.402Z"
   },
   {
    "duration": 23,
    "start_time": "2023-03-16T08:38:52.197Z"
   },
   {
    "duration": 166,
    "start_time": "2023-03-16T08:39:03.823Z"
   },
   {
    "duration": 195,
    "start_time": "2023-03-16T08:39:21.736Z"
   },
   {
    "duration": 148,
    "start_time": "2023-03-16T08:39:54.802Z"
   },
   {
    "duration": 250,
    "start_time": "2023-03-16T08:44:47.007Z"
   },
   {
    "duration": 11,
    "start_time": "2023-03-16T08:45:26.193Z"
   },
   {
    "duration": 12,
    "start_time": "2023-03-16T08:45:36.473Z"
   },
   {
    "duration": 148,
    "start_time": "2023-03-16T09:00:38.893Z"
   },
   {
    "duration": 141,
    "start_time": "2023-03-16T09:00:49.840Z"
   },
   {
    "duration": 138,
    "start_time": "2023-03-16T09:01:02.009Z"
   },
   {
    "duration": 8,
    "start_time": "2023-03-16T09:04:45.327Z"
   },
   {
    "duration": 4,
    "start_time": "2023-03-16T09:04:51.305Z"
   },
   {
    "duration": 13,
    "start_time": "2023-03-16T09:06:12.333Z"
   },
   {
    "duration": 11,
    "start_time": "2023-03-16T09:07:35.589Z"
   },
   {
    "duration": 11,
    "start_time": "2023-03-16T09:07:53.648Z"
   },
   {
    "duration": 12,
    "start_time": "2023-03-16T09:08:17.784Z"
   },
   {
    "duration": 294,
    "start_time": "2023-03-16T09:25:22.432Z"
   },
   {
    "duration": 15,
    "start_time": "2023-03-16T09:26:32.589Z"
   },
   {
    "duration": 272,
    "start_time": "2023-03-16T09:26:35.165Z"
   },
   {
    "duration": 791,
    "start_time": "2023-03-16T09:57:30.308Z"
   },
   {
    "duration": 182,
    "start_time": "2023-03-16T09:57:38.048Z"
   },
   {
    "duration": 48,
    "start_time": "2023-03-16T09:59:17.126Z"
   },
   {
    "duration": 24,
    "start_time": "2023-03-16T09:59:41.449Z"
   },
   {
    "duration": 13,
    "start_time": "2023-03-16T10:02:24.461Z"
   },
   {
    "duration": 312,
    "start_time": "2023-03-16T10:02:28.365Z"
   },
   {
    "duration": 14,
    "start_time": "2023-03-16T10:02:52.452Z"
   },
   {
    "duration": 278,
    "start_time": "2023-03-16T10:02:54.777Z"
   },
   {
    "duration": 17,
    "start_time": "2023-03-16T10:03:48.206Z"
   },
   {
    "duration": 386,
    "start_time": "2023-03-16T10:03:52.405Z"
   },
   {
    "duration": 13,
    "start_time": "2023-03-16T10:04:11.693Z"
   },
   {
    "duration": 302,
    "start_time": "2023-03-16T10:04:13.099Z"
   },
   {
    "duration": 13,
    "start_time": "2023-03-16T10:04:20.989Z"
   },
   {
    "duration": 288,
    "start_time": "2023-03-16T10:04:21.890Z"
   },
   {
    "duration": 11,
    "start_time": "2023-03-16T10:04:52.464Z"
   },
   {
    "duration": 10,
    "start_time": "2023-03-16T10:05:06.142Z"
   },
   {
    "duration": 1277,
    "start_time": "2023-03-16T10:06:18.498Z"
   },
   {
    "duration": 53,
    "start_time": "2023-03-16T10:06:19.777Z"
   },
   {
    "duration": 19,
    "start_time": "2023-03-16T10:06:19.832Z"
   },
   {
    "duration": 14,
    "start_time": "2023-03-16T10:06:19.853Z"
   },
   {
    "duration": 9,
    "start_time": "2023-03-16T10:06:19.870Z"
   },
   {
    "duration": 94,
    "start_time": "2023-03-16T10:06:19.880Z"
   },
   {
    "duration": 4,
    "start_time": "2023-03-16T10:06:19.976Z"
   },
   {
    "duration": 39,
    "start_time": "2023-03-16T10:06:19.981Z"
   },
   {
    "duration": 7,
    "start_time": "2023-03-16T10:06:20.023Z"
   },
   {
    "duration": 37,
    "start_time": "2023-03-16T10:06:20.032Z"
   },
   {
    "duration": 10,
    "start_time": "2023-03-16T10:06:20.070Z"
   },
   {
    "duration": 14,
    "start_time": "2023-03-16T10:06:20.081Z"
   },
   {
    "duration": 4,
    "start_time": "2023-03-16T10:06:20.097Z"
   },
   {
    "duration": 24,
    "start_time": "2023-03-16T10:06:20.105Z"
   },
   {
    "duration": 13,
    "start_time": "2023-03-16T10:06:20.131Z"
   },
   {
    "duration": 11,
    "start_time": "2023-03-16T10:06:20.146Z"
   },
   {
    "duration": 36,
    "start_time": "2023-03-16T10:06:20.159Z"
   },
   {
    "duration": 23,
    "start_time": "2023-03-16T10:06:20.197Z"
   },
   {
    "duration": 18,
    "start_time": "2023-03-16T10:06:20.222Z"
   },
   {
    "duration": 16,
    "start_time": "2023-03-16T10:06:20.242Z"
   },
   {
    "duration": 358,
    "start_time": "2023-03-16T10:06:20.260Z"
   },
   {
    "duration": 358,
    "start_time": "2023-03-16T10:06:20.620Z"
   },
   {
    "duration": 209,
    "start_time": "2023-03-16T10:06:20.979Z"
   },
   {
    "duration": 212,
    "start_time": "2023-03-16T10:06:21.190Z"
   },
   {
    "duration": 191,
    "start_time": "2023-03-16T10:06:21.404Z"
   },
   {
    "duration": 293,
    "start_time": "2023-03-16T10:06:21.597Z"
   },
   {
    "duration": 189,
    "start_time": "2023-03-16T10:06:21.892Z"
   },
   {
    "duration": 180,
    "start_time": "2023-03-16T10:06:22.083Z"
   },
   {
    "duration": 6,
    "start_time": "2023-03-16T10:06:22.265Z"
   },
   {
    "duration": 342,
    "start_time": "2023-03-16T10:06:22.273Z"
   },
   {
    "duration": 158,
    "start_time": "2023-03-16T10:06:22.618Z"
   },
   {
    "duration": 11,
    "start_time": "2023-03-16T10:06:22.777Z"
   },
   {
    "duration": 29,
    "start_time": "2023-03-16T10:06:22.789Z"
   },
   {
    "duration": 18,
    "start_time": "2023-03-16T10:06:22.821Z"
   },
   {
    "duration": 11,
    "start_time": "2023-03-16T10:06:22.841Z"
   },
   {
    "duration": 287,
    "start_time": "2023-03-16T10:06:22.854Z"
   },
   {
    "duration": 7,
    "start_time": "2023-03-16T10:06:23.143Z"
   },
   {
    "duration": 409,
    "start_time": "2023-03-16T10:06:23.152Z"
   },
   {
    "duration": 8,
    "start_time": "2023-03-16T10:06:23.564Z"
   },
   {
    "duration": 390,
    "start_time": "2023-03-16T10:06:23.574Z"
   },
   {
    "duration": 639,
    "start_time": "2023-03-16T10:06:23.967Z"
   },
   {
    "duration": 365,
    "start_time": "2023-03-16T10:06:24.613Z"
   },
   {
    "duration": 442,
    "start_time": "2023-03-16T10:06:24.980Z"
   },
   {
    "duration": 261,
    "start_time": "2023-03-16T10:06:25.425Z"
   },
   {
    "duration": 7,
    "start_time": "2023-03-16T10:06:25.687Z"
   },
   {
    "duration": 30,
    "start_time": "2023-03-16T10:06:25.696Z"
   },
   {
    "duration": 7,
    "start_time": "2023-03-16T10:06:25.730Z"
   },
   {
    "duration": 371,
    "start_time": "2023-03-16T10:06:25.739Z"
   },
   {
    "duration": 12,
    "start_time": "2023-03-16T10:06:26.113Z"
   },
   {
    "duration": 362,
    "start_time": "2023-03-16T10:06:26.128Z"
   },
   {
    "duration": 68,
    "start_time": "2023-03-16T10:06:26.492Z"
   },
   {
    "duration": 14,
    "start_time": "2023-03-16T10:06:26.562Z"
   },
   {
    "duration": 408,
    "start_time": "2023-03-16T10:06:26.578Z"
   },
   {
    "duration": 11,
    "start_time": "2023-03-16T10:06:26.988Z"
   },
   {
    "duration": 33,
    "start_time": "2023-03-16T10:06:27.001Z"
   },
   {
    "duration": 1294,
    "start_time": "2023-03-16T10:06:44.740Z"
   },
   {
    "duration": 54,
    "start_time": "2023-03-16T10:06:46.036Z"
   },
   {
    "duration": 16,
    "start_time": "2023-03-16T10:06:46.092Z"
   },
   {
    "duration": 25,
    "start_time": "2023-03-16T10:06:46.110Z"
   },
   {
    "duration": 9,
    "start_time": "2023-03-16T10:06:46.138Z"
   },
   {
    "duration": 84,
    "start_time": "2023-03-16T10:06:46.149Z"
   },
   {
    "duration": 111,
    "start_time": "2023-03-16T10:06:46.235Z"
   },
   {
    "duration": 0,
    "start_time": "2023-03-16T10:06:46.348Z"
   },
   {
    "duration": 0,
    "start_time": "2023-03-16T10:06:46.350Z"
   },
   {
    "duration": 0,
    "start_time": "2023-03-16T10:06:46.351Z"
   },
   {
    "duration": 0,
    "start_time": "2023-03-16T10:06:46.352Z"
   },
   {
    "duration": 0,
    "start_time": "2023-03-16T10:06:46.353Z"
   },
   {
    "duration": 0,
    "start_time": "2023-03-16T10:06:46.354Z"
   },
   {
    "duration": 0,
    "start_time": "2023-03-16T10:06:46.355Z"
   },
   {
    "duration": 0,
    "start_time": "2023-03-16T10:06:46.356Z"
   },
   {
    "duration": 0,
    "start_time": "2023-03-16T10:06:46.357Z"
   },
   {
    "duration": 0,
    "start_time": "2023-03-16T10:06:46.358Z"
   },
   {
    "duration": 0,
    "start_time": "2023-03-16T10:06:46.359Z"
   },
   {
    "duration": 0,
    "start_time": "2023-03-16T10:06:46.361Z"
   },
   {
    "duration": 0,
    "start_time": "2023-03-16T10:06:46.362Z"
   },
   {
    "duration": 0,
    "start_time": "2023-03-16T10:06:46.363Z"
   },
   {
    "duration": 0,
    "start_time": "2023-03-16T10:06:46.364Z"
   },
   {
    "duration": 0,
    "start_time": "2023-03-16T10:06:46.365Z"
   },
   {
    "duration": 0,
    "start_time": "2023-03-16T10:06:46.366Z"
   },
   {
    "duration": 0,
    "start_time": "2023-03-16T10:06:46.367Z"
   },
   {
    "duration": 0,
    "start_time": "2023-03-16T10:06:46.368Z"
   },
   {
    "duration": 0,
    "start_time": "2023-03-16T10:06:46.369Z"
   },
   {
    "duration": 0,
    "start_time": "2023-03-16T10:06:46.412Z"
   },
   {
    "duration": 0,
    "start_time": "2023-03-16T10:06:46.413Z"
   },
   {
    "duration": 0,
    "start_time": "2023-03-16T10:06:46.414Z"
   },
   {
    "duration": 0,
    "start_time": "2023-03-16T10:06:46.415Z"
   },
   {
    "duration": 0,
    "start_time": "2023-03-16T10:06:46.416Z"
   },
   {
    "duration": 0,
    "start_time": "2023-03-16T10:06:46.417Z"
   },
   {
    "duration": 1,
    "start_time": "2023-03-16T10:06:46.418Z"
   },
   {
    "duration": 0,
    "start_time": "2023-03-16T10:06:46.420Z"
   },
   {
    "duration": 0,
    "start_time": "2023-03-16T10:06:46.421Z"
   },
   {
    "duration": 0,
    "start_time": "2023-03-16T10:06:46.422Z"
   },
   {
    "duration": 0,
    "start_time": "2023-03-16T10:06:46.423Z"
   },
   {
    "duration": 0,
    "start_time": "2023-03-16T10:06:46.424Z"
   },
   {
    "duration": 0,
    "start_time": "2023-03-16T10:06:46.426Z"
   },
   {
    "duration": 0,
    "start_time": "2023-03-16T10:06:46.426Z"
   },
   {
    "duration": 0,
    "start_time": "2023-03-16T10:06:46.427Z"
   },
   {
    "duration": 0,
    "start_time": "2023-03-16T10:06:46.428Z"
   },
   {
    "duration": 0,
    "start_time": "2023-03-16T10:06:46.429Z"
   },
   {
    "duration": 0,
    "start_time": "2023-03-16T10:06:46.430Z"
   },
   {
    "duration": 0,
    "start_time": "2023-03-16T10:06:46.431Z"
   },
   {
    "duration": 0,
    "start_time": "2023-03-16T10:06:46.432Z"
   },
   {
    "duration": 0,
    "start_time": "2023-03-16T10:06:46.433Z"
   },
   {
    "duration": 0,
    "start_time": "2023-03-16T10:06:46.435Z"
   },
   {
    "duration": 0,
    "start_time": "2023-03-16T10:06:46.441Z"
   },
   {
    "duration": 0,
    "start_time": "2023-03-16T10:06:46.443Z"
   },
   {
    "duration": 0,
    "start_time": "2023-03-16T10:06:46.445Z"
   },
   {
    "duration": 0,
    "start_time": "2023-03-16T10:06:46.446Z"
   },
   {
    "duration": 0,
    "start_time": "2023-03-16T10:06:46.447Z"
   },
   {
    "duration": 0,
    "start_time": "2023-03-16T10:06:46.448Z"
   },
   {
    "duration": 33,
    "start_time": "2023-03-16T10:07:29.137Z"
   },
   {
    "duration": 12,
    "start_time": "2023-03-16T10:07:34.530Z"
   },
   {
    "duration": 6,
    "start_time": "2023-03-16T10:08:07.297Z"
   },
   {
    "duration": 1171,
    "start_time": "2023-03-16T10:08:36.474Z"
   },
   {
    "duration": 52,
    "start_time": "2023-03-16T10:08:37.648Z"
   },
   {
    "duration": 17,
    "start_time": "2023-03-16T10:08:37.702Z"
   },
   {
    "duration": 31,
    "start_time": "2023-03-16T10:08:37.721Z"
   },
   {
    "duration": 19,
    "start_time": "2023-03-16T10:08:37.755Z"
   },
   {
    "duration": 67,
    "start_time": "2023-03-16T10:08:37.776Z"
   },
   {
    "duration": 16,
    "start_time": "2023-03-16T10:08:37.844Z"
   },
   {
    "duration": 5,
    "start_time": "2023-03-16T10:08:37.862Z"
   },
   {
    "duration": 12,
    "start_time": "2023-03-16T10:08:37.869Z"
   },
   {
    "duration": 4,
    "start_time": "2023-03-16T10:08:37.883Z"
   },
   {
    "duration": 46,
    "start_time": "2023-03-16T10:08:37.889Z"
   },
   {
    "duration": 5,
    "start_time": "2023-03-16T10:08:37.937Z"
   },
   {
    "duration": 11,
    "start_time": "2023-03-16T10:08:37.943Z"
   },
   {
    "duration": 9,
    "start_time": "2023-03-16T10:08:37.957Z"
   },
   {
    "duration": 7,
    "start_time": "2023-03-16T10:08:37.967Z"
   },
   {
    "duration": 8,
    "start_time": "2023-03-16T10:08:37.976Z"
   },
   {
    "duration": 3,
    "start_time": "2023-03-16T10:08:37.985Z"
   },
   {
    "duration": 6,
    "start_time": "2023-03-16T10:08:38.013Z"
   },
   {
    "duration": 8,
    "start_time": "2023-03-16T10:08:38.021Z"
   },
   {
    "duration": 399,
    "start_time": "2023-03-16T10:08:38.032Z"
   },
   {
    "duration": 342,
    "start_time": "2023-03-16T10:08:38.433Z"
   },
   {
    "duration": 217,
    "start_time": "2023-03-16T10:08:38.777Z"
   },
   {
    "duration": 202,
    "start_time": "2023-03-16T10:08:38.996Z"
   },
   {
    "duration": 193,
    "start_time": "2023-03-16T10:08:39.199Z"
   },
   {
    "duration": 272,
    "start_time": "2023-03-16T10:08:39.394Z"
   },
   {
    "duration": 165,
    "start_time": "2023-03-16T10:08:39.667Z"
   },
   {
    "duration": 204,
    "start_time": "2023-03-16T10:08:39.836Z"
   },
   {
    "duration": 6,
    "start_time": "2023-03-16T10:08:40.042Z"
   },
   {
    "duration": 337,
    "start_time": "2023-03-16T10:08:40.050Z"
   },
   {
    "duration": 149,
    "start_time": "2023-03-16T10:08:40.389Z"
   },
   {
    "duration": 10,
    "start_time": "2023-03-16T10:08:40.540Z"
   },
   {
    "duration": 12,
    "start_time": "2023-03-16T10:08:40.552Z"
   },
   {
    "duration": 34,
    "start_time": "2023-03-16T10:08:40.566Z"
   },
   {
    "duration": 46,
    "start_time": "2023-03-16T10:08:40.601Z"
   },
   {
    "duration": 235,
    "start_time": "2023-03-16T10:08:40.649Z"
   },
   {
    "duration": 7,
    "start_time": "2023-03-16T10:08:40.886Z"
   },
   {
    "duration": 409,
    "start_time": "2023-03-16T10:08:40.894Z"
   },
   {
    "duration": 11,
    "start_time": "2023-03-16T10:08:41.312Z"
   },
   {
    "duration": 388,
    "start_time": "2023-03-16T10:08:41.325Z"
   },
   {
    "duration": 563,
    "start_time": "2023-03-16T10:08:41.718Z"
   },
   {
    "duration": 412,
    "start_time": "2023-03-16T10:08:42.284Z"
   },
   {
    "duration": 388,
    "start_time": "2023-03-16T10:08:42.697Z"
   },
   {
    "duration": 246,
    "start_time": "2023-03-16T10:08:43.087Z"
   },
   {
    "duration": 9,
    "start_time": "2023-03-16T10:08:43.335Z"
   },
   {
    "duration": 18,
    "start_time": "2023-03-16T10:08:43.346Z"
   },
   {
    "duration": 5,
    "start_time": "2023-03-16T10:08:43.366Z"
   },
   {
    "duration": 413,
    "start_time": "2023-03-16T10:08:43.373Z"
   },
   {
    "duration": 5,
    "start_time": "2023-03-16T10:08:43.788Z"
   },
   {
    "duration": 384,
    "start_time": "2023-03-16T10:08:43.794Z"
   },
   {
    "duration": 78,
    "start_time": "2023-03-16T10:08:44.181Z"
   },
   {
    "duration": 18,
    "start_time": "2023-03-16T10:08:44.261Z"
   },
   {
    "duration": 379,
    "start_time": "2023-03-16T10:08:44.282Z"
   },
   {
    "duration": 11,
    "start_time": "2023-03-16T10:08:44.663Z"
   },
   {
    "duration": 13,
    "start_time": "2023-03-16T10:08:44.676Z"
   },
   {
    "duration": 5,
    "start_time": "2023-03-16T10:09:41.358Z"
   },
   {
    "duration": 1217,
    "start_time": "2023-03-16T10:12:55.457Z"
   },
   {
    "duration": 64,
    "start_time": "2023-03-16T10:12:56.676Z"
   },
   {
    "duration": 17,
    "start_time": "2023-03-16T10:12:56.742Z"
   },
   {
    "duration": 14,
    "start_time": "2023-03-16T10:12:56.761Z"
   },
   {
    "duration": 38,
    "start_time": "2023-03-16T10:12:56.777Z"
   },
   {
    "duration": 66,
    "start_time": "2023-03-16T10:12:56.817Z"
   },
   {
    "duration": 33,
    "start_time": "2023-03-16T10:12:56.885Z"
   },
   {
    "duration": 11,
    "start_time": "2023-03-16T10:12:56.922Z"
   },
   {
    "duration": 5,
    "start_time": "2023-03-16T10:12:56.936Z"
   },
   {
    "duration": 4,
    "start_time": "2023-03-16T10:12:56.944Z"
   },
   {
    "duration": 13,
    "start_time": "2023-03-16T10:12:56.949Z"
   },
   {
    "duration": 3,
    "start_time": "2023-03-16T10:12:56.964Z"
   },
   {
    "duration": 53,
    "start_time": "2023-03-16T10:12:56.969Z"
   },
   {
    "duration": 14,
    "start_time": "2023-03-16T10:12:57.024Z"
   },
   {
    "duration": 7,
    "start_time": "2023-03-16T10:12:57.040Z"
   },
   {
    "duration": 10,
    "start_time": "2023-03-16T10:12:57.048Z"
   },
   {
    "duration": 3,
    "start_time": "2023-03-16T10:12:57.060Z"
   },
   {
    "duration": 6,
    "start_time": "2023-03-16T10:12:57.065Z"
   },
   {
    "duration": 8,
    "start_time": "2023-03-16T10:12:57.072Z"
   },
   {
    "duration": 401,
    "start_time": "2023-03-16T10:12:57.082Z"
   },
   {
    "duration": 392,
    "start_time": "2023-03-16T10:12:57.485Z"
   },
   {
    "duration": 210,
    "start_time": "2023-03-16T10:12:57.880Z"
   },
   {
    "duration": 222,
    "start_time": "2023-03-16T10:12:58.092Z"
   },
   {
    "duration": 225,
    "start_time": "2023-03-16T10:12:58.318Z"
   },
   {
    "duration": 316,
    "start_time": "2023-03-16T10:12:58.545Z"
   },
   {
    "duration": 206,
    "start_time": "2023-03-16T10:12:58.863Z"
   },
   {
    "duration": 211,
    "start_time": "2023-03-16T10:12:59.071Z"
   },
   {
    "duration": 7,
    "start_time": "2023-03-16T10:12:59.287Z"
   },
   {
    "duration": 411,
    "start_time": "2023-03-16T10:12:59.296Z"
   },
   {
    "duration": 175,
    "start_time": "2023-03-16T10:12:59.712Z"
   },
   {
    "duration": 11,
    "start_time": "2023-03-16T10:12:59.889Z"
   },
   {
    "duration": 15,
    "start_time": "2023-03-16T10:12:59.913Z"
   },
   {
    "duration": 24,
    "start_time": "2023-03-16T10:12:59.929Z"
   },
   {
    "duration": 16,
    "start_time": "2023-03-16T10:12:59.955Z"
   },
   {
    "duration": 282,
    "start_time": "2023-03-16T10:12:59.973Z"
   },
   {
    "duration": 6,
    "start_time": "2023-03-16T10:13:00.257Z"
   },
   {
    "duration": 488,
    "start_time": "2023-03-16T10:13:00.265Z"
   },
   {
    "duration": 8,
    "start_time": "2023-03-16T10:13:00.755Z"
   },
   {
    "duration": 477,
    "start_time": "2023-03-16T10:13:00.765Z"
   },
   {
    "duration": 611,
    "start_time": "2023-03-16T10:13:01.244Z"
   },
   {
    "duration": 479,
    "start_time": "2023-03-16T10:13:01.858Z"
   },
   {
    "duration": 434,
    "start_time": "2023-03-16T10:13:02.339Z"
   },
   {
    "duration": 280,
    "start_time": "2023-03-16T10:13:02.774Z"
   },
   {
    "duration": 7,
    "start_time": "2023-03-16T10:13:03.056Z"
   },
   {
    "duration": 16,
    "start_time": "2023-03-16T10:13:03.066Z"
   },
   {
    "duration": 5,
    "start_time": "2023-03-16T10:13:03.084Z"
   },
   {
    "duration": 415,
    "start_time": "2023-03-16T10:13:03.090Z"
   },
   {
    "duration": 7,
    "start_time": "2023-03-16T10:13:03.507Z"
   },
   {
    "duration": 372,
    "start_time": "2023-03-16T10:13:03.521Z"
   },
   {
    "duration": 5,
    "start_time": "2023-03-16T10:13:03.895Z"
   },
   {
    "duration": 58,
    "start_time": "2023-03-16T10:13:03.920Z"
   },
   {
    "duration": 13,
    "start_time": "2023-03-16T10:13:03.980Z"
   },
   {
    "duration": 544,
    "start_time": "2023-03-16T10:13:03.996Z"
   },
   {
    "duration": 16,
    "start_time": "2023-03-16T10:13:04.543Z"
   },
   {
    "duration": 23,
    "start_time": "2023-03-16T10:13:04.562Z"
   },
   {
    "duration": 312,
    "start_time": "2023-03-16T10:17:32.027Z"
   },
   {
    "duration": 18,
    "start_time": "2023-03-16T10:31:32.441Z"
   },
   {
    "duration": 4,
    "start_time": "2023-03-16T10:32:50.146Z"
   },
   {
    "duration": 12,
    "start_time": "2023-03-16T11:14:00.625Z"
   },
   {
    "duration": 44,
    "start_time": "2023-03-16T11:15:56.221Z"
   },
   {
    "duration": 13,
    "start_time": "2023-03-16T11:16:57.922Z"
   },
   {
    "duration": 53,
    "start_time": "2023-03-16T11:17:51.317Z"
   },
   {
    "duration": 103,
    "start_time": "2023-03-16T13:45:49.919Z"
   },
   {
    "duration": 8,
    "start_time": "2023-03-16T13:46:02.227Z"
   },
   {
    "duration": 11,
    "start_time": "2023-03-16T13:46:54.795Z"
   },
   {
    "duration": 13,
    "start_time": "2023-03-16T13:47:30.524Z"
   },
   {
    "duration": 15,
    "start_time": "2023-03-16T13:47:50.675Z"
   },
   {
    "duration": 11,
    "start_time": "2023-03-16T13:54:47.712Z"
   },
   {
    "duration": 17,
    "start_time": "2023-03-16T13:54:59.124Z"
   },
   {
    "duration": 17,
    "start_time": "2023-03-16T13:55:13.514Z"
   },
   {
    "duration": 32,
    "start_time": "2023-03-16T13:56:37.778Z"
   },
   {
    "duration": 16,
    "start_time": "2023-03-16T13:56:47.547Z"
   },
   {
    "duration": 17,
    "start_time": "2023-03-16T13:56:59.132Z"
   },
   {
    "duration": 14,
    "start_time": "2023-03-16T13:58:58.123Z"
   },
   {
    "duration": 17,
    "start_time": "2023-03-16T13:59:41.072Z"
   },
   {
    "duration": 404,
    "start_time": "2023-03-16T14:02:31.474Z"
   },
   {
    "duration": 14,
    "start_time": "2023-03-16T14:13:02.885Z"
   },
   {
    "duration": 17,
    "start_time": "2023-03-16T14:13:36.554Z"
   },
   {
    "duration": 18,
    "start_time": "2023-03-16T14:13:57.892Z"
   },
   {
    "duration": 19,
    "start_time": "2023-03-16T14:14:10.631Z"
   },
   {
    "duration": 15,
    "start_time": "2023-03-16T14:14:17.488Z"
   },
   {
    "duration": 1319,
    "start_time": "2023-03-16T15:21:35.599Z"
   },
   {
    "duration": 60,
    "start_time": "2023-03-16T15:21:36.920Z"
   },
   {
    "duration": 19,
    "start_time": "2023-03-16T15:21:36.982Z"
   },
   {
    "duration": 19,
    "start_time": "2023-03-16T15:21:37.003Z"
   },
   {
    "duration": 12,
    "start_time": "2023-03-16T15:21:37.024Z"
   },
   {
    "duration": 64,
    "start_time": "2023-03-16T15:21:37.064Z"
   },
   {
    "duration": 38,
    "start_time": "2023-03-16T15:21:37.131Z"
   },
   {
    "duration": 7,
    "start_time": "2023-03-16T15:21:37.172Z"
   },
   {
    "duration": 14,
    "start_time": "2023-03-16T15:21:37.181Z"
   },
   {
    "duration": 8,
    "start_time": "2023-03-16T15:21:37.198Z"
   },
   {
    "duration": 17,
    "start_time": "2023-03-16T15:21:37.208Z"
   },
   {
    "duration": 5,
    "start_time": "2023-03-16T15:21:37.227Z"
   },
   {
    "duration": 39,
    "start_time": "2023-03-16T15:21:37.234Z"
   },
   {
    "duration": 7,
    "start_time": "2023-03-16T15:21:37.275Z"
   },
   {
    "duration": 20,
    "start_time": "2023-03-16T15:21:37.284Z"
   },
   {
    "duration": 15,
    "start_time": "2023-03-16T15:21:37.306Z"
   },
   {
    "duration": 5,
    "start_time": "2023-03-16T15:21:37.323Z"
   },
   {
    "duration": 11,
    "start_time": "2023-03-16T15:21:37.330Z"
   },
   {
    "duration": 23,
    "start_time": "2023-03-16T15:21:37.343Z"
   },
   {
    "duration": 378,
    "start_time": "2023-03-16T15:21:37.368Z"
   },
   {
    "duration": 375,
    "start_time": "2023-03-16T15:21:37.748Z"
   },
   {
    "duration": 200,
    "start_time": "2023-03-16T15:21:38.125Z"
   },
   {
    "duration": 211,
    "start_time": "2023-03-16T15:21:38.327Z"
   },
   {
    "duration": 197,
    "start_time": "2023-03-16T15:21:38.541Z"
   },
   {
    "duration": 279,
    "start_time": "2023-03-16T15:21:38.740Z"
   },
   {
    "duration": 190,
    "start_time": "2023-03-16T15:21:39.021Z"
   },
   {
    "duration": 192,
    "start_time": "2023-03-16T15:21:39.213Z"
   },
   {
    "duration": 7,
    "start_time": "2023-03-16T15:21:39.409Z"
   },
   {
    "duration": 329,
    "start_time": "2023-03-16T15:21:39.418Z"
   },
   {
    "duration": 173,
    "start_time": "2023-03-16T15:21:39.749Z"
   },
   {
    "duration": 13,
    "start_time": "2023-03-16T15:21:39.923Z"
   },
   {
    "duration": 34,
    "start_time": "2023-03-16T15:21:39.938Z"
   },
   {
    "duration": 29,
    "start_time": "2023-03-16T15:21:39.975Z"
   },
   {
    "duration": 27,
    "start_time": "2023-03-16T15:21:40.006Z"
   },
   {
    "duration": 281,
    "start_time": "2023-03-16T15:21:40.035Z"
   },
   {
    "duration": 8,
    "start_time": "2023-03-16T15:21:40.318Z"
   },
   {
    "duration": 579,
    "start_time": "2023-03-16T15:21:40.328Z"
   },
   {
    "duration": 55,
    "start_time": "2023-03-16T15:21:40.909Z"
   },
   {
    "duration": 381,
    "start_time": "2023-03-16T15:21:40.967Z"
   },
   {
    "duration": 573,
    "start_time": "2023-03-16T15:21:41.350Z"
   },
   {
    "duration": 409,
    "start_time": "2023-03-16T15:21:41.925Z"
   },
   {
    "duration": 416,
    "start_time": "2023-03-16T15:21:42.336Z"
   },
   {
    "duration": 274,
    "start_time": "2023-03-16T15:21:42.754Z"
   },
   {
    "duration": 9,
    "start_time": "2023-03-16T15:21:43.030Z"
   },
   {
    "duration": 40,
    "start_time": "2023-03-16T15:21:43.041Z"
   },
   {
    "duration": 6,
    "start_time": "2023-03-16T15:21:43.083Z"
   },
   {
    "duration": 364,
    "start_time": "2023-03-16T15:21:43.091Z"
   },
   {
    "duration": 15,
    "start_time": "2023-03-16T15:21:43.456Z"
   },
   {
    "duration": 354,
    "start_time": "2023-03-16T15:21:43.473Z"
   },
   {
    "duration": 6,
    "start_time": "2023-03-16T15:21:43.829Z"
   },
   {
    "duration": 63,
    "start_time": "2023-03-16T15:21:43.837Z"
   },
   {
    "duration": 16,
    "start_time": "2023-03-16T15:21:43.902Z"
   },
   {
    "duration": 400,
    "start_time": "2023-03-16T15:21:43.926Z"
   },
   {
    "duration": 19,
    "start_time": "2023-03-16T15:21:44.328Z"
   },
   {
    "duration": 34,
    "start_time": "2023-03-16T15:21:44.348Z"
   },
   {
    "duration": 20,
    "start_time": "2023-03-16T15:21:44.384Z"
   },
   {
    "duration": 32,
    "start_time": "2023-03-16T15:21:44.406Z"
   },
   {
    "duration": 38,
    "start_time": "2023-03-16T15:21:44.441Z"
   },
   {
    "duration": 98,
    "start_time": "2023-03-16T19:36:35.991Z"
   },
   {
    "duration": 8,
    "start_time": "2023-03-16T19:45:48.877Z"
   },
   {
    "duration": 14,
    "start_time": "2023-03-16T19:46:10.748Z"
   },
   {
    "duration": 46,
    "start_time": "2023-03-17T04:30:18.861Z"
   },
   {
    "duration": 1268,
    "start_time": "2023-03-17T04:30:30.588Z"
   },
   {
    "duration": 101,
    "start_time": "2023-03-17T04:30:31.858Z"
   },
   {
    "duration": 15,
    "start_time": "2023-03-17T04:30:31.960Z"
   },
   {
    "duration": 48,
    "start_time": "2023-03-17T04:30:31.977Z"
   },
   {
    "duration": 33,
    "start_time": "2023-03-17T04:30:32.027Z"
   },
   {
    "duration": 59,
    "start_time": "2023-03-17T04:30:32.062Z"
   },
   {
    "duration": 15,
    "start_time": "2023-03-17T04:30:32.123Z"
   },
   {
    "duration": 8,
    "start_time": "2023-03-17T04:30:32.139Z"
   },
   {
    "duration": 24,
    "start_time": "2023-03-17T04:30:32.149Z"
   },
   {
    "duration": 34,
    "start_time": "2023-03-17T04:30:32.176Z"
   },
   {
    "duration": 25,
    "start_time": "2023-03-17T04:30:32.212Z"
   },
   {
    "duration": 19,
    "start_time": "2023-03-17T04:30:32.239Z"
   },
   {
    "duration": 26,
    "start_time": "2023-03-17T04:30:32.260Z"
   },
   {
    "duration": 10,
    "start_time": "2023-03-17T04:30:32.287Z"
   },
   {
    "duration": 21,
    "start_time": "2023-03-17T04:30:32.298Z"
   },
   {
    "duration": 21,
    "start_time": "2023-03-17T04:30:32.320Z"
   },
   {
    "duration": 40,
    "start_time": "2023-03-17T04:30:32.342Z"
   },
   {
    "duration": 5,
    "start_time": "2023-03-17T04:30:32.383Z"
   },
   {
    "duration": 7,
    "start_time": "2023-03-17T04:30:32.389Z"
   },
   {
    "duration": 61,
    "start_time": "2023-03-17T04:30:32.397Z"
   },
   {
    "duration": 297,
    "start_time": "2023-03-17T04:30:32.459Z"
   },
   {
    "duration": 257,
    "start_time": "2023-03-17T04:30:32.757Z"
   },
   {
    "duration": 138,
    "start_time": "2023-03-17T04:30:33.016Z"
   },
   {
    "duration": 138,
    "start_time": "2023-03-17T04:30:33.155Z"
   },
   {
    "duration": 133,
    "start_time": "2023-03-17T04:30:33.294Z"
   },
   {
    "duration": 176,
    "start_time": "2023-03-17T04:30:33.429Z"
   },
   {
    "duration": 134,
    "start_time": "2023-03-17T04:30:33.606Z"
   },
   {
    "duration": 146,
    "start_time": "2023-03-17T04:30:33.744Z"
   },
   {
    "duration": 4,
    "start_time": "2023-03-17T04:30:33.892Z"
   },
   {
    "duration": 236,
    "start_time": "2023-03-17T04:30:33.897Z"
   },
   {
    "duration": 110,
    "start_time": "2023-03-17T04:30:34.134Z"
   },
   {
    "duration": 244,
    "start_time": "2023-03-17T04:30:34.245Z"
   },
   {
    "duration": 9,
    "start_time": "2023-03-17T04:30:34.490Z"
   },
   {
    "duration": 10,
    "start_time": "2023-03-17T04:30:34.500Z"
   },
   {
    "duration": 9,
    "start_time": "2023-03-17T04:30:34.512Z"
   },
   {
    "duration": 8,
    "start_time": "2023-03-17T04:30:34.522Z"
   },
   {
    "duration": 178,
    "start_time": "2023-03-17T04:30:34.531Z"
   },
   {
    "duration": 6,
    "start_time": "2023-03-17T04:30:34.710Z"
   },
   {
    "duration": 10,
    "start_time": "2023-03-17T04:30:34.717Z"
   },
   {
    "duration": 310,
    "start_time": "2023-03-17T04:30:34.728Z"
   },
   {
    "duration": 6,
    "start_time": "2023-03-17T04:30:35.039Z"
   },
   {
    "duration": 380,
    "start_time": "2023-03-17T04:30:35.047Z"
   },
   {
    "duration": 368,
    "start_time": "2023-03-17T04:30:35.429Z"
   },
   {
    "duration": 381,
    "start_time": "2023-03-17T04:30:35.799Z"
   },
   {
    "duration": 349,
    "start_time": "2023-03-17T04:30:36.182Z"
   },
   {
    "duration": 200,
    "start_time": "2023-03-17T04:30:36.532Z"
   },
   {
    "duration": 6,
    "start_time": "2023-03-17T04:30:36.734Z"
   },
   {
    "duration": 16,
    "start_time": "2023-03-17T04:30:36.741Z"
   },
   {
    "duration": 4,
    "start_time": "2023-03-17T04:30:36.758Z"
   },
   {
    "duration": 314,
    "start_time": "2023-03-17T04:30:36.764Z"
   },
   {
    "duration": 5,
    "start_time": "2023-03-17T04:30:37.081Z"
   },
   {
    "duration": 350,
    "start_time": "2023-03-17T04:30:37.088Z"
   },
   {
    "duration": 4,
    "start_time": "2023-03-17T04:30:37.439Z"
   },
   {
    "duration": 56,
    "start_time": "2023-03-17T04:30:37.445Z"
   },
   {
    "duration": 11,
    "start_time": "2023-03-17T04:30:37.502Z"
   },
   {
    "duration": 250,
    "start_time": "2023-03-17T04:30:37.514Z"
   },
   {
    "duration": 21,
    "start_time": "2023-03-17T04:30:37.766Z"
   },
   {
    "duration": 13,
    "start_time": "2023-03-17T04:30:37.788Z"
   },
   {
    "duration": 12,
    "start_time": "2023-03-17T04:30:37.803Z"
   },
   {
    "duration": 10,
    "start_time": "2023-03-17T04:30:37.817Z"
   },
   {
    "duration": 14,
    "start_time": "2023-03-17T04:30:37.828Z"
   },
   {
    "duration": 278,
    "start_time": "2023-03-17T04:32:08.679Z"
   },
   {
    "duration": 285,
    "start_time": "2023-03-17T04:32:24.769Z"
   },
   {
    "duration": 1193,
    "start_time": "2023-03-17T04:44:38.456Z"
   },
   {
    "duration": 66,
    "start_time": "2023-03-17T04:44:39.650Z"
   },
   {
    "duration": 15,
    "start_time": "2023-03-17T04:44:39.717Z"
   },
   {
    "duration": 14,
    "start_time": "2023-03-17T04:44:39.734Z"
   },
   {
    "duration": 9,
    "start_time": "2023-03-17T04:44:39.750Z"
   },
   {
    "duration": 56,
    "start_time": "2023-03-17T04:44:39.779Z"
   },
   {
    "duration": 15,
    "start_time": "2023-03-17T04:44:39.836Z"
   },
   {
    "duration": 5,
    "start_time": "2023-03-17T04:44:39.852Z"
   },
   {
    "duration": 11,
    "start_time": "2023-03-17T04:44:39.886Z"
   },
   {
    "duration": 9,
    "start_time": "2023-03-17T04:44:39.904Z"
   },
   {
    "duration": 20,
    "start_time": "2023-03-17T04:44:39.915Z"
   },
   {
    "duration": 4,
    "start_time": "2023-03-17T04:44:39.937Z"
   },
   {
    "duration": 16,
    "start_time": "2023-03-17T04:44:39.943Z"
   },
   {
    "duration": 7,
    "start_time": "2023-03-17T04:44:39.960Z"
   },
   {
    "duration": 11,
    "start_time": "2023-03-17T04:44:39.969Z"
   },
   {
    "duration": 25,
    "start_time": "2023-03-17T04:44:39.982Z"
   },
   {
    "duration": 4,
    "start_time": "2023-03-17T04:44:40.009Z"
   },
   {
    "duration": 7,
    "start_time": "2023-03-17T04:44:40.015Z"
   },
   {
    "duration": 15,
    "start_time": "2023-03-17T04:44:40.024Z"
   },
   {
    "duration": 96,
    "start_time": "2023-03-17T04:44:40.040Z"
   },
   {
    "duration": 307,
    "start_time": "2023-03-17T04:44:40.137Z"
   },
   {
    "duration": 280,
    "start_time": "2023-03-17T04:44:40.445Z"
   },
   {
    "duration": 140,
    "start_time": "2023-03-17T04:44:40.727Z"
   },
   {
    "duration": 156,
    "start_time": "2023-03-17T04:44:40.868Z"
   },
   {
    "duration": 147,
    "start_time": "2023-03-17T04:44:41.025Z"
   },
   {
    "duration": 194,
    "start_time": "2023-03-17T04:44:41.174Z"
   },
   {
    "duration": 168,
    "start_time": "2023-03-17T04:44:41.369Z"
   },
   {
    "duration": 154,
    "start_time": "2023-03-17T04:44:41.541Z"
   },
   {
    "duration": 7,
    "start_time": "2023-03-17T04:44:41.697Z"
   },
   {
    "duration": 250,
    "start_time": "2023-03-17T04:44:41.705Z"
   },
   {
    "duration": 246,
    "start_time": "2023-03-17T04:44:41.957Z"
   },
   {
    "duration": 259,
    "start_time": "2023-03-17T04:44:42.205Z"
   },
   {
    "duration": 17,
    "start_time": "2023-03-17T04:44:42.466Z"
   },
   {
    "duration": 27,
    "start_time": "2023-03-17T04:44:42.484Z"
   },
   {
    "duration": 28,
    "start_time": "2023-03-17T04:44:42.512Z"
   },
   {
    "duration": 15,
    "start_time": "2023-03-17T04:44:42.541Z"
   },
   {
    "duration": 177,
    "start_time": "2023-03-17T04:44:42.557Z"
   },
   {
    "duration": 6,
    "start_time": "2023-03-17T04:44:42.736Z"
   },
   {
    "duration": 10,
    "start_time": "2023-03-17T04:44:42.744Z"
   },
   {
    "duration": 126,
    "start_time": "2023-03-17T04:44:42.755Z"
   },
   {
    "duration": 0,
    "start_time": "2023-03-17T04:44:42.883Z"
   },
   {
    "duration": 0,
    "start_time": "2023-03-17T04:44:42.885Z"
   },
   {
    "duration": 0,
    "start_time": "2023-03-17T04:44:42.886Z"
   },
   {
    "duration": 0,
    "start_time": "2023-03-17T04:44:42.886Z"
   },
   {
    "duration": 0,
    "start_time": "2023-03-17T04:44:42.887Z"
   },
   {
    "duration": 0,
    "start_time": "2023-03-17T04:44:42.888Z"
   },
   {
    "duration": 0,
    "start_time": "2023-03-17T04:44:42.889Z"
   },
   {
    "duration": 0,
    "start_time": "2023-03-17T04:44:42.890Z"
   },
   {
    "duration": 0,
    "start_time": "2023-03-17T04:44:42.891Z"
   },
   {
    "duration": 0,
    "start_time": "2023-03-17T04:44:42.891Z"
   },
   {
    "duration": 0,
    "start_time": "2023-03-17T04:44:42.892Z"
   },
   {
    "duration": 0,
    "start_time": "2023-03-17T04:44:42.893Z"
   },
   {
    "duration": 0,
    "start_time": "2023-03-17T04:44:42.894Z"
   },
   {
    "duration": 0,
    "start_time": "2023-03-17T04:44:42.894Z"
   },
   {
    "duration": 0,
    "start_time": "2023-03-17T04:44:42.895Z"
   },
   {
    "duration": 0,
    "start_time": "2023-03-17T04:44:42.896Z"
   },
   {
    "duration": 0,
    "start_time": "2023-03-17T04:44:42.897Z"
   },
   {
    "duration": 0,
    "start_time": "2023-03-17T04:44:42.899Z"
   },
   {
    "duration": 0,
    "start_time": "2023-03-17T04:44:42.899Z"
   },
   {
    "duration": 0,
    "start_time": "2023-03-17T04:44:42.900Z"
   },
   {
    "duration": 0,
    "start_time": "2023-03-17T04:44:42.901Z"
   },
   {
    "duration": 430,
    "start_time": "2023-03-17T04:45:26.097Z"
   },
   {
    "duration": 13,
    "start_time": "2023-03-17T04:47:37.277Z"
   },
   {
    "duration": 281,
    "start_time": "2023-03-17T04:47:38.936Z"
   },
   {
    "duration": 319,
    "start_time": "2023-03-17T04:48:50.356Z"
   },
   {
    "duration": 308,
    "start_time": "2023-03-17T04:49:30.677Z"
   },
   {
    "duration": 305,
    "start_time": "2023-03-17T04:49:53.453Z"
   },
   {
    "duration": 331,
    "start_time": "2023-03-17T04:50:31.326Z"
   },
   {
    "duration": 172,
    "start_time": "2023-03-17T04:50:48.515Z"
   },
   {
    "duration": 5,
    "start_time": "2023-03-17T04:50:50.537Z"
   },
   {
    "duration": 13,
    "start_time": "2023-03-17T04:52:51.107Z"
   },
   {
    "duration": 7,
    "start_time": "2023-03-17T04:52:57.131Z"
   },
   {
    "duration": 12,
    "start_time": "2023-03-17T04:53:12.953Z"
   },
   {
    "duration": 3,
    "start_time": "2023-03-17T04:54:01.020Z"
   },
   {
    "duration": 16,
    "start_time": "2023-03-17T04:54:10.074Z"
   },
   {
    "duration": 401,
    "start_time": "2023-03-17T04:55:56.716Z"
   },
   {
    "duration": 296,
    "start_time": "2023-03-17T04:56:31.815Z"
   },
   {
    "duration": 371,
    "start_time": "2023-03-17T04:58:08.325Z"
   },
   {
    "duration": 329,
    "start_time": "2023-03-17T04:58:33.548Z"
   },
   {
    "duration": 300,
    "start_time": "2023-03-17T04:58:46.569Z"
   },
   {
    "duration": 350,
    "start_time": "2023-03-17T04:58:51.668Z"
   },
   {
    "duration": 16,
    "start_time": "2023-03-17T05:02:10.315Z"
   },
   {
    "duration": 9,
    "start_time": "2023-03-17T05:03:30.862Z"
   },
   {
    "duration": 20,
    "start_time": "2023-03-17T05:03:36.850Z"
   },
   {
    "duration": 1603,
    "start_time": "2023-03-17T05:10:01.721Z"
   },
   {
    "duration": 71,
    "start_time": "2023-03-17T05:10:03.326Z"
   },
   {
    "duration": 23,
    "start_time": "2023-03-17T05:10:03.398Z"
   },
   {
    "duration": 62,
    "start_time": "2023-03-17T05:10:03.423Z"
   },
   {
    "duration": 68,
    "start_time": "2023-03-17T05:10:03.487Z"
   },
   {
    "duration": 148,
    "start_time": "2023-03-17T05:10:03.557Z"
   },
   {
    "duration": 43,
    "start_time": "2023-03-17T05:10:03.711Z"
   },
   {
    "duration": 6,
    "start_time": "2023-03-17T05:10:03.757Z"
   },
   {
    "duration": 25,
    "start_time": "2023-03-17T05:10:03.764Z"
   },
   {
    "duration": 63,
    "start_time": "2023-03-17T05:10:03.794Z"
   },
   {
    "duration": 50,
    "start_time": "2023-03-17T05:10:03.858Z"
   },
   {
    "duration": 51,
    "start_time": "2023-03-17T05:10:03.919Z"
   },
   {
    "duration": 94,
    "start_time": "2023-03-17T05:10:03.972Z"
   },
   {
    "duration": 68,
    "start_time": "2023-03-17T05:10:04.068Z"
   },
   {
    "duration": 9,
    "start_time": "2023-03-17T05:10:04.138Z"
   },
   {
    "duration": 7,
    "start_time": "2023-03-17T05:10:04.149Z"
   },
   {
    "duration": 15,
    "start_time": "2023-03-17T05:10:04.157Z"
   },
   {
    "duration": 47,
    "start_time": "2023-03-17T05:10:04.173Z"
   },
   {
    "duration": 24,
    "start_time": "2023-03-17T05:10:04.223Z"
   },
   {
    "duration": 120,
    "start_time": "2023-03-17T05:10:04.249Z"
   },
   {
    "duration": 368,
    "start_time": "2023-03-17T05:10:04.371Z"
   },
   {
    "duration": 418,
    "start_time": "2023-03-17T05:10:04.753Z"
   },
   {
    "duration": 250,
    "start_time": "2023-03-17T05:10:05.173Z"
   },
   {
    "duration": 191,
    "start_time": "2023-03-17T05:10:05.439Z"
   },
   {
    "duration": 199,
    "start_time": "2023-03-17T05:10:05.635Z"
   },
   {
    "duration": 252,
    "start_time": "2023-03-17T05:10:05.838Z"
   },
   {
    "duration": 194,
    "start_time": "2023-03-17T05:10:06.094Z"
   },
   {
    "duration": 202,
    "start_time": "2023-03-17T05:10:06.295Z"
   },
   {
    "duration": 8,
    "start_time": "2023-03-17T05:10:06.501Z"
   },
   {
    "duration": 524,
    "start_time": "2023-03-17T05:10:06.513Z"
   },
   {
    "duration": 379,
    "start_time": "2023-03-17T05:10:07.050Z"
   },
   {
    "duration": 375,
    "start_time": "2023-03-17T05:10:07.438Z"
   },
   {
    "duration": 21,
    "start_time": "2023-03-17T05:10:07.814Z"
   },
   {
    "duration": 23,
    "start_time": "2023-03-17T05:10:07.839Z"
   },
   {
    "duration": 12,
    "start_time": "2023-03-17T05:10:07.864Z"
   },
   {
    "duration": 74,
    "start_time": "2023-03-17T05:10:07.878Z"
   },
   {
    "duration": 351,
    "start_time": "2023-03-17T05:10:07.954Z"
   },
   {
    "duration": 23,
    "start_time": "2023-03-17T05:10:08.318Z"
   },
   {
    "duration": 14,
    "start_time": "2023-03-17T05:10:08.346Z"
   },
   {
    "duration": 555,
    "start_time": "2023-03-17T05:10:08.362Z"
   },
   {
    "duration": 12,
    "start_time": "2023-03-17T05:10:08.921Z"
   },
   {
    "duration": 403,
    "start_time": "2023-03-17T05:10:08.935Z"
   },
   {
    "duration": 487,
    "start_time": "2023-03-17T05:10:09.347Z"
   },
   {
    "duration": 363,
    "start_time": "2023-03-17T05:10:09.836Z"
   },
   {
    "duration": 351,
    "start_time": "2023-03-17T05:10:10.206Z"
   },
   {
    "duration": 313,
    "start_time": "2023-03-17T05:10:10.559Z"
   },
   {
    "duration": 462,
    "start_time": "2023-03-17T05:10:10.874Z"
   },
   {
    "duration": 13,
    "start_time": "2023-03-17T05:10:11.337Z"
   },
   {
    "duration": 14,
    "start_time": "2023-03-17T05:10:11.352Z"
   },
   {
    "duration": 5,
    "start_time": "2023-03-17T05:10:11.368Z"
   },
   {
    "duration": 379,
    "start_time": "2023-03-17T05:10:11.375Z"
   },
   {
    "duration": 5,
    "start_time": "2023-03-17T05:10:11.756Z"
   },
   {
    "duration": 309,
    "start_time": "2023-03-17T05:10:11.762Z"
   },
   {
    "duration": 33,
    "start_time": "2023-03-17T05:10:12.072Z"
   },
   {
    "duration": 60,
    "start_time": "2023-03-17T05:10:12.106Z"
   },
   {
    "duration": 25,
    "start_time": "2023-03-17T05:10:12.168Z"
   },
   {
    "duration": 349,
    "start_time": "2023-03-17T05:10:12.200Z"
   },
   {
    "duration": 17,
    "start_time": "2023-03-17T05:10:12.551Z"
   },
   {
    "duration": 34,
    "start_time": "2023-03-17T05:10:12.570Z"
   },
   {
    "duration": 44,
    "start_time": "2023-03-17T05:10:12.607Z"
   },
   {
    "duration": 15,
    "start_time": "2023-03-17T05:10:12.652Z"
   },
   {
    "duration": 13,
    "start_time": "2023-03-17T05:10:12.669Z"
   },
   {
    "duration": 38,
    "start_time": "2023-03-17T05:11:54.518Z"
   },
   {
    "duration": 3,
    "start_time": "2023-03-17T05:12:17.343Z"
   },
   {
    "duration": 39,
    "start_time": "2023-03-17T05:12:22.114Z"
   },
   {
    "duration": 138,
    "start_time": "2023-03-17T05:12:57.490Z"
   },
   {
    "duration": 12,
    "start_time": "2023-03-17T05:13:20.901Z"
   },
   {
    "duration": 284,
    "start_time": "2023-03-17T05:13:25.064Z"
   },
   {
    "duration": 994,
    "start_time": "2023-03-17T23:30:44.679Z"
   },
   {
    "duration": 46,
    "start_time": "2023-03-17T23:30:45.674Z"
   },
   {
    "duration": 13,
    "start_time": "2023-03-17T23:30:45.721Z"
   },
   {
    "duration": 12,
    "start_time": "2023-03-17T23:30:45.735Z"
   },
   {
    "duration": 6,
    "start_time": "2023-03-17T23:30:45.749Z"
   },
   {
    "duration": 43,
    "start_time": "2023-03-17T23:30:45.756Z"
   },
   {
    "duration": 35,
    "start_time": "2023-03-17T23:30:45.800Z"
   },
   {
    "duration": 4,
    "start_time": "2023-03-17T23:30:45.836Z"
   },
   {
    "duration": 10,
    "start_time": "2023-03-17T23:30:45.841Z"
   },
   {
    "duration": 4,
    "start_time": "2023-03-17T23:30:45.852Z"
   },
   {
    "duration": 10,
    "start_time": "2023-03-17T23:30:45.857Z"
   },
   {
    "duration": 3,
    "start_time": "2023-03-17T23:30:45.868Z"
   },
   {
    "duration": 10,
    "start_time": "2023-03-17T23:30:45.872Z"
   },
   {
    "duration": 5,
    "start_time": "2023-03-17T23:30:45.884Z"
   },
   {
    "duration": 5,
    "start_time": "2023-03-17T23:30:45.890Z"
   },
   {
    "duration": 28,
    "start_time": "2023-03-17T23:30:45.896Z"
   },
   {
    "duration": 8,
    "start_time": "2023-03-17T23:30:45.926Z"
   },
   {
    "duration": 5,
    "start_time": "2023-03-17T23:30:45.935Z"
   },
   {
    "duration": 5,
    "start_time": "2023-03-17T23:30:45.941Z"
   },
   {
    "duration": 59,
    "start_time": "2023-03-17T23:30:45.947Z"
   },
   {
    "duration": 273,
    "start_time": "2023-03-17T23:30:46.007Z"
   },
   {
    "duration": 253,
    "start_time": "2023-03-17T23:30:46.281Z"
   },
   {
    "duration": 142,
    "start_time": "2023-03-17T23:30:46.535Z"
   },
   {
    "duration": 137,
    "start_time": "2023-03-17T23:30:46.679Z"
   },
   {
    "duration": 133,
    "start_time": "2023-03-17T23:30:46.817Z"
   },
   {
    "duration": 198,
    "start_time": "2023-03-17T23:30:46.951Z"
   },
   {
    "duration": 126,
    "start_time": "2023-03-17T23:30:47.150Z"
   },
   {
    "duration": 132,
    "start_time": "2023-03-17T23:30:47.277Z"
   },
   {
    "duration": 5,
    "start_time": "2023-03-17T23:30:47.410Z"
   },
   {
    "duration": 244,
    "start_time": "2023-03-17T23:30:47.423Z"
   },
   {
    "duration": 243,
    "start_time": "2023-03-17T23:30:47.669Z"
   },
   {
    "duration": 249,
    "start_time": "2023-03-17T23:30:47.914Z"
   },
   {
    "duration": 9,
    "start_time": "2023-03-17T23:30:48.164Z"
   },
   {
    "duration": 19,
    "start_time": "2023-03-17T23:30:48.175Z"
   },
   {
    "duration": 9,
    "start_time": "2023-03-17T23:30:48.195Z"
   },
   {
    "duration": 11,
    "start_time": "2023-03-17T23:30:48.205Z"
   },
   {
    "duration": 165,
    "start_time": "2023-03-17T23:30:48.224Z"
   },
   {
    "duration": 7,
    "start_time": "2023-03-17T23:30:48.390Z"
   },
   {
    "duration": 11,
    "start_time": "2023-03-17T23:30:48.398Z"
   },
   {
    "duration": 382,
    "start_time": "2023-03-17T23:30:48.410Z"
   },
   {
    "duration": 6,
    "start_time": "2023-03-17T23:30:48.795Z"
   },
   {
    "duration": 258,
    "start_time": "2023-03-17T23:30:48.803Z"
   },
   {
    "duration": 301,
    "start_time": "2023-03-17T23:30:49.062Z"
   },
   {
    "duration": 282,
    "start_time": "2023-03-17T23:30:49.364Z"
   },
   {
    "duration": 288,
    "start_time": "2023-03-17T23:30:49.647Z"
   },
   {
    "duration": 248,
    "start_time": "2023-03-17T23:30:49.937Z"
   },
   {
    "duration": 333,
    "start_time": "2023-03-17T23:30:50.187Z"
   },
   {
    "duration": 12,
    "start_time": "2023-03-17T23:30:50.521Z"
   },
   {
    "duration": 13,
    "start_time": "2023-03-17T23:30:50.534Z"
   },
   {
    "duration": 3,
    "start_time": "2023-03-17T23:30:50.548Z"
   },
   {
    "duration": 249,
    "start_time": "2023-03-17T23:30:50.553Z"
   },
   {
    "duration": 4,
    "start_time": "2023-03-17T23:30:50.804Z"
   },
   {
    "duration": 244,
    "start_time": "2023-03-17T23:30:50.809Z"
   },
   {
    "duration": 4,
    "start_time": "2023-03-17T23:30:51.054Z"
   },
   {
    "duration": 34,
    "start_time": "2023-03-17T23:30:51.059Z"
   },
   {
    "duration": 8,
    "start_time": "2023-03-17T23:30:51.095Z"
   },
   {
    "duration": 250,
    "start_time": "2023-03-17T23:30:51.104Z"
   },
   {
    "duration": 13,
    "start_time": "2023-03-17T23:30:51.355Z"
   },
   {
    "duration": 10,
    "start_time": "2023-03-17T23:30:51.369Z"
   },
   {
    "duration": 10,
    "start_time": "2023-03-17T23:30:51.381Z"
   },
   {
    "duration": 32,
    "start_time": "2023-03-17T23:30:51.392Z"
   },
   {
    "duration": 9,
    "start_time": "2023-03-17T23:30:51.425Z"
   },
   {
    "duration": 354,
    "start_time": "2023-03-17T23:34:57.785Z"
   }
  ],
  "kernelspec": {
   "display_name": "Python 3 (ipykernel)",
   "language": "python",
   "name": "python3"
  },
  "language_info": {
   "codemirror_mode": {
    "name": "ipython",
    "version": 3
   },
   "file_extension": ".py",
   "mimetype": "text/x-python",
   "name": "python",
   "nbconvert_exporter": "python",
   "pygments_lexer": "ipython3",
   "version": "3.10.9"
  },
  "toc": {
   "base_numbering": 1,
   "nav_menu": {},
   "number_sections": true,
   "sideBar": true,
   "skip_h1_title": true,
   "title_cell": "Table of Contents",
   "title_sidebar": "Contents",
   "toc_cell": false,
   "toc_position": {
    "height": "calc(100% - 180px)",
    "left": "10px",
    "top": "150px",
    "width": "203.385px"
   },
   "toc_section_display": true,
   "toc_window_display": true
  }
 },
 "nbformat": 4,
 "nbformat_minor": 2
}
